{
 "cells": [
  {
   "cell_type": "markdown",
   "metadata": {},
   "source": [
    "# ALIGN Example Notebook: CHILDES Data"
   ]
  },
  {
   "cell_type": "markdown",
   "metadata": {},
   "source": [
    "This notebook provides an introduction to **ALIGN**, a tool for quantifying multi-level linguistic similarity between speakers. To do so, we use the data from the Kuczaj Corpus (https://childes.talkbank.org/access/Eng-NA/Kuczaj.html)."
   ]
  },
  {
   "cell_type": "markdown",
   "metadata": {},
   "source": [
    "This method was introduced in \"ALIGN: Analyzing Linguistic Interactions with Generalizable techNiques\" (Duran, Paxton, & Fusaroli, *submitted*)."
   ]
  },
  {
   "cell_type": "markdown",
   "metadata": {},
   "source": [
    "***"
   ]
  },
  {
   "cell_type": "markdown",
   "metadata": {},
   "source": [
    "**Table of Contents**:"
   ]
  },
  {
   "cell_type": "markdown",
   "metadata": {},
   "source": [
    "* [Getting Started](#Getting-Started)\n",
    "    * [Prerequisites](#Prerequisites)\n",
    "    * [Preparing input data](#Preparing-input-data)\n",
    "    * [Filename conventions](#Filename-conventions)\n",
    "    * [User-specified parameters](#User-specified-parameters)\n",
    "    * [Highest-level functions](#Highest-level-functions)\n",
    "* [Setup](#Setup)\n",
    "    * [Import libraries](#Import-libraries)\n",
    "    * [Specify global ALIGN settings](#Specify-global-ALIGN-settings)\n",
    "* [Run everything!](#Run-everything!)\n",
    "    * [Phase 1: Prep](#Phase-1:-Prep)\n",
    "    * [Phase 2: Real](#Phase-2:-Real)\n",
    "    * [Phase 2: Surrogate](#Phase-2:-Surrogate)\n",
    "    * [Speed calculations](#Speed-calculations)\n",
    "    * [Printouts!](#Printouts!)"
   ]
  },
  {
   "cell_type": "markdown",
   "metadata": {},
   "source": [
    "***"
   ]
  },
  {
   "cell_type": "markdown",
   "metadata": {},
   "source": [
    "# Getting Started"
   ]
  },
  {
   "cell_type": "markdown",
   "metadata": {},
   "source": [
    "### Preparing input data"
   ]
  },
  {
   "cell_type": "markdown",
   "metadata": {},
   "source": [
    "* Each input text file needs to contain a single conversation organized in an `N x 2` matrix\n",
    "    * Text file must be tab-delimited.\n",
    "* Each row must correspond to a single conversational turn from a speaker.\n",
    "    * Rows must be temporally ordered based on their occurrence in the conversation.\n",
    "    * Rows must alternate between speakers.\n",
    "* Speaker identifier and content for each turn are divided across two columns.\n",
    "    * Column 1 must have the header `participant`.\n",
    "        * Each cell specifies the speaker.\n",
    "        * Each speaker must have a unique label (e.g., `P1` and `P2`, `0` and `1`).\n",
    "    * Column 2 must have the header `content`.\n",
    "        * Each cell corresponds to the transcribed utterance from the speaker.\n",
    "        * Each cell must end with a newline character: `\\n`\n",
    "* See folder `examples > toy_data-original` in Github repository for an example"
   ]
  },
  {
   "cell_type": "markdown",
   "metadata": {},
   "source": [
    "### Filename conventions"
   ]
  },
  {
   "cell_type": "markdown",
   "metadata": {},
   "source": [
    "* Each conversation text file must be regularly formatted, including a prefix for dyad and a prefix for conversation prior to the identifier for each that are separated by a unique character. By default, ALIGN looks for patterns that follow this convention: `dyad1-condA.txt`\n",
    "    * However, users may choose to include any label for dyad or condition so long as the two labels are distinct from one another and are not subsets of any possible dyad or condition labels. Users may also use any character as a separator so long as it does not occur anywhere else in the filename.\n",
    "    * The chosen file format **must** be used when saving **all** files for this analysis."
   ]
  },
  {
   "cell_type": "markdown",
   "metadata": {},
   "source": [
    "### Highest-level functions"
   ]
  },
  {
   "cell_type": "markdown",
   "metadata": {},
   "source": [
    "Given appropriately prepared transcript files, ALIGN can be run in 3 high-level functions:"
   ]
  },
  {
   "cell_type": "markdown",
   "metadata": {},
   "source": [
    "`prepare_transcripts`"
   ]
  },
  {
   "cell_type": "markdown",
   "metadata": {},
   "source": [
    "* Pre-process each standardized conversation, checking it conforms to the requirements.\n",
    "* Each utterance is tokenized and lemmatized and has POS tags added."
   ]
  },
  {
   "cell_type": "markdown",
   "metadata": {},
   "source": [
    "`calculate_alignment`"
   ]
  },
  {
   "cell_type": "markdown",
   "metadata": {},
   "source": [
    "* Generates turn-level and conversation-level alignment scores (lexical, conceptual, and syntactic) across a range of n-gram sequences"
   ]
  },
  {
   "cell_type": "markdown",
   "metadata": {},
   "source": [
    "`calculate_baseline_alignment`"
   ]
  },
  {
   "cell_type": "markdown",
   "metadata": {},
   "source": [
    "* Generates a surrogate corpus.\n",
    "* Runs analysis (using identical specifications from `calculate_alignment`) on the surrogate corpus."
   ]
  },
  {
   "cell_type": "markdown",
   "metadata": {},
   "source": [
    "***"
   ]
  },
  {
   "cell_type": "markdown",
   "metadata": {},
   "source": [
    "# Setup"
   ]
  },
  {
   "cell_type": "markdown",
   "metadata": {},
   "source": [
    "## Import libraries"
   ]
  },
  {
   "cell_type": "code",
   "execution_count": null,
   "metadata": {},
   "outputs": [],
   "source": [
    "import align"
   ]
  },
  {
   "cell_type": "markdown",
   "metadata": {},
   "source": [
    "## Specify global ALIGN settings"
   ]
  },
  {
   "cell_type": "markdown",
   "metadata": {},
   "source": [
    "For purposes of demonstrating ALIGN, the directory and folder pathnames correspond to data provided in the Github repository associated with this notebook. The default option is set to analyze conversations from a single English corpus from the CHILDES database (MacWhinney, 2000), specifically, Kuczaj’s Abe corpus (Kuczaj, 1976). Here, only the last 20 conversations are evaluated. Analysis is based on default settings unless otherwise indicated."
   ]
  },
  {
   "cell_type": "markdown",
   "metadata": {},
   "source": [
    "### Directories and folders"
   ]
  },
  {
   "cell_type": "markdown",
   "metadata": {},
   "source": [
    "**`INPUT_PATH`**: Set working directory, in which all notebook and supporting files are located."
   ]
  },
  {
   "cell_type": "code",
   "execution_count": 51,
   "metadata": {},
   "outputs": [],
   "source": [
    "INPUT_PATH=os.getcwd()+'/'"
   ]
  },
  {
   "cell_type": "markdown",
   "metadata": {},
   "source": [
    "**`TRANSCRIPTS`**: Set variable for folder name (as string) for relative location of folder containing the original transcript files."
   ]
  },
  {
   "cell_type": "code",
   "execution_count": 52,
   "metadata": {
    "collapsed": true
   },
   "outputs": [],
   "source": [
    "TRANSCRIPTS = INPUT_PATH + 'examples/CHILDES/childes-original/'"
   ]
  },
  {
   "cell_type": "markdown",
   "metadata": {},
   "source": [
    "**`STANFORD_POS_PATH`**: Path to Stanford POS tagger files."
   ]
  },
  {
   "cell_type": "code",
   "execution_count": 53,
   "metadata": {
    "collapsed": true
   },
   "outputs": [],
   "source": [
    "STANFORD_POS_PATH = INPUT_PATH + 'package_files/stanford-postagger-full-2017-06-09/'"
   ]
  },
  {
   "cell_type": "markdown",
   "metadata": {},
   "source": [
    "**`STANFORD_LANGUAGE`**: If using stanford tagger, set language model to be used for POS tagging"
   ]
  },
  {
   "cell_type": "code",
   "execution_count": 54,
   "metadata": {
    "collapsed": true
   },
   "outputs": [],
   "source": [
    "STANFORD_LANGUAGE = 'models/english-left3words-distsim.tagger'"
   ]
  },
  {
   "cell_type": "markdown",
   "metadata": {},
   "source": [
    "**`PREPPED_TRANSCRIPTS`**: Set variable for folder name (as string) for relative location of folder into which prepared transcript files will be saved."
   ]
  },
  {
   "cell_type": "code",
   "execution_count": 55,
   "metadata": {
    "collapsed": true
   },
   "outputs": [],
   "source": [
    "PREPPED_TRANSCRIPTS = INPUT_PATH + 'examples/CHILDES/childes-prepped/'"
   ]
  },
  {
   "cell_type": "markdown",
   "metadata": {},
   "source": [
    "**`ANALYSIS_READY`**: Set variable for folder name (as string) for relative location of folder into which analysis-ready dataframe files will be saved."
   ]
  },
  {
   "cell_type": "code",
   "execution_count": 56,
   "metadata": {
    "collapsed": true
   },
   "outputs": [],
   "source": [
    "ANALYSIS_READY = 'examples/CHILDES/childes-analysis/'"
   ]
  },
  {
   "cell_type": "markdown",
   "metadata": {},
   "source": [
    "**`SURROGATE_TRANSCRIPTS`**: Set variable for folder name (as string) for relative location of folder into which all prepared surrogate transcript files will be saved."
   ]
  },
  {
   "cell_type": "code",
   "execution_count": 57,
   "metadata": {
    "collapsed": true
   },
   "outputs": [],
   "source": [
    "SURROGATE_TRANSCRIPTS = 'examples/CHILDES/childes-surrogate/'"
   ]
  },
  {
   "cell_type": "markdown",
   "metadata": {},
   "source": [
    "### Analysis settings"
   ]
  },
  {
   "cell_type": "markdown",
   "metadata": {},
   "source": [
    "`MAXNGRAM`: Set maximum size for n-gram chunking.\n",
    "\n",
    "* Default: 2"
   ]
  },
  {
   "cell_type": "code",
   "execution_count": 59,
   "metadata": {
    "collapsed": true
   },
   "outputs": [],
   "source": [
    "MAXNGRAM = 2"
   ]
  },
  {
   "cell_type": "markdown",
   "metadata": {},
   "source": [
    "`MINWORDS`: Set minimum number of words for each turn.\n",
    "\n",
    "* Default: 2\n",
    "\n",
    "**Note**: The minimum number of words must be at least as long as maximum *n*-gram size (`MAXNGRAM` above)."
   ]
  },
  {
   "cell_type": "code",
   "execution_count": 60,
   "metadata": {
    "collapsed": true
   },
   "outputs": [],
   "source": [
    "MINWORDS = 2"
   ]
  },
  {
   "cell_type": "markdown",
   "metadata": {},
   "source": [
    "`ADD_STANFORD_TAGS`: Choose POS tagger. \n",
    "\n",
    "* Default: `False`\n",
    "    * Run NLTK default POS tagger (NLTK 3.1+): `averaged_perceptron_tagger`\n",
    "* Option: `True`\n",
    "    * Run both NLTK default POS tagger and Stanford POS tagger. Note: Adding the Stanford POS tagger will lead to an increase in processing time. "
   ]
  },
  {
   "cell_type": "code",
   "execution_count": 61,
   "metadata": {
    "collapsed": true
   },
   "outputs": [],
   "source": [
    "ADD_STANFORD_TAGS = False"
   ]
  },
  {
   "cell_type": "markdown",
   "metadata": {},
   "source": [
    "`DELAY`: Set max delay between partner's turns when generating alignment score.\n",
    "\n",
    "* Currently, the only acceptable value is 1 (i.e., contiguous turns)."
   ]
  },
  {
   "cell_type": "code",
   "execution_count": 62,
   "metadata": {
    "collapsed": true
   },
   "outputs": [],
   "source": [
    "DELAY = 1"
   ]
  },
  {
   "cell_type": "markdown",
   "metadata": {},
   "source": [
    "`USE_FILLER_LIST`: Choose method for removing speech fillers. \n",
    "\n",
    "* Default: `None`\n",
    "    * Does not provide additional speech fillers to be removed.\n",
    "* Option: list of strings\n",
    "    * Provide a list of literal strings to be removed from the transcripts."
   ]
  },
  {
   "cell_type": "code",
   "execution_count": 63,
   "metadata": {
    "collapsed": true
   },
   "outputs": [],
   "source": [
    "USE_FILLER_LIST = None"
   ]
  },
  {
   "cell_type": "markdown",
   "metadata": {},
   "source": [
    "`IGNORE_DUPLICATES`: Choose whether to remove duplicate lexial bigrams when computing syntactic alignment\n",
    "\n",
    "* Default: `True`\n",
    "    * Removes duplicate lexical bigrams.\n",
    "* Option `False`\n",
    "    * Keeps duplicate lexical bigrams"
   ]
  },
  {
   "cell_type": "code",
   "execution_count": 64,
   "metadata": {
    "collapsed": true
   },
   "outputs": [],
   "source": [
    "IGNORE_DUPLICATES = True"
   ]
  },
  {
   "cell_type": "markdown",
   "metadata": {},
   "source": [
    "`USE_PRETRAINED_VECTORS`: Choose whether to use high-dimensional semantic model pretrained vectors from GoogleNews or to build vectors based on transcripts (each utterance/row is equivalent to a single context). Note: if there are a small number of utterance/rows then the pretrained vectors should be used. \n",
    "\n",
    "* Default: `False`\n",
    "    * Builds high-dimensional based on input transcript\n",
    "* Option `True`\n",
    "    * Uses pre-trained vectors from GoogleNews"
   ]
  },
  {
   "cell_type": "code",
   "execution_count": 65,
   "metadata": {
    "collapsed": true
   },
   "outputs": [],
   "source": [
    "USE_PRETRAINED_VECTORS = False"
   ]
  },
  {
   "cell_type": "markdown",
   "metadata": {},
   "source": [
    "`ALL_SURROGATES`: Choose whether to generate surrogates from all possible pairings within a condition or only from a subset of all possible pairings. \n",
    "\n",
    "* Default: `True`\n",
    "    * Generates all possible pairings\n",
    "* Option `False`\n",
    "    * Generates from a subset of all possible pairings"
   ]
  },
  {
   "cell_type": "code",
   "execution_count": 66,
   "metadata": {
    "collapsed": true
   },
   "outputs": [],
   "source": [
    "ALL_SURROGATES = True"
   ]
  },
  {
   "cell_type": "markdown",
   "metadata": {},
   "source": [
    "`KEEP_ORIGINAL_TURN_ORDER`: For generating surrogate transcripts, choose whether to to retain the original ordering of each surrogate partner's data or create surrogates by shuffling all turns within each surrogate partner's data. \n",
    "\n",
    "* Default: `True`\n",
    "    * Retains original\n",
    "    ordering of conversational turns\n",
    "* Option `False`\n",
    "    * Shuffles ordering of conversational turns"
   ]
  },
  {
   "cell_type": "code",
   "execution_count": 67,
   "metadata": {
    "collapsed": true
   },
   "outputs": [],
   "source": [
    "KEEP_ORIGINAL_TURN_ORDER = True"
   ]
  },
  {
   "cell_type": "markdown",
   "metadata": {},
   "source": [
    "### Additional settings"
   ]
  },
  {
   "cell_type": "markdown",
   "metadata": {},
   "source": [
    "ALIGN contains a number of other settings that users may alter if desired. We outline each below and provide the default value for user information, but we preserve them in their defaults for the sake of this notebook. More information about each argument can also be found in the docstring for each function."
   ]
  },
  {
   "cell_type": "markdown",
   "metadata": {},
   "source": [
    "* `filler_regex_and_list`: remove common fillers through regex in addition to removing a user-specified list of fillers (default: `False`)\n",
    "* `high_sd_cutoff`: remove any words that occur in the dataset over a certain number of SDs greater than the mean (default: `3`)\n",
    "* `low_n_cutoff`: remove any words that occur in the dataset at or below a given raw number of times (default: `1`)\n",
    "* `input_as_directory`: pass a directory of files (rather than a list of file names) to process data (default: `True`)\n",
    "* `save_concatenated_dataframe`: save output of Phase 1 as a single dataframe (default: `True`)\n",
    "* `dyad_label`: prefix before dyad identifier in transcript filenames (default: `dyad`)\n",
    "* `condition_label`: prefix before dyad identifier in transcript filenames (default: `cond`)\n",
    "* `id_separator`: unique character separator between dyad and condition in transcript filenames (default: `-`)"
   ]
  },
  {
   "cell_type": "markdown",
   "metadata": {
    "collapsed": true
   },
   "source": [
    "# Run everything!"
   ]
  },
  {
   "cell_type": "markdown",
   "metadata": {},
   "source": [
    "Now that we've walked through all of our functions, let's try out ALIGN on some of the CHILDES data. We'll be getting a sense of the length of time it takes to run ALIGN with each step and then take a peek at the resulting data."
   ]
  },
  {
   "cell_type": "markdown",
   "metadata": {},
   "source": [
    "## Phase 1: Prep"
   ]
  },
  {
   "cell_type": "code",
   "execution_count": 50,
   "metadata": {
    "collapsed": true
   },
   "outputs": [],
   "source": [
    "import time\n",
    "start_phase1 = time.time()"
   ]
  },
  {
   "cell_type": "code",
   "execution_count": 67,
   "metadata": {
    "scrolled": false
   },
   "outputs": [],
   "source": [
    "model_store = prepare_transcripts(\n",
    "          input_files=TRANSCRIPTS,\n",
    "          minwords=2,\n",
    "          add_stanford_tags=False,\n",
    "          output_file_directory=PREPPED_TRANSCRIPTS,\n",
    "          use_filler_list=None,\n",
    "          filler_regex_and_list=False,          \n",
    "          training_dictionary=INPUT_PATH+'package_files/gutenberg.txt',\n",
    "          stanford_pos_path=STANFORD_POS_PATH,\n",
    "          stanford_language_path=STANFORD_LANGUAGE,\n",
    "          input_as_directory=True,\n",
    "          save_concatenated_dataframe=True)"
   ]
  },
  {
   "cell_type": "markdown",
   "metadata": {
    "collapsed": true
   },
   "source": [
    "## Phase 2: Real"
   ]
  },
  {
   "cell_type": "markdown",
   "metadata": {},
   "source": [
    "**Note**: For demonstration purposes, given the small number of transcripts in our example corpus, the example here uses pretrained vectors from Google News rather than building a new semantic space from the example corpus itself."
   ]
  },
  {
   "cell_type": "code",
   "execution_count": 52,
   "metadata": {
    "collapsed": true
   },
   "outputs": [],
   "source": [
    "start_phase2real = time.time()"
   ]
  },
  {
   "cell_type": "code",
   "execution_count": 66,
   "metadata": {},
   "outputs": [],
   "source": [
    "[turn_real,convo_real]= calculate_alignment(\n",
    "                        input_files = TRANSCRIPTS,\n",
    "                        add_stanford_tags=False,  \n",
    "                        maxngram=2,   \n",
    "                        use_pretrained_vectors=True,\n",
    "                        semantic_model_input_file=TRANSCRIPTS + '../' + 'align_concatenated_dataframe.txt',    \n",
    "                        output_file_directory = PREPPED_TRANSCRIPTS,\n",
    "                        pretrained_input_file=INPUT_PATH+'package_files/GoogleNews-vectors-negative300.bin',\n",
    "                        ignore_duplicates=True,\n",
    "                        delay=1,\n",
    "                        high_sd_cutoff=3,\n",
    "                        low_n_cutoff=1,\n",
    "                        input_as_directory=True)"
   ]
  },
  {
   "cell_type": "markdown",
   "metadata": {},
   "source": [
    "## Phase 2: Surrogate"
   ]
  },
  {
   "cell_type": "markdown",
   "metadata": {},
   "source": [
    "**Note**: For demonstration purposes, we again use pre-trained vectors from Google News. We demonstrate other possible uses for labels by setting `dyad_label = time`, allowing us to compare alignment over time across the same speakers. We also demonstrate how to generate a subset of surrogate pairings rather than all possible pairings."
   ]
  },
  {
   "cell_type": "code",
   "execution_count": 54,
   "metadata": {
    "collapsed": true
   },
   "outputs": [],
   "source": [
    "start_phase2surrogate = time.time()"
   ]
  },
  {
   "cell_type": "code",
   "execution_count": 65,
   "metadata": {},
   "outputs": [],
   "source": [
    "[turn_surrogate,convo_surrogate] = calculate_baseline_alignment(\n",
    "                                input_files = INPUT_PATH+'examples/CHILDES/childes-prepped/', \n",
    "                                add_stanford_tags=False,\n",
    "                                maxngram=2,\n",
    "                                use_pretrained_vectors=True,\n",
    "                                all_surrogates=False,\n",
    "                                keep_original_turn_order=True,\n",
    "                                id_separator = '\\-',\n",
    "                                dyad_label='time',\n",
    "                                condition_label='cond',\n",
    "                                surrogate_file_directory= INPUT_PATH+'examples/CHILDES/childes-surrogate/',                                \n",
    "                                output_file_directory=INPUT_PATH+'examples/CHILDES/childes-analysis/',\n",
    "                                pretrained_input_file=INPUT_PATH+'package_files/GoogleNews-vectors-negative300.bin',\n",
    "                                semantic_model_input_file=INPUT_PATH+'align_concatenated_dataframe.txt',\n",
    "                                ignore_duplicates=True,\n",
    "                                delay=1,\n",
    "                                high_sd_cutoff=3,\n",
    "                                low_n_cutoff=1,\n",
    "                                input_as_directory=True)"
   ]
  },
  {
   "cell_type": "code",
   "execution_count": 56,
   "metadata": {
    "collapsed": true
   },
   "outputs": [],
   "source": [
    "end=time.time()"
   ]
  },
  {
   "cell_type": "markdown",
   "metadata": {},
   "source": [
    "## Speed calculations"
   ]
  },
  {
   "cell_type": "markdown",
   "metadata": {},
   "source": [
    "As promised, let's take a look at how long it takes to run each section. Time is given in seconds."
   ]
  },
  {
   "cell_type": "markdown",
   "metadata": {},
   "source": [
    "Phase 1 time:"
   ]
  },
  {
   "cell_type": "code",
   "execution_count": 57,
   "metadata": {},
   "outputs": [
    {
     "data": {
      "text/plain": [
       "33.50847101211548"
      ]
     },
     "execution_count": 57,
     "metadata": {},
     "output_type": "execute_result"
    }
   ],
   "source": [
    "start_phase2real - start_phase1"
   ]
  },
  {
   "cell_type": "markdown",
   "metadata": {},
   "source": [
    "Phase 2 real time:"
   ]
  },
  {
   "cell_type": "code",
   "execution_count": 58,
   "metadata": {},
   "outputs": [
    {
     "data": {
      "text/plain": [
       "77.47824192047119"
      ]
     },
     "execution_count": 58,
     "metadata": {},
     "output_type": "execute_result"
    }
   ],
   "source": [
    "start_phase2surrogate - start_phase2real"
   ]
  },
  {
   "cell_type": "markdown",
   "metadata": {},
   "source": [
    "Phase 2 surrogate time:"
   ]
  },
  {
   "cell_type": "code",
   "execution_count": 59,
   "metadata": {},
   "outputs": [
    {
     "data": {
      "text/plain": [
       "77.40525507926941"
      ]
     },
     "execution_count": 59,
     "metadata": {},
     "output_type": "execute_result"
    }
   ],
   "source": [
    "end - start_phase2surrogate"
   ]
  },
  {
   "cell_type": "markdown",
   "metadata": {},
   "source": [
    "All 3 phases:"
   ]
  },
  {
   "cell_type": "code",
   "execution_count": 60,
   "metadata": {},
   "outputs": [
    {
     "data": {
      "text/plain": [
       "188.39196801185608"
      ]
     },
     "execution_count": 60,
     "metadata": {},
     "output_type": "execute_result"
    }
   ],
   "source": [
    "end - start_phase1"
   ]
  },
  {
   "cell_type": "markdown",
   "metadata": {},
   "source": [
    "## Printouts!"
   ]
  },
  {
   "cell_type": "markdown",
   "metadata": {},
   "source": [
    "And that's it! Before we go, let's take a look at the output from the real data analyzed at the turn level for each conversation (`turn_real`) and at the conversation level for each dyad (`convo_real`). We'll then look at our surrogate data, analyzed both at the turn level (`turn_surrogate`) and at the conversation level (`convo_surrogate`). In our next step, we would then take these data and plug them into our statistical model of choice, but we'll stop here for the sake of our tutorial."
   ]
  },
  {
   "cell_type": "code",
   "execution_count": 61,
   "metadata": {
    "scrolled": true
   },
   "outputs": [
    {
     "data": {
      "text/html": [
       "<div>\n",
       "<style scoped>\n",
       "    .dataframe tbody tr th:only-of-type {\n",
       "        vertical-align: middle;\n",
       "    }\n",
       "\n",
       "    .dataframe tbody tr th {\n",
       "        vertical-align: top;\n",
       "    }\n",
       "\n",
       "    .dataframe thead th {\n",
       "        text-align: right;\n",
       "    }\n",
       "</style>\n",
       "<table border=\"1\" class=\"dataframe\">\n",
       "  <thead>\n",
       "    <tr style=\"text-align: right;\">\n",
       "      <th></th>\n",
       "      <th>time</th>\n",
       "      <th>syntax_penn_tok2</th>\n",
       "      <th>syntax_penn_lem2</th>\n",
       "      <th>lexical_tok2</th>\n",
       "      <th>lexical_lem2</th>\n",
       "      <th>cosine_semanticL</th>\n",
       "      <th>partner_direction</th>\n",
       "      <th>condition_info</th>\n",
       "    </tr>\n",
       "  </thead>\n",
       "  <tbody>\n",
       "    <tr>\n",
       "      <th>0</th>\n",
       "      <td>0</td>\n",
       "      <td>0</td>\n",
       "      <td>0</td>\n",
       "      <td>0</td>\n",
       "      <td>0</td>\n",
       "      <td>0.285198</td>\n",
       "      <td>cgv&gt;kid</td>\n",
       "      <td>time197-cond1.txt</td>\n",
       "    </tr>\n",
       "    <tr>\n",
       "      <th>1</th>\n",
       "      <td>1</td>\n",
       "      <td>0</td>\n",
       "      <td>0</td>\n",
       "      <td>0</td>\n",
       "      <td>0</td>\n",
       "      <td>0.37358</td>\n",
       "      <td>kid&gt;cgv</td>\n",
       "      <td>time197-cond1.txt</td>\n",
       "    </tr>\n",
       "    <tr>\n",
       "      <th>2</th>\n",
       "      <td>2</td>\n",
       "      <td>0.154303</td>\n",
       "      <td>0</td>\n",
       "      <td>0</td>\n",
       "      <td>0</td>\n",
       "      <td>0.57782</td>\n",
       "      <td>cgv&gt;kid</td>\n",
       "      <td>time197-cond1.txt</td>\n",
       "    </tr>\n",
       "    <tr>\n",
       "      <th>3</th>\n",
       "      <td>3</td>\n",
       "      <td>0</td>\n",
       "      <td>0</td>\n",
       "      <td>0</td>\n",
       "      <td>0</td>\n",
       "      <td>0.672067</td>\n",
       "      <td>kid&gt;cgv</td>\n",
       "      <td>time197-cond1.txt</td>\n",
       "    </tr>\n",
       "    <tr>\n",
       "      <th>4</th>\n",
       "      <td>4</td>\n",
       "      <td>0.111111</td>\n",
       "      <td>0.09245</td>\n",
       "      <td>0</td>\n",
       "      <td>0</td>\n",
       "      <td>0.597504</td>\n",
       "      <td>cgv&gt;kid</td>\n",
       "      <td>time197-cond1.txt</td>\n",
       "    </tr>\n",
       "    <tr>\n",
       "      <th>5</th>\n",
       "      <td>5</td>\n",
       "      <td>0.222222</td>\n",
       "      <td>0.27735</td>\n",
       "      <td>0</td>\n",
       "      <td>0</td>\n",
       "      <td>0.617649</td>\n",
       "      <td>kid&gt;cgv</td>\n",
       "      <td>time197-cond1.txt</td>\n",
       "    </tr>\n",
       "    <tr>\n",
       "      <th>6</th>\n",
       "      <td>6</td>\n",
       "      <td>0</td>\n",
       "      <td>0</td>\n",
       "      <td>0</td>\n",
       "      <td>0</td>\n",
       "      <td>0.168668</td>\n",
       "      <td>cgv&gt;kid</td>\n",
       "      <td>time197-cond1.txt</td>\n",
       "    </tr>\n",
       "    <tr>\n",
       "      <th>7</th>\n",
       "      <td>7</td>\n",
       "      <td>0</td>\n",
       "      <td>0</td>\n",
       "      <td>0</td>\n",
       "      <td>0</td>\n",
       "      <td>0.223091</td>\n",
       "      <td>kid&gt;cgv</td>\n",
       "      <td>time197-cond1.txt</td>\n",
       "    </tr>\n",
       "    <tr>\n",
       "      <th>8</th>\n",
       "      <td>8</td>\n",
       "      <td>0</td>\n",
       "      <td>0</td>\n",
       "      <td>0</td>\n",
       "      <td>0</td>\n",
       "      <td>0.323836</td>\n",
       "      <td>cgv&gt;kid</td>\n",
       "      <td>time197-cond1.txt</td>\n",
       "    </tr>\n",
       "    <tr>\n",
       "      <th>9</th>\n",
       "      <td>9</td>\n",
       "      <td>0</td>\n",
       "      <td>0</td>\n",
       "      <td>0</td>\n",
       "      <td>0</td>\n",
       "      <td>0.283156</td>\n",
       "      <td>kid&gt;cgv</td>\n",
       "      <td>time197-cond1.txt</td>\n",
       "    </tr>\n",
       "  </tbody>\n",
       "</table>\n",
       "</div>"
      ],
      "text/plain": [
       "   time syntax_penn_tok2 syntax_penn_lem2 lexical_tok2 lexical_lem2  \\\n",
       "0     0                0                0            0            0   \n",
       "1     1                0                0            0            0   \n",
       "2     2         0.154303                0            0            0   \n",
       "3     3                0                0            0            0   \n",
       "4     4         0.111111          0.09245            0            0   \n",
       "5     5         0.222222          0.27735            0            0   \n",
       "6     6                0                0            0            0   \n",
       "7     7                0                0            0            0   \n",
       "8     8                0                0            0            0   \n",
       "9     9                0                0            0            0   \n",
       "\n",
       "  cosine_semanticL partner_direction     condition_info  \n",
       "0         0.285198           cgv>kid  time197-cond1.txt  \n",
       "1          0.37358           kid>cgv  time197-cond1.txt  \n",
       "2          0.57782           cgv>kid  time197-cond1.txt  \n",
       "3         0.672067           kid>cgv  time197-cond1.txt  \n",
       "4         0.597504           cgv>kid  time197-cond1.txt  \n",
       "5         0.617649           kid>cgv  time197-cond1.txt  \n",
       "6         0.168668           cgv>kid  time197-cond1.txt  \n",
       "7         0.223091           kid>cgv  time197-cond1.txt  \n",
       "8         0.323836           cgv>kid  time197-cond1.txt  \n",
       "9         0.283156           kid>cgv  time197-cond1.txt  "
      ]
     },
     "execution_count": 61,
     "metadata": {},
     "output_type": "execute_result"
    }
   ],
   "source": [
    "turn_real.head(10)"
   ]
  },
  {
   "cell_type": "code",
   "execution_count": 62,
   "metadata": {
    "scrolled": true
   },
   "outputs": [
    {
     "data": {
      "text/html": [
       "<div>\n",
       "<style scoped>\n",
       "    .dataframe tbody tr th:only-of-type {\n",
       "        vertical-align: middle;\n",
       "    }\n",
       "\n",
       "    .dataframe tbody tr th {\n",
       "        vertical-align: top;\n",
       "    }\n",
       "\n",
       "    .dataframe thead th {\n",
       "        text-align: right;\n",
       "    }\n",
       "</style>\n",
       "<table border=\"1\" class=\"dataframe\">\n",
       "  <thead>\n",
       "    <tr style=\"text-align: right;\">\n",
       "      <th></th>\n",
       "      <th>syntax_penn_tok2</th>\n",
       "      <th>syntax_penn_lem2</th>\n",
       "      <th>lexical_tok2</th>\n",
       "      <th>lexical_lem2</th>\n",
       "      <th>condition_info</th>\n",
       "    </tr>\n",
       "  </thead>\n",
       "  <tbody>\n",
       "    <tr>\n",
       "      <th>0</th>\n",
       "      <td>0.709110</td>\n",
       "      <td>0.709110</td>\n",
       "      <td>0.099848</td>\n",
       "      <td>0.186072</td>\n",
       "      <td>time197-cond1.txt</td>\n",
       "    </tr>\n",
       "    <tr>\n",
       "      <th>1</th>\n",
       "      <td>0.768490</td>\n",
       "      <td>0.768490</td>\n",
       "      <td>0.353514</td>\n",
       "      <td>0.435380</td>\n",
       "      <td>time202-cond1.txt</td>\n",
       "    </tr>\n",
       "    <tr>\n",
       "      <th>2</th>\n",
       "      <td>0.744802</td>\n",
       "      <td>0.744802</td>\n",
       "      <td>0.309924</td>\n",
       "      <td>0.356673</td>\n",
       "      <td>time191-cond1.txt</td>\n",
       "    </tr>\n",
       "    <tr>\n",
       "      <th>3</th>\n",
       "      <td>0.782399</td>\n",
       "      <td>0.782399</td>\n",
       "      <td>0.353604</td>\n",
       "      <td>0.401469</td>\n",
       "      <td>time209-cond1.txt</td>\n",
       "    </tr>\n",
       "    <tr>\n",
       "      <th>4</th>\n",
       "      <td>0.810753</td>\n",
       "      <td>0.810753</td>\n",
       "      <td>0.192589</td>\n",
       "      <td>0.305209</td>\n",
       "      <td>time210-cond1.txt</td>\n",
       "    </tr>\n",
       "    <tr>\n",
       "      <th>5</th>\n",
       "      <td>0.766315</td>\n",
       "      <td>0.766315</td>\n",
       "      <td>0.311128</td>\n",
       "      <td>0.365522</td>\n",
       "      <td>time204-cond1.txt</td>\n",
       "    </tr>\n",
       "    <tr>\n",
       "      <th>6</th>\n",
       "      <td>0.670246</td>\n",
       "      <td>0.670246</td>\n",
       "      <td>0.164155</td>\n",
       "      <td>0.228145</td>\n",
       "      <td>time196-cond1.txt</td>\n",
       "    </tr>\n",
       "    <tr>\n",
       "      <th>7</th>\n",
       "      <td>0.789571</td>\n",
       "      <td>0.789571</td>\n",
       "      <td>0.285261</td>\n",
       "      <td>0.317173</td>\n",
       "      <td>time203-cond1.txt</td>\n",
       "    </tr>\n",
       "    <tr>\n",
       "      <th>8</th>\n",
       "      <td>0.741248</td>\n",
       "      <td>0.741248</td>\n",
       "      <td>0.319008</td>\n",
       "      <td>0.383271</td>\n",
       "      <td>time208-cond1.txt</td>\n",
       "    </tr>\n",
       "    <tr>\n",
       "      <th>9</th>\n",
       "      <td>0.785440</td>\n",
       "      <td>0.785440</td>\n",
       "      <td>0.188816</td>\n",
       "      <td>0.229783</td>\n",
       "      <td>time205-cond1.txt</td>\n",
       "    </tr>\n",
       "  </tbody>\n",
       "</table>\n",
       "</div>"
      ],
      "text/plain": [
       "   syntax_penn_tok2  syntax_penn_lem2  lexical_tok2  lexical_lem2  \\\n",
       "0          0.709110          0.709110      0.099848      0.186072   \n",
       "1          0.768490          0.768490      0.353514      0.435380   \n",
       "2          0.744802          0.744802      0.309924      0.356673   \n",
       "3          0.782399          0.782399      0.353604      0.401469   \n",
       "4          0.810753          0.810753      0.192589      0.305209   \n",
       "5          0.766315          0.766315      0.311128      0.365522   \n",
       "6          0.670246          0.670246      0.164155      0.228145   \n",
       "7          0.789571          0.789571      0.285261      0.317173   \n",
       "8          0.741248          0.741248      0.319008      0.383271   \n",
       "9          0.785440          0.785440      0.188816      0.229783   \n",
       "\n",
       "      condition_info  \n",
       "0  time197-cond1.txt  \n",
       "1  time202-cond1.txt  \n",
       "2  time191-cond1.txt  \n",
       "3  time209-cond1.txt  \n",
       "4  time210-cond1.txt  \n",
       "5  time204-cond1.txt  \n",
       "6  time196-cond1.txt  \n",
       "7  time203-cond1.txt  \n",
       "8  time208-cond1.txt  \n",
       "9  time205-cond1.txt  "
      ]
     },
     "execution_count": 62,
     "metadata": {},
     "output_type": "execute_result"
    }
   ],
   "source": [
    "convo_real.head(10)"
   ]
  },
  {
   "cell_type": "code",
   "execution_count": 63,
   "metadata": {
    "scrolled": true
   },
   "outputs": [
    {
     "data": {
      "text/html": [
       "<div>\n",
       "<style scoped>\n",
       "    .dataframe tbody tr th:only-of-type {\n",
       "        vertical-align: middle;\n",
       "    }\n",
       "\n",
       "    .dataframe tbody tr th {\n",
       "        vertical-align: top;\n",
       "    }\n",
       "\n",
       "    .dataframe thead th {\n",
       "        text-align: right;\n",
       "    }\n",
       "</style>\n",
       "<table border=\"1\" class=\"dataframe\">\n",
       "  <thead>\n",
       "    <tr style=\"text-align: right;\">\n",
       "      <th></th>\n",
       "      <th>time</th>\n",
       "      <th>syntax_penn_tok2</th>\n",
       "      <th>syntax_penn_lem2</th>\n",
       "      <th>lexical_tok2</th>\n",
       "      <th>lexical_lem2</th>\n",
       "      <th>cosine_semanticL</th>\n",
       "      <th>partner_direction</th>\n",
       "      <th>condition_info</th>\n",
       "    </tr>\n",
       "  </thead>\n",
       "  <tbody>\n",
       "    <tr>\n",
       "      <th>0</th>\n",
       "      <td>0</td>\n",
       "      <td>0</td>\n",
       "      <td>0.169031</td>\n",
       "      <td>0</td>\n",
       "      <td>0</td>\n",
       "      <td>0.3444</td>\n",
       "      <td>cgv&gt;kid</td>\n",
       "      <td>time195-time204-cond1</td>\n",
       "    </tr>\n",
       "    <tr>\n",
       "      <th>1</th>\n",
       "      <td>1</td>\n",
       "      <td>0.210819</td>\n",
       "      <td>0.111803</td>\n",
       "      <td>0</td>\n",
       "      <td>0</td>\n",
       "      <td>0.628921</td>\n",
       "      <td>kid&gt;cgv</td>\n",
       "      <td>time195-time204-cond1</td>\n",
       "    </tr>\n",
       "    <tr>\n",
       "      <th>2</th>\n",
       "      <td>2</td>\n",
       "      <td>0.105409</td>\n",
       "      <td>0.111803</td>\n",
       "      <td>0</td>\n",
       "      <td>0</td>\n",
       "      <td>0.619997</td>\n",
       "      <td>cgv&gt;kid</td>\n",
       "      <td>time195-time204-cond1</td>\n",
       "    </tr>\n",
       "    <tr>\n",
       "      <th>3</th>\n",
       "      <td>3</td>\n",
       "      <td>0</td>\n",
       "      <td>0</td>\n",
       "      <td>0.13484</td>\n",
       "      <td>0.13484</td>\n",
       "      <td>0.686174</td>\n",
       "      <td>kid&gt;cgv</td>\n",
       "      <td>time195-time204-cond1</td>\n",
       "    </tr>\n",
       "    <tr>\n",
       "      <th>4</th>\n",
       "      <td>4</td>\n",
       "      <td>0</td>\n",
       "      <td>0</td>\n",
       "      <td>0</td>\n",
       "      <td>0</td>\n",
       "      <td>0.559554</td>\n",
       "      <td>cgv&gt;kid</td>\n",
       "      <td>time195-time204-cond1</td>\n",
       "    </tr>\n",
       "    <tr>\n",
       "      <th>5</th>\n",
       "      <td>5</td>\n",
       "      <td>0</td>\n",
       "      <td>0</td>\n",
       "      <td>0</td>\n",
       "      <td>0</td>\n",
       "      <td>0.309329</td>\n",
       "      <td>kid&gt;cgv</td>\n",
       "      <td>time195-time204-cond1</td>\n",
       "    </tr>\n",
       "    <tr>\n",
       "      <th>6</th>\n",
       "      <td>6</td>\n",
       "      <td>0</td>\n",
       "      <td>0</td>\n",
       "      <td>0</td>\n",
       "      <td>0</td>\n",
       "      <td>0.35275</td>\n",
       "      <td>cgv&gt;kid</td>\n",
       "      <td>time195-time204-cond1</td>\n",
       "    </tr>\n",
       "    <tr>\n",
       "      <th>7</th>\n",
       "      <td>7</td>\n",
       "      <td>0</td>\n",
       "      <td>0</td>\n",
       "      <td>0</td>\n",
       "      <td>0</td>\n",
       "      <td>0.535742</td>\n",
       "      <td>kid&gt;cgv</td>\n",
       "      <td>time195-time204-cond1</td>\n",
       "    </tr>\n",
       "    <tr>\n",
       "      <th>8</th>\n",
       "      <td>8</td>\n",
       "      <td>0</td>\n",
       "      <td>0</td>\n",
       "      <td>0.353553</td>\n",
       "      <td>0.353553</td>\n",
       "      <td>0.30474</td>\n",
       "      <td>cgv&gt;kid</td>\n",
       "      <td>time195-time204-cond1</td>\n",
       "    </tr>\n",
       "    <tr>\n",
       "      <th>9</th>\n",
       "      <td>9</td>\n",
       "      <td>0</td>\n",
       "      <td>0</td>\n",
       "      <td>0</td>\n",
       "      <td>0</td>\n",
       "      <td>0.456275</td>\n",
       "      <td>kid&gt;cgv</td>\n",
       "      <td>time195-time204-cond1</td>\n",
       "    </tr>\n",
       "  </tbody>\n",
       "</table>\n",
       "</div>"
      ],
      "text/plain": [
       "   time syntax_penn_tok2 syntax_penn_lem2 lexical_tok2 lexical_lem2  \\\n",
       "0     0                0         0.169031            0            0   \n",
       "1     1         0.210819         0.111803            0            0   \n",
       "2     2         0.105409         0.111803            0            0   \n",
       "3     3                0                0      0.13484      0.13484   \n",
       "4     4                0                0            0            0   \n",
       "5     5                0                0            0            0   \n",
       "6     6                0                0            0            0   \n",
       "7     7                0                0            0            0   \n",
       "8     8                0                0     0.353553     0.353553   \n",
       "9     9                0                0            0            0   \n",
       "\n",
       "  cosine_semanticL partner_direction         condition_info  \n",
       "0           0.3444           cgv>kid  time195-time204-cond1  \n",
       "1         0.628921           kid>cgv  time195-time204-cond1  \n",
       "2         0.619997           cgv>kid  time195-time204-cond1  \n",
       "3         0.686174           kid>cgv  time195-time204-cond1  \n",
       "4         0.559554           cgv>kid  time195-time204-cond1  \n",
       "5         0.309329           kid>cgv  time195-time204-cond1  \n",
       "6          0.35275           cgv>kid  time195-time204-cond1  \n",
       "7         0.535742           kid>cgv  time195-time204-cond1  \n",
       "8          0.30474           cgv>kid  time195-time204-cond1  \n",
       "9         0.456275           kid>cgv  time195-time204-cond1  "
      ]
     },
     "execution_count": 63,
     "metadata": {},
     "output_type": "execute_result"
    }
   ],
   "source": [
    "turn_surrogate.head(10)"
   ]
  },
  {
   "cell_type": "code",
   "execution_count": 64,
   "metadata": {
    "scrolled": false
   },
   "outputs": [
    {
     "data": {
      "text/html": [
       "<div>\n",
       "<style scoped>\n",
       "    .dataframe tbody tr th:only-of-type {\n",
       "        vertical-align: middle;\n",
       "    }\n",
       "\n",
       "    .dataframe tbody tr th {\n",
       "        vertical-align: top;\n",
       "    }\n",
       "\n",
       "    .dataframe thead th {\n",
       "        text-align: right;\n",
       "    }\n",
       "</style>\n",
       "<table border=\"1\" class=\"dataframe\">\n",
       "  <thead>\n",
       "    <tr style=\"text-align: right;\">\n",
       "      <th></th>\n",
       "      <th>syntax_penn_tok2</th>\n",
       "      <th>syntax_penn_lem2</th>\n",
       "      <th>lexical_tok2</th>\n",
       "      <th>lexical_lem2</th>\n",
       "      <th>condition_info</th>\n",
       "    </tr>\n",
       "  </thead>\n",
       "  <tbody>\n",
       "    <tr>\n",
       "      <th>0</th>\n",
       "      <td>0.703404</td>\n",
       "      <td>0.703404</td>\n",
       "      <td>0.163967</td>\n",
       "      <td>0.251262</td>\n",
       "      <td>time195-time204-cond1</td>\n",
       "    </tr>\n",
       "    <tr>\n",
       "      <th>1</th>\n",
       "      <td>0.767801</td>\n",
       "      <td>0.767801</td>\n",
       "      <td>0.129419</td>\n",
       "      <td>0.157256</td>\n",
       "      <td>time191-time201-cond1</td>\n",
       "    </tr>\n",
       "    <tr>\n",
       "      <th>2</th>\n",
       "      <td>0.747546</td>\n",
       "      <td>0.747546</td>\n",
       "      <td>0.102264</td>\n",
       "      <td>0.157979</td>\n",
       "      <td>time210-time197-cond1</td>\n",
       "    </tr>\n",
       "    <tr>\n",
       "      <th>3</th>\n",
       "      <td>0.806707</td>\n",
       "      <td>0.806707</td>\n",
       "      <td>0.124169</td>\n",
       "      <td>0.176623</td>\n",
       "      <td>time210-time201-cond1</td>\n",
       "    </tr>\n",
       "    <tr>\n",
       "      <th>4</th>\n",
       "      <td>0.790831</td>\n",
       "      <td>0.790831</td>\n",
       "      <td>0.130467</td>\n",
       "      <td>0.211696</td>\n",
       "      <td>time204-time195-cond1</td>\n",
       "    </tr>\n",
       "    <tr>\n",
       "      <th>5</th>\n",
       "      <td>0.686797</td>\n",
       "      <td>0.686797</td>\n",
       "      <td>0.135402</td>\n",
       "      <td>0.202031</td>\n",
       "      <td>time194-time210-cond1</td>\n",
       "    </tr>\n",
       "    <tr>\n",
       "      <th>6</th>\n",
       "      <td>0.727220</td>\n",
       "      <td>0.727220</td>\n",
       "      <td>0.078701</td>\n",
       "      <td>0.103854</td>\n",
       "      <td>time197-time210-cond1</td>\n",
       "    </tr>\n",
       "    <tr>\n",
       "      <th>7</th>\n",
       "      <td>0.736246</td>\n",
       "      <td>0.736246</td>\n",
       "      <td>0.081103</td>\n",
       "      <td>0.156581</td>\n",
       "      <td>time195-time197-cond1</td>\n",
       "    </tr>\n",
       "    <tr>\n",
       "      <th>8</th>\n",
       "      <td>0.808982</td>\n",
       "      <td>0.808982</td>\n",
       "      <td>0.120128</td>\n",
       "      <td>0.199052</td>\n",
       "      <td>time201-time210-cond1</td>\n",
       "    </tr>\n",
       "    <tr>\n",
       "      <th>9</th>\n",
       "      <td>0.710756</td>\n",
       "      <td>0.710756</td>\n",
       "      <td>0.069476</td>\n",
       "      <td>0.119855</td>\n",
       "      <td>time197-time195-cond1</td>\n",
       "    </tr>\n",
       "  </tbody>\n",
       "</table>\n",
       "</div>"
      ],
      "text/plain": [
       "   syntax_penn_tok2  syntax_penn_lem2  lexical_tok2  lexical_lem2  \\\n",
       "0          0.703404          0.703404      0.163967      0.251262   \n",
       "1          0.767801          0.767801      0.129419      0.157256   \n",
       "2          0.747546          0.747546      0.102264      0.157979   \n",
       "3          0.806707          0.806707      0.124169      0.176623   \n",
       "4          0.790831          0.790831      0.130467      0.211696   \n",
       "5          0.686797          0.686797      0.135402      0.202031   \n",
       "6          0.727220          0.727220      0.078701      0.103854   \n",
       "7          0.736246          0.736246      0.081103      0.156581   \n",
       "8          0.808982          0.808982      0.120128      0.199052   \n",
       "9          0.710756          0.710756      0.069476      0.119855   \n",
       "\n",
       "          condition_info  \n",
       "0  time195-time204-cond1  \n",
       "1  time191-time201-cond1  \n",
       "2  time210-time197-cond1  \n",
       "3  time210-time201-cond1  \n",
       "4  time204-time195-cond1  \n",
       "5  time194-time210-cond1  \n",
       "6  time197-time210-cond1  \n",
       "7  time195-time197-cond1  \n",
       "8  time201-time210-cond1  \n",
       "9  time197-time195-cond1  "
      ]
     },
     "execution_count": 64,
     "metadata": {},
     "output_type": "execute_result"
    }
   ],
   "source": [
    "convo_surrogate.head(10)"
   ]
  }
 ],
 "metadata": {
  "kernelspec": {
   "display_name": "Python 2",
   "language": "python",
   "name": "python2"
  },
  "language_info": {
   "codemirror_mode": {
    "name": "ipython",
    "version": 2
   },
   "file_extension": ".py",
   "mimetype": "text/x-python",
   "name": "python",
   "nbconvert_exporter": "python",
   "pygments_lexer": "ipython2",
   "version": "2.7.14"
  }
 },
 "nbformat": 4,
 "nbformat_minor": 2
}
