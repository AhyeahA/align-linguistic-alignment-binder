{
 "cells": [
  {
   "cell_type": "markdown",
   "metadata": {
    "deletable": true,
    "editable": true
   },
   "source": [
    "# To-do list"
   ]
  },
  {
   "cell_type": "markdown",
   "metadata": {
    "deletable": true,
    "editable": true
   },
   "source": [
    "**Things for Alex to do:**\n",
    "* [ ] Handling requirements (after getting them)\n",
    "* [ ] Dockerizing\n",
    "* [ ] Jupyter app-ifying\n",
    "* [ ] Getting Stanford tagger included automatically\n",
    "* [ ] Clean up markdown text (when final notebooks are ready)\n",
    "* [ ] See if I can implement w2v function (https://github.com/a-paxton/Gensim-LSI-Word-Similarities)\n",
    "* [ ] Convert functions into library\n",
    "* [ ] When run analysis, run syntax over token, lemma is weird"
   ]
  },
  {
   "cell_type": "markdown",
   "metadata": {
    "deletable": true,
    "editable": true
   },
   "source": [
    "**Things for Nick to do:**\n",
    "* [x] Implement surrogate to match by conversation order AND conversation type\n",
    "* [x] Make file names more intuitive\n",
    "* [ ] Identify condition/dyad/number flexibly (using regex) - SKIPPED\n",
    "* [x] Allow surrogate baseline to be created using a smaller subset (permutations) — 2-3x?\n",
    "* [**???**] Do pip freeze or conda list -e > req.txt\n",
    "* [**???**] Redo analysis with new baseline + consider doing sample-wise shuffled baseline - Have questions on how to proceed\n",
    "* [ ] Go over manuscript again with new baseline + review comments/edits\n",
    "* [ ] Need to create a simple other_filler_list as a text file that can be modified by a user and imported to be used here - make note that we only catch 2-letter fillers at this point with the regular expression default \n",
    "* [ ] Note that align_concatenated_dataframe.txt takes the place of forSemantic.txt. Make updates accordingly. \n",
    "* [ ] We could/should probably make `convobyconvo` an optional add-on from `turnbyturn`.\n",
    "* [ ] Consider other POS taggers: https://stackoverflow.com/questions/30821188/python-nltk-pos-tag-not-returning-the-correct-part-of-speech-tag"
   ]
  },
  {
   "cell_type": "markdown",
   "metadata": {
    "deletable": true,
    "editable": true
   },
   "source": [
    "***"
   ]
  },
  {
   "cell_type": "markdown",
   "metadata": {
    "deletable": true,
    "editable": true
   },
   "source": [
    "# ALIGN"
   ]
  },
  {
   "cell_type": "markdown",
   "metadata": {
    "deletable": true,
    "editable": true
   },
   "source": [
    "This notebook provides an introduction to **ALIGN**, a tool for quantifying multi-level linguistic similarity between speakers. "
   ]
  },
  {
   "cell_type": "markdown",
   "metadata": {
    "deletable": true,
    "editable": true
   },
   "source": [
    "***"
   ]
  },
  {
   "cell_type": "markdown",
   "metadata": {
    "deletable": true,
    "editable": true
   },
   "source": [
    "**Table of Contents**:"
   ]
  },
  {
   "cell_type": "markdown",
   "metadata": {
    "deletable": true,
    "editable": true
   },
   "source": [
    "* [Getting Started](#Getting-Started)\n",
    "    * [Prerequisites](#Prerequisites)\n",
    "    * [Preparing input data](#Preparing-input-data)\n",
    "    * [Filename conventions](#Filename-conventions)\n",
    "    * [User-specified parameters](#User-specified-parameters)\n",
    "    * [Main calls](#Main-calls)\n",
    "* [Setup](#Setup)\n",
    "    * [Import libraries](#Import-libraries)\n",
    "    * [User-specified settings](#User-specified-settings)\n",
    "* [Phase 1: Generate \"prepped\" transcripts](#Phase-1:-Generate-\"prepped\"-transcripts)\n",
    "    * [](#)\n",
    "* [Phase 2: Generate alignment scores](#Phase-2:-Generate-alignment-scores)"
   ]
  },
  {
   "cell_type": "markdown",
   "metadata": {
    "deletable": true,
    "editable": true
   },
   "source": [
    "***"
   ]
  },
  {
   "cell_type": "markdown",
   "metadata": {
    "deletable": true,
    "editable": true
   },
   "source": [
    "# Getting Started"
   ]
  },
  {
   "cell_type": "markdown",
   "metadata": {
    "deletable": true,
    "editable": true
   },
   "source": [
    "### Prerequisites"
   ]
  },
  {
   "cell_type": "markdown",
   "metadata": {
    "deletable": true,
    "editable": true
   },
   "source": [
    "* Jupyter Notebook with Python 2.7.1.3 kernel\n",
    "* Packages in `requirements.txt`\n",
    "\n",
    "*See notes in \"DISTRIBUTION ISSUES\" Notebook for suggestions on how to package effectively and accomodate Python 3 users*"
   ]
  },
  {
   "cell_type": "markdown",
   "metadata": {
    "deletable": true,
    "editable": true
   },
   "source": [
    "**To Nick**: Is the above reference still accurate? I don't see such a notebook now."
   ]
  },
  {
   "cell_type": "markdown",
   "metadata": {
    "deletable": true,
    "editable": true
   },
   "source": [
    "### Preparing input data"
   ]
  },
  {
   "cell_type": "markdown",
   "metadata": {
    "deletable": true,
    "editable": true
   },
   "source": [
    "* Each input text file needs to contain a single conversation organized in an `N x 2` matrix\n",
    "    * Text file must be tab-delimited.\n",
    "* Each row must correspond to a single conversational turn from a speaker.\n",
    "    * Rows must be temporally ordered based on their occurrence in the conversation.\n",
    "    * Rows must alternate between speakers.\n",
    "* Speaker identifier and content for each turn are divided across two columns.\n",
    "    * Column 1 must have the header `participant`.\n",
    "        * Each cell specifies the speaker.\n",
    "        * Each speaker must have a unique label (e.g., `P1` and `P2`, `0` and `1`).\n",
    "    * Column 2 must have the header `content`.\n",
    "        * Each cell corresponds to the transcribed utterance from the speaker.\n",
    "        * Each cell must end with a newline character: `\\n`\n",
    "* See folder `examples > toy_data-original` in Github repository for an example"
   ]
  },
  {
   "cell_type": "markdown",
   "metadata": {
    "deletable": true,
    "editable": true
   },
   "source": [
    "### Filename conventions"
   ]
  },
  {
   "cell_type": "markdown",
   "metadata": {
    "deletable": true,
    "editable": true
   },
   "source": [
    "* Each conversation text file needs to be named in the format: `A_B.txt`\n",
    "    * `A` corresponds to the dyad number for that conversation\n",
    "    * `B` corresponding to a condition code for that conversation "
   ]
  },
  {
   "cell_type": "markdown",
   "metadata": {
    "deletable": true,
    "editable": true
   },
   "source": [
    "### User-specified parameters"
   ]
  },
  {
   "cell_type": "markdown",
   "metadata": {
    "deletable": true,
    "editable": true
   },
   "source": [
    "* Define input path\n",
    "* Define input folder where original transcripts are located\n",
    "* Define folder to save prepped transcripts \n",
    "* Define folder to save surrogate transcripts \n",
    "* Decide maximum size for n-gram chunking\n",
    "    * Default: 3\n",
    "* Decide the minimum number of words for each turn\n",
    "    * Default: 3\n",
    "    * CRITICAL: The minimum number of words has to be at least as long as n-gram maximum size otherwise error will be generated\n",
    "* Decide on whether to run the Stanford tagger along with NLTK default tagger (slow) or NLTK tagger alone (fast)\n",
    "    * Default: 0 (NTLK tagger alone)\n",
    "    \n",
    "* remove_regex_fillers\n",
    "* remove_other_list\n",
    "    * need to combine the above into an either use regular expression or user-generated list\n",
    "    * now USE_FILLER_LIST\n",
    "    \n",
    "* Decide on max delay between partner's turns to generate alignment score \n",
    "    * Currently only option is for contiguous turns\n",
    "    * Will be updated in a future version"
   ]
  },
  {
   "cell_type": "markdown",
   "metadata": {
    "deletable": true,
    "editable": true
   },
   "source": [
    "### Main calls"
   ]
  },
  {
   "cell_type": "markdown",
   "metadata": {
    "deletable": true,
    "editable": true
   },
   "source": [
    "`PHASE1RUN`"
   ]
  },
  {
   "cell_type": "markdown",
   "metadata": {
    "deletable": true,
    "editable": true
   },
   "source": [
    "* Converts each conversation into standardized format.\n",
    "* Each utterance is tokenized and lemmatized and has POS tags added."
   ]
  },
  {
   "cell_type": "markdown",
   "metadata": {
    "deletable": true,
    "editable": true
   },
   "source": [
    "`PHASE2RUN_REAL`"
   ]
  },
  {
   "cell_type": "markdown",
   "metadata": {
    "deletable": true,
    "editable": true
   },
   "source": [
    "* Generates turn-level and conversation-level alignment scores (lexical, conceptual, and syntactic) across a range of n-gram sequences"
   ]
  },
  {
   "cell_type": "markdown",
   "metadata": {
    "deletable": true,
    "editable": true
   },
   "source": [
    "`PHASE2RUN_SURROGATE`"
   ]
  },
  {
   "cell_type": "markdown",
   "metadata": {
    "deletable": true,
    "editable": true
   },
   "source": [
    "* Generates a surrogate corpus.\n",
    "* Runs identical analysis as PHASE2RUN_REAL on the surrogate corpus."
   ]
  },
  {
   "cell_type": "markdown",
   "metadata": {
    "deletable": true,
    "editable": true
   },
   "source": [
    "### Checking latest version of Python and 3rd-party packages"
   ]
  },
  {
   "cell_type": "code",
   "execution_count": 80,
   "metadata": {
    "collapsed": false,
    "deletable": true,
    "editable": true
   },
   "outputs": [
    {
     "name": "stdout",
     "output_type": "stream",
     "text": [
      "Pandas Version Info:\n",
      "0.21.1\n",
      "Numpy Version Info:\n",
      "1.11.3\n",
      "Scipy Version Info:\n",
      "0.19.0\n",
      "NLTK Version Info:\n",
      "3.2.5\n",
      "Gensim Version Info:\n",
      "3.1.0\n",
      "Python and Conda Environment Info:\n",
      "2.7.13 |Anaconda 2.3.0 (x86_64)| (default, Dec 20 2016, 23:05:08) \n",
      "[GCC 4.2.1 Compatible Apple LLVM 6.0 (clang-600.0.57)]\n"
     ]
    }
   ],
   "source": [
    "import pandas\n",
    "import numpy\n",
    "import scipy\n",
    "import nltk\n",
    "import gensim \n",
    "\n",
    "print(\"Pandas Version Info:\\n{}\".format(pandas.__version__))\n",
    "print(\"Numpy Version Info:\\n{}\".format(numpy.__version__))\n",
    "print(\"Scipy Version Info:\\n{}\".format(scipy.__version__))\n",
    "print(\"NLTK Version Info:\\n{}\".format(nltk.__version__))\n",
    "print(\"Gensim Version Info:\\n{}\".format(gensim.__version__))\n",
    "\n",
    "import sys\n",
    "print(\"Python and Conda Environment Info:\\n{}\".format(sys.version))\n"
   ]
  },
  {
   "cell_type": "markdown",
   "metadata": {
    "deletable": true,
    "editable": true
   },
   "source": [
    "***"
   ]
  },
  {
   "cell_type": "markdown",
   "metadata": {
    "deletable": true,
    "editable": true
   },
   "source": [
    "# Setup"
   ]
  },
  {
   "cell_type": "markdown",
   "metadata": {
    "deletable": true,
    "editable": true
   },
   "source": [
    "Here, we'll get ready to run ALIGN over our target dataset."
   ]
  },
  {
   "cell_type": "markdown",
   "metadata": {
    "deletable": true,
    "editable": true
   },
   "source": [
    "[To top](#ALIGN)."
   ]
  },
  {
   "cell_type": "markdown",
   "metadata": {
    "deletable": true,
    "editable": true
   },
   "source": [
    "## Import libraries"
   ]
  },
  {
   "cell_type": "markdown",
   "metadata": {
    "deletable": true,
    "editable": true
   },
   "source": [
    "### Standard libraries"
   ]
  },
  {
   "cell_type": "code",
   "execution_count": 81,
   "metadata": {
    "collapsed": true,
    "deletable": true,
    "editable": true
   },
   "outputs": [],
   "source": [
    "import os,re,math,csv,string,random,logging,glob,itertools,operator\n",
    "from os import listdir \n",
    "from os.path import isfile, join \n",
    "from collections import Counter, defaultdict, OrderedDict\n",
    "from itertools import chain, combinations"
   ]
  },
  {
   "cell_type": "markdown",
   "metadata": {
    "deletable": true,
    "editable": true
   },
   "source": [
    "### Third-party libraries"
   ]
  },
  {
   "cell_type": "markdown",
   "metadata": {
    "deletable": true,
    "editable": true
   },
   "source": [
    "For data analysis and data handling:"
   ]
  },
  {
   "cell_type": "code",
   "execution_count": 82,
   "metadata": {
    "collapsed": true,
    "deletable": true,
    "editable": true
   },
   "outputs": [],
   "source": [
    "import pandas as pd\n",
    "import numpy as np\n",
    "from scipy import spatial "
   ]
  },
  {
   "cell_type": "markdown",
   "metadata": {
    "deletable": true,
    "editable": true
   },
   "source": [
    "For natural language processing:"
   ]
  },
  {
   "cell_type": "code",
   "execution_count": 83,
   "metadata": {
    "collapsed": true,
    "deletable": true,
    "editable": true
   },
   "outputs": [],
   "source": [
    "import nltk\n",
    "from nltk.tokenize import word_tokenize \n",
    "from nltk.stem import WordNetLemmatizer \n",
    "from nltk.corpus import wordnet as wn \n",
    "from nltk.tag.stanford import StanfordPOSTagger\n",
    "from nltk.util import ngrams"
   ]
  },
  {
   "cell_type": "markdown",
   "metadata": {
    "deletable": true,
    "editable": true
   },
   "source": [
    "Download the NLTK default POS tagger:"
   ]
  },
  {
   "cell_type": "code",
   "execution_count": 84,
   "metadata": {
    "collapsed": false,
    "deletable": true,
    "editable": true
   },
   "outputs": [
    {
     "name": "stdout",
     "output_type": "stream",
     "text": [
      "[nltk_data] Downloading package averaged_perceptron_tagger to\n",
      "[nltk_data]     /Users/nduran/nltk_data...\n",
      "[nltk_data]   Package averaged_perceptron_tagger is already up-to-\n",
      "[nltk_data]       date!\n"
     ]
    },
    {
     "data": {
      "text/plain": [
       "True"
      ]
     },
     "execution_count": 84,
     "metadata": {},
     "output_type": "execute_result"
    }
   ],
   "source": [
    "nltk.download('averaged_perceptron_tagger')"
   ]
  },
  {
   "cell_type": "markdown",
   "metadata": {
    "deletable": true,
    "editable": true
   },
   "source": [
    "**Note:** With older version of NLTK (pre 3.1), the `maxent_treebank_pos_tagger` is also available. If desired, uncomment and run the following:"
   ]
  },
  {
   "cell_type": "code",
   "execution_count": 85,
   "metadata": {
    "collapsed": true,
    "deletable": true,
    "editable": true
   },
   "outputs": [],
   "source": [
    "# nltk.download('maxent_treebank_pos_tagger')"
   ]
  },
  {
   "cell_type": "markdown",
   "metadata": {
    "deletable": true,
    "editable": true
   },
   "source": [
    "**To Alex** Looks like there was an update to the Stanford POS tagger from `stanford-postagger-2015-04-20` to `stanford-postagger-2017-06-09/`. I've since updated the code and folder to reflect this change. It doesn't change anything for analysis. The package update just adds training models based on non-English languages. It shouldn't affect us. See release history: https://nlp.stanford.edu/software/tagger.html#History"
   ]
  },
  {
   "cell_type": "markdown",
   "metadata": {
    "deletable": true,
    "editable": true
   },
   "source": [
    "**Note**: The `StanfordPOSTagger` will be\n",
    "used in conjunction with local folder `stanford-postagger-2017-06-09/` and `.jar` file. The `StanfordPOSTagger` also uses the trained model: `english-left3words-distsim.tagger`. These files will be called below if analysis is being run with the Stanford tagger."
   ]
  },
  {
   "cell_type": "markdown",
   "metadata": {
    "deletable": true,
    "editable": true
   },
   "source": [
    "**To Alex** There are a couple of issues with the `StanfordPOSTagger` that are driving me nuts. \n",
    "\n",
    "* With the new version of NLTK (3.2), every time I run the Stanford tagger, I get the below DeprecationWarning for each file processed. So it shows up a lot!  \n",
    "`/Users/nduran/anaconda/lib/python2.7/site-packages/nltk/tag/stanford.py:149: DeprecationWarning: \n",
    "The StanfordTokenizer will be deprecated in version 3.2.5.\n",
    "Please use nltk.tag.corenlp.CoreNLPPOSTagger or nltk.tag.corenlp.CoreNLPNERTagger instead.\n",
    "  super(StanfordPOSTagger, self).__init__(*args, **kwargs)`\n",
    "* I have spent a good amount of time trying to figure out what this nltk.tag.corenlp.CoreNLPPOSTagger is and how to use it, but I've gotten nowhere. The best resources I can find are below, but it does not seem to readily work with NLTK, or to work, does something weird with connecting to an external server. It also seems to be using essentially the same tagger and doing the same thing as the `StanfordPOSTagger`\n",
    "    * https://stanfordnlp.github.io/CoreNLP/\n",
    "    * https://stanfordnlp.github.io/CoreNLP/other-languages.html\n",
    "    * http://www.nltk.org/api/nltk.tag.html#nltk.tag.stanford.CoreNLPTagger\n",
    "    * https://nlp.stanford.edu/software/tagger.html#Download\n",
    "* Given the above, I'm going to proceed as we have. But, I would like to get rid of the DeprecationWarning from showing up as it's extremely annoying and redundant. However, I can't get it to go away. I have tried multiple variations without luck. Any chance you have any ideas?\n",
    "    * https://stackoverflow.com/questions/9031783/hide-all-warnings-in-ipython"
   ]
  },
  {
   "cell_type": "markdown",
   "metadata": {
    "deletable": true,
    "editable": true
   },
   "source": [
    "**To Alex** To quickly run `StanfordPOSTagger` to trigger the error, see following code block: "
   ]
  },
  {
   "cell_type": "code",
   "execution_count": 86,
   "metadata": {
    "collapsed": false,
    "deletable": true,
    "editable": true
   },
   "outputs": [
    {
     "name": "stderr",
     "output_type": "stream",
     "text": [
      "/Users/nduran/anaconda/lib/python2.7/site-packages/nltk/tag/stanford.py:149: DeprecationWarning: \n",
      "The StanfordTokenizer will be deprecated in version 3.2.5.\n",
      "Please use \u001b[91mnltk.tag.corenlp.CoreNLPPOSTagger\u001b[0m or \u001b[91mnltk.tag.corenlp.CoreNLPNERTagger\u001b[0m instead.\n",
      "  super(StanfordPOSTagger, self).__init__(*args, **kwargs)\n"
     ]
    },
    {
     "data": {
      "text/plain": [
       "[(u'What', u'WP'),\n",
       " (u'is', u'VBZ'),\n",
       " (u'the', u'DT'),\n",
       " (u'airspeed', u'NN'),\n",
       " (u'of', u'IN'),\n",
       " (u'an', u'DT'),\n",
       " (u'unladen', u'JJ'),\n",
       " (u'swallow', u'VB'),\n",
       " (u'?', u'.')]"
      ]
     },
     "execution_count": 86,
     "metadata": {},
     "output_type": "execute_result"
    }
   ],
   "source": [
    "INPUT_PATH=os.getcwd()+'/'\n",
    "from nltk.tag.stanford import StanfordPOSTagger\n",
    "STANFORD_POS_PATH = INPUT_PATH + 'stanford-postagger-2017-06-09/'\n",
    "st = StanfordPOSTagger(STANFORD_POS_PATH + 'models/english-left3words-distsim.tagger',\n",
    "                                                STANFORD_POS_PATH + 'stanford-postagger.jar')\n",
    "st.tag('What is the airspeed of an unladen swallow ?'.split())"
   ]
  },
  {
   "cell_type": "markdown",
   "metadata": {
    "deletable": true,
    "editable": true
   },
   "source": [
    "For building semantic space:"
   ]
  },
  {
   "cell_type": "code",
   "execution_count": 87,
   "metadata": {
    "collapsed": true,
    "deletable": true,
    "editable": true
   },
   "outputs": [],
   "source": [
    "from gensim.models import word2vec"
   ]
  },
  {
   "cell_type": "markdown",
   "metadata": {
    "deletable": true,
    "editable": true
   },
   "source": [
    "## User-specified settings"
   ]
  },
  {
   "cell_type": "markdown",
   "metadata": {
    "deletable": true,
    "editable": true
   },
   "source": [
    "### Directories and folders"
   ]
  },
  {
   "cell_type": "markdown",
   "metadata": {
    "deletable": true,
    "editable": true
   },
   "source": [
    "`INPUT_PATH`: Set working directory, in which all notebook and supporting files are located."
   ]
  },
  {
   "cell_type": "markdown",
   "metadata": {
    "deletable": true,
    "editable": true
   },
   "source": [
    "Or \"Pathname for the unzipped project folder\" if going with `anaconda-project.yml` configuration file"
   ]
  },
  {
   "cell_type": "code",
   "execution_count": 88,
   "metadata": {
    "collapsed": true,
    "deletable": true,
    "editable": true
   },
   "outputs": [],
   "source": [
    "INPUT_PATH=os.getcwd()+'/'"
   ]
  },
  {
   "cell_type": "markdown",
   "metadata": {
    "deletable": true,
    "editable": true
   },
   "source": [
    "`TRANSCRIPTS`: Set variable for folder name (as string) for relative location of folder containing the original transcript files."
   ]
  },
  {
   "cell_type": "code",
   "execution_count": 89,
   "metadata": {
    "collapsed": true,
    "deletable": true,
    "editable": true
   },
   "outputs": [],
   "source": [
    "# TRANSCRIPTS = 'toy_data-original/'\n",
    "TRANSCRIPTS = 'TRANSCRIPTS/'"
   ]
  },
  {
   "cell_type": "markdown",
   "metadata": {
    "deletable": true,
    "editable": true
   },
   "source": [
    "`STANFORD_PATH`: Path to Stanford POS tagger files."
   ]
  },
  {
   "cell_type": "code",
   "execution_count": 90,
   "metadata": {
    "collapsed": true,
    "deletable": true,
    "editable": true
   },
   "outputs": [],
   "source": [
    "STANFORD_POS_PATH = INPUT_PATH + 'stanford-postagger-2017-06-09/'"
   ]
  },
  {
   "cell_type": "markdown",
   "metadata": {
    "deletable": true,
    "editable": true
   },
   "source": [
    "`PREPPED_TRANSCRIPTS`: Set variable for folder name (as string) for relative location of folder into which prepared transcript files will be saved."
   ]
  },
  {
   "cell_type": "code",
   "execution_count": 91,
   "metadata": {
    "collapsed": true,
    "deletable": true,
    "editable": true
   },
   "outputs": [],
   "source": [
    "# PREPPED_TRANSCRIPTS = 'toy_data-prepped/'\n",
    "PREPPED_TRANSCRIPTS = 'PREPPED_TRANSCRIPTS/'"
   ]
  },
  {
   "cell_type": "markdown",
   "metadata": {
    "deletable": true,
    "editable": true
   },
   "source": [
    "`ANALYSIS_READY`: Set variable for folder name (as string) for relative location of folder into which analysis-ready dataframe files will be saved."
   ]
  },
  {
   "cell_type": "code",
   "execution_count": 92,
   "metadata": {
    "collapsed": true,
    "deletable": true,
    "editable": true
   },
   "outputs": [],
   "source": [
    "# ANALYSIS_READY = 'toy_data-analysis/'\n",
    "ANALYSIS_READY = 'ANALYSIS_READY/'"
   ]
  },
  {
   "cell_type": "markdown",
   "metadata": {
    "deletable": true,
    "editable": true
   },
   "source": [
    "`SURROGATE_TRANSCRIPTS`: Set variable for folder name (as string) for relative location of folder into which all prepared surrogate transcript files will be saved."
   ]
  },
  {
   "cell_type": "code",
   "execution_count": 93,
   "metadata": {
    "collapsed": true,
    "deletable": true,
    "editable": true
   },
   "outputs": [],
   "source": [
    "# SURROGATE_TRANSCRIPTS = 'toy_data-surrogate/'\n",
    "SURROGATE_TRANSCRIPTS = 'SURROGATE_TRANSCRIPTS/'"
   ]
  },
  {
   "cell_type": "markdown",
   "metadata": {
    "deletable": true,
    "editable": true
   },
   "source": [
    "### Analysis settings"
   ]
  },
  {
   "cell_type": "markdown",
   "metadata": {
    "deletable": true,
    "editable": true
   },
   "source": [
    "`MAXNGRAM`: Set maximum size for n-gram chunking.\n",
    "\n",
    "* Default: 2"
   ]
  },
  {
   "cell_type": "code",
   "execution_count": 94,
   "metadata": {
    "collapsed": true,
    "deletable": true,
    "editable": true
   },
   "outputs": [],
   "source": [
    "MAXNGRAM = 2"
   ]
  },
  {
   "cell_type": "markdown",
   "metadata": {
    "deletable": true,
    "editable": true
   },
   "source": [
    "`MINWORDS`: Set minimum number of words for each turn.\n",
    "\n",
    "* Default: 2\n",
    "\n",
    "**Note**: The minimum number of words must be at least as long as maximum *n*-gram size (`MAXNGRAM` above)."
   ]
  },
  {
   "cell_type": "code",
   "execution_count": 95,
   "metadata": {
    "collapsed": true,
    "deletable": true,
    "editable": true
   },
   "outputs": [],
   "source": [
    "MINWORDS = 2"
   ]
  },
  {
   "cell_type": "markdown",
   "metadata": {
    "deletable": true,
    "editable": true
   },
   "source": [
    "`ADD_STANFORD_TAGS`: Choose POS tagger. \n",
    "\n",
    "* Default: `0`\n",
    "    * Run NLTK default POS tagger (NLTK 3.1+): `averaged_perceptron_tagger`\n",
    "* Option: `1`\n",
    "    * Run both NLTK default POS tagger and Stanford POS tagger. Note: Adding the Stanford POS tagger will lead to an increase in processing time. "
   ]
  },
  {
   "cell_type": "code",
   "execution_count": 96,
   "metadata": {
    "collapsed": true,
    "deletable": true,
    "editable": true
   },
   "outputs": [],
   "source": [
    "ADD_STANFORD_TAGS = False"
   ]
  },
  {
   "cell_type": "markdown",
   "metadata": {
    "deletable": true,
    "editable": true
   },
   "source": [
    "`DELAY`: Set max delay between partner's turns when generating alignment score.\n",
    "\n",
    "* Currently, the only acceptable value is 1 (i.e., contiguous turns)."
   ]
  },
  {
   "cell_type": "code",
   "execution_count": 97,
   "metadata": {
    "collapsed": true,
    "deletable": true,
    "editable": true
   },
   "outputs": [],
   "source": [
    "DELAY = 1"
   ]
  },
  {
   "cell_type": "markdown",
   "metadata": {
    "deletable": true,
    "editable": true
   },
   "source": [
    "`USE_FILLER_LIST`: Choose method for removing speech fillers. \n",
    "\n",
    "* Default: `None`\n",
    "    * Does not provide additional speech fillers to be removed.\n",
    "* Option: list of strings\n",
    "    * Provide a list of literal strings to be removed from the transcripts."
   ]
  },
  {
   "cell_type": "code",
   "execution_count": 98,
   "metadata": {
    "collapsed": true,
    "deletable": true,
    "editable": true
   },
   "outputs": [],
   "source": [
    "USE_FILLER_LIST = 0"
   ]
  },
  {
   "cell_type": "code",
   "execution_count": 99,
   "metadata": {
    "collapsed": true,
    "deletable": true,
    "editable": true
   },
   "outputs": [],
   "source": [
    "# ignore_duplicates"
   ]
  },
  {
   "cell_type": "code",
   "execution_count": 100,
   "metadata": {
    "collapsed": true,
    "deletable": true,
    "editable": true
   },
   "outputs": [],
   "source": [
    "# high_sd_cutoff"
   ]
  },
  {
   "cell_type": "code",
   "execution_count": 101,
   "metadata": {
    "collapsed": true,
    "deletable": true,
    "editable": true
   },
   "outputs": [],
   "source": [
    "# low_n_cutoff"
   ]
  },
  {
   "cell_type": "markdown",
   "metadata": {
    "deletable": true,
    "editable": true
   },
   "source": [
    "***"
   ]
  },
  {
   "cell_type": "markdown",
   "metadata": {
    "deletable": true,
    "editable": true
   },
   "source": [
    "# Phase 1: Generate \"prepped\" transcripts"
   ]
  },
  {
   "cell_type": "markdown",
   "metadata": {
    "deletable": true,
    "editable": true
   },
   "source": [
    "## Initial clean-up"
   ]
  },
  {
   "cell_type": "markdown",
   "metadata": {
    "deletable": true,
    "editable": true
   },
   "source": [
    "* **[Clean up text](#Clean-up-text)** by removing:\n",
    "    * numbers, punctuation, and other non-ASCII alphabet characters\n",
    "    * common speech fillers (e.g., \"um\", \"huh\") and their derivations\n",
    "    * empty turns that may have inadvertently been included\n",
    "    * user-specified short turns\n",
    "        * removes short turns that are at least as long as maximum n-gram\n",
    "* **[Merge adjacent turns by the same participant](#Merge-adjacent-turns-by-the-same-participant)** into a single utterance row."
   ]
  },
  {
   "cell_type": "markdown",
   "metadata": {
    "deletable": true,
    "editable": true
   },
   "source": [
    "[To top](#ALIGN)."
   ]
  },
  {
   "cell_type": "markdown",
   "metadata": {
    "deletable": true,
    "editable": true
   },
   "source": [
    "### Clean up text"
   ]
  },
  {
   "cell_type": "markdown",
   "metadata": {
    "deletable": true,
    "editable": true
   },
   "source": [
    "**To Nick**: The list of filler words would be passed to the function when it's called, not during the function specification. Essentially, this would look like the following example code cell:"
   ]
  },
  {
   "cell_type": "markdown",
   "metadata": {
    "deletable": true,
    "editable": true
   },
   "source": [
    "```\n",
    "# from specified list\n",
    "specified_filler_list = ['ignore','these','words']\n",
    "InitialCleanup(raw_dataframe, minwords=2, use_filler_list = specified_filler_list)\n",
    "\n",
    "# from file containing list\n",
    "loaded_filler_list = list(pd.read_csv('filler_list_file.txt',squeeze=True))\n",
    "InitialCleanup(raw_dataframe, minwords=2, use_filler_list = loaded_filler_list)\n",
    "```"
   ]
  },
  {
   "cell_type": "markdown",
   "metadata": {
    "deletable": true,
    "editable": true
   },
   "source": [
    "**To Alex** Sounds good. I made the changes to the code. "
   ]
  },
  {
   "cell_type": "code",
   "execution_count": 306,
   "metadata": {
    "collapsed": false,
    "deletable": true,
    "editable": true
   },
   "outputs": [],
   "source": [
    "def InitialCleanup(dataframe,\n",
    "                   minwords=2,\n",
    "                   use_filler_list=None):\n",
    "    \n",
    "    \"\"\"\n",
    "    Perform basic text cleaning to prepare dataframe\n",
    "    for analysis. Remove non-letter/-space characters,\n",
    "    empty turns, turns below a minimum length, and \n",
    "    fillers.\n",
    "    \n",
    "    By default, remove turns shorter than 3 words long.\n",
    "    If desired, this may be changed by updating the\n",
    "    `minwords` argument.\n",
    "    \n",
    "    By default, remove 2-letter fillers through regex.\n",
    "    If desired, remove other words by passing a list\n",
    "    of literal strings to `use_filler_list` argument.\n",
    "    \"\"\"\n",
    "    \n",
    "    # only allow strings, spaces, and newlines to pass\n",
    "    WHITELIST = string.letters + '\\'' + ' '\n",
    "    clean = []\n",
    "    utteranceLen = []\n",
    "     \n",
    "    # remove inadvertent empty turns \n",
    "    dataframe = dataframe[pd.notnull(dataframe['content'])]\n",
    "    \n",
    "    for value in dataframe['content'].values:            \n",
    "        cleantext = ''.join(c for c in value if c in WHITELIST).lower() \n",
    "        \n",
    "        # DEFAULT: remove typical speech fillers examples: \"um, mm, oh, hm, uh, ha\")\n",
    "        if use_filler_list == None:                                \n",
    "            cleantext = re.sub('^(?!mom|am|ham)[u*|h*|m*|o*|a*]+[m*|h*|u*|a*]+\\s', ' ', cleantext) # at the start of a string\n",
    "            cleantext = re.sub('\\s(?!mom|am|ham)[u*|h*|m*|o*|a*]+[m*|h*|u*|a*]+\\s', ' ', cleantext) # within a string \n",
    "            cleantext = re.sub('\\s(?!mom|am|ham)[u*|h*|m*|o*|a*]+[m*|h*|u*|a*]$', ' ', cleantext) # end of a string \n",
    "        # OPTIONAL: remove speech fillers or other words specified by user in a list\n",
    "        if use_filler_list != None:\n",
    "            cleantext = [word for word in cleantext.split(\" \") if word not in use_filler_list]\n",
    "            cleantext = \" \".join(cleantext)\n",
    "                \n",
    "        # append cleaned lines\n",
    "        clean.append(cleantext)        \n",
    "                \n",
    "    # drop the old \"content\" column and add the clean \"content\" column\n",
    "    dataframe = dataframe.iloc[:, [0,1]]\n",
    "    dataframe['content'] = clean\n",
    "        \n",
    "    # remove rows that are now blank or do not meet `minwords` requirement, then drop length column    \n",
    "    dataframe['utteranceLen'] = dataframe['content'].apply(lambda x: word_tokenize(x)).str.len()\n",
    "    dataframe = dataframe.drop(dataframe[dataframe.utteranceLen < int(minwords)].index)\n",
    "    dataframe = dataframe.iloc[:, [0,1]]\n",
    "        \n",
    "    # return the cleaned dataframe    \n",
    "    return dataframe"
   ]
  },
  {
   "cell_type": "code",
   "execution_count": 308,
   "metadata": {
    "collapsed": false
   },
   "outputs": [
    {
     "name": "stdout",
     "output_type": "stream",
     "text": [
      "Processing: /Users/nduran/Desktop/GitProjects/align-linguistic-alignment/TRANSCRIPTS/41_1-1-3.txt\n",
      "Processing: /Users/nduran/Desktop/GitProjects/align-linguistic-alignment/TRANSCRIPTS/16_2-1-2.txt\n",
      "Processing: /Users/nduran/Desktop/GitProjects/align-linguistic-alignment/TRANSCRIPTS/9_1-0-3.txt\n",
      "Processing: /Users/nduran/Desktop/GitProjects/align-linguistic-alignment/TRANSCRIPTS/23_2-1-3.txt\n",
      "Processing: /Users/nduran/Desktop/GitProjects/align-linguistic-alignment/TRANSCRIPTS/5_2-0-2.txt\n",
      "Processing: /Users/nduran/Desktop/GitProjects/align-linguistic-alignment/TRANSCRIPTS/17_2-0-2.txt\n",
      "Processing: /Users/nduran/Desktop/GitProjects/align-linguistic-alignment/TRANSCRIPTS/40_1-0-3.txt\n",
      "Processing: /Users/nduran/Desktop/GitProjects/align-linguistic-alignment/TRANSCRIPTS/8_1-1-3.txt\n",
      "Processing: /Users/nduran/Desktop/GitProjects/align-linguistic-alignment/TRANSCRIPTS/4_2-1-3.txt\n",
      "Processing: /Users/nduran/Desktop/GitProjects/align-linguistic-alignment/TRANSCRIPTS/36_1-1-2.txt\n",
      "Processing: /Users/nduran/Desktop/GitProjects/align-linguistic-alignment/TRANSCRIPTS/3_2-0-2.txt\n",
      "Processing: /Users/nduran/Desktop/GitProjects/align-linguistic-alignment/TRANSCRIPTS/31_1-0-2.txt\n",
      "Processing: /Users/nduran/Desktop/GitProjects/align-linguistic-alignment/TRANSCRIPTS/25_2-1-3.txt\n",
      "Processing: /Users/nduran/Desktop/GitProjects/align-linguistic-alignment/TRANSCRIPTS/25_1-0-3.txt\n",
      "Processing: /Users/nduran/Desktop/GitProjects/align-linguistic-alignment/TRANSCRIPTS/29_2-0-3.txt\n",
      "Processing: /Users/nduran/Desktop/GitProjects/align-linguistic-alignment/TRANSCRIPTS/24_2-0-2.txt\n",
      "Processing: /Users/nduran/Desktop/GitProjects/align-linguistic-alignment/TRANSCRIPTS/28_2-1-2.txt\n",
      "Processing: /Users/nduran/Desktop/GitProjects/align-linguistic-alignment/TRANSCRIPTS/2_2-1-2.txt\n",
      "Processing: /Users/nduran/Desktop/GitProjects/align-linguistic-alignment/TRANSCRIPTS/11_1-1-3.txt\n",
      "Processing: /Users/nduran/Desktop/GitProjects/align-linguistic-alignment/TRANSCRIPTS/30_2-0-2.txt\n",
      "Processing: /Users/nduran/Desktop/GitProjects/align-linguistic-alignment/TRANSCRIPTS/30_1-1-3.txt\n",
      "Processing: /Users/nduran/Desktop/GitProjects/align-linguistic-alignment/TRANSCRIPTS/24_1-1-3.txt\n",
      "Processing: /Users/nduran/Desktop/GitProjects/align-linguistic-alignment/TRANSCRIPTS/36_1-0-3.txt\n",
      "Processing: /Users/nduran/Desktop/GitProjects/align-linguistic-alignment/TRANSCRIPTS/40_1-1-2.txt\n",
      "Processing: /Users/nduran/Desktop/GitProjects/align-linguistic-alignment/TRANSCRIPTS/8_1-0-2.txt\n",
      "Processing: /Users/nduran/Desktop/GitProjects/align-linguistic-alignment/TRANSCRIPTS/4_2-0-2.txt\n",
      "Processing: /Users/nduran/Desktop/GitProjects/align-linguistic-alignment/TRANSCRIPTS/5_2-1-3.txt\n",
      "Processing: /Users/nduran/Desktop/GitProjects/align-linguistic-alignment/TRANSCRIPTS/41_1-0-2.txt\n",
      "Processing: /Users/nduran/Desktop/GitProjects/align-linguistic-alignment/TRANSCRIPTS/37_1-1-2.txt\n",
      "Processing: /Users/nduran/Desktop/GitProjects/align-linguistic-alignment/TRANSCRIPTS/16_2-0-3.txt\n",
      "Processing: /Users/nduran/Desktop/GitProjects/align-linguistic-alignment/TRANSCRIPTS/23_2-0-2.txt\n",
      "Processing: /Users/nduran/Desktop/GitProjects/align-linguistic-alignment/TRANSCRIPTS/9_1-1-2.txt\n",
      "Processing: /Users/nduran/Desktop/GitProjects/align-linguistic-alignment/TRANSCRIPTS/30_1-0-2.txt\n",
      "Processing: /Users/nduran/Desktop/GitProjects/align-linguistic-alignment/TRANSCRIPTS/24_1-0-2.txt\n",
      "Processing: /Users/nduran/Desktop/GitProjects/align-linguistic-alignment/TRANSCRIPTS/24_2-1-3.txt\n",
      "Processing: /Users/nduran/Desktop/GitProjects/align-linguistic-alignment/TRANSCRIPTS/2_2-0-3.txt\n",
      "Processing: /Users/nduran/Desktop/GitProjects/align-linguistic-alignment/TRANSCRIPTS/28_2-0-3.txt\n",
      "Processing: /Users/nduran/Desktop/GitProjects/align-linguistic-alignment/TRANSCRIPTS/11_1-0-2.txt\n",
      "Processing: /Users/nduran/Desktop/GitProjects/align-linguistic-alignment/TRANSCRIPTS/30_2-1-3.txt\n",
      "Processing: /Users/nduran/Desktop/GitProjects/align-linguistic-alignment/TRANSCRIPTS/25_1-1-2.txt\n",
      "Processing: /Users/nduran/Desktop/GitProjects/align-linguistic-alignment/TRANSCRIPTS/25_2-0-2.txt\n",
      "Processing: /Users/nduran/Desktop/GitProjects/align-linguistic-alignment/TRANSCRIPTS/29_2-1-2.txt\n",
      "Processing: /Users/nduran/Desktop/GitProjects/align-linguistic-alignment/TRANSCRIPTS/3_2-1-3.txt\n",
      "Processing: /Users/nduran/Desktop/GitProjects/align-linguistic-alignment/TRANSCRIPTS/31_1-1-3.txt\n",
      "Processing: /Users/nduran/Desktop/GitProjects/align-linguistic-alignment/TRANSCRIPTS/21_2-1-2.txt\n",
      "Processing: /Users/nduran/Desktop/GitProjects/align-linguistic-alignment/TRANSCRIPTS/35_1-0-2.txt\n",
      "Processing: /Users/nduran/Desktop/GitProjects/align-linguistic-alignment/TRANSCRIPTS/18_1-1-2.txt\n",
      "Processing: /Users/nduran/Desktop/GitProjects/align-linguistic-alignment/TRANSCRIPTS/14_2-1-2.txt\n",
      "Processing: /Users/nduran/Desktop/GitProjects/align-linguistic-alignment/TRANSCRIPTS/7_1-1-3.txt\n",
      "Processing: /Users/nduran/Desktop/GitProjects/align-linguistic-alignment/TRANSCRIPTS/21_1-0-3.txt\n",
      "Processing: /Users/nduran/Desktop/GitProjects/align-linguistic-alignment/TRANSCRIPTS/34_1-1-2.txt\n",
      "Processing: /Users/nduran/Desktop/GitProjects/align-linguistic-alignment/TRANSCRIPTS/34_2-0-2.txt\n",
      "Processing: /Users/nduran/Desktop/GitProjects/align-linguistic-alignment/TRANSCRIPTS/38_1-0-2.txt\n",
      "Processing: /Users/nduran/Desktop/GitProjects/align-linguistic-alignment/TRANSCRIPTS/15_1-1-3.txt\n",
      "Processing: /Users/nduran/Desktop/GitProjects/align-linguistic-alignment/TRANSCRIPTS/15_2-0-2.txt\n",
      "Processing: /Users/nduran/Desktop/GitProjects/align-linguistic-alignment/TRANSCRIPTS/19_2-1-2.txt\n",
      "Processing: /Users/nduran/Desktop/GitProjects/align-linguistic-alignment/TRANSCRIPTS/19_1-0-2.txt\n",
      "Processing: /Users/nduran/Desktop/GitProjects/align-linguistic-alignment/TRANSCRIPTS/20_2-0-3.txt\n",
      "Processing: /Users/nduran/Desktop/GitProjects/align-linguistic-alignment/TRANSCRIPTS/12_1-0-2.txt\n",
      "Processing: /Users/nduran/Desktop/GitProjects/align-linguistic-alignment/TRANSCRIPTS/12_2-1-2.txt\n",
      "Processing: /Users/nduran/Desktop/GitProjects/align-linguistic-alignment/TRANSCRIPTS/33_1-0-3.txt\n",
      "Processing: /Users/nduran/Desktop/GitProjects/align-linguistic-alignment/TRANSCRIPTS/27_1-0-3.txt\n",
      "Processing: /Users/nduran/Desktop/GitProjects/align-linguistic-alignment/TRANSCRIPTS/1_2-0-2.txt\n",
      "Processing: /Users/nduran/Desktop/GitProjects/align-linguistic-alignment/TRANSCRIPTS/33_2-1-2.txt\n",
      "Processing: /Users/nduran/Desktop/GitProjects/align-linguistic-alignment/TRANSCRIPTS/32_2-0-3.txt\n",
      "Processing: /Users/nduran/Desktop/GitProjects/align-linguistic-alignment/TRANSCRIPTS/13_2-0-2.txt\n",
      "Processing: /Users/nduran/Desktop/GitProjects/align-linguistic-alignment/TRANSCRIPTS/26_2-0-3.txt\n",
      "Processing: /Users/nduran/Desktop/GitProjects/align-linguistic-alignment/TRANSCRIPTS/26_1-1-2.txt\n",
      "Processing: /Users/nduran/Desktop/GitProjects/align-linguistic-alignment/TRANSCRIPTS/13_1-1-3.txt\n",
      "Processing: /Users/nduran/Desktop/GitProjects/align-linguistic-alignment/TRANSCRIPTS/15_2-1-3.txt\n",
      "Processing: /Users/nduran/Desktop/GitProjects/align-linguistic-alignment/TRANSCRIPTS/19_1-1-3.txt\n",
      "Processing: /Users/nduran/Desktop/GitProjects/align-linguistic-alignment/TRANSCRIPTS/19_2-0-3.txt\n",
      "Processing: /Users/nduran/Desktop/GitProjects/align-linguistic-alignment/TRANSCRIPTS/20_2-1-2.txt\n",
      "Processing: /Users/nduran/Desktop/GitProjects/align-linguistic-alignment/TRANSCRIPTS/34_2-1-3.txt\n",
      "Processing: /Users/nduran/Desktop/GitProjects/align-linguistic-alignment/TRANSCRIPTS/34_1-0-3.txt\n",
      "Processing: /Users/nduran/Desktop/GitProjects/align-linguistic-alignment/TRANSCRIPTS/15_1-0-2.txt\n",
      "Processing: /Users/nduran/Desktop/GitProjects/align-linguistic-alignment/TRANSCRIPTS/38_1-1-3.txt\n",
      "Processing: /Users/nduran/Desktop/GitProjects/align-linguistic-alignment/TRANSCRIPTS/18_1-0-3.txt\n",
      "Processing: /Users/nduran/Desktop/GitProjects/align-linguistic-alignment/TRANSCRIPTS/14_2-0-3.txt\n",
      "Processing: /Users/nduran/Desktop/GitProjects/align-linguistic-alignment/TRANSCRIPTS/7_1-0-2.txt\n",
      "Processing: /Users/nduran/Desktop/GitProjects/align-linguistic-alignment/TRANSCRIPTS/21_1-1-2.txt\n",
      "Processing: /Users/nduran/Desktop/GitProjects/align-linguistic-alignment/TRANSCRIPTS/21_2-0-3.txt\n",
      "Processing: /Users/nduran/Desktop/GitProjects/align-linguistic-alignment/TRANSCRIPTS/35_1-1-3.txt\n",
      "Processing: /Users/nduran/Desktop/GitProjects/align-linguistic-alignment/TRANSCRIPTS/26_1-0-3.txt\n",
      "Processing: /Users/nduran/Desktop/GitProjects/align-linguistic-alignment/TRANSCRIPTS/13_1-0-2.txt\n",
      "Processing: /Users/nduran/Desktop/GitProjects/align-linguistic-alignment/TRANSCRIPTS/32_2-1-2.txt\n",
      "Processing: /Users/nduran/Desktop/GitProjects/align-linguistic-alignment/TRANSCRIPTS/13_2-1-3.txt\n",
      "Processing: /Users/nduran/Desktop/GitProjects/align-linguistic-alignment/TRANSCRIPTS/26_2-1-2.txt\n",
      "Processing: /Users/nduran/Desktop/GitProjects/align-linguistic-alignment/TRANSCRIPTS/1_2-1-3.txt\n",
      "Processing: /Users/nduran/Desktop/GitProjects/align-linguistic-alignment/TRANSCRIPTS/33_2-0-3.txt\n",
      "Processing: /Users/nduran/Desktop/GitProjects/align-linguistic-alignment/TRANSCRIPTS/12_2-0-3.txt\n",
      "Processing: /Users/nduran/Desktop/GitProjects/align-linguistic-alignment/TRANSCRIPTS/12_1-1-3.txt\n",
      "Processing: /Users/nduran/Desktop/GitProjects/align-linguistic-alignment/TRANSCRIPTS/33_1-1-2.txt\n",
      "Processing: /Users/nduran/Desktop/GitProjects/align-linguistic-alignment/TRANSCRIPTS/27_1-1-2.txt\n"
     ]
    },
    {
     "data": {
      "text/html": [
       "<div>\n",
       "<style scoped>\n",
       "    .dataframe tbody tr th:only-of-type {\n",
       "        vertical-align: middle;\n",
       "    }\n",
       "\n",
       "    .dataframe tbody tr th {\n",
       "        vertical-align: top;\n",
       "    }\n",
       "\n",
       "    .dataframe thead th {\n",
       "        text-align: right;\n",
       "    }\n",
       "</style>\n",
       "<table border=\"1\" class=\"dataframe\">\n",
       "  <thead>\n",
       "    <tr style=\"text-align: right;\">\n",
       "      <th></th>\n",
       "      <th>participant</th>\n",
       "      <th>content</th>\n",
       "      <th>token</th>\n",
       "      <th>lemma</th>\n",
       "      <th>tagged_token</th>\n",
       "      <th>tagged_lemma</th>\n",
       "      <th>file</th>\n",
       "    </tr>\n",
       "  </thead>\n",
       "  <tbody>\n",
       "    <tr>\n",
       "      <th>0</th>\n",
       "      <td>0</td>\n",
       "      <td>that it should be</td>\n",
       "      <td>[that, it, should, be]</td>\n",
       "      <td>[that, it, should, be]</td>\n",
       "      <td>[(that, IN), (it, PRP), (should, MD), (be, VB)]</td>\n",
       "      <td>[(that, IN), (it, PRP), (should, MD), (be, VB)]</td>\n",
       "      <td>41_1-1-3.txt</td>\n",
       "    </tr>\n",
       "    <tr>\n",
       "      <th>1</th>\n",
       "      <td>1</td>\n",
       "      <td>that it should be okay why did you say that</td>\n",
       "      <td>[that, it, should, be, okay, why, did, you, sa...</td>\n",
       "      <td>[that, it, should, be, okay, why, do, you, say...</td>\n",
       "      <td>[(that, IN), (it, PRP), (should, MD), (be, VB)...</td>\n",
       "      <td>[(that, IN), (it, PRP), (should, MD), (be, VB)...</td>\n",
       "      <td>41_1-1-3.txt</td>\n",
       "    </tr>\n",
       "    <tr>\n",
       "      <th>2</th>\n",
       "      <td>0</td>\n",
       "      <td>because the reason why the politicans don't ta...</td>\n",
       "      <td>[because, the, reason, why, the, politicans, d...</td>\n",
       "      <td>[because, the, reason, why, the, politicans, d...</td>\n",
       "      <td>[(because, IN), (the, DT), (reason, NN), (why,...</td>\n",
       "      <td>[(because, IN), (the, DT), (reason, NN), (why,...</td>\n",
       "      <td>41_1-1-3.txt</td>\n",
       "    </tr>\n",
       "    <tr>\n",
       "      <th>3</th>\n",
       "      <td>1</td>\n",
       "      <td>okay i though it was more of a something that ...</td>\n",
       "      <td>[okay, i, though, it, was, more, of, a, someth...</td>\n",
       "      <td>[okay, i, though, it, be, more, of, a, somethi...</td>\n",
       "      <td>[(okay, NN), (i, NN), (though, IN), (it, PRP),...</td>\n",
       "      <td>[(okay, NN), (i, NN), (though, IN), (it, PRP),...</td>\n",
       "      <td>41_1-1-3.txt</td>\n",
       "    </tr>\n",
       "    <tr>\n",
       "      <th>4</th>\n",
       "      <td>0</td>\n",
       "      <td>so your stance is that it shouldn't be taxed o...</td>\n",
       "      <td>[so, your, stance, is, that, it, should, not, ...</td>\n",
       "      <td>[so, your, stance, be, that, it, should, not, ...</td>\n",
       "      <td>[(so, RB), (your, PRP$), (stance, NN), (is, VB...</td>\n",
       "      <td>[(so, RB), (your, PRP$), (stance, NN), (be, VB...</td>\n",
       "      <td>41_1-1-3.txt</td>\n",
       "    </tr>\n",
       "    <tr>\n",
       "      <th>5</th>\n",
       "      <td>1</td>\n",
       "      <td>they shouldn't be taxed as much because i feel...</td>\n",
       "      <td>[they, should, not, be, taxed, as, much, becau...</td>\n",
       "      <td>[they, should, not, be, tax, a, much, because,...</td>\n",
       "      <td>[(they, PRP), (should, MD), (not, RB), (be, VB...</td>\n",
       "      <td>[(they, PRP), (should, MD), (not, RB), (be, VB...</td>\n",
       "      <td>41_1-1-3.txt</td>\n",
       "    </tr>\n",
       "    <tr>\n",
       "      <th>6</th>\n",
       "      <td>0</td>\n",
       "      <td>that's a small popularity most of them</td>\n",
       "      <td>[that, is, a, small, popularity, most, of, them]</td>\n",
       "      <td>[that, be, a, small, popularity, most, of, them]</td>\n",
       "      <td>[(that, DT), (is, VBZ), (a, DT), (small, JJ), ...</td>\n",
       "      <td>[(that, DT), (be, VB), (a, DT), (small, JJ), (...</td>\n",
       "      <td>41_1-1-3.txt</td>\n",
       "    </tr>\n",
       "    <tr>\n",
       "      <th>7</th>\n",
       "      <td>1</td>\n",
       "      <td>it is but say if they open their businesses or...</td>\n",
       "      <td>[it, is, but, say, if, they, open, their, busi...</td>\n",
       "      <td>[it, be, but, say, if, they, open, their, busi...</td>\n",
       "      <td>[(it, PRP), (is, VBZ), (but, CC), (say, VBP), ...</td>\n",
       "      <td>[(it, PRP), (be, VB), (but, CC), (say, VB), (i...</td>\n",
       "      <td>41_1-1-3.txt</td>\n",
       "    </tr>\n",
       "    <tr>\n",
       "      <th>8</th>\n",
       "      <td>0</td>\n",
       "      <td>but a lot of the rich  aren't being taxed the ...</td>\n",
       "      <td>[but, a, lot, of, the, rich, are, not, being, ...</td>\n",
       "      <td>[but, a, lot, of, the, rich, be, not, be, tax,...</td>\n",
       "      <td>[(but, CC), (a, DT), (lot, NN), (of, IN), (the...</td>\n",
       "      <td>[(but, CC), (a, DT), (lot, NN), (of, IN), (the...</td>\n",
       "      <td>41_1-1-3.txt</td>\n",
       "    </tr>\n",
       "    <tr>\n",
       "      <th>9</th>\n",
       "      <td>1</td>\n",
       "      <td>i haven't heard it so much but if that's the c...</td>\n",
       "      <td>[i, have, not, heard, it, so, much, but, if, t...</td>\n",
       "      <td>[i, have, not, hear, it, so, much, but, if, th...</td>\n",
       "      <td>[(i, NNS), (have, VBP), (not, RB), (heard, VBN...</td>\n",
       "      <td>[(i, NNS), (have, VBP), (not, RB), (hear, VB),...</td>\n",
       "      <td>41_1-1-3.txt</td>\n",
       "    </tr>\n",
       "    <tr>\n",
       "      <th>10</th>\n",
       "      <td>0</td>\n",
       "      <td>that is basically like the working class and t...</td>\n",
       "      <td>[that, is, basically, like, the, working, clas...</td>\n",
       "      <td>[that, be, basically, like, the, work, class, ...</td>\n",
       "      <td>[(that, DT), (is, VBZ), (basically, RB), (like...</td>\n",
       "      <td>[(that, DT), (be, VB), (basically, RB), (like,...</td>\n",
       "      <td>41_1-1-3.txt</td>\n",
       "    </tr>\n",
       "    <tr>\n",
       "      <th>11</th>\n",
       "      <td>1</td>\n",
       "      <td>i think also we can look at people like bill g...</td>\n",
       "      <td>[i, think, also, we, can, look, at, people, li...</td>\n",
       "      <td>[i, think, also, we, can, look, at, people, li...</td>\n",
       "      <td>[(i, NN), (think, VBP), (also, RB), (we, PRP),...</td>\n",
       "      <td>[(i, NN), (think, VBP), (also, RB), (we, PRP),...</td>\n",
       "      <td>41_1-1-3.txt</td>\n",
       "    </tr>\n",
       "    <tr>\n",
       "      <th>12</th>\n",
       "      <td>0</td>\n",
       "      <td>that's not the  the rich people like all of them</td>\n",
       "      <td>[that, is, not, the, the, rich, people, like, ...</td>\n",
       "      <td>[that, be, not, the, the, rich, people, like, ...</td>\n",
       "      <td>[(that, DT), (is, VBZ), (not, RB), (the, DT), ...</td>\n",
       "      <td>[(that, DT), (be, VB), (not, RB), (the, DT), (...</td>\n",
       "      <td>41_1-1-3.txt</td>\n",
       "    </tr>\n",
       "    <tr>\n",
       "      <th>13</th>\n",
       "      <td>1</td>\n",
       "      <td>i mean i'm just high lighting some examples th...</td>\n",
       "      <td>[i, mean, i, am, just, high, lighting, some, e...</td>\n",
       "      <td>[i, mean, i, be, just, high, light, some, exam...</td>\n",
       "      <td>[(i, JJ), (mean, VBP), (i, JJ), (am, VBP), (ju...</td>\n",
       "      <td>[(i, JJ), (mean, VBP), (i, JJ), (be, VB), (jus...</td>\n",
       "      <td>41_1-1-3.txt</td>\n",
       "    </tr>\n",
       "    <tr>\n",
       "      <th>14</th>\n",
       "      <td>0</td>\n",
       "      <td>well i understand people who are  rich like su...</td>\n",
       "      <td>[well, i, understand, people, who, are, rich, ...</td>\n",
       "      <td>[well, i, understand, people, who, be, rich, l...</td>\n",
       "      <td>[(well, RB), (i, JJ), (understand, VBP), (peop...</td>\n",
       "      <td>[(well, RB), (i, JJ), (understand, VBP), (peop...</td>\n",
       "      <td>41_1-1-3.txt</td>\n",
       "    </tr>\n",
       "    <tr>\n",
       "      <th>15</th>\n",
       "      <td>1</td>\n",
       "      <td>but then you can also think of in the terms of...</td>\n",
       "      <td>[but, then, you, can, also, think, of, in, the...</td>\n",
       "      <td>[but, then, you, can, also, think, of, in, the...</td>\n",
       "      <td>[(but, CC), (then, RB), (you, PRP), (can, MD),...</td>\n",
       "      <td>[(but, CC), (then, RB), (you, PRP), (can, MD),...</td>\n",
       "      <td>41_1-1-3.txt</td>\n",
       "    </tr>\n",
       "    <tr>\n",
       "      <th>16</th>\n",
       "      <td>0</td>\n",
       "      <td>i'm trying to incorporate a movie</td>\n",
       "      <td>[i, am, trying, to, incorporate, a, movie]</td>\n",
       "      <td>[i, be, try, to, incorporate, a, movie]</td>\n",
       "      <td>[(i, NN), (am, VBP), (trying, VBG), (to, TO), ...</td>\n",
       "      <td>[(i, NN), (be, VB), (try, VBN), (to, TO), (inc...</td>\n",
       "      <td>41_1-1-3.txt</td>\n",
       "    </tr>\n",
       "    <tr>\n",
       "      <th>17</th>\n",
       "      <td>1</td>\n",
       "      <td>another one</td>\n",
       "      <td>[another, one]</td>\n",
       "      <td>[another, one]</td>\n",
       "      <td>[(another, DT), (one, NN)]</td>\n",
       "      <td>[(another, DT), (one, NN)]</td>\n",
       "      <td>41_1-1-3.txt</td>\n",
       "    </tr>\n",
       "    <tr>\n",
       "      <th>18</th>\n",
       "      <td>0</td>\n",
       "      <td>obama fighting for this and  presidential ele...</td>\n",
       "      <td>[mama, fighting, for, this, and, presidential,...</td>\n",
       "      <td>[mama, fight, for, this, and, presidential, el...</td>\n",
       "      <td>[(mama, NN), (fighting, VBG), (for, IN), (this...</td>\n",
       "      <td>[(mama, NN), (fight, NN), (for, IN), (this, DT...</td>\n",
       "      <td>41_1-1-3.txt</td>\n",
       "    </tr>\n",
       "    <tr>\n",
       "      <th>19</th>\n",
       "      <td>1</td>\n",
       "      <td>for this i mean yeah that is always a big deba...</td>\n",
       "      <td>[for, this, i, mean, yeah, that, is, always, a...</td>\n",
       "      <td>[for, this, i, mean, yeah, that, be, always, a...</td>\n",
       "      <td>[(for, IN), (this, DT), (i, JJ), (mean, VBP), ...</td>\n",
       "      <td>[(for, IN), (this, DT), (i, JJ), (mean, VBP), ...</td>\n",
       "      <td>41_1-1-3.txt</td>\n",
       "    </tr>\n",
       "    <tr>\n",
       "      <th>20</th>\n",
       "      <td>0</td>\n",
       "      <td>because the republicans  they were debating t...</td>\n",
       "      <td>[because, the, republicans, they, were, debati...</td>\n",
       "      <td>[because, the, republican, they, be, debate, t...</td>\n",
       "      <td>[(because, IN), (the, DT), (republicans, NNS),...</td>\n",
       "      <td>[(because, IN), (the, DT), (republican, JJ), (...</td>\n",
       "      <td>41_1-1-3.txt</td>\n",
       "    </tr>\n",
       "    <tr>\n",
       "      <th>21</th>\n",
       "      <td>1</td>\n",
       "      <td>no i didn't watch it that day  which day was t...</td>\n",
       "      <td>[no, i, did, not, watch, it, that, day, which,...</td>\n",
       "      <td>[no, i, do, not, watch, it, that, day, which, ...</td>\n",
       "      <td>[(no, DT), (i, NN), (did, VBD), (not, RB), (wa...</td>\n",
       "      <td>[(no, DT), (i, NN), (do, VBP), (not, RB), (wat...</td>\n",
       "      <td>41_1-1-3.txt</td>\n",
       "    </tr>\n",
       "    <tr>\n",
       "      <th>22</th>\n",
       "      <td>0</td>\n",
       "      <td>topic and  it was just a bit complex funny issue</td>\n",
       "      <td>[topic, and, it, was, just, a, bit, complex, f...</td>\n",
       "      <td>[topic, and, it, be, just, a, bit, complex, fu...</td>\n",
       "      <td>[(topic, NN), (and, CC), (it, PRP), (was, VBD)...</td>\n",
       "      <td>[(topic, NN), (and, CC), (it, PRP), (be, VB), ...</td>\n",
       "      <td>41_1-1-3.txt</td>\n",
       "    </tr>\n",
       "    <tr>\n",
       "      <th>0</th>\n",
       "      <td>0</td>\n",
       "      <td>ok i'm really against abortion completely</td>\n",
       "      <td>[ok, i, am, really, against, abortion, complet...</td>\n",
       "      <td>[ok, i, be, really, against, abortion, complet...</td>\n",
       "      <td>[(ok, NN), (i, NN), (am, VBP), (really, RB), (...</td>\n",
       "      <td>[(ok, NN), (i, NN), (be, VB), (really, RB), (a...</td>\n",
       "      <td>16_2-1-2.txt</td>\n",
       "    </tr>\n",
       "    <tr>\n",
       "      <th>1</th>\n",
       "      <td>1</td>\n",
       "      <td>they take</td>\n",
       "      <td>[they, take]</td>\n",
       "      <td>[they, take]</td>\n",
       "      <td>[(they, PRP), (take, VBP)]</td>\n",
       "      <td>[(they, PRP), (take, VBP)]</td>\n",
       "      <td>16_2-1-2.txt</td>\n",
       "    </tr>\n",
       "    <tr>\n",
       "      <th>2</th>\n",
       "      <td>0</td>\n",
       "      <td>i think it's wrong because it is drawing a pe...</td>\n",
       "      <td>[i, think, it, is, wrong, because, it, is, dra...</td>\n",
       "      <td>[i, think, it, be, wrong, because, it, be, dra...</td>\n",
       "      <td>[(i, NN), (think, VBP), (it, PRP), (is, VBZ), ...</td>\n",
       "      <td>[(i, NN), (think, VBP), (it, PRP), (be, VB), (...</td>\n",
       "      <td>16_2-1-2.txt</td>\n",
       "    </tr>\n",
       "    <tr>\n",
       "      <th>3</th>\n",
       "      <td>1</td>\n",
       "      <td>so an argument could be like one no matter wha...</td>\n",
       "      <td>[so, an, argument, could, be, like, one, no, m...</td>\n",
       "      <td>[so, an, argument, could, be, like, one, no, m...</td>\n",
       "      <td>[(so, RB), (an, DT), (argument, NN), (could, M...</td>\n",
       "      <td>[(so, RB), (an, DT), (argument, NN), (could, M...</td>\n",
       "      <td>16_2-1-2.txt</td>\n",
       "    </tr>\n",
       "    <tr>\n",
       "      <th>4</th>\n",
       "      <td>0</td>\n",
       "      <td>it's still alive  i can't think of honestly ot...</td>\n",
       "      <td>[it, is, still, alive, i, can, not, think, of,...</td>\n",
       "      <td>[it, be, still, alive, i, can, not, think, of,...</td>\n",
       "      <td>[(it, PRP), (is, VBZ), (still, RB), (alive, JJ...</td>\n",
       "      <td>[(it, PRP), (be, VB), (still, RB), (alive, JJ)...</td>\n",
       "      <td>16_2-1-2.txt</td>\n",
       "    </tr>\n",
       "    <tr>\n",
       "      <th>5</th>\n",
       "      <td>1</td>\n",
       "      <td>like even even after like a few weeks like it ...</td>\n",
       "      <td>[like, even, even, after, like, a, few, weeks,...</td>\n",
       "      <td>[like, even, even, after, like, a, few, week, ...</td>\n",
       "      <td>[(like, IN), (even, RB), (even, RB), (after, I...</td>\n",
       "      <td>[(like, IN), (even, RB), (even, RB), (after, I...</td>\n",
       "      <td>16_2-1-2.txt</td>\n",
       "    </tr>\n",
       "    <tr>\n",
       "      <th>6</th>\n",
       "      <td>0</td>\n",
       "      <td>it's still a person it's not just a</td>\n",
       "      <td>[it, is, still, a, person, it, is, not, just, a]</td>\n",
       "      <td>[it, be, still, a, person, it, be, not, just, a]</td>\n",
       "      <td>[(it, PRP), (is, VBZ), (still, RB), (a, DT), (...</td>\n",
       "      <td>[(it, PRP), (be, VB), (still, RB), (a, DT), (p...</td>\n",
       "      <td>16_2-1-2.txt</td>\n",
       "    </tr>\n",
       "    <tr>\n",
       "      <th>...</th>\n",
       "      <td>...</td>\n",
       "      <td>...</td>\n",
       "      <td>...</td>\n",
       "      <td>...</td>\n",
       "      <td>...</td>\n",
       "      <td>...</td>\n",
       "      <td>...</td>\n",
       "    </tr>\n",
       "    <tr>\n",
       "      <th>1</th>\n",
       "      <td>0</td>\n",
       "      <td>i think it is no no no because yeah like the ...</td>\n",
       "      <td>[i, think, it, is, no, no, no, because, yeah, ...</td>\n",
       "      <td>[i, think, it, be, no, no, no, because, yeah, ...</td>\n",
       "      <td>[(i, NN), (think, VBP), (it, PRP), (is, VBZ), ...</td>\n",
       "      <td>[(i, NN), (think, VBP), (it, PRP), (be, VB), (...</td>\n",
       "      <td>27_1-1-2.txt</td>\n",
       "    </tr>\n",
       "    <tr>\n",
       "      <th>2</th>\n",
       "      <td>1</td>\n",
       "      <td>i argued that they kind of should be taxed mo...</td>\n",
       "      <td>[i, argued, that, they, kind, of, should, be, ...</td>\n",
       "      <td>[i, argue, that, they, kind, of, should, be, t...</td>\n",
       "      <td>[(i, NN), (argued, VBD), (that, IN), (they, PR...</td>\n",
       "      <td>[(i, NN), (argue, VBP), (that, IN), (they, PRP...</td>\n",
       "      <td>27_1-1-2.txt</td>\n",
       "    </tr>\n",
       "    <tr>\n",
       "      <th>3</th>\n",
       "      <td>0</td>\n",
       "      <td>but like you know like now is like economy is...</td>\n",
       "      <td>[but, like, you, know, like, now, is, like, ec...</td>\n",
       "      <td>[but, like, you, know, like, now, be, like, ec...</td>\n",
       "      <td>[(but, CC), (like, IN), (you, PRP), (know, VBP...</td>\n",
       "      <td>[(but, CC), (like, IN), (you, PRP), (know, VBP...</td>\n",
       "      <td>27_1-1-2.txt</td>\n",
       "    </tr>\n",
       "    <tr>\n",
       "      <th>4</th>\n",
       "      <td>1</td>\n",
       "      <td>it is technically well it is they are rich ri...</td>\n",
       "      <td>[it, is, technically, well, it, is, they, are,...</td>\n",
       "      <td>[it, be, technically, well, it, be, they, be, ...</td>\n",
       "      <td>[(it, PRP), (is, VBZ), (technically, RB), (wel...</td>\n",
       "      <td>[(it, PRP), (be, VB), (technically, RB), (well...</td>\n",
       "      <td>27_1-1-2.txt</td>\n",
       "    </tr>\n",
       "    <tr>\n",
       "      <th>5</th>\n",
       "      <td>0</td>\n",
       "      <td>so you saying that like they should be taxed a...</td>\n",
       "      <td>[so, you, saying, that, like, they, should, be...</td>\n",
       "      <td>[so, you, say, that, like, they, should, be, t...</td>\n",
       "      <td>[(so, RB), (you, PRP), (saying, VBG), (that, I...</td>\n",
       "      <td>[(so, IN), (you, PRP), (say, VBP), (that, IN),...</td>\n",
       "      <td>27_1-1-2.txt</td>\n",
       "    </tr>\n",
       "    <tr>\n",
       "      <th>6</th>\n",
       "      <td>1</td>\n",
       "      <td>no they just like for now and then if the situ...</td>\n",
       "      <td>[no, they, just, like, for, now, and, then, if...</td>\n",
       "      <td>[no, they, just, like, for, now, and, then, if...</td>\n",
       "      <td>[(no, DT), (they, PRP), (just, RB), (like, IN)...</td>\n",
       "      <td>[(no, DT), (they, PRP), (just, RB), (like, IN)...</td>\n",
       "      <td>27_1-1-2.txt</td>\n",
       "    </tr>\n",
       "    <tr>\n",
       "      <th>7</th>\n",
       "      <td>0</td>\n",
       "      <td>ok but this is kind of like a difficult time ...</td>\n",
       "      <td>[ok, but, this, is, kind, of, like, a, difficu...</td>\n",
       "      <td>[ok, but, this, be, kind, of, like, a, difficu...</td>\n",
       "      <td>[(ok, RB), (but, CC), (this, DT), (is, VBZ), (...</td>\n",
       "      <td>[(ok, RB), (but, CC), (this, DT), (be, VB), (k...</td>\n",
       "      <td>27_1-1-2.txt</td>\n",
       "    </tr>\n",
       "    <tr>\n",
       "      <th>8</th>\n",
       "      <td>1</td>\n",
       "      <td>yeah i mean</td>\n",
       "      <td>[yeah, i, mean]</td>\n",
       "      <td>[yeah, i, mean]</td>\n",
       "      <td>[(yeah, NN), (i, NN), (mean, VBP)]</td>\n",
       "      <td>[(yeah, NN), (i, NN), (mean, VBP)]</td>\n",
       "      <td>27_1-1-2.txt</td>\n",
       "    </tr>\n",
       "    <tr>\n",
       "      <th>9</th>\n",
       "      <td>0</td>\n",
       "      <td>like not now because i do not know</td>\n",
       "      <td>[like, not, now, because, i, do, not, know]</td>\n",
       "      <td>[like, not, now, because, i, do, not, know]</td>\n",
       "      <td>[(like, IN), (not, RB), (now, RB), (because, I...</td>\n",
       "      <td>[(like, IN), (not, RB), (now, RB), (because, I...</td>\n",
       "      <td>27_1-1-2.txt</td>\n",
       "    </tr>\n",
       "    <tr>\n",
       "      <th>10</th>\n",
       "      <td>1</td>\n",
       "      <td>well it is like i understand that like times ...</td>\n",
       "      <td>[well, it, is, like, i, understand, that, like...</td>\n",
       "      <td>[well, it, be, like, i, understand, that, like...</td>\n",
       "      <td>[(well, RB), (it, PRP), (is, VBZ), (like, IN),...</td>\n",
       "      <td>[(well, RB), (it, PRP), (be, VB), (like, IN), ...</td>\n",
       "      <td>27_1-1-2.txt</td>\n",
       "    </tr>\n",
       "    <tr>\n",
       "      <th>11</th>\n",
       "      <td>0</td>\n",
       "      <td>think yeah but what if like the rich actually ...</td>\n",
       "      <td>[think, yeah, but, what, if, like, the, rich, ...</td>\n",
       "      <td>[think, yeah, but, what, if, like, the, rich, ...</td>\n",
       "      <td>[(think, VB), (yeah, NNS), (but, CC), (what, W...</td>\n",
       "      <td>[(think, VB), (yeah, NNS), (but, CC), (what, W...</td>\n",
       "      <td>27_1-1-2.txt</td>\n",
       "    </tr>\n",
       "    <tr>\n",
       "      <th>12</th>\n",
       "      <td>1</td>\n",
       "      <td>if they are losing money</td>\n",
       "      <td>[if, they, are, losing, money]</td>\n",
       "      <td>[if, they, be, lose, money]</td>\n",
       "      <td>[(if, IN), (they, PRP), (are, VBP), (losing, V...</td>\n",
       "      <td>[(if, IN), (they, PRP), (be, VB), (lose, JJ), ...</td>\n",
       "      <td>27_1-1-2.txt</td>\n",
       "    </tr>\n",
       "    <tr>\n",
       "      <th>13</th>\n",
       "      <td>0</td>\n",
       "      <td>yeah what if they are losing money</td>\n",
       "      <td>[yeah, what, if, they, are, losing, money]</td>\n",
       "      <td>[yeah, what, if, they, be, lose, money]</td>\n",
       "      <td>[(yeah, VB), (what, WP), (if, IN), (they, PRP)...</td>\n",
       "      <td>[(yeah, VB), (what, WP), (if, IN), (they, PRP)...</td>\n",
       "      <td>27_1-1-2.txt</td>\n",
       "    </tr>\n",
       "    <tr>\n",
       "      <th>14</th>\n",
       "      <td>1</td>\n",
       "      <td>well it is like what for business ventures or</td>\n",
       "      <td>[well, it, is, like, what, for, business, vent...</td>\n",
       "      <td>[well, it, be, like, what, for, business, vent...</td>\n",
       "      <td>[(well, RB), (it, PRP), (is, VBZ), (like, IN),...</td>\n",
       "      <td>[(well, RB), (it, PRP), (be, VB), (like, IN), ...</td>\n",
       "      <td>27_1-1-2.txt</td>\n",
       "    </tr>\n",
       "    <tr>\n",
       "      <th>15</th>\n",
       "      <td>0</td>\n",
       "      <td>they are rich</td>\n",
       "      <td>[they, are, rich]</td>\n",
       "      <td>[they, be, rich]</td>\n",
       "      <td>[(they, PRP), (are, VBP), (rich, JJ)]</td>\n",
       "      <td>[(they, PRP), (be, VB), (rich, JJ)]</td>\n",
       "      <td>27_1-1-2.txt</td>\n",
       "    </tr>\n",
       "    <tr>\n",
       "      <th>16</th>\n",
       "      <td>1</td>\n",
       "      <td>yeah yeah i mean how would they like losing mo...</td>\n",
       "      <td>[yeah, yeah, i, mean, how, would, they, like, ...</td>\n",
       "      <td>[yeah, yeah, i, mean, how, would, they, like, ...</td>\n",
       "      <td>[(yeah, NN), (yeah, NN), (i, NN), (mean, VBP),...</td>\n",
       "      <td>[(yeah, NN), (yeah, NN), (i, NN), (mean, VBP),...</td>\n",
       "      <td>27_1-1-2.txt</td>\n",
       "    </tr>\n",
       "    <tr>\n",
       "      <th>17</th>\n",
       "      <td>0</td>\n",
       "      <td>i do not know</td>\n",
       "      <td>[i, do, not, know]</td>\n",
       "      <td>[i, do, not, know]</td>\n",
       "      <td>[(i, NNS), (do, VBP), (not, RB), (know, VB)]</td>\n",
       "      <td>[(i, NNS), (do, VBP), (not, RB), (know, VB)]</td>\n",
       "      <td>27_1-1-2.txt</td>\n",
       "    </tr>\n",
       "    <tr>\n",
       "      <th>18</th>\n",
       "      <td>1</td>\n",
       "      <td>i do not know you are just they are just losin...</td>\n",
       "      <td>[i, do, not, know, you, are, just, they, are, ...</td>\n",
       "      <td>[i, do, not, know, you, be, just, they, be, ju...</td>\n",
       "      <td>[(i, NNS), (do, VBP), (not, RB), (know, VB), (...</td>\n",
       "      <td>[(i, NNS), (do, VBP), (not, RB), (know, VB), (...</td>\n",
       "      <td>27_1-1-2.txt</td>\n",
       "    </tr>\n",
       "    <tr>\n",
       "      <th>19</th>\n",
       "      <td>0</td>\n",
       "      <td>it is like it is not fair for the rich that ar...</td>\n",
       "      <td>[it, is, like, it, is, not, fair, for, the, ri...</td>\n",
       "      <td>[it, be, like, it, be, not, fair, for, the, ri...</td>\n",
       "      <td>[(it, PRP), (is, VBZ), (like, IN), (it, PRP), ...</td>\n",
       "      <td>[(it, PRP), (be, VB), (like, IN), (it, PRP), (...</td>\n",
       "      <td>27_1-1-2.txt</td>\n",
       "    </tr>\n",
       "    <tr>\n",
       "      <th>20</th>\n",
       "      <td>1</td>\n",
       "      <td>okay well if like the way i view it would be t...</td>\n",
       "      <td>[okay, well, if, like, the, way, i, view, it, ...</td>\n",
       "      <td>[okay, well, if, like, the, way, i, view, it, ...</td>\n",
       "      <td>[(okay, RB), (well, RB), (if, IN), (like, IN),...</td>\n",
       "      <td>[(okay, RB), (well, RB), (if, IN), (like, IN),...</td>\n",
       "      <td>27_1-1-2.txt</td>\n",
       "    </tr>\n",
       "    <tr>\n",
       "      <th>21</th>\n",
       "      <td>0</td>\n",
       "      <td>yeah</td>\n",
       "      <td>[yeah]</td>\n",
       "      <td>[yeah]</td>\n",
       "      <td>[(yeah, NN)]</td>\n",
       "      <td>[(yeah, NN)]</td>\n",
       "      <td>27_1-1-2.txt</td>\n",
       "    </tr>\n",
       "    <tr>\n",
       "      <th>22</th>\n",
       "      <td>1</td>\n",
       "      <td>it is yeah</td>\n",
       "      <td>[it, is, yeah]</td>\n",
       "      <td>[it, be, yeah]</td>\n",
       "      <td>[(it, PRP), (is, VBZ), (yeah, JJ)]</td>\n",
       "      <td>[(it, PRP), (be, VB), (yeah, VBN)]</td>\n",
       "      <td>27_1-1-2.txt</td>\n",
       "    </tr>\n",
       "    <tr>\n",
       "      <th>23</th>\n",
       "      <td>0</td>\n",
       "      <td>let us talk about like how would the governme...</td>\n",
       "      <td>[let, us, talk, about, like, how, would, the, ...</td>\n",
       "      <td>[let, u, talk, about, like, how, would, the, g...</td>\n",
       "      <td>[(let, VB), (us, PRP), (talk, VB), (about, IN)...</td>\n",
       "      <td>[(let, VB), (u, JJ), (talk, VB), (about, IN), ...</td>\n",
       "      <td>27_1-1-2.txt</td>\n",
       "    </tr>\n",
       "    <tr>\n",
       "      <th>24</th>\n",
       "      <td>1</td>\n",
       "      <td>ean spend the money taxed more okay  you do no...</td>\n",
       "      <td>[an, spend, the, money, taxed, more, okay, you...</td>\n",
       "      <td>[an, spend, the, money, tax, more, okay, you, ...</td>\n",
       "      <td>[(an, DT), (spend, VBP), (the, DT), (money, NN...</td>\n",
       "      <td>[(an, DT), (spend, VBP), (the, DT), (money, NN...</td>\n",
       "      <td>27_1-1-2.txt</td>\n",
       "    </tr>\n",
       "    <tr>\n",
       "      <th>25</th>\n",
       "      <td>0</td>\n",
       "      <td>yeah</td>\n",
       "      <td>[yeah]</td>\n",
       "      <td>[yeah]</td>\n",
       "      <td>[(yeah, NN)]</td>\n",
       "      <td>[(yeah, NN)]</td>\n",
       "      <td>27_1-1-2.txt</td>\n",
       "    </tr>\n",
       "    <tr>\n",
       "      <th>26</th>\n",
       "      <td>1</td>\n",
       "      <td>okay so i mean</td>\n",
       "      <td>[okay, so, i, mean]</td>\n",
       "      <td>[okay, so, i, mean]</td>\n",
       "      <td>[(okay, IN), (so, RB), (i, JJ), (mean, VBP)]</td>\n",
       "      <td>[(okay, IN), (so, RB), (i, JJ), (mean, VBP)]</td>\n",
       "      <td>27_1-1-2.txt</td>\n",
       "    </tr>\n",
       "    <tr>\n",
       "      <th>27</th>\n",
       "      <td>0</td>\n",
       "      <td>okay</td>\n",
       "      <td>[okay]</td>\n",
       "      <td>[okay]</td>\n",
       "      <td>[(okay, NN)]</td>\n",
       "      <td>[(okay, NN)]</td>\n",
       "      <td>27_1-1-2.txt</td>\n",
       "    </tr>\n",
       "    <tr>\n",
       "      <th>28</th>\n",
       "      <td>1</td>\n",
       "      <td>like i i know what you are saying like you lik...</td>\n",
       "      <td>[like, i, i, know, what, you, are, saying, lik...</td>\n",
       "      <td>[like, i, i, know, what, you, be, say, like, y...</td>\n",
       "      <td>[(like, IN), (i, NN), (i, VBP), (know, VBP), (...</td>\n",
       "      <td>[(like, IN), (i, NN), (i, VBP), (know, VBP), (...</td>\n",
       "      <td>27_1-1-2.txt</td>\n",
       "    </tr>\n",
       "    <tr>\n",
       "      <th>29</th>\n",
       "      <td>0</td>\n",
       "      <td>okay so how how do you like set the like how d...</td>\n",
       "      <td>[okay, so, how, how, do, you, like, set, the, ...</td>\n",
       "      <td>[okay, so, how, how, do, you, like, set, the, ...</td>\n",
       "      <td>[(okay, RB), (so, RB), (how, WRB), (how, WRB),...</td>\n",
       "      <td>[(okay, RB), (so, RB), (how, WRB), (how, WRB),...</td>\n",
       "      <td>27_1-1-2.txt</td>\n",
       "    </tr>\n",
       "    <tr>\n",
       "      <th>30</th>\n",
       "      <td>1</td>\n",
       "      <td>the rich  let us see here i guess we should lo...</td>\n",
       "      <td>[the, rich, let, us, see, here, i, guess, we, ...</td>\n",
       "      <td>[the, rich, let, u, see, here, i, guess, we, s...</td>\n",
       "      <td>[(the, DT), (rich, JJ), (let, NN), (us, PRP), ...</td>\n",
       "      <td>[(the, DT), (rich, JJ), (let, NN), (u, JJ), (s...</td>\n",
       "      <td>27_1-1-2.txt</td>\n",
       "    </tr>\n",
       "  </tbody>\n",
       "</table>\n",
       "<p>2629 rows × 7 columns</p>\n",
       "</div>"
      ],
      "text/plain": [
       "    participant                                            content  \\\n",
       "0             0                                  that it should be   \n",
       "1             1        that it should be okay why did you say that   \n",
       "2             0  because the reason why the politicans don't ta...   \n",
       "3             1  okay i though it was more of a something that ...   \n",
       "4             0  so your stance is that it shouldn't be taxed o...   \n",
       "5             1  they shouldn't be taxed as much because i feel...   \n",
       "6             0             that's a small popularity most of them   \n",
       "7             1  it is but say if they open their businesses or...   \n",
       "8             0  but a lot of the rich  aren't being taxed the ...   \n",
       "9             1  i haven't heard it so much but if that's the c...   \n",
       "10            0  that is basically like the working class and t...   \n",
       "11            1  i think also we can look at people like bill g...   \n",
       "12            0   that's not the  the rich people like all of them   \n",
       "13            1  i mean i'm just high lighting some examples th...   \n",
       "14            0  well i understand people who are  rich like su...   \n",
       "15            1  but then you can also think of in the terms of...   \n",
       "16            0                  i'm trying to incorporate a movie   \n",
       "17            1                                        another one   \n",
       "18            0   obama fighting for this and  presidential ele...   \n",
       "19            1  for this i mean yeah that is always a big deba...   \n",
       "20            0   because the republicans  they were debating t...   \n",
       "21            1  no i didn't watch it that day  which day was t...   \n",
       "22            0   topic and  it was just a bit complex funny issue   \n",
       "0             0         ok i'm really against abortion completely    \n",
       "1             1                                          they take   \n",
       "2             0   i think it's wrong because it is drawing a pe...   \n",
       "3             1  so an argument could be like one no matter wha...   \n",
       "4             0  it's still alive  i can't think of honestly ot...   \n",
       "5             1  like even even after like a few weeks like it ...   \n",
       "6             0               it's still a person it's not just a    \n",
       "..          ...                                                ...   \n",
       "1             0   i think it is no no no because yeah like the ...   \n",
       "2             1   i argued that they kind of should be taxed mo...   \n",
       "3             0   but like you know like now is like economy is...   \n",
       "4             1   it is technically well it is they are rich ri...   \n",
       "5             0  so you saying that like they should be taxed a...   \n",
       "6             1  no they just like for now and then if the situ...   \n",
       "7             0   ok but this is kind of like a difficult time ...   \n",
       "8             1                                        yeah i mean   \n",
       "9             0                like not now because i do not know    \n",
       "10            1   well it is like i understand that like times ...   \n",
       "11            0  think yeah but what if like the rich actually ...   \n",
       "12            1                           if they are losing money   \n",
       "13            0                 yeah what if they are losing money   \n",
       "14            1      well it is like what for business ventures or   \n",
       "15            0                                     they are rich    \n",
       "16            1  yeah yeah i mean how would they like losing mo...   \n",
       "17            0                                     i do not know    \n",
       "18            1  i do not know you are just they are just losin...   \n",
       "19            0  it is like it is not fair for the rich that ar...   \n",
       "20            1  okay well if like the way i view it would be t...   \n",
       "21            0                                               yeah   \n",
       "22            1                                         it is yeah   \n",
       "23            0   let us talk about like how would the governme...   \n",
       "24            1  ean spend the money taxed more okay  you do no...   \n",
       "25            0                                               yeah   \n",
       "26            1                                     okay so i mean   \n",
       "27            0                                              okay    \n",
       "28            1  like i i know what you are saying like you lik...   \n",
       "29            0  okay so how how do you like set the like how d...   \n",
       "30            1  the rich  let us see here i guess we should lo...   \n",
       "\n",
       "                                                token  \\\n",
       "0                              [that, it, should, be]   \n",
       "1   [that, it, should, be, okay, why, did, you, sa...   \n",
       "2   [because, the, reason, why, the, politicans, d...   \n",
       "3   [okay, i, though, it, was, more, of, a, someth...   \n",
       "4   [so, your, stance, is, that, it, should, not, ...   \n",
       "5   [they, should, not, be, taxed, as, much, becau...   \n",
       "6    [that, is, a, small, popularity, most, of, them]   \n",
       "7   [it, is, but, say, if, they, open, their, busi...   \n",
       "8   [but, a, lot, of, the, rich, are, not, being, ...   \n",
       "9   [i, have, not, heard, it, so, much, but, if, t...   \n",
       "10  [that, is, basically, like, the, working, clas...   \n",
       "11  [i, think, also, we, can, look, at, people, li...   \n",
       "12  [that, is, not, the, the, rich, people, like, ...   \n",
       "13  [i, mean, i, am, just, high, lighting, some, e...   \n",
       "14  [well, i, understand, people, who, are, rich, ...   \n",
       "15  [but, then, you, can, also, think, of, in, the...   \n",
       "16         [i, am, trying, to, incorporate, a, movie]   \n",
       "17                                     [another, one]   \n",
       "18  [mama, fighting, for, this, and, presidential,...   \n",
       "19  [for, this, i, mean, yeah, that, is, always, a...   \n",
       "20  [because, the, republicans, they, were, debati...   \n",
       "21  [no, i, did, not, watch, it, that, day, which,...   \n",
       "22  [topic, and, it, was, just, a, bit, complex, f...   \n",
       "0   [ok, i, am, really, against, abortion, complet...   \n",
       "1                                        [they, take]   \n",
       "2   [i, think, it, is, wrong, because, it, is, dra...   \n",
       "3   [so, an, argument, could, be, like, one, no, m...   \n",
       "4   [it, is, still, alive, i, can, not, think, of,...   \n",
       "5   [like, even, even, after, like, a, few, weeks,...   \n",
       "6    [it, is, still, a, person, it, is, not, just, a]   \n",
       "..                                                ...   \n",
       "1   [i, think, it, is, no, no, no, because, yeah, ...   \n",
       "2   [i, argued, that, they, kind, of, should, be, ...   \n",
       "3   [but, like, you, know, like, now, is, like, ec...   \n",
       "4   [it, is, technically, well, it, is, they, are,...   \n",
       "5   [so, you, saying, that, like, they, should, be...   \n",
       "6   [no, they, just, like, for, now, and, then, if...   \n",
       "7   [ok, but, this, is, kind, of, like, a, difficu...   \n",
       "8                                     [yeah, i, mean]   \n",
       "9         [like, not, now, because, i, do, not, know]   \n",
       "10  [well, it, is, like, i, understand, that, like...   \n",
       "11  [think, yeah, but, what, if, like, the, rich, ...   \n",
       "12                     [if, they, are, losing, money]   \n",
       "13         [yeah, what, if, they, are, losing, money]   \n",
       "14  [well, it, is, like, what, for, business, vent...   \n",
       "15                                  [they, are, rich]   \n",
       "16  [yeah, yeah, i, mean, how, would, they, like, ...   \n",
       "17                                 [i, do, not, know]   \n",
       "18  [i, do, not, know, you, are, just, they, are, ...   \n",
       "19  [it, is, like, it, is, not, fair, for, the, ri...   \n",
       "20  [okay, well, if, like, the, way, i, view, it, ...   \n",
       "21                                             [yeah]   \n",
       "22                                     [it, is, yeah]   \n",
       "23  [let, us, talk, about, like, how, would, the, ...   \n",
       "24  [an, spend, the, money, taxed, more, okay, you...   \n",
       "25                                             [yeah]   \n",
       "26                                [okay, so, i, mean]   \n",
       "27                                             [okay]   \n",
       "28  [like, i, i, know, what, you, are, saying, lik...   \n",
       "29  [okay, so, how, how, do, you, like, set, the, ...   \n",
       "30  [the, rich, let, us, see, here, i, guess, we, ...   \n",
       "\n",
       "                                                lemma  \\\n",
       "0                              [that, it, should, be]   \n",
       "1   [that, it, should, be, okay, why, do, you, say...   \n",
       "2   [because, the, reason, why, the, politicans, d...   \n",
       "3   [okay, i, though, it, be, more, of, a, somethi...   \n",
       "4   [so, your, stance, be, that, it, should, not, ...   \n",
       "5   [they, should, not, be, tax, a, much, because,...   \n",
       "6    [that, be, a, small, popularity, most, of, them]   \n",
       "7   [it, be, but, say, if, they, open, their, busi...   \n",
       "8   [but, a, lot, of, the, rich, be, not, be, tax,...   \n",
       "9   [i, have, not, hear, it, so, much, but, if, th...   \n",
       "10  [that, be, basically, like, the, work, class, ...   \n",
       "11  [i, think, also, we, can, look, at, people, li...   \n",
       "12  [that, be, not, the, the, rich, people, like, ...   \n",
       "13  [i, mean, i, be, just, high, light, some, exam...   \n",
       "14  [well, i, understand, people, who, be, rich, l...   \n",
       "15  [but, then, you, can, also, think, of, in, the...   \n",
       "16            [i, be, try, to, incorporate, a, movie]   \n",
       "17                                     [another, one]   \n",
       "18  [mama, fight, for, this, and, presidential, el...   \n",
       "19  [for, this, i, mean, yeah, that, be, always, a...   \n",
       "20  [because, the, republican, they, be, debate, t...   \n",
       "21  [no, i, do, not, watch, it, that, day, which, ...   \n",
       "22  [topic, and, it, be, just, a, bit, complex, fu...   \n",
       "0   [ok, i, be, really, against, abortion, complet...   \n",
       "1                                        [they, take]   \n",
       "2   [i, think, it, be, wrong, because, it, be, dra...   \n",
       "3   [so, an, argument, could, be, like, one, no, m...   \n",
       "4   [it, be, still, alive, i, can, not, think, of,...   \n",
       "5   [like, even, even, after, like, a, few, week, ...   \n",
       "6    [it, be, still, a, person, it, be, not, just, a]   \n",
       "..                                                ...   \n",
       "1   [i, think, it, be, no, no, no, because, yeah, ...   \n",
       "2   [i, argue, that, they, kind, of, should, be, t...   \n",
       "3   [but, like, you, know, like, now, be, like, ec...   \n",
       "4   [it, be, technically, well, it, be, they, be, ...   \n",
       "5   [so, you, say, that, like, they, should, be, t...   \n",
       "6   [no, they, just, like, for, now, and, then, if...   \n",
       "7   [ok, but, this, be, kind, of, like, a, difficu...   \n",
       "8                                     [yeah, i, mean]   \n",
       "9         [like, not, now, because, i, do, not, know]   \n",
       "10  [well, it, be, like, i, understand, that, like...   \n",
       "11  [think, yeah, but, what, if, like, the, rich, ...   \n",
       "12                        [if, they, be, lose, money]   \n",
       "13            [yeah, what, if, they, be, lose, money]   \n",
       "14  [well, it, be, like, what, for, business, vent...   \n",
       "15                                   [they, be, rich]   \n",
       "16  [yeah, yeah, i, mean, how, would, they, like, ...   \n",
       "17                                 [i, do, not, know]   \n",
       "18  [i, do, not, know, you, be, just, they, be, ju...   \n",
       "19  [it, be, like, it, be, not, fair, for, the, ri...   \n",
       "20  [okay, well, if, like, the, way, i, view, it, ...   \n",
       "21                                             [yeah]   \n",
       "22                                     [it, be, yeah]   \n",
       "23  [let, u, talk, about, like, how, would, the, g...   \n",
       "24  [an, spend, the, money, tax, more, okay, you, ...   \n",
       "25                                             [yeah]   \n",
       "26                                [okay, so, i, mean]   \n",
       "27                                             [okay]   \n",
       "28  [like, i, i, know, what, you, be, say, like, y...   \n",
       "29  [okay, so, how, how, do, you, like, set, the, ...   \n",
       "30  [the, rich, let, u, see, here, i, guess, we, s...   \n",
       "\n",
       "                                         tagged_token  \\\n",
       "0     [(that, IN), (it, PRP), (should, MD), (be, VB)]   \n",
       "1   [(that, IN), (it, PRP), (should, MD), (be, VB)...   \n",
       "2   [(because, IN), (the, DT), (reason, NN), (why,...   \n",
       "3   [(okay, NN), (i, NN), (though, IN), (it, PRP),...   \n",
       "4   [(so, RB), (your, PRP$), (stance, NN), (is, VB...   \n",
       "5   [(they, PRP), (should, MD), (not, RB), (be, VB...   \n",
       "6   [(that, DT), (is, VBZ), (a, DT), (small, JJ), ...   \n",
       "7   [(it, PRP), (is, VBZ), (but, CC), (say, VBP), ...   \n",
       "8   [(but, CC), (a, DT), (lot, NN), (of, IN), (the...   \n",
       "9   [(i, NNS), (have, VBP), (not, RB), (heard, VBN...   \n",
       "10  [(that, DT), (is, VBZ), (basically, RB), (like...   \n",
       "11  [(i, NN), (think, VBP), (also, RB), (we, PRP),...   \n",
       "12  [(that, DT), (is, VBZ), (not, RB), (the, DT), ...   \n",
       "13  [(i, JJ), (mean, VBP), (i, JJ), (am, VBP), (ju...   \n",
       "14  [(well, RB), (i, JJ), (understand, VBP), (peop...   \n",
       "15  [(but, CC), (then, RB), (you, PRP), (can, MD),...   \n",
       "16  [(i, NN), (am, VBP), (trying, VBG), (to, TO), ...   \n",
       "17                         [(another, DT), (one, NN)]   \n",
       "18  [(mama, NN), (fighting, VBG), (for, IN), (this...   \n",
       "19  [(for, IN), (this, DT), (i, JJ), (mean, VBP), ...   \n",
       "20  [(because, IN), (the, DT), (republicans, NNS),...   \n",
       "21  [(no, DT), (i, NN), (did, VBD), (not, RB), (wa...   \n",
       "22  [(topic, NN), (and, CC), (it, PRP), (was, VBD)...   \n",
       "0   [(ok, NN), (i, NN), (am, VBP), (really, RB), (...   \n",
       "1                          [(they, PRP), (take, VBP)]   \n",
       "2   [(i, NN), (think, VBP), (it, PRP), (is, VBZ), ...   \n",
       "3   [(so, RB), (an, DT), (argument, NN), (could, M...   \n",
       "4   [(it, PRP), (is, VBZ), (still, RB), (alive, JJ...   \n",
       "5   [(like, IN), (even, RB), (even, RB), (after, I...   \n",
       "6   [(it, PRP), (is, VBZ), (still, RB), (a, DT), (...   \n",
       "..                                                ...   \n",
       "1   [(i, NN), (think, VBP), (it, PRP), (is, VBZ), ...   \n",
       "2   [(i, NN), (argued, VBD), (that, IN), (they, PR...   \n",
       "3   [(but, CC), (like, IN), (you, PRP), (know, VBP...   \n",
       "4   [(it, PRP), (is, VBZ), (technically, RB), (wel...   \n",
       "5   [(so, RB), (you, PRP), (saying, VBG), (that, I...   \n",
       "6   [(no, DT), (they, PRP), (just, RB), (like, IN)...   \n",
       "7   [(ok, RB), (but, CC), (this, DT), (is, VBZ), (...   \n",
       "8                  [(yeah, NN), (i, NN), (mean, VBP)]   \n",
       "9   [(like, IN), (not, RB), (now, RB), (because, I...   \n",
       "10  [(well, RB), (it, PRP), (is, VBZ), (like, IN),...   \n",
       "11  [(think, VB), (yeah, NNS), (but, CC), (what, W...   \n",
       "12  [(if, IN), (they, PRP), (are, VBP), (losing, V...   \n",
       "13  [(yeah, VB), (what, WP), (if, IN), (they, PRP)...   \n",
       "14  [(well, RB), (it, PRP), (is, VBZ), (like, IN),...   \n",
       "15              [(they, PRP), (are, VBP), (rich, JJ)]   \n",
       "16  [(yeah, NN), (yeah, NN), (i, NN), (mean, VBP),...   \n",
       "17       [(i, NNS), (do, VBP), (not, RB), (know, VB)]   \n",
       "18  [(i, NNS), (do, VBP), (not, RB), (know, VB), (...   \n",
       "19  [(it, PRP), (is, VBZ), (like, IN), (it, PRP), ...   \n",
       "20  [(okay, RB), (well, RB), (if, IN), (like, IN),...   \n",
       "21                                       [(yeah, NN)]   \n",
       "22                 [(it, PRP), (is, VBZ), (yeah, JJ)]   \n",
       "23  [(let, VB), (us, PRP), (talk, VB), (about, IN)...   \n",
       "24  [(an, DT), (spend, VBP), (the, DT), (money, NN...   \n",
       "25                                       [(yeah, NN)]   \n",
       "26       [(okay, IN), (so, RB), (i, JJ), (mean, VBP)]   \n",
       "27                                       [(okay, NN)]   \n",
       "28  [(like, IN), (i, NN), (i, VBP), (know, VBP), (...   \n",
       "29  [(okay, RB), (so, RB), (how, WRB), (how, WRB),...   \n",
       "30  [(the, DT), (rich, JJ), (let, NN), (us, PRP), ...   \n",
       "\n",
       "                                         tagged_lemma          file  \n",
       "0     [(that, IN), (it, PRP), (should, MD), (be, VB)]  41_1-1-3.txt  \n",
       "1   [(that, IN), (it, PRP), (should, MD), (be, VB)...  41_1-1-3.txt  \n",
       "2   [(because, IN), (the, DT), (reason, NN), (why,...  41_1-1-3.txt  \n",
       "3   [(okay, NN), (i, NN), (though, IN), (it, PRP),...  41_1-1-3.txt  \n",
       "4   [(so, RB), (your, PRP$), (stance, NN), (be, VB...  41_1-1-3.txt  \n",
       "5   [(they, PRP), (should, MD), (not, RB), (be, VB...  41_1-1-3.txt  \n",
       "6   [(that, DT), (be, VB), (a, DT), (small, JJ), (...  41_1-1-3.txt  \n",
       "7   [(it, PRP), (be, VB), (but, CC), (say, VB), (i...  41_1-1-3.txt  \n",
       "8   [(but, CC), (a, DT), (lot, NN), (of, IN), (the...  41_1-1-3.txt  \n",
       "9   [(i, NNS), (have, VBP), (not, RB), (hear, VB),...  41_1-1-3.txt  \n",
       "10  [(that, DT), (be, VB), (basically, RB), (like,...  41_1-1-3.txt  \n",
       "11  [(i, NN), (think, VBP), (also, RB), (we, PRP),...  41_1-1-3.txt  \n",
       "12  [(that, DT), (be, VB), (not, RB), (the, DT), (...  41_1-1-3.txt  \n",
       "13  [(i, JJ), (mean, VBP), (i, JJ), (be, VB), (jus...  41_1-1-3.txt  \n",
       "14  [(well, RB), (i, JJ), (understand, VBP), (peop...  41_1-1-3.txt  \n",
       "15  [(but, CC), (then, RB), (you, PRP), (can, MD),...  41_1-1-3.txt  \n",
       "16  [(i, NN), (be, VB), (try, VBN), (to, TO), (inc...  41_1-1-3.txt  \n",
       "17                         [(another, DT), (one, NN)]  41_1-1-3.txt  \n",
       "18  [(mama, NN), (fight, NN), (for, IN), (this, DT...  41_1-1-3.txt  \n",
       "19  [(for, IN), (this, DT), (i, JJ), (mean, VBP), ...  41_1-1-3.txt  \n",
       "20  [(because, IN), (the, DT), (republican, JJ), (...  41_1-1-3.txt  \n",
       "21  [(no, DT), (i, NN), (do, VBP), (not, RB), (wat...  41_1-1-3.txt  \n",
       "22  [(topic, NN), (and, CC), (it, PRP), (be, VB), ...  41_1-1-3.txt  \n",
       "0   [(ok, NN), (i, NN), (be, VB), (really, RB), (a...  16_2-1-2.txt  \n",
       "1                          [(they, PRP), (take, VBP)]  16_2-1-2.txt  \n",
       "2   [(i, NN), (think, VBP), (it, PRP), (be, VB), (...  16_2-1-2.txt  \n",
       "3   [(so, RB), (an, DT), (argument, NN), (could, M...  16_2-1-2.txt  \n",
       "4   [(it, PRP), (be, VB), (still, RB), (alive, JJ)...  16_2-1-2.txt  \n",
       "5   [(like, IN), (even, RB), (even, RB), (after, I...  16_2-1-2.txt  \n",
       "6   [(it, PRP), (be, VB), (still, RB), (a, DT), (p...  16_2-1-2.txt  \n",
       "..                                                ...           ...  \n",
       "1   [(i, NN), (think, VBP), (it, PRP), (be, VB), (...  27_1-1-2.txt  \n",
       "2   [(i, NN), (argue, VBP), (that, IN), (they, PRP...  27_1-1-2.txt  \n",
       "3   [(but, CC), (like, IN), (you, PRP), (know, VBP...  27_1-1-2.txt  \n",
       "4   [(it, PRP), (be, VB), (technically, RB), (well...  27_1-1-2.txt  \n",
       "5   [(so, IN), (you, PRP), (say, VBP), (that, IN),...  27_1-1-2.txt  \n",
       "6   [(no, DT), (they, PRP), (just, RB), (like, IN)...  27_1-1-2.txt  \n",
       "7   [(ok, RB), (but, CC), (this, DT), (be, VB), (k...  27_1-1-2.txt  \n",
       "8                  [(yeah, NN), (i, NN), (mean, VBP)]  27_1-1-2.txt  \n",
       "9   [(like, IN), (not, RB), (now, RB), (because, I...  27_1-1-2.txt  \n",
       "10  [(well, RB), (it, PRP), (be, VB), (like, IN), ...  27_1-1-2.txt  \n",
       "11  [(think, VB), (yeah, NNS), (but, CC), (what, W...  27_1-1-2.txt  \n",
       "12  [(if, IN), (they, PRP), (be, VB), (lose, JJ), ...  27_1-1-2.txt  \n",
       "13  [(yeah, VB), (what, WP), (if, IN), (they, PRP)...  27_1-1-2.txt  \n",
       "14  [(well, RB), (it, PRP), (be, VB), (like, IN), ...  27_1-1-2.txt  \n",
       "15                [(they, PRP), (be, VB), (rich, JJ)]  27_1-1-2.txt  \n",
       "16  [(yeah, NN), (yeah, NN), (i, NN), (mean, VBP),...  27_1-1-2.txt  \n",
       "17       [(i, NNS), (do, VBP), (not, RB), (know, VB)]  27_1-1-2.txt  \n",
       "18  [(i, NNS), (do, VBP), (not, RB), (know, VB), (...  27_1-1-2.txt  \n",
       "19  [(it, PRP), (be, VB), (like, IN), (it, PRP), (...  27_1-1-2.txt  \n",
       "20  [(okay, RB), (well, RB), (if, IN), (like, IN),...  27_1-1-2.txt  \n",
       "21                                       [(yeah, NN)]  27_1-1-2.txt  \n",
       "22                 [(it, PRP), (be, VB), (yeah, VBN)]  27_1-1-2.txt  \n",
       "23  [(let, VB), (u, JJ), (talk, VB), (about, IN), ...  27_1-1-2.txt  \n",
       "24  [(an, DT), (spend, VBP), (the, DT), (money, NN...  27_1-1-2.txt  \n",
       "25                                       [(yeah, NN)]  27_1-1-2.txt  \n",
       "26       [(okay, IN), (so, RB), (i, JJ), (mean, VBP)]  27_1-1-2.txt  \n",
       "27                                       [(okay, NN)]  27_1-1-2.txt  \n",
       "28  [(like, IN), (i, NN), (i, VBP), (know, VBP), (...  27_1-1-2.txt  \n",
       "29  [(okay, RB), (so, RB), (how, WRB), (how, WRB),...  27_1-1-2.txt  \n",
       "30  [(the, DT), (rich, JJ), (let, NN), (u, JJ), (s...  27_1-1-2.txt  \n",
       "\n",
       "[2629 rows x 7 columns]"
      ]
     },
     "execution_count": 308,
     "metadata": {},
     "output_type": "execute_result"
    }
   ],
   "source": [
    "PHASE1RUN(\n",
    "          input_files=INPUT_PATH+'TRANSCRIPTS/',\n",
    "          input_as_directory=True,\n",
    "          save_concatenated_dataframe=False,\n",
    "          output_file_directory=INPUT_PATH,\n",
    "          training_dictionary=INPUT_PATH+'tasa.txt',\n",
    "          minwords=1,\n",
    "          use_filler_list=None,\n",
    "          add_stanford_tags=False,\n",
    "          stanford_pos_path=STANFORD_POS_PATH)"
   ]
  },
  {
   "cell_type": "markdown",
   "metadata": {
    "deletable": true,
    "editable": true
   },
   "source": [
    "### Merge adjacent turns by the same participant"
   ]
  },
  {
   "cell_type": "code",
   "execution_count": 103,
   "metadata": {
    "collapsed": true,
    "deletable": true,
    "editable": true
   },
   "outputs": [],
   "source": [
    "def AdjacentMerge(dataframe):\n",
    "\n",
    "    \"\"\"\n",
    "    Given a dataframe of conversation turns,\n",
    "    merge adjacent turns by the same speaker.\n",
    "    \"\"\"    \n",
    "    \n",
    "    repeat=1\n",
    "    while repeat==1:\n",
    "        l1=len(dataframe) \n",
    "        DfMerge = []\n",
    "        k = 0\n",
    "        if len(dataframe) > 0:\n",
    "            while k < len(dataframe)-1: \n",
    "                if dataframe['participant'].iloc[k] != dataframe['participant'].iloc[k+1]:\n",
    "                    DfMerge.append([dataframe['participant'].iloc[k], dataframe['content'].iloc[k]])         \n",
    "                    k = k + 1\n",
    "                elif dataframe['participant'].iloc[k] == dataframe['participant'].iloc[k+1]:                    \n",
    "                    DfMerge.append([dataframe['participant'].iloc[k], dataframe['content'].iloc[k] + \" \" + dataframe['content'].iloc[k+1]])           \n",
    "                    k = k + 2   \n",
    "            if k == len(dataframe)-1:\n",
    "                DfMerge.append([dataframe['participant'].iloc[k], dataframe['content'].iloc[k]])      \n",
    "        \n",
    "        dataframe=pd.DataFrame(DfMerge,columns=('participant','content'))\n",
    "        if l1==len(dataframe): \n",
    "            repeat=0 \n",
    "                \n",
    "    return dataframe"
   ]
  },
  {
   "cell_type": "markdown",
   "metadata": {
    "deletable": true,
    "editable": true
   },
   "source": [
    "## Prepare transcript text"
   ]
  },
  {
   "cell_type": "markdown",
   "metadata": {
    "deletable": true,
    "editable": true
   },
   "source": [
    "* **[Check spelling](#Check-spelling)** via a Bayesian spell-checking algorithm (http://norvig.com/spell-correct.html).\n",
    "* **[Tokenize and apply spell correction](#Tokenize-and-apply-spell-correction)** to the original transcript text.\n",
    "* **[Lemmatize](#Lemmatize)** using WordNet-derived categories.\n",
    "* [**Part-of-speech tagging**](#Part-of-speech-tagging) with user-defined tagger(s) on both lemmatized and non-lemmatized tokens.\n",
    "    * Users may choose to use the NLTK default POS tagger (default) and/or the Stanford POS tagger (optional). The NLTK default tagger is more time-efficient."
   ]
  },
  {
   "cell_type": "markdown",
   "metadata": {
    "deletable": true,
    "editable": true
   },
   "source": [
    "### Tokenize and apply spell correction"
   ]
  },
  {
   "cell_type": "markdown",
   "metadata": {
    "deletable": true,
    "editable": true
   },
   "source": [
    "**To Nick**: If you're okay with specifying the contractions here, we should also delete the `.txt` file from the enclosing folder."
   ]
  },
  {
   "cell_type": "markdown",
   "metadata": {
    "deletable": true,
    "editable": true
   },
   "source": [
    "**To Alex**: Sweet. Deleted. "
   ]
  },
  {
   "cell_type": "code",
   "execution_count": 104,
   "metadata": {
    "collapsed": true,
    "deletable": true,
    "editable": true
   },
   "outputs": [],
   "source": [
    "def Tokenize(text,nwords):\n",
    "    \"\"\"\n",
    "    Given list of text to be processed and a list \n",
    "    of known words, return a list of edited and \n",
    "    tokenized words.\n",
    "    \"\"\"\n",
    "    \n",
    "    # internal function: identify possible spelling errors for a given word\n",
    "    def edits1(word): \n",
    "        splits     = [(word[:i], word[i:]) for i in range(len(word) + 1)]\n",
    "        deletes    = [a + b[1:] for a, b in splits if b]\n",
    "        transposes = [a + b[1] + b[0] + b[2:] for a, b in splits if len(b)>1]\n",
    "        replaces   = [a + c + b[1:] for a, b in splits for c in string.lowercase if b]\n",
    "        inserts    = [a + c + b     for a, b in splits for c in string.lowercase]\n",
    "        return set(deletes + transposes + replaces + inserts)\n",
    "\n",
    "    # internal function: identify known edits\n",
    "    def known_edits2(word,nwords):\n",
    "        return set(e2 for e1 in edits1(word) for e2 in edits1(e1) if e2 in nwords)\n",
    "\n",
    "    # internal function: identify known words\n",
    "    def known(words,nwords): return set(w for w in words if w in nwords)\n",
    "\n",
    "    # internal function: correct spelling\n",
    "    def correct(word,nwords):\n",
    "        candidates = known([word],nwords) or known(edits1(word),nwords) or known_edits2(word,nwords) or [word]\n",
    "        return max(candidates, key=nwords.get)\n",
    "\n",
    "    # expand out based on a fixed list of common contractions \n",
    "    contract_dict = { \"ain't\": \"is not\",\n",
    "        \"aren't\": \"are not\",\n",
    "        \"can't\": \"cannot\",\n",
    "        \"can't've\": \"cannot have\",\n",
    "        \"'cause\": \"because\",\n",
    "        \"could've\": \"could have\",\n",
    "        \"couldn't\": \"could not\",\n",
    "        \"couldn't've\": \"could not have\",\n",
    "        \"didn't\": \"did not\",\n",
    "        \"doesn't\": \"does not\",\n",
    "        \"don't\": \"do not\",\n",
    "        \"hadn't\": \"had not\",\n",
    "        \"hadn't've\": \"had not have\",\n",
    "        \"hasn't\": \"has not\",\n",
    "        \"haven't\": \"have not\",\n",
    "        \"he'd\": \"he had\",\n",
    "        \"he'd've\": \"he would have\",\n",
    "        \"he'll\": \"he will\",\n",
    "        \"he'll've\": \"he will have\",\n",
    "        \"he's\": \"he is\",\n",
    "        \"how'd\": \"how did\",\n",
    "        \"how'd'y\": \"how do you\",\n",
    "        \"how'll\": \"how will\",\n",
    "        \"how's\": \"how is\",\n",
    "        \"i'd\": \"i would\",\n",
    "        \"i'd've\": \"i would have\",\n",
    "        \"i'll\": \"i will\",\n",
    "        \"i'll've\": \"i will have\",\n",
    "        \"i'm\": \"i am\",\n",
    "        \"i've\": \"i have\",\n",
    "        \"isn't\": \"is not\",\n",
    "        \"it'd\": \"it would\",\n",
    "        \"it'd've\": \"it would have\",\n",
    "        \"it'll\": \"it will\",\n",
    "        \"it'll've\": \"it will have\",\n",
    "        \"it's\": \"it is\",\n",
    "        \"let's\": \"let us\",\n",
    "        \"ma'am\": \"madam\",\n",
    "        \"mayn't\": \"may not\",\n",
    "        \"might've\": \"might have\",\n",
    "        \"mightn't\": \"might not\",\n",
    "        \"mightn't've\": \"might not have\",\n",
    "        \"must've\": \"must have\",\n",
    "        \"mustn't\": \"must not\",\n",
    "        \"mustn't've\": \"must not have\",\n",
    "        \"needn't\": \"need not\",\n",
    "        \"needn't've\": \"need not have\",\n",
    "        \"o'clock\": \"of the clock\",\n",
    "        \"oughtn't\": \"ought not\",\n",
    "        \"oughtn't've\": \"ought not have\",\n",
    "        \"shan't\": \"shall not\",\n",
    "        \"sha'n't\": \"shall not\",\n",
    "        \"shan't've\": \"shall not have\",\n",
    "        \"she'd\": \"she would\",\n",
    "        \"she'd've\": \"she would have\",\n",
    "        \"she'll\": \"she will\",\n",
    "        \"she'll've\": \"she will have\",\n",
    "        \"she's\": \"she is\",\n",
    "        \"should've\": \"should have\",\n",
    "        \"shouldn't\": \"should not\",\n",
    "        \"shouldn't've\": \"should not have\",\n",
    "        \"so've\": \"so have\",\n",
    "        \"so's\": \"so as\",\n",
    "        \"that'd\": \"that had\",\n",
    "        \"that'd've\": \"that would have\",\n",
    "        \"that's\": \"that is\",\n",
    "        \"there'd\": \"there would\",\n",
    "        \"there'd've\": \"there would have\",\n",
    "        \"there's\": \"there is\",\n",
    "        \"they'd\": \"they would\",\n",
    "        \"they'd've\": \"they would have\",\n",
    "        \"they'll\": \"they will\",\n",
    "        \"they'll've\": \"they will have\",\n",
    "        \"they're\": \"they are\",\n",
    "        \"they've\": \"they have\",\n",
    "        \"to've\": \"to have\",\n",
    "        \"wasn't\": \"was not\",\n",
    "        \"we'd\": \"we would\",\n",
    "        \"we'd've\": \"we would have\",\n",
    "        \"we'll\": \"we will\",\n",
    "        \"we'll've\": \"we will have\",\n",
    "        \"we're\": \"we are\",\n",
    "        \"we've\": \"we have\",\n",
    "        \"weren't\": \"were not\",\n",
    "        \"what'll\": \"what will\",\n",
    "        \"what'll've\": \"what will have\",\n",
    "        \"what're\": \"what are\",\n",
    "        \"what's\": \"what is\",\n",
    "        \"what've\": \"what have\",\n",
    "        \"when's\": \"when is\",\n",
    "        \"when've\": \"when have\",\n",
    "        \"where'd\": \"where did\",\n",
    "        \"where's\": \"where is\",\n",
    "        \"where've\": \"where have\",\n",
    "        \"who'll\": \"who will\",\n",
    "        \"who'll've\": \"who will have\",\n",
    "        \"who's\": \"who is\",\n",
    "        \"who've\": \"who have\",\n",
    "        \"why's\": \"why is\",\n",
    "        \"why've\": \"why have\",\n",
    "        \"will've\": \"will have\",\n",
    "        \"won't\": \"will not\",\n",
    "        \"won't've\": \"will not have\",\n",
    "        \"would've\": \"would have\",\n",
    "        \"wouldn't\": \"would not\",\n",
    "        \"wouldn't've\": \"would not have\",\n",
    "        \"y'all\": \"you all\",\n",
    "        \"y'all'd\": \"you all would\",\n",
    "        \"y'all'd've\": \"you all would have\",\n",
    "        \"y'all're\": \"you all are\",\n",
    "        \"y'all've\": \"you all have\",\n",
    "        \"you'd\": \"you would\",\n",
    "        \"you'd've\": \"you would have\",\n",
    "        \"you'll\": \"you will\",\n",
    "        \"you'll've\": \"you will have\",\n",
    "        \"you're\": \"you are\",\n",
    "        \"you've\": \"you have\" }\n",
    "    contractions_re = re.compile('(%s)' % '|'.join(contract_dict.keys()))      \n",
    "\n",
    "    # internal function:    \n",
    "    def expand_contractions(text, contractions_re=contractions_re):\n",
    "        def replace(match):\n",
    "            return contract_dict[match.group(0)]\n",
    "        return contractions_re.sub(replace, text.lower())\n",
    "\n",
    "    # process all words in the text\n",
    "    cleantoken = []\n",
    "    text = expand_contractions(text)\n",
    "    token = word_tokenize(text)\n",
    "    for word in token:        \n",
    "        if \"'\" not in word:\n",
    "            cleantoken.append(correct(word,nwords))\n",
    "        else:\n",
    "            cleantoken.append(word) \n",
    "    return cleantoken"
   ]
  },
  {
   "cell_type": "markdown",
   "metadata": {
    "deletable": true,
    "editable": true
   },
   "source": [
    "### Lemmatize"
   ]
  },
  {
   "cell_type": "code",
   "execution_count": 105,
   "metadata": {
    "collapsed": true,
    "deletable": true,
    "editable": true
   },
   "outputs": [],
   "source": [
    "def pos_to_wn(tag):\n",
    "    \"\"\"\n",
    "    Convert NLTK default tagger output into a format that Wordnet\n",
    "    can use in order to properly lemmatize the text.\n",
    "    \"\"\"\n",
    "    \n",
    "    # create some inner functions for simplicity\n",
    "    def is_noun(tag):\n",
    "        return tag in ['NN', 'NNS', 'NNP', 'NNPS']\n",
    "    def is_verb(tag):\n",
    "        return tag in ['VB', 'VBD', 'VBG', 'VBN', 'VBP', 'VBZ']\n",
    "    def is_adverb(tag):\n",
    "        return tag in ['RB', 'RBR', 'RBS']\n",
    "    def is_adjective(tag):\n",
    "        return tag in ['JJ', 'JJR', 'JJS']\n",
    "    \n",
    "    # check each tag against possible categories\n",
    "    if is_noun(tag):\n",
    "        return wn.NOUN\n",
    "    elif is_verb(tag):\n",
    "        return wn.VERB\n",
    "    elif is_adverb(tag):\n",
    "        return wn.ADV\n",
    "    elif is_adjective(tag):\n",
    "        return wn.ADJ\n",
    "    else:\n",
    "        return wn.NOUN"
   ]
  },
  {
   "cell_type": "code",
   "execution_count": 106,
   "metadata": {
    "collapsed": true,
    "deletable": true,
    "editable": true
   },
   "outputs": [],
   "source": [
    "def Lemmatize(tokenlist):\n",
    "    lemmatizer = WordNetLemmatizer() \n",
    "    defaultPos = nltk.pos_tag(tokenlist) # get the POS tags from NLTK default tagger\n",
    "    words_lemma = []\n",
    "    for item in defaultPos:  \n",
    "        words_lemma.append(lemmatizer.lemmatize(item[0],pos_to_wn(item[1]))) # need to convert POS tags to a format (NOUN, VERB, ADV, ADJ) that wordnet uses to lemmatize\n",
    "    return words_lemma"
   ]
  },
  {
   "cell_type": "markdown",
   "metadata": {
    "deletable": true,
    "editable": true
   },
   "source": [
    "### Part-of-speech tagging"
   ]
  },
  {
   "cell_type": "code",
   "execution_count": 107,
   "metadata": {
    "collapsed": true,
    "deletable": true,
    "editable": true
   },
   "outputs": [],
   "source": [
    "def ApplyPOSTagging(df,\n",
    "                    filename,\n",
    "                    add_stanford_tags=False,\n",
    "                    stanford_pos_path=None):\n",
    "\n",
    "    \"\"\"\n",
    "    Given a dataframe of conversation turns, return a new\n",
    "    dataframe with part-of-speech tagging. Add filename\n",
    "    (given as string) as a new column in returned dataframe.\n",
    "    \n",
    "    By default, return only tags from the NLTK default POS \n",
    "    tagger. Optionally, also return Stanford POS tagger \n",
    "    results by setting `add_stanford_tags=True`.\n",
    "    \n",
    "    If Stanford POS tagging is desired, specify the\n",
    "    location of the Stanford POS tagger with the \n",
    "    `stanford_pos_path` argument.\n",
    "    \"\"\"\n",
    "    \n",
    "    # if desired, import Stanford tagger\n",
    "    if add_stanford_tags == True:\n",
    "        if stanford_pos_path == None:\n",
    "            raise ValueError('Error! Specify path to Stanford POS tagger using the `stanford_pos_path` argument.')\n",
    "        else:\n",
    "            stanford_tagger = StanfordPOSTagger(stanford_pos_path + 'models/english-left3words-distsim.tagger',\n",
    "                                                stanford_pos_path + 'stanford-postagger.jar')\n",
    "    \n",
    "    # add new columns to dataframe\n",
    "    df['tagged_token'] = df['token'].apply(nltk.pos_tag)\n",
    "    df['tagged_lemma'] = df['lemma'].apply(nltk.pos_tag)\n",
    "    \n",
    "    # if desired, also tag with Stanford tagger\n",
    "    if add_stanford_tags == True:\n",
    "        df['tagged_stan_token'] = df['token'].apply(stanford_tagger.tag)\n",
    "        df['tagged_stan_lemma'] = df['lemma'].apply(stanford_tagger.tag)\n",
    "\n",
    "    df['file'] = filename\n",
    "        \n",
    "    # return finished dataframe\n",
    "    return df"
   ]
  },
  {
   "cell_type": "markdown",
   "metadata": {
    "deletable": true,
    "editable": true
   },
   "source": [
    "## RUN Phase 1"
   ]
  },
  {
   "cell_type": "markdown",
   "metadata": {
    "deletable": true,
    "editable": true
   },
   "source": [
    "* For each original transcript file, saves new file with columns for:\n",
    "    * \"Clean\" text\n",
    "    * Tokenized words\n",
    "    * Tokenized lemmatized-words\n",
    "    * NLTK default POS-tagging on tokenized words\n",
    "    * NLTK default POS-tagging on lemmatized words\n",
    "    * Stanford POS-tagging on tokenized words\n",
    "    * Stanford POS-tagging on lemmatized-words\n",
    "* Also saves a single datasheet with all tokenized lemmatized utterances from all transcripts as individual rows\n",
    "    * called `align_concatenated_dataframe.txt`\n",
    "    * to be used in building semantic space for Phase 2"
   ]
  },
  {
   "cell_type": "code",
   "execution_count": 108,
   "metadata": {
    "collapsed": true,
    "deletable": true,
    "editable": true
   },
   "outputs": [],
   "source": [
    "def PHASE1RUN(input_files, \n",
    "              output_file_directory,\n",
    "              training_dictionary,\n",
    "              minwords=2,\n",
    "              use_filler_list=None,\n",
    "              add_stanford_tags=False,\n",
    "              stanford_pos_path=None,\n",
    "              input_as_directory=True,\n",
    "              save_concatenated_dataframe=True):   \n",
    "\n",
    "    \"\"\"\n",
    "    Given individual .txt files of conversations, \n",
    "    return a completely prepared dataframe of transcribed \n",
    "    conversations for later ALIGN analysis, including: text \n",
    "    cleaning, merging adjacent turns, spell-checking, \n",
    "    tokenization, lemmatization, and part-of-speech tagging. \n",
    "    The output serve as the input for later ALIGN\n",
    "    analysis.\n",
    "    \n",
    "    By default, set a minimum number of words in a turn to\n",
    "    3. If desired, this may be chaged by changing the\n",
    "    `minwords` file.\n",
    "    \n",
    "    By default, return only the NLTK default \n",
    "    POS tagger values. Optionally, also return Stanford POS \n",
    "    tagger values with `add_stanford_tags=True`.\n",
    "    \n",
    "    If Stanford POS tagging is desired, specify the\n",
    "    location of the Stanford POS tagger with the \n",
    "    `stanford_pos_path` argument.\n",
    "    \n",
    "    By default, accept `input_files` as a directory\n",
    "    that includes `.txt` files of each individual \n",
    "    conversation. If desired, provide individual files\n",
    "    as a list of literal paths to the `input_files`\n",
    "    argument and set `input_as_directory=False`.\n",
    "    \n",
    "    By default, produce a single concatenated dataframe\n",
    "    of all processed conversations in the output directory. \n",
    "    If desired, suppress concatenated dataframe with \n",
    "    `save_concatenated_dataframe=False`.\n",
    "    \"\"\"\n",
    "    \n",
    "    # create an internal function to train the model\n",
    "    def train(features): \n",
    "        model = defaultdict(lambda: 1)\n",
    "        for f in features:\n",
    "            model[f] += 1\n",
    "        return model\n",
    "        \n",
    "    # train our spell-checking model\n",
    "    nwords = train(re.findall('[a-z]+',(file(training_dictionary).read().lower())))\n",
    "    \n",
    "    # grab the appropriate files\n",
    "    if input_as_directory==False:\n",
    "        file_list = glob.glob(input_files)\n",
    "    else: \n",
    "        file_list = glob.glob(input_files+\"*.txt\")\n",
    "    \n",
    "    # cycle through all files \n",
    "    main = pd.DataFrame()\n",
    "    for fileName in file_list:  \n",
    "        \n",
    "        # let us know which file we're processing\n",
    "        dataframe = pd.read_csv(fileName, sep='\\t',encoding='utf-8')\n",
    "        print \"Processing: \"+fileName\n",
    "\n",
    "        # clean up, merge, spellcheck, tokenize, lemmatize, and POS-tag\n",
    "        dataframe = InitialCleanup(dataframe,\n",
    "                                  minwords=minwords,\n",
    "                                  use_filler_list=use_filler_list)\n",
    "        dataframe = AdjacentMerge(dataframe)\n",
    "        \n",
    "        # tokenize and lemmatize \n",
    "        dataframe['token'] = dataframe['content'].apply(Tokenize,\n",
    "                                     args=(nwords,))\n",
    "        dataframe['lemma'] = dataframe['token'].apply(Lemmatize)\n",
    "\n",
    "        # apply part-of-speech tagging\n",
    "        dataframe = ApplyPOSTagging(dataframe,  \n",
    "                                    filename = os.path.basename(fileName),\n",
    "                                    add_stanford_tags=add_stanford_tags,\n",
    "                                    stanford_pos_path=stanford_pos_path\n",
    "                                    )\n",
    "        \n",
    "        # export the conversation's dataframe as a CSV\n",
    "        dataframe.to_csv(output_file_directory + os.path.basename(fileName), \n",
    "                         encoding='utf-8',index=False,sep='\\t')\n",
    "        main = main.append(dataframe)\n",
    "\n",
    "    # save the concatenated dataframe\n",
    "    if save_concatenated_dataframe != False:\n",
    "        main.to_csv(output_file_directory +'../' + \"align_concatenated_dataframe.txt\",\n",
    "                    encoding='utf-8',index=False, sep='\\t')\n",
    "    \n",
    "    # return the dataframe\n",
    "    return main"
   ]
  },
  {
   "cell_type": "markdown",
   "metadata": {
    "deletable": true,
    "editable": true
   },
   "source": [
    "**To Nick**: Since you didn't want to add the concatenated dataframe, I went ahead and spun that out as a new argument (`save_concatenated_dataframe`). I've also made it so that the function can accept input files as a list of literal strings to file paths by setting `input_as_directory = False` and providing the list of paths to `input_files`."
   ]
  },
  {
   "cell_type": "markdown",
   "metadata": {
    "deletable": true,
    "editable": true
   },
   "source": [
    "**To Alex** Sounds good. I just added the glob.glob to the line that reads in the input file"
   ]
  },
  {
   "cell_type": "code",
   "execution_count": 109,
   "metadata": {
    "collapsed": false,
    "deletable": true,
    "editable": true,
    "scrolled": false
   },
   "outputs": [],
   "source": [
    "# specified_filler_list = ['ignore','these','words']\n",
    "# loaded_filler_list = list(pd.read_csv('fillers.txt',squeeze=True))\n",
    "\n",
    "# PHASE1RUN(\n",
    "#           input_files=INPUT_PATH+TRANSCRIPTS,\n",
    "#           input_as_directory=False,\n",
    "#           save_concatenated_dataframe=False,\n",
    "#           output_file_directory=INPUT_PATH+PREPPED_TRANSCRIPTS,\n",
    "#           training_dictionary=INPUT_PATH+'big.txt',\n",
    "#           minwords=3,\n",
    "#           use_filler_list=None,\n",
    "#           add_stanford_tags=True,\n",
    "#           stanford_pos_path=STANFORD_POS_PATH)"
   ]
  },
  {
   "cell_type": "markdown",
   "metadata": {
    "deletable": true,
    "editable": true
   },
   "source": [
    "# Phase 2: Generate alignment scores"
   ]
  },
  {
   "cell_type": "markdown",
   "metadata": {
    "deletable": true,
    "editable": true
   },
   "source": [
    "* [**Create helper functions**](#Create-helper-functions) for processing turn- and conversation-level data.\n",
    "* **[Build semantic space](#Build-semantic-space)** from the `forSemantic.txt` generated in Phase 1 and return a `word2vec` semantic space and vocabulary list."
   ]
  },
  {
   "cell_type": "markdown",
   "metadata": {
    "deletable": true,
    "editable": true
   },
   "source": [
    "[To top.](#ALIGN)"
   ]
  },
  {
   "cell_type": "markdown",
   "metadata": {
    "collapsed": true,
    "deletable": true,
    "editable": true
   },
   "source": [
    "### Create helper functions"
   ]
  },
  {
   "cell_type": "code",
   "execution_count": 110,
   "metadata": {
    "collapsed": true,
    "deletable": true,
    "editable": true
   },
   "outputs": [],
   "source": [
    "def ngram_pos(sequence1,sequence2,ngramsize=2,\n",
    "                   ignore_duplicates=True):\n",
    "    \"\"\"\n",
    "    Remove mimicked lexical sequences from two interlocutors'\n",
    "    sequences and return a dictionary of counts of ngrams\n",
    "    of the desired size for each sequence.\n",
    "    \n",
    "    By default, consider bigrams. If desired, this may be \n",
    "    changed by setting `ngramsize` to the appropriate \n",
    "    value.    \n",
    "    \n",
    "    By default, ignore duplicate lexical n-grams when\n",
    "    processing these sequences. If desired, this may\n",
    "    be changed with `ignore_duplicates=False`.\n",
    "    \"\"\"     \n",
    "    \n",
    "    # remove duplicates and recreate sequences\n",
    "    sequence1 = set(ngrams(sequence1,ngramsize))\n",
    "    sequence2 = set(ngrams(sequence2,ngramsize))\n",
    "\n",
    "    # if desired, remove duplicates from sequences\n",
    "    if ignore_duplicates==True:\n",
    "        new_sequence1 = [tuple([''.join(pair[1]) for pair in tup]) for tup in list(sequence1 - sequence2)]\n",
    "        new_sequence2 = [tuple([''.join(pair[1]) for pair in tup]) for tup in list(sequence2 - sequence1)]\n",
    "    else:\n",
    "        new_sequence1 = [tuple([''.join(pair[1]) for pair in tup]) for tup in sequence1]\n",
    "        new_sequence2 = [tuple([''.join(pair[1]) for pair in tup]) for tup in sequence2]\n",
    "        \n",
    "    # return counters\n",
    "    return Counter(new_sequence1), Counter(new_sequence2)"
   ]
  },
  {
   "cell_type": "code",
   "execution_count": 111,
   "metadata": {
    "collapsed": true,
    "deletable": true,
    "editable": true
   },
   "outputs": [],
   "source": [
    "def ngram_lexical(sequence1,sequence2,ngramsize=2):\n",
    "    \"\"\"\n",
    "    Create ngrams of the desired size for each of two\n",
    "    interlocutors' sequences and return a dictionary \n",
    "    of counts of ngrams for each sequence.\n",
    "    \n",
    "    By default, consider bigrams. If desired, this may be \n",
    "    changed by setting `ngramsize` to the appropriate \n",
    "    value.  \n",
    "    \n",
    "    \"\"\"   \n",
    "    \n",
    "    # generate ngrams\n",
    "    sequence1 = list(ngrams(sequence1,ngramsize))\n",
    "    sequence2 = list(ngrams(sequence2,ngramsize)) \n",
    "\n",
    "    # join for counters\n",
    "    new_sequence1 = [' '.join(pair) for pair in sequence1]\n",
    "    new_sequence2 = [' '.join(pair) for pair in sequence2]\n",
    "    \n",
    "    # return counters\n",
    "    return Counter(new_sequence1), Counter(new_sequence2)"
   ]
  },
  {
   "cell_type": "code",
   "execution_count": 112,
   "metadata": {
    "collapsed": true,
    "deletable": true,
    "editable": true
   },
   "outputs": [],
   "source": [
    "def get_cosine(vec1, vec2): \n",
    "    \"\"\"\n",
    "    Derive cosine similarity metric, standard measure.\n",
    "    Adapted from <https://stackoverflow.com/a/33129724>.\n",
    "    \"\"\"     \n",
    "    intersection = set(vec1.keys()) & set(vec2.keys())\n",
    "    numerator = sum([vec1[x] * vec2[x] for x in intersection])\n",
    "    sum1 = sum([vec1[x]**2 for x in vec1.keys()])\n",
    "    sum2 = sum([vec2[x]**2 for x in vec2.keys()])\n",
    "    denominator = math.sqrt(sum1) * math.sqrt(sum2)\n",
    "    if not denominator:\n",
    "        return 0.0\n",
    "    else:\n",
    "        return float(numerator) / denominator    "
   ]
  },
  {
   "cell_type": "code",
   "execution_count": 229,
   "metadata": {
    "collapsed": true,
    "deletable": true,
    "editable": true
   },
   "outputs": [],
   "source": [
    "def build_composite_semantic_vector(lemma_seq,vocablist,highDimModel):\n",
    "    \"\"\"\n",
    "    Function for producing vocablist and model is called in the main loop\n",
    "    \"\"\"\n",
    "    \n",
    "    ## filter out words in corpus that do not appear in vocablist (either too rare or too frequent)\n",
    "    filter_lemma_seq = [word for word in lemma_seq if word in vocablist]\n",
    "    print filter_lemma_seq\n",
    "    print highDimModel.doesnt_match(filter_lemma_seq)\n",
    "    \n",
    "    \n",
    "    \n",
    "    ## build composite vector\n",
    "    getComposite = [0] * len(highDimModel[vocablist[1]])        \n",
    "    for w1 in filter_lemma_seq:\n",
    "        semvector = highDimModel[w1]\n",
    "        getComposite = getComposite + semvector\n",
    "    return getComposite\n",
    "\n",
    "# what we want to do here is find the union of the vocablist within the HDM and then sum over all of the columns.\n",
    "# should be faster/easier than current instantiation\n",
    "\n",
    "\n",
    "\n",
    "\n",
    "# raise ValueError('Error! The corpus contains words that do not appear in pre-trained vectors')\n"
   ]
  },
  {
   "cell_type": "code",
   "execution_count": null,
   "metadata": {
    "collapsed": true
   },
   "outputs": [],
   "source": [
    "# def build_composite_semantic_vector(lemma_seq,vocablist,highDimModel):\n",
    "#     \"\"\"\n",
    "#     Function for producing vocablist and model is called in the main loop\n",
    "#     \"\"\"\n",
    "    \n",
    "# #     print lemma_seq\n",
    "#     ## filter out words in corpus that do not appear in vocablist (either too rare or too frequent)\n",
    "# #     keepSentences = [[word for word in row if word in contentWords] for row in all_sentences]\n",
    "#     filterSeq = [word for word in lemma_seq if word in vocablist]\n",
    "    \n",
    "#     getComposite = [0] * len(highDimModel[vocablist[1]])    \n",
    "#     for w1 in lemma_seq:\n",
    "#         if w1 in vocablist:\n",
    "#             semvector = highDimModel[w1]\n",
    "#             getComposite = getComposite + semvector    \n",
    "#     return getComposite\n",
    "\n",
    "# # what we want to do here is find the union of the vocablist within the HDM and then sum over all of the columns.\n",
    "# # should be faster/easier than current instantiation"
   ]
  },
  {
   "cell_type": "markdown",
   "metadata": {
    "deletable": true,
    "editable": true
   },
   "source": [
    "### Build semantic space"
   ]
  },
  {
   "cell_type": "code",
   "execution_count": 223,
   "metadata": {
    "collapsed": false,
    "deletable": true,
    "editable": true
   },
   "outputs": [],
   "source": [
    "def BuildSemanticModel(semantic_model_input_file,   \n",
    "                        pretrained_input_file,\n",
    "                        use_pretrained_vectors=True,                     \n",
    "                        high_sd_cutoff=3,\n",
    "                        low_n_cutoff=1):\n",
    "#                         build_semantic_space=True):\n",
    "    \"\"\"\n",
    "    Given an input file produced by the ALIGN Phase 1 functions, \n",
    "    build a semantic model from all transcripts in all conversations\n",
    "    in target corpus after removing high- and low-frequency words.\n",
    "    High-frequency words are determined by a user-defined number of\n",
    "    SDs over the mean (by default, `high_sd_cutoff=3`). Low-frequency\n",
    "    words must appear over a specified number of raw occurrences \n",
    "    (by default, `low_n_cutoff=1`).\n",
    "    \n",
    "    Frequency cutoffs can be removed by `high_sd_cutoff=None` and/or\n",
    "    `low_n_cutoff=0`.\n",
    "    \"\"\"\n",
    "    \n",
    "    # build vocabulary list from transcripts\n",
    "    data1 = pd.read_csv(semantic_model_input_file, sep='\\t',encoding='utf-8')\n",
    "        \n",
    "    # get frequency count of all included words        \n",
    "    all_sentences = [re.sub('[^\\w\\s]+','',str(row)).split(' ') for row in list(data1['lemma'])]\n",
    "#     all_words = list([a for b in all_sentences for a in b])  \n",
    "    all_words = list([a for b in all_sentences for a in b if len(a) > 1])\n",
    "    frequency = defaultdict(int)\n",
    "    for word in all_words:\n",
    "        frequency[word] += 1\n",
    "\n",
    "    # remove words that only occur more frequently than our cutoff (defined in occurrences)\n",
    "    frequency = {word: freq for word, freq in frequency.iteritems() if freq > low_n_cutoff}\n",
    "    \n",
    "    # if desired, remove high-frequency words (over user-defined SDs above mean) \n",
    "    if high_sd_cutoff == None:\n",
    "        contentWords = [word for word in frequency.keys()] \n",
    "    else:\n",
    "        getOut = np.mean(frequency.values())+(np.std(frequency.values())*(high_sd_cutoff))\n",
    "        contentWords = {word: freq for word, freq in frequency.iteritems() if freq < getOut}.keys()\n",
    "    \n",
    "    # decide whether to build semantic model from scratch or load in pretrained vectors\n",
    "    if use_pretrained_vectors == False:\n",
    "        keepSentences = [[word for word in row if word in contentWords] for row in all_sentences]\n",
    "        semantic_model = word2vec.Word2Vec(keepSentences, min_count=low_n_cutoff)\n",
    "    else:\n",
    "        if pretrained_vectors_file == None:\n",
    "            raise ValueError('Error! Specify path to pretrained vector file using the `pretrained_input_file` argument.')\n",
    "        else:\n",
    "            semantic_model = gensim.models.KeyedVectors.load_word2vec_format(pretrained_input_file, binary=True)    \n",
    "        \n",
    "    # return all the content words and the trained word vectors\n",
    "    return contentWords, semantic_model.wv\n",
    "    \n",
    "#     return contentWords, semantic_model.wv\n",
    "#     return contentWords"
   ]
  },
  {
   "cell_type": "code",
   "execution_count": null,
   "metadata": {
    "collapsed": true
   },
   "outputs": [],
   "source": [
    "#     # decide whether to build semantic model from scratch or load in previous run \n",
    "#     if load_previous_run == False:    \n",
    "#         # build the semantic model either using each utterance as context, or using a larger pretrained model\n",
    "#         if use_pretrained_vectors == False:\n",
    "#             keepSentences = [[word for word in row if word in contentWords] for row in all_sentences]\n",
    "#             semantic_model = word2vec.Word2Vec(keepSentences, min_count=low_n_cutoff)\n",
    "#         else:\n",
    "#             if pretrained_vectors_file == None:\n",
    "#                 raise ValueError('Error! Specify path to pretrained vector file using the `pretrained_input_file` argument.')\n",
    "#             else:\n",
    "#                 semantic_model = gensim.models.KeyedVectors.load_word2vec_format(pretrained_vectors_file, binary=True)    \n",
    "#         word_vectors = semantic_model.wv\n",
    "#         word_vectors.save(INPUT_PATH+\"trainedSemanticModel\")\n",
    "        \n",
    "#     else:\n",
    "#         if os.path.isfile(previous_run_saved) == False: \n",
    "#             raise ValueError('Error! Need to set `load_previous_run` to `False` and build model either using current corpus or from pretrained vectors')\n",
    "#         else:\n",
    "#             word_vectors = KeyedVectors.load(previous_run_saved)\n",
    "        \n",
    "#     # return all the content words and the trained word vectors\n",
    "#     return contentWords, word_vectors\n",
    "    \n",
    "# #     return contentWords, semantic_model.wv\n",
    "# #     return contentWords\n",
    "\n",
    "# [vocablist,modelvectors] = BuildSemanticModel(semantic_model_input_file=INPUT_PATH+'align_concatenated_dataframe.txt',   \n",
    "#                     pretrained_vectors_file=INPUT_PATH+'GoogleNews-vectors-negative300.bin', \n",
    "#                     previous_run_saved=INPUT_PATH+\"trainedSemanticModel\",                          \n",
    "#                     load_previous_run=False,                                              \n",
    "#                     use_pretrained_vectors=True,                     \n",
    "#                     high_sd_cutoff=3,\n",
    "#                     low_n_cutoff=1,\n",
    "#                     )\n"
   ]
  },
  {
   "cell_type": "code",
   "execution_count": 224,
   "metadata": {
    "collapsed": false,
    "deletable": true,
    "editable": true
   },
   "outputs": [
    {
     "name": "stderr",
     "output_type": "stream",
     "text": [
      "WARNING:gensim.models.word2vec:under 10 jobs per worker: consider setting a smaller `batch_words' for smoother alpha decay\n"
     ]
    }
   ],
   "source": [
    "[vocablist,highDimModel] = BuildSemanticModel(semantic_model_input_file=INPUT_PATH+'align_concatenated_dataframe.txt',   \n",
    "                    pretrained_input_file=INPUT_PATH+'GoogleNews-vectors-negative300.bin', \n",
    "                    use_pretrained_vectors=False,                     \n",
    "                    high_sd_cutoff=3,\n",
    "                    low_n_cutoff=1,\n",
    "                    )    "
   ]
  },
  {
   "cell_type": "code",
   "execution_count": 230,
   "metadata": {
    "collapsed": false,
    "deletable": true,
    "editable": true
   },
   "outputs": [
    {
     "name": "stderr",
     "output_type": "stream",
     "text": [
      "WARNING:gensim.models.word2vec:under 10 jobs per worker: consider setting a smaller `batch_words' for smoother alpha decay\n"
     ]
    },
    {
     "name": "stdout",
     "output_type": "stream",
     "text": [
      "Processing: /Users/nduran/Desktop/GitProjects/align-linguistic-alignment/PREPPED_TRANSCRIPTS/31_1-0-2.txt\n",
      "[u'well', u'personally', u'believe', u'in', u'gay', u'lesion', u'marriage', u'because', u'probably', u'because', u'my', u'religious', u'belief', u'christian', u'anything', u'against', u'gay', u'or', u'lesion', u'criticize', u'them', u'or', u'too', u'at', u'them', u'or', u'anything', u'support', u'hata']\n",
      "belief\n",
      "[u'because', u'say', u'because', u'catholic', u'too', u'because', u'since', u'gay', u'lesion', u'can', u'actually', u'baby', u'with', u'each', u'other', u'why']\n",
      "catholic\n",
      "[u'because', u'say', u'because', u'catholic', u'too', u'because', u'since', u'gay', u'lesion', u'can', u'actually', u'baby', u'with', u'each', u'other', u'why']\n",
      "catholic\n",
      "[u'more', u'because', u'well', u'first', u'all', u'believe', u'in', u'bible', u'say', u'accept', u'in', u'bible', u'for', u'two', u'woman', u'marry', u'or', u'two', u'men', u'get', u'marry', u'one', u'reason', u'support']\n",
      "men\n",
      "[u'more', u'because', u'well', u'first', u'all', u'believe', u'in', u'bible', u'say', u'accept', u'in', u'bible', u'for', u'two', u'woman', u'marry', u'or', u'two', u'men', u'get', u'marry', u'one', u'reason', u'support']\n",
      "men\n",
      "[u'see', u'bible', u'as', u'because', u'for', u'why', u'because', u'see', u'difference', u'attract', u'each', u'other', u'want', u'get', u'married', u'there', u'would', u'same', u'thing', u'guess', u'allow', u'them', u'date', u'or', u'allow', u'them', u'whatever', u'because', u'still', u'people', u'right', u'kind', u'take', u'away', u'something']\n",
      "attract\n",
      "[u'see', u'bible', u'as', u'because', u'for', u'why', u'because', u'see', u'difference', u'attract', u'each', u'other', u'want', u'get', u'married', u'there', u'would', u'same', u'thing', u'guess', u'allow', u'them', u'date', u'or', u'allow', u'them', u'whatever', u'because', u'still', u'people', u'right', u'kind', u'take', u'away', u'something']\n",
      "attract\n",
      "[u'say', u'criticize', u'them', u'say', u'human', u'right', u'especially', u'in', u'this', u'country', u'where', u'there', u'free', u'will', u'government', u'no', u'one', u'can', u'tell', u'what', u'however', u'respect', u'law', u'on', u'my', u'opinion', u'support', u'what', u'mean', u'entitle', u'an', u'opinion', u'too', u'their', u'own', u'life', u'can', u'live']\n",
      "criticize\n",
      "[u'say', u'criticize', u'them', u'say', u'human', u'right', u'especially', u'in', u'this', u'country', u'where', u'there', u'free', u'will', u'government', u'no', u'one', u'can', u'tell', u'what', u'however', u'respect', u'law', u'on', u'my', u'opinion', u'support', u'what', u'mean', u'entitle', u'an', u'opinion', u'too', u'their', u'own', u'life', u'can', u'live']\n",
      "criticize\n",
      "[u'your', u'only', u'reason', u'because', u'bible', u'say']\n",
      "bible\n",
      "[u'your', u'only', u'reason', u'because', u'bible', u'say']\n",
      "bible\n",
      "[u'also', u'because', u'my', u'way', u'grow', u'up', u'grow', u'up', u'believe', u'marriage', u'should', u'between', u'man', u'woman', u'guess', u'lot', u'with', u'what', u'believe', u'way', u'raise', u'what', u'your', u'parent', u'tell', u'what', u'see', u'what', u'experience', u'shape', u'me', u'versus', u'versus', u'kind', u'thing']\n",
      "shape\n",
      "[u'also', u'because', u'my', u'way', u'grow', u'up', u'grow', u'up', u'believe', u'marriage', u'should', u'between', u'man', u'woman', u'guess', u'lot', u'with', u'what', u'believe', u'way', u'raise', u'what', u'your', u'parent', u'tell', u'what', u'see', u'what', u'experience', u'shape', u'me', u'versus', u'versus', u'kind', u'thing']\n",
      "shape\n",
      "[u'well', u'guess', u'we', u'suppose', u'talk', u'about', u'how', u'we', u'disagree', u'totally', u'disagree', u'with', u'because', u'feel', u'regardless', u'way', u'your', u'parent', u'bring', u'up', u'feel', u'believe', u'or', u'want', u'vote', u'for', u'them', u'get', u'marry', u'would', u'feel', u'would', u'take', u'away', u'something', u'our', u'right', u'take', u'away', u'from', u'them', u'because', u'obviously', u'we', u'would']\n",
      "disagree\n",
      "[u'well', u'guess', u'we', u'suppose', u'talk', u'about', u'how', u'we', u'disagree', u'totally', u'disagree', u'with', u'because', u'feel', u'regardless', u'way', u'your', u'parent', u'bring', u'up', u'feel', u'believe', u'or', u'want', u'vote', u'for', u'them', u'get', u'marry', u'would', u'feel', u'would', u'take', u'away', u'something', u'our', u'right', u'take', u'away', u'from', u'them', u'because', u'obviously', u'we', u'would']\n",
      "disagree\n",
      "[u'understand', u'your', u'position', u'where', u'come', u'from', u'however', u'would', u'come', u'vote', u'for', u'which', u'happen', u'in', u'some', u'state', u'some', u'state', u'allow', u'them', u'get', u'marry', u'ask', u'me', u'would', u'vote', u'for', u'them', u'get', u'married', u'personally', u'because', u'mean', u'my', u'personally', u'vote', u'we', u'allow', u'choose', u'our', u'our', u'our', u'allow', u'say', u'whether', u'would', u'happen', u'in', u'this', u'country', u'or']\n",
      "however\n",
      "[u'understand', u'your', u'position', u'where', u'come', u'from', u'however', u'would', u'come', u'vote', u'for', u'which', u'happen', u'in', u'some', u'state', u'some', u'state', u'allow', u'them', u'get', u'marry', u'ask', u'me', u'would', u'vote', u'for', u'them', u'get', u'married', u'personally', u'because', u'mean', u'my', u'personally', u'vote', u'we', u'allow', u'choose', u'our', u'our', u'our', u'allow', u'say', u'whether', u'would', u'happen', u'in', u'this', u'country', u'or']\n",
      "however\n",
      "[u'though', u'understand', u'we', u'different', u'opinion', u'about', u'what', u'else', u'we', u'suppose', u'talk', u'about', u'hata']\n",
      "suppose\n",
      "[u'though', u'understand', u'we', u'different', u'opinion', u'about', u'what', u'else', u'we', u'suppose', u'talk', u'about', u'hata']\n",
      "suppose\n",
      "[u'also', u'lot', u'with', u'our', u'culture', u'different', u'culture', u'different', u'opinion', u'about', u'gay', u'lesion', u'marriage', u'there', u'some', u'culture', u'actually', u'those', u'those', u'marriage', u'what', u'mean', u'them', u'guess', u'here', u'in', u'in', u'america', u'we', u'we', u'see', u'lot', u'what', u'mean', u'start', u'come', u'up', u'more', u'openly', u'probably', u'why', u'with']\n",
      "openly\n",
      "[u'also', u'lot', u'with', u'our', u'culture', u'different', u'culture', u'different', u'opinion', u'about', u'gay', u'lesion', u'marriage', u'there', u'some', u'culture', u'actually', u'those', u'those', u'marriage', u'what', u'mean', u'them', u'guess', u'here', u'in', u'in', u'america', u'we', u'we', u'see', u'lot', u'what', u'mean', u'start', u'come', u'up', u'more', u'openly', u'probably', u'why', u'with']\n",
      "openly\n",
      "[u'another', u'reason', u'why', u'support', u'because', u'even', u'way', u'other', u'people', u'who', u'against', u'say', u'lot', u'maybe', u'southern', u'state', u'stuff', u'wash', u'very', u'very', u'cantigny', u'feel', u'harmful', u'in', u'yes', u'versus', u'no', u'kind', u'people', u'into', u'my', u'gash', u'cantigny', u'full', u'hate', u'bah', u'bah', u'bah']\n",
      "wash\n",
      "[u'another', u'reason', u'why', u'support', u'because', u'even', u'way', u'other', u'people', u'who', u'against', u'say', u'lot', u'maybe', u'southern', u'state', u'stuff', u'wash', u'very', u'very', u'cantigny', u'feel', u'harmful', u'in', u'yes', u'versus', u'no', u'kind', u'people', u'into', u'my', u'gash', u'cantigny', u'full', u'hate', u'bah', u'bah', u'bah']\n",
      "wash\n",
      "[u'totally', u'agree', u'with', u'no', u'totally', u'agree', u'with', u'fact', u'there', u'should', u'any', u'what', u'mean', u'fact', u'agree', u'with', u'what', u'what', u'other', u'people', u'fact', u'we', u'disagree', u'on', u'this', u'this', u'mean', u'go', u'hate', u'or', u'or', u'vice', u'versa', u'what', u'mean', u'mean', u'we', u'different', u'opinion', u'different', u'way', u'see', u'our', u'life', u'totally', u'oppose', u'people', u'who', u'who']\n",
      "versa\n",
      "[u'totally', u'agree', u'with', u'no', u'totally', u'agree', u'with', u'fact', u'there', u'should', u'any', u'what', u'mean', u'fact', u'agree', u'with', u'what', u'what', u'other', u'people', u'fact', u'we', u'disagree', u'on', u'this', u'this', u'mean', u'go', u'hate', u'or', u'or', u'vice', u'versa', u'what', u'mean', u'mean', u'we', u'different', u'opinion', u'different', u'way', u'see', u'our', u'life', u'totally', u'oppose', u'people', u'who', u'who']\n",
      "versa\n",
      "[u'no', u'agree', u'mean', u'understand', u'what', u'say', u'hata']\n",
      "agree\n",
      "[u'no', u'agree', u'mean', u'understand', u'what', u'say', u'hata']\n",
      "agree\n",
      "[u'right', u'there', u'lot', u'up', u'gay', u'people', u'who', u'because', u'pull', u'at', u'school', u'or', u'or', u'their', u'social', u'place', u'go', u'kill', u'themselves', u'horrible', u'right', u'either', u'because', u'disagree', u'with', u'what', u'someone', u'believe', u'or', u'want', u'in', u'their', u'life', u'right', u'go', u'tell', u'them', u'wrong', u'sick', u'or', u'this', u'or', u'what', u'mean', u'should']\n",
      "disagree\n",
      "[u'right', u'there', u'lot', u'up', u'gay', u'people', u'who', u'because', u'pull', u'at', u'school', u'or', u'or', u'their', u'social', u'place', u'go', u'kill', u'themselves', u'horrible', u'right', u'either', u'because', u'disagree', u'with', u'what', u'someone', u'believe', u'or', u'want', u'in', u'their', u'life', u'right', u'go', u'tell', u'them', u'wrong', u'sick', u'or', u'this', u'or', u'what', u'mean', u'should']\n",
      "disagree\n",
      "[u'there', u'difference', u'between', u'before', u'in', u'versus', u'them', u'allow', u'people', u'day', u'get', u'marry', u'now', u'maybe']\n",
      "versus\n"
     ]
    },
    {
     "data": {
      "text/html": [
       "<div>\n",
       "<style scoped>\n",
       "    .dataframe tbody tr th:only-of-type {\n",
       "        vertical-align: middle;\n",
       "    }\n",
       "\n",
       "    .dataframe tbody tr th {\n",
       "        vertical-align: top;\n",
       "    }\n",
       "\n",
       "    .dataframe thead th {\n",
       "        text-align: right;\n",
       "    }\n",
       "</style>\n",
       "<table border=\"1\" class=\"dataframe\">\n",
       "  <thead>\n",
       "    <tr style=\"text-align: right;\">\n",
       "      <th></th>\n",
       "      <th>time</th>\n",
       "      <th>syntax_penn_tok2</th>\n",
       "      <th>syntax_penn_lex2</th>\n",
       "      <th>lexical_tok2</th>\n",
       "      <th>lexical_lem2</th>\n",
       "      <th>cosine_semanticL</th>\n",
       "      <th>partner_direction</th>\n",
       "      <th>condition_info</th>\n",
       "    </tr>\n",
       "  </thead>\n",
       "  <tbody>\n",
       "    <tr>\n",
       "      <th>0</th>\n",
       "      <td>0</td>\n",
       "      <td>0.318328</td>\n",
       "      <td>0.381</td>\n",
       "      <td>0.0263523</td>\n",
       "      <td>0.0395285</td>\n",
       "      <td>0.999992</td>\n",
       "      <td>0&gt;1</td>\n",
       "      <td>31_1-0-2.txt</td>\n",
       "    </tr>\n",
       "    <tr>\n",
       "      <th>1</th>\n",
       "      <td>1</td>\n",
       "      <td>0.313435</td>\n",
       "      <td>0.348261</td>\n",
       "      <td>0.039841</td>\n",
       "      <td>0.039841</td>\n",
       "      <td>0.999989</td>\n",
       "      <td>1&gt;0</td>\n",
       "      <td>31_1-0-2.txt</td>\n",
       "    </tr>\n",
       "    <tr>\n",
       "      <th>2</th>\n",
       "      <td>2</td>\n",
       "      <td>0.24735</td>\n",
       "      <td>0.344898</td>\n",
       "      <td>0.116335</td>\n",
       "      <td>0.103409</td>\n",
       "      <td>0.999992</td>\n",
       "      <td>0&gt;1</td>\n",
       "      <td>31_1-0-2.txt</td>\n",
       "    </tr>\n",
       "    <tr>\n",
       "      <th>3</th>\n",
       "      <td>3</td>\n",
       "      <td>0.3767</td>\n",
       "      <td>0.444835</td>\n",
       "      <td>0.131965</td>\n",
       "      <td>0.131965</td>\n",
       "      <td>0.999992</td>\n",
       "      <td>1&gt;0</td>\n",
       "      <td>31_1-0-2.txt</td>\n",
       "    </tr>\n",
       "    <tr>\n",
       "      <th>4</th>\n",
       "      <td>4</td>\n",
       "      <td>0.111456</td>\n",
       "      <td>0.289346</td>\n",
       "      <td>0</td>\n",
       "      <td>0</td>\n",
       "      <td>0.999983</td>\n",
       "      <td>0&gt;1</td>\n",
       "      <td>31_1-0-2.txt</td>\n",
       "    </tr>\n",
       "    <tr>\n",
       "      <th>5</th>\n",
       "      <td>5</td>\n",
       "      <td>0.122169</td>\n",
       "      <td>0.155963</td>\n",
       "      <td>0</td>\n",
       "      <td>0</td>\n",
       "      <td>0.999982</td>\n",
       "      <td>1&gt;0</td>\n",
       "      <td>31_1-0-2.txt</td>\n",
       "    </tr>\n",
       "    <tr>\n",
       "      <th>6</th>\n",
       "      <td>6</td>\n",
       "      <td>0.367246</td>\n",
       "      <td>0.395453</td>\n",
       "      <td>0.0336794</td>\n",
       "      <td>0.03346</td>\n",
       "      <td>0.999988</td>\n",
       "      <td>0&gt;1</td>\n",
       "      <td>31_1-0-2.txt</td>\n",
       "    </tr>\n",
       "    <tr>\n",
       "      <th>7</th>\n",
       "      <td>7</td>\n",
       "      <td>0.440666</td>\n",
       "      <td>0.411665</td>\n",
       "      <td>0.125874</td>\n",
       "      <td>0.130257</td>\n",
       "      <td>0.999995</td>\n",
       "      <td>1&gt;0</td>\n",
       "      <td>31_1-0-2.txt</td>\n",
       "    </tr>\n",
       "    <tr>\n",
       "      <th>8</th>\n",
       "      <td>8</td>\n",
       "      <td>0.461538</td>\n",
       "      <td>0.487713</td>\n",
       "      <td>0.057104</td>\n",
       "      <td>0.0561754</td>\n",
       "      <td>0.999987</td>\n",
       "      <td>0&gt;1</td>\n",
       "      <td>31_1-0-2.txt</td>\n",
       "    </tr>\n",
       "    <tr>\n",
       "      <th>9</th>\n",
       "      <td>9</td>\n",
       "      <td>0.393548</td>\n",
       "      <td>0.468296</td>\n",
       "      <td>0.104989</td>\n",
       "      <td>0.104257</td>\n",
       "      <td>0.999989</td>\n",
       "      <td>1&gt;0</td>\n",
       "      <td>31_1-0-2.txt</td>\n",
       "    </tr>\n",
       "    <tr>\n",
       "      <th>10</th>\n",
       "      <td>10</td>\n",
       "      <td>0.399816</td>\n",
       "      <td>0.425952</td>\n",
       "      <td>0.0667565</td>\n",
       "      <td>0.0657794</td>\n",
       "      <td>0.999993</td>\n",
       "      <td>0&gt;1</td>\n",
       "      <td>31_1-0-2.txt</td>\n",
       "    </tr>\n",
       "    <tr>\n",
       "      <th>11</th>\n",
       "      <td>11</td>\n",
       "      <td>0.403115</td>\n",
       "      <td>0.494485</td>\n",
       "      <td>0.0515599</td>\n",
       "      <td>0.0504656</td>\n",
       "      <td>0.999989</td>\n",
       "      <td>1&gt;0</td>\n",
       "      <td>31_1-0-2.txt</td>\n",
       "    </tr>\n",
       "    <tr>\n",
       "      <th>12</th>\n",
       "      <td>12</td>\n",
       "      <td>0.32193</td>\n",
       "      <td>0.296374</td>\n",
       "      <td>0.0982093</td>\n",
       "      <td>0.096873</td>\n",
       "      <td>0.999988</td>\n",
       "      <td>0&gt;1</td>\n",
       "      <td>31_1-0-2.txt</td>\n",
       "    </tr>\n",
       "    <tr>\n",
       "      <th>13</th>\n",
       "      <td>13</td>\n",
       "      <td>0.148366</td>\n",
       "      <td>0.163984</td>\n",
       "      <td>0.0996024</td>\n",
       "      <td>0.0988985</td>\n",
       "      <td>0.999979</td>\n",
       "      <td>1&gt;0</td>\n",
       "      <td>31_1-0-2.txt</td>\n",
       "    </tr>\n",
       "    <tr>\n",
       "      <th>14</th>\n",
       "      <td>14</td>\n",
       "      <td>0.24099</td>\n",
       "      <td>0.335936</td>\n",
       "      <td>0</td>\n",
       "      <td>0</td>\n",
       "      <td>0.999985</td>\n",
       "      <td>0&gt;1</td>\n",
       "      <td>31_1-0-2.txt</td>\n",
       "    </tr>\n",
       "  </tbody>\n",
       "</table>\n",
       "</div>"
      ],
      "text/plain": [
       "    time syntax_penn_tok2 syntax_penn_lex2 lexical_tok2 lexical_lem2  \\\n",
       "0      0         0.318328            0.381    0.0263523    0.0395285   \n",
       "1      1         0.313435         0.348261     0.039841     0.039841   \n",
       "2      2          0.24735         0.344898     0.116335     0.103409   \n",
       "3      3           0.3767         0.444835     0.131965     0.131965   \n",
       "4      4         0.111456         0.289346            0            0   \n",
       "5      5         0.122169         0.155963            0            0   \n",
       "6      6         0.367246         0.395453    0.0336794      0.03346   \n",
       "7      7         0.440666         0.411665     0.125874     0.130257   \n",
       "8      8         0.461538         0.487713     0.057104    0.0561754   \n",
       "9      9         0.393548         0.468296     0.104989     0.104257   \n",
       "10    10         0.399816         0.425952    0.0667565    0.0657794   \n",
       "11    11         0.403115         0.494485    0.0515599    0.0504656   \n",
       "12    12          0.32193         0.296374    0.0982093     0.096873   \n",
       "13    13         0.148366         0.163984    0.0996024    0.0988985   \n",
       "14    14          0.24099         0.335936            0            0   \n",
       "\n",
       "   cosine_semanticL partner_direction condition_info  \n",
       "0          0.999992               0>1   31_1-0-2.txt  \n",
       "1          0.999989               1>0   31_1-0-2.txt  \n",
       "2          0.999992               0>1   31_1-0-2.txt  \n",
       "3          0.999992               1>0   31_1-0-2.txt  \n",
       "4          0.999983               0>1   31_1-0-2.txt  \n",
       "5          0.999982               1>0   31_1-0-2.txt  \n",
       "6          0.999988               0>1   31_1-0-2.txt  \n",
       "7          0.999995               1>0   31_1-0-2.txt  \n",
       "8          0.999987               0>1   31_1-0-2.txt  \n",
       "9          0.999989               1>0   31_1-0-2.txt  \n",
       "10         0.999993               0>1   31_1-0-2.txt  \n",
       "11         0.999989               1>0   31_1-0-2.txt  \n",
       "12         0.999988               0>1   31_1-0-2.txt  \n",
       "13         0.999979               1>0   31_1-0-2.txt  \n",
       "14         0.999985               0>1   31_1-0-2.txt  "
      ]
     },
     "execution_count": 230,
     "metadata": {},
     "output_type": "execute_result"
    }
   ],
   "source": [
    "[turn_real,convo_real]= PHASE2RUN_REAL(\n",
    "                        input_files = INPUT_PATH+PREPPED_TRANSCRIPTS+'31_1-0-2.txt',\n",
    "                        input_as_directory=False,\n",
    "                        output_file_directory = INPUT_PATH+ANALYSIS_READY,\n",
    "                        delay=1,\n",
    "                        maxngram=2,\n",
    "                        ignore_duplicates=True,\n",
    "                        add_stanford_tags=False,       \n",
    "                        use_pretrained_vectors=False,\n",
    "                        pretrained_input_file=INPUT_PATH+'GoogleNews-vectors-negative300.bin',\n",
    "                        semantic_model_input_file=INPUT_PATH+'align_concatenated_dataframe.txt', \n",
    "                        high_sd_cutoff=3,\n",
    "                        low_n_cutoff=1)\n",
    "turn_real"
   ]
  },
  {
   "cell_type": "markdown",
   "metadata": {
    "deletable": true,
    "editable": true
   },
   "source": [
    "**To Alex (1)** I can't figure out  what is going on with word2vec. It's generating comparison cosine values that are always nearly 1.0. See `test_model.similarity` below. This is also showing up in Phase 2 data output for actual data. The behavior, I think, is from the lastest update of word2vec (i.e., in previous runs, like what all my earlier analyses are based on, the cosine values are more sensible and with greater variation). Perhaps one solution is to use a much larger pre-trained space that would separate each words further into distinct regions of the semantic space. \n",
    "\n",
    "**To Alex (2)** Also, any idea what the \"Warning\" message is that comes up? \"WARNING:gensim.models.word2vec:under 10 jobs per worker: consider setting a smaller `batch_words` for smoother alpha decay\" >> When I run Line 46 above, the WARNING goes away. I also would argue that running with Line 46 is probably better as each sentence (\"context\") in our corpus is small and including low-frequency words actually helps pull the contextual words we care about (those in `contentWords`) into separate regions in the high-dimensional space. In other words, it helps add nuance. These low-frequency words are just for context building, we don't actually analyze them in building composite vectors (See `build_composite_semantic_vector`). But this issue I want to worry about until we can figure out what is going on with cosine values being near 1.0 for all comparisons. "
   ]
  },
  {
   "cell_type": "markdown",
   "metadata": {
    "deletable": true,
    "editable": true
   },
   "source": [
    "**To Nick (0)**: Why aren't lines 36, 40, 43, and 45 just deleted from the function?"
   ]
  },
  {
   "cell_type": "markdown",
   "metadata": {
    "deletable": true,
    "editable": true
   },
   "source": [
    "**To Nick (1)**: Hm, interesting... Have you tried rolling back to the previous version of `word2vec` to see whether the same results hold when you use it? That might be my first guess to try, if you believe that's the culprit.\n",
    "\n",
    "However, the size of your semantic space is an important consideration. I tend to rely on pre-trained models in all of my other language projects, too, since the corpora are otherwise small enough that I don't necessarily think you can get a good, robust semantic space. There are a variety of models we can use, but I would recommend we use the Google News pre-trained `word2vec` corpus: https://code.google.com/archive/p/word2vec/"
   ]
  },
  {
   "cell_type": "markdown",
   "metadata": {
    "deletable": true,
    "editable": true
   },
   "source": [
    "**To Nick (2a)**: I think that might be related to the size of the corpus. I just re-ran it on the entire dataframe of all conversations (without the `all_sentences` line) and didn't get the warning.\n",
    "\n",
    "The problem with very low-frequency words is that they're more noise than nuance. If there are insufficient observations of those words when building the corpus, the model won't produce a stable estimate of the meaning. \n",
    "\n",
    "Using a pre-trained model would eliminate this concern, though."
   ]
  },
  {
   "cell_type": "code",
   "execution_count": 117,
   "metadata": {
    "collapsed": false,
    "deletable": true,
    "editable": true
   },
   "outputs": [],
   "source": [
    "# [vocabTest, test_model] = BuildSemanticModel(semantic_model_input_file=INPUT_PATH + \"align_concatenated_dataframe.txt\")\n",
    "# print test_model.similarity('choice', 'abortion')\n",
    "# # print test_model.similarity('choice', 'gay')\n",
    "# # print test_model.similarity('gay', 'school')\n",
    "# test_model.most_similar(['choice'])"
   ]
  },
  {
   "cell_type": "markdown",
   "metadata": {
    "deletable": true,
    "editable": true
   },
   "source": [
    "**To Nick (3)**: I removed the output from the cell above to prevent putting sensitive data in our commit history, but below is a side-by-side comparison of the model created by our data (`test_model`) and the model created from Google News (`news_model`). You'll need to download the model file (see cell above) in order to run it, but I'll preserve the output so that you don't have to bother with that quite yet."
   ]
  },
  {
   "cell_type": "code",
   "execution_count": 118,
   "metadata": {
    "collapsed": false,
    "deletable": true,
    "editable": true
   },
   "outputs": [],
   "source": [
    "# google_news_path = os.chdir('./')\n",
    "# google_news_path = '/Users/nduran/Desktop/GitProjects/align-linguistic-alignment/'"
   ]
  },
  {
   "cell_type": "code",
   "execution_count": 119,
   "metadata": {
    "collapsed": false,
    "deletable": true,
    "editable": true
   },
   "outputs": [],
   "source": [
    "# news_model = gensim.models.KeyedVectors.load_word2vec_format(google_news_path+'GoogleNews-vectors-negative300.bin', \n",
    "#                                            binary=True)"
   ]
  },
  {
   "cell_type": "code",
   "execution_count": 120,
   "metadata": {
    "collapsed": false,
    "deletable": true,
    "editable": true
   },
   "outputs": [],
   "source": [
    "# test_model.wv.most_similar(['choice'])"
   ]
  },
  {
   "cell_type": "code",
   "execution_count": 121,
   "metadata": {
    "collapsed": false,
    "deletable": true,
    "editable": true,
    "scrolled": true
   },
   "outputs": [],
   "source": [
    "# news_model.wv.most_similar(['choice'])"
   ]
  },
  {
   "cell_type": "code",
   "execution_count": 122,
   "metadata": {
    "collapsed": false,
    "deletable": true,
    "editable": true
   },
   "outputs": [],
   "source": [
    "# test_model.wv.similarity('school','gay')"
   ]
  },
  {
   "cell_type": "code",
   "execution_count": 123,
   "metadata": {
    "collapsed": false,
    "deletable": true,
    "editable": true
   },
   "outputs": [],
   "source": [
    "# news_model.wv.similarity('school','gay')"
   ]
  },
  {
   "cell_type": "code",
   "execution_count": 124,
   "metadata": {
    "collapsed": false,
    "deletable": true,
    "editable": true
   },
   "outputs": [],
   "source": [
    "# test_model.wv.similarity('choice','abortion')"
   ]
  },
  {
   "cell_type": "code",
   "execution_count": 125,
   "metadata": {
    "collapsed": false,
    "deletable": true,
    "editable": true
   },
   "outputs": [],
   "source": [
    "# news_model.wv.similarity('choice','abortion')"
   ]
  },
  {
   "cell_type": "code",
   "execution_count": 126,
   "metadata": {
    "collapsed": false,
    "deletable": true,
    "editable": true
   },
   "outputs": [],
   "source": [
    "# test_model.wv.similarity('baby','abortion')"
   ]
  },
  {
   "cell_type": "code",
   "execution_count": 127,
   "metadata": {
    "collapsed": false,
    "deletable": true,
    "editable": true
   },
   "outputs": [],
   "source": [
    "# news_model.wv.similarity('baby','abortion')"
   ]
  },
  {
   "cell_type": "markdown",
   "metadata": {
    "deletable": true,
    "editable": true
   },
   "source": [
    "**To Nick (3b)**: Output (above) is *much* more sensible from the pre-trained model. I would recommend that we use a pre-trained model for our analysis (or create a new model from another corpus we find or derive) *and* as an option for ALIGN. We should definitely include all relevant caveats about how to select and/or build a semantic space (e.g., don't use a university textbook-derived corpus to understand toddlers' speech), but given that most news is targeted at a 9th- or 10th-grade reading level, I don't think it's too far off from what we would expect colloquial language from college students to use."
   ]
  },
  {
   "cell_type": "markdown",
   "metadata": {
    "deletable": true,
    "editable": true
   },
   "source": [
    "### Calculate lexical and POS alignment scores for each n-gram length across two comparison vectors"
   ]
  },
  {
   "cell_type": "code",
   "execution_count": 128,
   "metadata": {
    "collapsed": true,
    "deletable": true,
    "editable": true
   },
   "outputs": [],
   "source": [
    "def LexicalPOSAlignment(tok1,lem1,penn_tok1,penn_lem1,\n",
    "                             tok2,lem2,penn_tok2,penn_lem2,\n",
    "                             stan_tok1=None,stan_lem1=None,\n",
    "                             stan_tok2=None,stan_lem2=None,\n",
    "                             maxngram=2,\n",
    "                             ignore_duplicates=True,\n",
    "                             add_stanford_tags=False):\n",
    "    \n",
    "    \"\"\"\n",
    "    Derive lexical and part-of-speech alignment scores\n",
    "    between interlocutors (suffix `1` and `2` in arguments\n",
    "    passed to function). \n",
    "    \n",
    "    By default, return scores based only on Penn POS taggers. \n",
    "    If desired, also return scores using Stanford tagger with \n",
    "    `add_stanford_tags=True` and by providing appropriate \n",
    "    values for `stan_tok1`, `stan_lem1`, `stan_tok2`, and \n",
    "    `stan_lem2`.\n",
    "    \n",
    "    By default, consider only bigram when calculating\n",
    "    similarity. If desired, this window may be expanded \n",
    "    by changing the `maxngram` argument value.\n",
    "    \n",
    "    By default, remove exact duplicates when calculating\n",
    "    similarity scores (i.e., does not consider perfectly\n",
    "    mimicked lexical items between speakers). If desired, \n",
    "    duplicates may be included when calculating scores by \n",
    "    passing `ignore_duplicates=False`.\n",
    "    \"\"\"\n",
    "\n",
    "    # create empty dictionaries for syntactic similarity\n",
    "    syntax_penn_tok = {}\n",
    "    syntax_penn_lex = {}\n",
    "    \n",
    "    # if desired, generate Stanford-based scores\n",
    "    if add_stanford_tags == True:\n",
    "        syntax_stan_tok = {}\n",
    "        syntax_stan_lem = {}\n",
    "    \n",
    "    # create empty dictionaries for lexical similarity\n",
    "    lexical_tok = {}\n",
    "    lexical_lem = {}\n",
    "    \n",
    "    # cycle through all desired ngram lengths\n",
    "    for ngram in range(2,maxngram+1):\n",
    "                \n",
    "        # calculate similarity for lexical ngrams (tokens and lemmas)\n",
    "        [vectorT1, vectorT2] = ngram_lexical(tok1,tok2,ngramsize=ngram)\n",
    "        [vectorL1, vectorL2] = ngram_lexical(lem1,lem2,ngramsize=ngram)        \n",
    "        lexical_tok['lexical_tok{0}'.format(ngram)] = get_cosine(vectorT1,vectorT2)\n",
    "        lexical_lem['lexical_lem{0}'.format(ngram)] = get_cosine(vectorL1, vectorL2)\n",
    "        \n",
    "        # calculate similarity for Penn POS ngrams (tokens)\n",
    "        [vector_penn_tok1, vector_penn_tok2] = ngram_pos(penn_tok1,penn_tok2,\n",
    "                                                ngramsize=ngram,\n",
    "                                                ignore_duplicates=ignore_duplicates) \n",
    "        syntax_penn_tok['syntax_penn_tok{0}'.format(ngram)] = get_cosine(vector_penn_tok1, \n",
    "                                                                                            vector_penn_tok2)\n",
    "        # calculate similarity for Penn POS ngrams (lemmas)\n",
    "        [vector_penn_lem1, vector_penn_lem2] = ngram_pos(penn_lem1,penn_lem2,\n",
    "                                                              ngramsize=ngram,\n",
    "                                                              ignore_duplicates=ignore_duplicates) \n",
    "        syntax_penn_lex['syntax_penn_lex{0}'.format(ngram)] = get_cosine(vector_penn_lem1, \n",
    "                                                                                            vector_penn_lem2) \n",
    "\n",
    "        # if desired, also calculate using Stanford POS\n",
    "        if add_stanford_tags == True:         \n",
    "          \n",
    "            # calculate similarity for Stanford POS ngrams (tokens)\n",
    "            [vector_stan_tok1, vector_stan_tok2] = ngram_pos(stan_tok1,stan_tok2,\n",
    "                                                                  ngramsize=ngram,\n",
    "                                                                  ignore_duplicates=ignore_duplicates) \n",
    "            syntax_stan_tok['syntax_stan_tok{0}'.format(ngram)] = get_cosine(vector_stan_tok1,\n",
    "                                                                                                vector_stan_tok2)\n",
    "                        \n",
    "            # calculate similarity for Stanford POS ngrams (lemmas)\n",
    "            [vector_stan_lem1, vector_stan_lem2] = ngram_pos(stan_lem1,stan_lem2,\n",
    "                                                                  ngramsize=ngram,\n",
    "                                                                  ignore_duplicates=ignore_duplicates) \n",
    "            syntax_stan_lem['syntax_stan_lem{0}'.format(ngram)] = get_cosine(vector_stan_lem1,\n",
    "                                                                                                vector_stan_lem2)\n",
    "        \n",
    "    # return requested information\n",
    "    if add_stanford_tags == True:\n",
    "        dictionaries_list = [syntax_penn_tok, syntax_penn_lex,\n",
    "                             syntax_stan_tok, syntax_stan_lem, \n",
    "                             lexical_tok, lexical_lem]      \n",
    "    else:\n",
    "        dictionaries_list = [syntax_penn_tok, syntax_penn_lex,\n",
    "                             lexical_tok, lexical_lem]      \n",
    "            \n",
    "    return dictionaries_list"
   ]
  },
  {
   "cell_type": "markdown",
   "metadata": {
    "deletable": true,
    "editable": true
   },
   "source": [
    "## Generate turn-level analysis of alignment scores"
   ]
  },
  {
   "cell_type": "code",
   "execution_count": 129,
   "metadata": {
    "collapsed": true,
    "deletable": true,
    "editable": true
   },
   "outputs": [],
   "source": [
    "def conceptualAlignment(lem1, lem2, vocablist, highDimModel):\n",
    "    \n",
    "    \"\"\"\n",
    "    Calculate conceptual alignment scores from list of lemmas\n",
    "    from between two interocutors (suffix `1` and `2` in arguments\n",
    "    passed to function) using `word2vec`.\n",
    "    \"\"\"\n",
    "\n",
    "    ## Need to correct problem here when words in vocablist do not occur in any of the pre-trained vectors\n",
    "    \n",
    "    \n",
    "    \n",
    "    \n",
    "    # aggregate composite high-dimensional vectors of all words in utterance\n",
    "    W2Vec1 = build_composite_semantic_vector(lem1,vocablist,highDimModel)\n",
    "    W2Vec2 = build_composite_semantic_vector(lem2,vocablist,highDimModel)\n",
    "\n",
    "    # return cosine distance alignment score\n",
    "    return 1 - spatial.distance.cosine(W2Vec1, W2Vec2) "
   ]
  },
  {
   "cell_type": "code",
   "execution_count": 130,
   "metadata": {
    "collapsed": true,
    "deletable": true,
    "editable": true
   },
   "outputs": [],
   "source": [
    "def returnMultilevelAlignment(cond_info,\n",
    "                                   partnerA,tok1,lem1,penn_tok1,penn_lem1,\n",
    "                                   partnerB,tok2,lem2,penn_tok2,penn_lem2,\n",
    "                                   vocablist, highDimModel, \n",
    "                                   stan_tok1=None,stan_lem1=None,\n",
    "                                   stan_tok2=None,stan_lem2=None,\n",
    "                                   add_stanford_tags=False,\n",
    "                                   maxngram=2, \n",
    "                                   ignore_duplicates=True):\n",
    "\n",
    "    \"\"\"\n",
    "    Calculate lexical, syntactic, and conceptual alignment\n",
    "    between a pair of turns by individual interlocutors \n",
    "    (suffix `1` and `2` in arguments passed to function), \n",
    "    including leading/following comparison directionality.\n",
    "    \n",
    "    By default, return scores based only on Penn POS taggers. \n",
    "    If desired, also return scores using Stanford tagger with \n",
    "    `add_stanford_tags=True` and by providing appropriate \n",
    "    values for `stan_tok1`, `stan_lem1`, `stan_tok2`, and \n",
    "    `stan_lem2`.\n",
    "    \n",
    "    By default, consider only bigrams when calculating\n",
    "    similarity. If desired, this window may be expanded \n",
    "    by changing the `maxngram` argument value.\n",
    "    \n",
    "    By default, remove exact duplicates when calculating\n",
    "    similarity scores (i.e., does not consider perfectly\n",
    "    mimicked lexical items between speakers). If desired, \n",
    "    duplicates may be included when calculating scores by \n",
    "    passing `ignore_duplicates=False`.\n",
    "    \"\"\"\n",
    "    \n",
    "    # create empty dictionaries \n",
    "    partner_direction = {}\n",
    "    condition_info = {}\n",
    "    cosine_semanticL = {}\n",
    "    \n",
    "    # calculate lexical and syntactic alignment\n",
    "    dictionaries_list = LexicalPOSAlignment(tok1=tok1,lem1=lem1,\n",
    "                                                 penn_tok1=penn_tok1,penn_lem1=penn_lem1,\n",
    "                                                 tok2=tok2,lem2=lem2,\n",
    "                                                 penn_tok2=penn_tok2,penn_lem2=penn_lem2,\n",
    "                                                 stan_tok1=stan_tok1,stan_lem1=stan_lem1,\n",
    "                                                 stan_tok2=stan_tok2,stan_lem2=stan_lem2,\n",
    "                                                 maxngram=maxngram,\n",
    "                                                 ignore_duplicates=ignore_duplicates,\n",
    "                                                 add_stanford_tags=add_stanford_tags)\n",
    "    \n",
    "    # calculate conceptual alignment\n",
    "    cosine_semanticL['cosine_semanticL'] = conceptualAlignment(lem1,lem2,vocablist,highDimModel)\n",
    "    dictionaries_list.append(cosine_semanticL.copy())\n",
    "    \n",
    "    # determine directionality of leading/following comparison\n",
    "    partner_direction['partner_direction'] = str(int(partnerA)) + \">\" + str(int(partnerB))\n",
    "    dictionaries_list.append(partner_direction.copy())\n",
    "\n",
    "    # add condition information\n",
    "    condition_info['condition_info'] = cond_info    \n",
    "    dictionaries_list.append(condition_info.copy())\n",
    "    \n",
    "    # return alignment scores\n",
    "    return dictionaries_list"
   ]
  },
  {
   "cell_type": "markdown",
   "metadata": {
    "deletable": true,
    "editable": true
   },
   "source": [
    "~~**To Alex** Note that `df_lagged` in `TurnByTurnAnalysis` is converting participant code as a floating-point number, so converting back to an integer above~~"
   ]
  },
  {
   "cell_type": "markdown",
   "metadata": {
    "deletable": true,
    "editable": true
   },
   "source": [
    "**To Nick**: Good catch!"
   ]
  },
  {
   "cell_type": "markdown",
   "metadata": {
    "deletable": true,
    "editable": true
   },
   "source": [
    "~~**To Alex** Need to sort within each generated tuple so bigrams always come before trigrams, and then apply OrderedDict to perserve order that the dictionary is built. Please see Line 117 for updated code. The same was done for `ConvoByConvoAnalysis` function~~"
   ]
  },
  {
   "cell_type": "markdown",
   "metadata": {
    "deletable": true,
    "editable": true
   },
   "source": [
    "**To Nick**: Good catch!"
   ]
  },
  {
   "cell_type": "code",
   "execution_count": 131,
   "metadata": {
    "collapsed": true,
    "deletable": true,
    "editable": true
   },
   "outputs": [],
   "source": [
    "def TurnByTurnAnalysis(dataframe,\n",
    "                            vocablist,\n",
    "                            highDimModel, \n",
    "                            delay=1,\n",
    "                            maxngram=2,\n",
    "                            add_stanford_tags=False,\n",
    "                            ignore_duplicates=True):    \n",
    "\n",
    "    \"\"\"\n",
    "    Calculate lexical, syntactic, and conceptual alignment\n",
    "    between interlocutors over an entire conversation.\n",
    "    Automatically detect individual speakers by unique\n",
    "    speaker codes.\n",
    "    \n",
    "    By default, compare only adjacent turns. If desired,\n",
    "    the comparison distance may be changed by increasing\n",
    "    the `delay` argument.\n",
    "    \n",
    "    By default, include maximum n-gram comparison of 2. If\n",
    "    desired, this may be changed by passing the appropriate\n",
    "    value to the the `maxngram` argument.\n",
    "    \n",
    "    By default, return scores based only on Penn POS taggers. \n",
    "    If desired, also return scores using Stanford tagger with \n",
    "    `add_stanford_tags=True`.\n",
    "    \n",
    "    By default, remove exact duplicates when calculating POS\n",
    "    similarity scores (i.e., does not consider perfectly\n",
    "    mimicked lexical items between speakers). If desired, \n",
    "    duplicates may be included when calculating scores by \n",
    "    passing `ignore_duplicates=False`.\n",
    "    \"\"\"\n",
    "    \n",
    "    # if we don't want the Stanford tagger data, set defaults\n",
    "    if add_stanford_tags == False:\n",
    "        stan_tok1=None\n",
    "        stan_lem1=None\n",
    "        stan_tok2=None\n",
    "        stan_lem2=None\n",
    "    \n",
    "    # prepare the data to the appropriate type    \n",
    "    dataframe['token'] = dataframe['token'].apply(lambda x: re.sub('[^\\w\\s]+','',x).split(' '))    \n",
    "    dataframe['lemma'] = dataframe['lemma'].apply(lambda x: re.sub('[^\\w\\s]+','',x).split(' '))\n",
    "    dataframe['tagged_token'] = dataframe['tagged_token'].apply(lambda x: re.sub('[^\\w\\s]+','',x).split(' '))\n",
    "    dataframe['tagged_token'] = dataframe['tagged_token'].apply(lambda x: zip(x[0::2],x[1::2])) # thanks to https://stackoverflow.com/a/4647086\n",
    "    dataframe['tagged_lemma'] = dataframe['tagged_lemma'].apply(lambda x: re.sub('[^\\w\\s]+','',x).split(' '))\n",
    "    dataframe['tagged_lemma'] = dataframe['tagged_lemma'].apply(lambda x: zip(x[0::2],x[1::2])) # thanks to https://stackoverflow.com/a/4647086\n",
    "        \n",
    "    # if desired, prepare the Stanford tagger data\n",
    "    if add_stanford_tags == True:           \n",
    "        dataframe['tagged_stan_token'] = dataframe['tagged_stan_token'].apply(lambda x: re.sub('[^\\w\\s]+','',x).split(' '))\n",
    "        dataframe['tagged_stan_token'] = dataframe['tagged_stan_token'].apply(lambda x: zip(x[0::2],x[1::2])) # thanks to https://stackoverflow.com/a/4647086\n",
    "        dataframe['tagged_stan_lemma'] = dataframe['tagged_stan_lemma'].apply(lambda x: re.sub('[^\\w\\s]+','',x).split(' '))\n",
    "        dataframe['tagged_stan_lemma'] = dataframe['tagged_stan_lemma'].apply(lambda x: zip(x[0::2],x[1::2])) # thanks to https://stackoverflow.com/a/4647086\n",
    "        \n",
    "    # create lagged version of the dataframe\n",
    "    df_original = dataframe.drop(dataframe.tail(delay).index,inplace=False)\n",
    "    df_lagged = dataframe.shift(-delay).drop(dataframe.tail(delay).index,inplace=False)\n",
    "        \n",
    "    # cycle through each pair of turns\n",
    "    aggregated_df = pd.DataFrame()\n",
    "    for i in range(0,df_original.shape[0]):\n",
    "\n",
    "        # identify the condition for this dataframe\n",
    "        cond_info = dataframe['file'].unique()\n",
    "        if len(cond_info)==1: \n",
    "            cond_info = str(cond_info[0])\n",
    "        \n",
    "        # break and flag error if we have more than 1 condition per dataframe\n",
    "        else: \n",
    "            raise ValueError('Error! Dataframe contains multiple conditions. Split dataframe into multiple dataframes, one per condition: '+cond_info)\n",
    "\n",
    "        # grab all of first participant's data\n",
    "        first_row = df_original.iloc[i]\n",
    "        first_partner = first_row['participant']\n",
    "        # text1=first_row['content']\n",
    "        tok1=first_row['token']\n",
    "        lem1=first_row['lemma']\n",
    "        penn_tok1=first_row['tagged_token']\n",
    "        penn_lem1=first_row['tagged_lemma']\n",
    "\n",
    "        # grab all of lagged participant's data\n",
    "        lagged_row = df_lagged.iloc[i]\n",
    "        lagged_partner = lagged_row['participant']\n",
    "        # text2=lagged_row['content']\n",
    "        tok2=lagged_row['token']\n",
    "        lem2=lagged_row['lemma']\n",
    "        penn_tok2=lagged_row['tagged_token']\n",
    "        penn_lem2=lagged_row['tagged_lemma']\n",
    "                \n",
    "        # if desired, grab the Stanford tagger data for both participants\n",
    "        if add_stanford_tags == True:         \n",
    "            stan_tok1=first_row['tagged_stan_token']\n",
    "            stan_lem1=first_row['tagged_stan_lemma']\n",
    "            stan_tok2=lagged_row['tagged_stan_token']\n",
    "            stan_lem2=lagged_row['tagged_stan_lemma']\n",
    "   \n",
    "        # process multilevel alignment\n",
    "        dictionaries_list=returnMultilevelAlignment(cond_info=cond_info,\n",
    "                                                         partnerA=first_partner,\n",
    "                                                         # text1=text1,\n",
    "                                                         tok1=tok1,lem1=lem1,\n",
    "                                                         penn_tok1=penn_tok1,penn_lem1=penn_lem1,\n",
    "                                                         partnerB=lagged_partner,\n",
    "                                                         # text2=text2,\n",
    "                                                         tok2=tok2,lem2=lem2,\n",
    "                                                         penn_tok2=penn_tok2,penn_lem2=penn_lem2,\n",
    "                                                         vocablist=vocablist,\n",
    "                                                         highDimModel=highDimModel,\n",
    "                                                         stan_tok1=stan_tok1,stan_lem1=stan_lem1,\n",
    "                                                         stan_tok2=stan_tok2,stan_lem2=stan_lem2,\n",
    "                                                         maxngram = maxngram,\n",
    "                                                         ignore_duplicates = ignore_duplicates,\n",
    "                                                         add_stanford_tags = add_stanford_tags) \n",
    "                \n",
    "        # sort columns so they are in order, append data to existing structures   \n",
    "        next_df_line = pd.DataFrame.from_dict(OrderedDict(k for num, i in enumerate(d for d in dictionaries_list) for k in sorted(i.items())),\n",
    "                               orient='index').transpose()\n",
    "        aggregated_df = aggregated_df.append(next_df_line)\n",
    "        \n",
    "    # reformat turn information and add index\n",
    "    aggregated_df = aggregated_df.reset_index(drop=True).reset_index().rename(columns={\"index\":\"time\"})\n",
    "\n",
    "    # give us our finished dataframe\n",
    "    return aggregated_df"
   ]
  },
  {
   "cell_type": "markdown",
   "metadata": {
    "deletable": true,
    "editable": true
   },
   "source": [
    "**To Nick**: We discussed stripping out `text1` and `text2` at the beginning and then re-integrating them into the final dataframe -- is that what you were thinking of doing after commenting out lines 76,85, 101, and 105 (above)? If not, we should just delete them entirely from this code and anywhere else that the code unnecessarily preserves the text."
   ]
  },
  {
   "cell_type": "markdown",
   "metadata": {
    "deletable": true,
    "editable": true
   },
   "source": [
    "Generate conversation-level analysis of alignment scores\n",
    "-----------------------------------------------------"
   ]
  },
  {
   "cell_type": "code",
   "execution_count": 132,
   "metadata": {
    "collapsed": true,
    "deletable": true,
    "editable": true
   },
   "outputs": [],
   "source": [
    "def ConvoByConvoAnalysis(dataframe,\n",
    "                          maxngram=2,\n",
    "                          ignore_duplicates=True,\n",
    "                          add_stanford_tags=False):\n",
    "\n",
    "    \"\"\"\n",
    "    Calculate analysis of multilevel similarity over\n",
    "    a conversation between two interlocutors from a \n",
    "    transcript dataframe prepared by Phase 1\n",
    "    of ALIGN. Automatically detect speakers by unique\n",
    "    speaker codes.\n",
    "    \n",
    "    By default, include maximum n-gram comparison of 2. If\n",
    "    desired, this may be changed by passing the appropriate\n",
    "    value to the the `maxngram` argument.\n",
    "    \n",
    "    By default, return scores based only on Penn POS taggers. \n",
    "    If desired, also return scores using Stanford tagger with \n",
    "    `add_stanford_tags=True`.\n",
    "    \n",
    "    By default, remove exact duplicates when calculating POS\n",
    "    similarity scores (i.e., does not consider perfectly\n",
    "    mimicked lexical items between speakers). If desired, \n",
    "    duplicates may be included when calculating scores by \n",
    "    passing `ignore_duplicates=False`.\n",
    "    \"\"\"\n",
    "\n",
    "    # identify the condition for this dataframe\n",
    "    cond_info = dataframe['file'].unique()\n",
    "    if len(cond_info)==1: \n",
    "        cond_info = str(cond_info[0])\n",
    "    \n",
    "    # break and flag error if we have more than 1 condition per dataframe\n",
    "    else: \n",
    "        raise ValueError('Error! Dataframe contains multiple conditions. Split dataframe into multiple dataframes, one per condition: '+cond_info)\n",
    "   \n",
    "    # if we don't want the Stanford info, set defaults \n",
    "    if add_stanford_tags == False:\n",
    "        stan_tok1 = None\n",
    "        stan_lem1 = None\n",
    "        stan_tok2 = None\n",
    "        stan_lem2 = None\n",
    "\n",
    "    # identify individual interlocutors\n",
    "    df_A = dataframe.loc[dataframe['participant'] == dataframe['participant'].unique()[0]]\n",
    "    df_B = dataframe.loc[dataframe['participant'] == dataframe['participant'].unique()[1]]\n",
    "   \n",
    "    # concatenate the token, lemma, and POS information for participant A\n",
    "    tok1 = [word for turn in df_A['token'] for word in turn]\n",
    "    lem1 = [word for turn in df_A['lemma'] for word in turn]\n",
    "    penn_tok1 = [POS for turn in df_A['tagged_token'] for POS in turn]    \n",
    "    penn_lem1 = [POS for turn in df_A['tagged_token'] for POS in turn] \n",
    "    if add_stanford_tags == True:\n",
    "        stan_tok1 = [POS for turn in df_A['tagged_stan_token'] for POS in turn]    \n",
    "        stan_lem1 = [POS for turn in df_A['tagged_stan_lemma'] for POS in turn] \n",
    "\n",
    "    # concatenate the token, lemma, and POS information for participant B\n",
    "    tok2 = [word for turn in df_B['token'] for word in turn]\n",
    "    lem2 = [word for turn in df_B['lemma'] for word in turn]\n",
    "    penn_tok2 = [POS for turn in df_B['tagged_token'] for POS in turn]    \n",
    "    penn_lem2 = [POS for turn in df_B['tagged_token'] for POS in turn] \n",
    "    if add_stanford_tags == True:\n",
    "        stan_tok2 = [POS for turn in df_B['tagged_stan_token'] for POS in turn]    \n",
    "        stan_lem2 = [POS for turn in df_B['tagged_stan_lemma'] for POS in turn] \n",
    "    \n",
    "    # process multilevel alignment\n",
    "    dictionaries_list = LexicalPOSAlignment(tok1=tok1,lem1=lem1,\n",
    "                                                 penn_tok1=penn_tok1,penn_lem1=penn_lem1,\n",
    "                                                 tok2=tok2,lem2=lem2,\n",
    "                                                 penn_tok2=penn_tok2,penn_lem2=penn_lem2,\n",
    "                                                 stan_tok1=stan_tok1,stan_lem1=stan_lem1,\n",
    "                                                 stan_tok2=stan_tok2,stan_lem2=stan_lem2,\n",
    "                                                 maxngram=maxngram,\n",
    "                                                 ignore_duplicates=ignore_duplicates,\n",
    "                                                 add_stanford_tags=add_stanford_tags)\n",
    "    \n",
    "    # append data to existing structures\n",
    "    dictionary_df = pd.DataFrame.from_dict(OrderedDict(k for num, i in enumerate(d for d in dictionaries_list) for k in sorted(i.items())),\n",
    "                       orient='index').transpose()    \n",
    "    dictionary_df['condition_info'] = cond_info\n",
    "            \n",
    "    # return the dataframe\n",
    "    return dictionary_df"
   ]
  },
  {
   "cell_type": "markdown",
   "metadata": {
    "deletable": true,
    "editable": true
   },
   "source": [
    "## RUN Phase 2: Actual Partners"
   ]
  },
  {
   "cell_type": "markdown",
   "metadata": {
    "deletable": true,
    "editable": true
   },
   "source": [
    "* For each prepped transcript file, runs turn-level and conversational-level alignment scores\n",
    "* Saves output into single datasheet to be used in statistical analysis"
   ]
  },
  {
   "cell_type": "markdown",
   "metadata": {
    "deletable": true,
    "editable": true
   },
   "source": [
    "**To Alex** In your original version, the arguments for `add_stanford_tags` and `ignore_duplicates` never passed to the `TurnByTurnAnalysis` function. I've now added."
   ]
  },
  {
   "cell_type": "code",
   "execution_count": 133,
   "metadata": {
    "collapsed": true,
    "deletable": true,
    "editable": true
   },
   "outputs": [],
   "source": [
    "def PHASE2RUN_REAL(input_files, \n",
    "                    output_file_directory,\n",
    "                    semantic_model_input_file,\n",
    "                    pretrained_input_file,\n",
    "                    high_sd_cutoff=3,\n",
    "                    low_n_cutoff=1,\n",
    "                    delay=1,\n",
    "                    maxngram=2,\n",
    "                    use_pretrained_vectors=True,\n",
    "                    ignore_duplicates=True,\n",
    "                    add_stanford_tags=False,\n",
    "                    input_as_directory=True):   \n",
    "    \n",
    "    \"\"\"\n",
    "    Given a directory of individual .txt files and the\n",
    "    vocab list that have been generated by the `PHASE1RUN` \n",
    "    preparation stage, return multi-level alignment \n",
    "    scores with turn-by-turn and conversation-level metrics.\n",
    "    \n",
    "    By default, create the semantic model with a \n",
    "    high-frequency cutoff of 3 SD over the mean. If \n",
    "    desired, this can be changed with the \n",
    "    `high_sd_cutoff` argument and can be removed with\n",
    "    `high_sd_cutoff=None`.\n",
    "    \n",
    "    By default, create the semantic model with a \n",
    "    low-frequency cutoff in which a word will be \n",
    "    removed if they occur 1 or fewer times. if\n",
    "    desired, this can be changed with the \n",
    "    `low_n_cutoff` argument and can be removed with\n",
    "    `low_n_cutoff=0`.\n",
    "    \n",
    "    By default, compare only adjacent turns. If desired,\n",
    "    the comparison distance may be changed by increasing\n",
    "    the `delay` argument.\n",
    "    \n",
    "    By default, include maximum n-gram comparison of 2. If\n",
    "    desired, this may be changed by passing the appropriate\n",
    "    value to the the `maxngram` argument.\n",
    "    \n",
    "    By default, return scores based only on Penn POS taggers. \n",
    "    If desired, also return scores using Stanford tagger with \n",
    "    `add_stanford_tags=True`.\n",
    "    \n",
    "    By default, remove exact duplicates when calculating POS\n",
    "    similarity scores (i.e., does not consider perfectly\n",
    "    mimicked lexical items between speakers). If desired, \n",
    "    duplicates may be included when calculating scores by \n",
    "    passing `ignore_duplicates=False`.\n",
    "    \n",
    "    By default, accept `input_files` as a directory\n",
    "    that includes `.txt` files of each individual \n",
    "    conversation. If desired, provide individual files\n",
    "    as a list of literal paths to the `input_files`\n",
    "    argument and set `input_as_directory=False`.\n",
    "    \"\"\"\n",
    "    \n",
    "    # grab the files in the list\n",
    "    if input_as_directory == False:\n",
    "        file_list = glob.glob(input_files)\n",
    "    else:\n",
    "        file_list = glob.glob(input_files+\"*.txt\")\n",
    "\n",
    "    \n",
    "    # build the semantic model to be used for all conversations\n",
    "    [vocablist, highDimModel] = BuildSemanticModel(semantic_model_input_file=semantic_model_input_file,\n",
    "                                                       pretrained_input_file=pretrained_input_file,\n",
    "                                                       use_pretrained_vectors=use_pretrained_vectors,\n",
    "                                                       high_sd_cutoff=high_sd_cutoff,\n",
    "                                                       low_n_cutoff=low_n_cutoff)    \n",
    "    \n",
    "    # create containers for alignment values\n",
    "    AlignmentT2T = pd.DataFrame()\n",
    "    AlignmentC2C = pd.DataFrame()\n",
    "        \n",
    "    # cycle through each prepared file\n",
    "    for fileName in file_list:   \n",
    "        \n",
    "        # process the file if it's got a valid conversation\n",
    "        dataframe=pd.read_csv(fileName, sep='\\t',encoding='utf-8')\n",
    "        if len(dataframe) > 0:\n",
    "            \n",
    "            # let us know which filename we're processing\n",
    "            print \"Processing: \"+fileName   \n",
    "\n",
    "            # calculate turn-by-turn alignment scores\n",
    "            xT2T=TurnByTurnAnalysis(dataframe=dataframe,\n",
    "                                         delay=delay,\n",
    "                                         maxngram=maxngram,\n",
    "                                         vocablist=vocablist,\n",
    "                                         highDimModel=highDimModel,\n",
    "                                         add_stanford_tags=add_stanford_tags,\n",
    "                                         ignore_duplicates=ignore_duplicates)   \n",
    "            AlignmentT2T=AlignmentT2T.append(xT2T)\n",
    "            \n",
    "            # calculate conversation-level alignment scores\n",
    "            xC2C = ConvoByConvoAnalysis(dataframe=dataframe,\n",
    "                                             maxngram = maxngram,\n",
    "                                             ignore_duplicates=ignore_duplicates,\n",
    "                                             add_stanford_tags = add_stanford_tags)\n",
    "            AlignmentC2C=AlignmentC2C.append(xC2C)\n",
    "            \n",
    "        # if it's invalid, let us know\n",
    "        else:\n",
    "            print \"Invalid file: \"+fileName   \n",
    "            \n",
    "    # update final dataframes\n",
    "    FINAL_TURN = AlignmentT2T.reset_index(drop=True)\n",
    "    FINAL_CONVO = AlignmentC2C.reset_index(drop=True)\n",
    "    \n",
    "    # export the final files\n",
    "    FINAL_TURN.to_csv(output_file_directory+\"AlignmentT2T.txt\",\n",
    "                      encoding='utf-8',index=False,sep='\\t')   \n",
    "    FINAL_CONVO.to_csv(output_file_directory+\"AlignmentC2C.txt\",\n",
    "                       encoding='utf-8',index=False,sep='\\t') \n",
    "\n",
    "    # display the info, too\n",
    "    return FINAL_TURN, FINAL_CONVO"
   ]
  },
  {
   "cell_type": "code",
   "execution_count": 134,
   "metadata": {
    "collapsed": false,
    "deletable": true,
    "editable": true
   },
   "outputs": [
    {
     "name": "stdout",
     "output_type": "stream",
     "text": [
      "Processing: /Users/nduran/Desktop/GitProjects/align-linguistic-alignment/PREPPED_TRANSCRIPTS/31_1-0-2.txt\n"
     ]
    },
    {
     "ename": "KeyError",
     "evalue": "u\"word 'cantigny' not in vocabulary\"",
     "output_type": "error",
     "traceback": [
      "\u001b[0;31m---------------------------------------------------------------------------\u001b[0m",
      "\u001b[0;31mKeyError\u001b[0m                                  Traceback (most recent call last)",
      "\u001b[0;32m<ipython-input-134-2d9349963a3b>\u001b[0m in \u001b[0;36m<module>\u001b[0;34m()\u001b[0m\n\u001b[1;32m     11\u001b[0m                         \u001b[0msemantic_model_input_file\u001b[0m\u001b[0;34m=\u001b[0m\u001b[0mINPUT_PATH\u001b[0m\u001b[0;34m+\u001b[0m\u001b[0;34m'align_concatenated_dataframe.txt'\u001b[0m\u001b[0;34m,\u001b[0m\u001b[0;34m\u001b[0m\u001b[0m\n\u001b[1;32m     12\u001b[0m                         \u001b[0mhigh_sd_cutoff\u001b[0m\u001b[0;34m=\u001b[0m\u001b[0;36m3\u001b[0m\u001b[0;34m,\u001b[0m\u001b[0;34m\u001b[0m\u001b[0m\n\u001b[0;32m---> 13\u001b[0;31m                         low_n_cutoff=1)\n\u001b[0m\u001b[1;32m     14\u001b[0m \u001b[0mturn_real\u001b[0m\u001b[0;34m\u001b[0m\u001b[0m\n",
      "\u001b[0;32m<ipython-input-133-b643064d7e8e>\u001b[0m in \u001b[0;36mPHASE2RUN_REAL\u001b[0;34m(input_files, output_file_directory, semantic_model_input_file, pretrained_input_file, high_sd_cutoff, low_n_cutoff, delay, maxngram, use_pretrained_vectors, ignore_duplicates, add_stanford_tags, input_as_directory)\u001b[0m\n\u001b[1;32m     91\u001b[0m                                          \u001b[0mhighDimModel\u001b[0m\u001b[0;34m=\u001b[0m\u001b[0mhighDimModel\u001b[0m\u001b[0;34m,\u001b[0m\u001b[0;34m\u001b[0m\u001b[0m\n\u001b[1;32m     92\u001b[0m                                          \u001b[0madd_stanford_tags\u001b[0m\u001b[0;34m=\u001b[0m\u001b[0madd_stanford_tags\u001b[0m\u001b[0;34m,\u001b[0m\u001b[0;34m\u001b[0m\u001b[0m\n\u001b[0;32m---> 93\u001b[0;31m                                          ignore_duplicates=ignore_duplicates)   \n\u001b[0m\u001b[1;32m     94\u001b[0m             \u001b[0mAlignmentT2T\u001b[0m\u001b[0;34m=\u001b[0m\u001b[0mAlignmentT2T\u001b[0m\u001b[0;34m.\u001b[0m\u001b[0mappend\u001b[0m\u001b[0;34m(\u001b[0m\u001b[0mxT2T\u001b[0m\u001b[0;34m)\u001b[0m\u001b[0;34m\u001b[0m\u001b[0m\n\u001b[1;32m     95\u001b[0m \u001b[0;34m\u001b[0m\u001b[0m\n",
      "\u001b[0;32m<ipython-input-131-3f2b9e939561>\u001b[0m in \u001b[0;36mTurnByTurnAnalysis\u001b[0;34m(dataframe, vocablist, highDimModel, delay, maxngram, add_stanford_tags, ignore_duplicates)\u001b[0m\n\u001b[1;32m    112\u001b[0m                                                          \u001b[0mmaxngram\u001b[0m \u001b[0;34m=\u001b[0m \u001b[0mmaxngram\u001b[0m\u001b[0;34m,\u001b[0m\u001b[0;34m\u001b[0m\u001b[0m\n\u001b[1;32m    113\u001b[0m                                                          \u001b[0mignore_duplicates\u001b[0m \u001b[0;34m=\u001b[0m \u001b[0mignore_duplicates\u001b[0m\u001b[0;34m,\u001b[0m\u001b[0;34m\u001b[0m\u001b[0m\n\u001b[0;32m--> 114\u001b[0;31m                                                          add_stanford_tags = add_stanford_tags) \n\u001b[0m\u001b[1;32m    115\u001b[0m \u001b[0;34m\u001b[0m\u001b[0m\n\u001b[1;32m    116\u001b[0m         \u001b[0;31m# sort columns so they are in order, append data to existing structures\u001b[0m\u001b[0;34m\u001b[0m\u001b[0;34m\u001b[0m\u001b[0m\n",
      "\u001b[0;32m<ipython-input-130-e3af5655cdea>\u001b[0m in \u001b[0;36mreturnMultilevelAlignment\u001b[0;34m(cond_info, partnerA, tok1, lem1, penn_tok1, penn_lem1, partnerB, tok2, lem2, penn_tok2, penn_lem2, vocablist, highDimModel, stan_tok1, stan_lem1, stan_tok2, stan_lem2, add_stanford_tags, maxngram, ignore_duplicates)\u001b[0m\n\u001b[1;32m     49\u001b[0m \u001b[0;34m\u001b[0m\u001b[0m\n\u001b[1;32m     50\u001b[0m     \u001b[0;31m# calculate conceptual alignment\u001b[0m\u001b[0;34m\u001b[0m\u001b[0;34m\u001b[0m\u001b[0m\n\u001b[0;32m---> 51\u001b[0;31m     \u001b[0mcosine_semanticL\u001b[0m\u001b[0;34m[\u001b[0m\u001b[0;34m'cosine_semanticL'\u001b[0m\u001b[0;34m]\u001b[0m \u001b[0;34m=\u001b[0m \u001b[0mconceptualAlignment\u001b[0m\u001b[0;34m(\u001b[0m\u001b[0mlem1\u001b[0m\u001b[0;34m,\u001b[0m\u001b[0mlem2\u001b[0m\u001b[0;34m,\u001b[0m\u001b[0mvocablist\u001b[0m\u001b[0;34m,\u001b[0m\u001b[0mhighDimModel\u001b[0m\u001b[0;34m)\u001b[0m\u001b[0;34m\u001b[0m\u001b[0m\n\u001b[0m\u001b[1;32m     52\u001b[0m     \u001b[0mdictionaries_list\u001b[0m\u001b[0;34m.\u001b[0m\u001b[0mappend\u001b[0m\u001b[0;34m(\u001b[0m\u001b[0mcosine_semanticL\u001b[0m\u001b[0;34m.\u001b[0m\u001b[0mcopy\u001b[0m\u001b[0;34m(\u001b[0m\u001b[0;34m)\u001b[0m\u001b[0;34m)\u001b[0m\u001b[0;34m\u001b[0m\u001b[0m\n\u001b[1;32m     53\u001b[0m \u001b[0;34m\u001b[0m\u001b[0m\n",
      "\u001b[0;32m<ipython-input-129-4ea1d158116d>\u001b[0m in \u001b[0;36mconceptualAlignment\u001b[0;34m(lem1, lem2, vocablist, highDimModel)\u001b[0m\n\u001b[1;32m     14\u001b[0m     \u001b[0;31m# aggregate composite high-dimensional vectors of all words in utterance\u001b[0m\u001b[0;34m\u001b[0m\u001b[0;34m\u001b[0m\u001b[0m\n\u001b[1;32m     15\u001b[0m     \u001b[0mW2Vec1\u001b[0m \u001b[0;34m=\u001b[0m \u001b[0mbuild_composite_semantic_vector\u001b[0m\u001b[0;34m(\u001b[0m\u001b[0mlem1\u001b[0m\u001b[0;34m,\u001b[0m\u001b[0mvocablist\u001b[0m\u001b[0;34m,\u001b[0m\u001b[0mhighDimModel\u001b[0m\u001b[0;34m)\u001b[0m\u001b[0;34m\u001b[0m\u001b[0m\n\u001b[0;32m---> 16\u001b[0;31m     \u001b[0mW2Vec2\u001b[0m \u001b[0;34m=\u001b[0m \u001b[0mbuild_composite_semantic_vector\u001b[0m\u001b[0;34m(\u001b[0m\u001b[0mlem2\u001b[0m\u001b[0;34m,\u001b[0m\u001b[0mvocablist\u001b[0m\u001b[0;34m,\u001b[0m\u001b[0mhighDimModel\u001b[0m\u001b[0;34m)\u001b[0m\u001b[0;34m\u001b[0m\u001b[0m\n\u001b[0m\u001b[1;32m     17\u001b[0m \u001b[0;34m\u001b[0m\u001b[0m\n\u001b[1;32m     18\u001b[0m     \u001b[0;31m# return cosine distance alignment score\u001b[0m\u001b[0;34m\u001b[0m\u001b[0;34m\u001b[0m\u001b[0m\n",
      "\u001b[0;32m<ipython-input-113-6a3ac68b6b47>\u001b[0m in \u001b[0;36mbuild_composite_semantic_vector\u001b[0;34m(lemma_seq, vocablist, highDimModel)\u001b[0m\n\u001b[1;32m     11\u001b[0m     \u001b[0;32mfor\u001b[0m \u001b[0mw1\u001b[0m \u001b[0;32min\u001b[0m \u001b[0mlemma_seq\u001b[0m\u001b[0;34m:\u001b[0m\u001b[0;34m\u001b[0m\u001b[0m\n\u001b[1;32m     12\u001b[0m         \u001b[0;32mif\u001b[0m \u001b[0mw1\u001b[0m \u001b[0;32min\u001b[0m \u001b[0mvocablist\u001b[0m\u001b[0;34m:\u001b[0m\u001b[0;34m\u001b[0m\u001b[0m\n\u001b[0;32m---> 13\u001b[0;31m             \u001b[0msemvector\u001b[0m \u001b[0;34m=\u001b[0m \u001b[0mhighDimModel\u001b[0m\u001b[0;34m[\u001b[0m\u001b[0mw1\u001b[0m\u001b[0;34m]\u001b[0m\u001b[0;34m\u001b[0m\u001b[0m\n\u001b[0m\u001b[1;32m     14\u001b[0m             \u001b[0mgetComposite\u001b[0m \u001b[0;34m=\u001b[0m \u001b[0mgetComposite\u001b[0m \u001b[0;34m+\u001b[0m \u001b[0msemvector\u001b[0m\u001b[0;34m\u001b[0m\u001b[0m\n\u001b[1;32m     15\u001b[0m     \u001b[0;32mreturn\u001b[0m \u001b[0mgetComposite\u001b[0m\u001b[0;34m\u001b[0m\u001b[0m\n",
      "\u001b[0;32m/Users/nduran/anaconda/lib/python2.7/site-packages/gensim/models/keyedvectors.pyc\u001b[0m in \u001b[0;36m__getitem__\u001b[0;34m(self, words)\u001b[0m\n\u001b[1;32m    599\u001b[0m         \u001b[0;32mif\u001b[0m \u001b[0misinstance\u001b[0m\u001b[0;34m(\u001b[0m\u001b[0mwords\u001b[0m\u001b[0;34m,\u001b[0m \u001b[0mstring_types\u001b[0m\u001b[0;34m)\u001b[0m\u001b[0;34m:\u001b[0m\u001b[0;34m\u001b[0m\u001b[0m\n\u001b[1;32m    600\u001b[0m             \u001b[0;31m# allow calls like trained_model['office'], as a shorthand for trained_model[['office']]\u001b[0m\u001b[0;34m\u001b[0m\u001b[0;34m\u001b[0m\u001b[0m\n\u001b[0;32m--> 601\u001b[0;31m             \u001b[0;32mreturn\u001b[0m \u001b[0mself\u001b[0m\u001b[0;34m.\u001b[0m\u001b[0mword_vec\u001b[0m\u001b[0;34m(\u001b[0m\u001b[0mwords\u001b[0m\u001b[0;34m)\u001b[0m\u001b[0;34m\u001b[0m\u001b[0m\n\u001b[0m\u001b[1;32m    602\u001b[0m \u001b[0;34m\u001b[0m\u001b[0m\n\u001b[1;32m    603\u001b[0m         \u001b[0;32mreturn\u001b[0m \u001b[0mvstack\u001b[0m\u001b[0;34m(\u001b[0m\u001b[0;34m[\u001b[0m\u001b[0mself\u001b[0m\u001b[0;34m.\u001b[0m\u001b[0mword_vec\u001b[0m\u001b[0;34m(\u001b[0m\u001b[0mword\u001b[0m\u001b[0;34m)\u001b[0m \u001b[0;32mfor\u001b[0m \u001b[0mword\u001b[0m \u001b[0;32min\u001b[0m \u001b[0mwords\u001b[0m\u001b[0;34m]\u001b[0m\u001b[0;34m)\u001b[0m\u001b[0;34m\u001b[0m\u001b[0m\n",
      "\u001b[0;32m/Users/nduran/anaconda/lib/python2.7/site-packages/gensim/models/keyedvectors.pyc\u001b[0m in \u001b[0;36mword_vec\u001b[0;34m(self, word, use_norm)\u001b[0m\n\u001b[1;32m    286\u001b[0m             \u001b[0;32mreturn\u001b[0m \u001b[0mresult\u001b[0m\u001b[0;34m\u001b[0m\u001b[0m\n\u001b[1;32m    287\u001b[0m         \u001b[0;32melse\u001b[0m\u001b[0;34m:\u001b[0m\u001b[0;34m\u001b[0m\u001b[0m\n\u001b[0;32m--> 288\u001b[0;31m             \u001b[0;32mraise\u001b[0m \u001b[0mKeyError\u001b[0m\u001b[0;34m(\u001b[0m\u001b[0;34m\"word '%s' not in vocabulary\"\u001b[0m \u001b[0;34m%\u001b[0m \u001b[0mword\u001b[0m\u001b[0;34m)\u001b[0m\u001b[0;34m\u001b[0m\u001b[0m\n\u001b[0m\u001b[1;32m    289\u001b[0m \u001b[0;34m\u001b[0m\u001b[0m\n\u001b[1;32m    290\u001b[0m     \u001b[0;32mdef\u001b[0m \u001b[0mmost_similar\u001b[0m\u001b[0;34m(\u001b[0m\u001b[0mself\u001b[0m\u001b[0;34m,\u001b[0m \u001b[0mpositive\u001b[0m\u001b[0;34m=\u001b[0m\u001b[0mNone\u001b[0m\u001b[0;34m,\u001b[0m \u001b[0mnegative\u001b[0m\u001b[0;34m=\u001b[0m\u001b[0mNone\u001b[0m\u001b[0;34m,\u001b[0m \u001b[0mtopn\u001b[0m\u001b[0;34m=\u001b[0m\u001b[0;36m10\u001b[0m\u001b[0;34m,\u001b[0m \u001b[0mrestrict_vocab\u001b[0m\u001b[0;34m=\u001b[0m\u001b[0mNone\u001b[0m\u001b[0;34m,\u001b[0m \u001b[0mindexer\u001b[0m\u001b[0;34m=\u001b[0m\u001b[0mNone\u001b[0m\u001b[0;34m)\u001b[0m\u001b[0;34m:\u001b[0m\u001b[0;34m\u001b[0m\u001b[0m\n",
      "\u001b[0;31mKeyError\u001b[0m: u\"word 'cantigny' not in vocabulary\""
     ]
    }
   ],
   "source": [
    "# [turn_real,convo_real]= PHASE2RUN_REAL(\n",
    "#                         input_files = INPUT_PATH+PREPPED_TRANSCRIPTS+'31_1-0-2.txt',\n",
    "#                         input_as_directory=False,\n",
    "#                         output_file_directory = INPUT_PATH+ANALYSIS_READY,\n",
    "#                         delay=1,\n",
    "#                         maxngram=2,\n",
    "#                         ignore_duplicates=True,\n",
    "#                         add_stanford_tags=False,       \n",
    "#                         use_pretrained_vectors=True,\n",
    "#                         pretrained_input_file=INPUT_PATH+'GoogleNews-vectors-negative300.bin',\n",
    "#                         semantic_model_input_file=INPUT_PATH+'align_concatenated_dataframe.txt', \n",
    "#                         high_sd_cutoff=3,\n",
    "#                         low_n_cutoff=1)\n",
    "# turn_real"
   ]
  },
  {
   "cell_type": "markdown",
   "metadata": {
    "deletable": true,
    "editable": true
   },
   "source": [
    "**To Nick**: I added an option above to accept a list of file names instead of the directory. This should help with your debugging!"
   ]
  },
  {
   "cell_type": "markdown",
   "metadata": {
    "collapsed": true,
    "deletable": true,
    "editable": true
   },
   "source": [
    "Generate surrogate pairings\n",
    "-------------------------\n",
    "* Collects all possible pairs of participants across the dyads in each condition and creates surrogate pairings by combining their conversational turns, preserving turn order. Output saved as new separate conversational transcripts. \n",
    "* Main Function:\n",
    "    * GenerateSurrogate "
   ]
  },
  {
   "cell_type": "code",
   "execution_count": null,
   "metadata": {
    "collapsed": true,
    "deletable": true,
    "editable": true
   },
   "outputs": [],
   "source": [
    "def GenerateSurrogate(original_conversation_list,\n",
    "                           surrogate_file_directory,\n",
    "                           all_surrogates = False,\n",
    "                           id_separator = '\\-',\n",
    "                           dyad_label='dyad',\n",
    "                           condition_label='cond',\n",
    "                           keep_original_turn_order = False):\n",
    "    \n",
    "    \"\"\"\n",
    "    Create transcripts for surrogate pairs of \n",
    "    participants (i.e., participants who did not \n",
    "    genuinely interact in the experiment), which\n",
    "    will later be used to generate baseline levels \n",
    "    of alignment. Store surrogate files in a new\n",
    "    folder each time the surrogate generation is run.\n",
    "    \n",
    "    Returns a list of all surrogate files created.\n",
    "\n",
    "    By default, the separator between dyad ID and\n",
    "    condition ID is a hyphen ('\\-'). If desired,\n",
    "    this may be changed in the `id_separator` \n",
    "    argument.\n",
    "\n",
    "    By default, condition IDs will be identified as \n",
    "    any characters following `cond`. If desired,\n",
    "    this may be changed with the `condition_label`\n",
    "    argument.\n",
    "    \n",
    "    By default, dyad IDs will be identified as \n",
    "    any characters following `dyad`. If desired,\n",
    "    this may be changed with the `dyad_label`\n",
    "    argument.\n",
    "    \n",
    "    By default, generate surrogates only from a subset\n",
    "    of all possible pairings. If desired, instead \n",
    "    generate surrogates from all possible pairings\n",
    "    with `all_surrogates=True`.\n",
    "    \n",
    "    By default, create surrogates by shuffling all\n",
    "    turns within each surrogate partner's data. If \n",
    "    desired, retain the original ordering of each\n",
    "    surrogate partner's data with \n",
    "    `keep_original_turn_order = True`.\n",
    "    \"\"\"\n",
    "        \n",
    "    # create a subfolder for the new set of surrogates\n",
    "    import time\n",
    "    new_surrogate_path = surrogate_file_directory + 'surrogate_run-' + str(time.time()) +'/'\n",
    "    if not os.path.exists(new_surrogate_path):\n",
    "        os.makedirs(new_surrogate_path)\n",
    "        \n",
    "    # grab condition types from each file name\n",
    "    file_info = [re.sub('\\.txt','',os.path.basename(file_name)) for file_name in original_conversation_list]\n",
    "    condition_ids = list(set([re.findall('[^'+id_separator+']*'+condition_label+'.*',metadata)[0] for metadata in file_info]))\n",
    "    files_conditions = {}\n",
    "    for unique_condition in condition_ids:\n",
    "        next_condition_files = [add_file for add_file in original_conversation_list if unique_condition in add_file]\n",
    "        files_conditions[unique_condition] = next_condition_files\n",
    "    \n",
    "    # cycle through conditions\n",
    "    for condition in files_conditions.keys():\n",
    "        \n",
    "        # grab all possible pairs of conversations of this condition\n",
    "        paired_surrogates = [pair for pair in combinations(files_conditions[condition],2)]\n",
    "        \n",
    "        # default: randomly pull from all pairs to get target surrogate sample\n",
    "        if all_surrogates == False:\n",
    "            import math\n",
    "            paired_surrogates = random.sample(paired_surrogates, \n",
    "                                              int(math.ceil(len(files_conditions[condition])/2)))\n",
    "            \n",
    "        # cycle through surrogate pairings\n",
    "        for next_surrogate in paired_surrogates:\n",
    "            \n",
    "            # read in the files\n",
    "            original_file1 = os.path.basename(next_surrogate[0])\n",
    "            original_file2 = os.path.basename(next_surrogate[1])\n",
    "            original_df1=pd.read_csv(next_surrogate[0], sep='\\t',encoding='utf-8')\n",
    "            original_df2=pd.read_csv(next_surrogate[1], sep='\\t',encoding='utf-8')\n",
    "            \n",
    "            # get participants A and B from df1\n",
    "            participantA_1_code = min(original_df1['participant'].unique())\n",
    "            participantB_1_code = max(original_df1['participant'].unique())\n",
    "            participantA_1 = original_df1[original_df1['participant'] == participantA_1_code].reset_index().rename(columns={'file': 'original_file'})\n",
    "            participantB_1 = original_df1[original_df1['participant'] == participantB_1_code].reset_index().rename(columns={'file': 'original_file'})\n",
    "            \n",
    "            # get participants A and B from df2\n",
    "            participantA_2_code = min(original_df2['participant'].unique())\n",
    "            participantB_2_code = max(original_df2['participant'].unique())\n",
    "            participantA_2 = original_df2[original_df2['participant'] == participantA_2_code].reset_index().rename(columns={'file': 'original_file'})\n",
    "            participantB_2 = original_df2[original_df2['participant'] == participantB_2_code].reset_index().rename(columns={'file': 'original_file'})\n",
    "            \n",
    "            # identify truncation point for both surrogates (to have even number of turns)\n",
    "            surrogateX_turns=min([participantA_1.shape[0],\n",
    "                                  participantB_2.shape[0]])\n",
    "            surrogateY_turns=min([participantA_2.shape[0],\n",
    "                                  participantB_1.shape[0]])\n",
    "            \n",
    "            # if desired, preserve original turn order for surrogate pairs\n",
    "            if keep_original_turn_order == True:\n",
    "                surrogateX = participantA_1.truncate(after=surrogateX_turns-1,copy=False).append(\n",
    "                                participantB_2.truncate(after=surrogateX_turns-1,copy=False)).sort(\n",
    "                                ['index']).reset_index(drop=True).rename(columns={'index': 'original_index'})\n",
    "                surrogateY = participantA_2.truncate(after=surrogateX_turns-1,copy=False).append(\n",
    "                                participantB_1.truncate(after=surrogateX_turns-1,copy=False)).sort(\n",
    "                                ['index']).reset_index(drop=True).rename(columns={'index': 'original_index'})\n",
    "            \n",
    "            # otherwise, just shuffle all turns within participants\n",
    "            else:\n",
    "                \n",
    "                # shuffle for first surrogate pairing\n",
    "                surrogateX_A1 = participantA_1.truncate(after=surrogateX_turns-1,copy=False).sample(frac=1).reset_index(drop=True)\n",
    "                surrogateX_B2 = participantB_2.truncate(after=surrogateX_turns-1,copy=False).sample(frac=1).reset_index(drop=True)\n",
    "                surrogateX = surrogateX_A1.append(surrogateX_B2).sort_index().reset_index(drop=True).rename(columns={'index': 'original_index'})\n",
    "                \n",
    "                # and for second surrogate pairing\n",
    "                surrogateY_A2 = participantA_2.truncate(after=surrogateX_turns-1,copy=False).sample(frac=1).reset_index(drop=True)\n",
    "                surrogateY_B1 = participantB_1.truncate(after=surrogateX_turns-1,copy=False).sample(frac=1).reset_index(drop=True)\n",
    "                surrogateY = surrogateY_A2.append(surrogateY_B1).sort_index().reset_index(drop=True).rename(columns={'index': 'original_index'})\n",
    "\n",
    "            # create filename for our surrogate file\n",
    "            original_dyad1 = re.findall(dyad_label+'[^'+id_separator+']*',original_file1)[0]\n",
    "            original_dyad2 = re.findall(dyad_label+'[^'+id_separator+']*',original_file2)[0]\n",
    "            surrogateX['file'] = condition + '-' + original_dyad1 + '-' + original_dyad2\n",
    "            surrogateY['file'] = condition + '-' + original_dyad1 + '-' + original_dyad2\n",
    "            nameX='SurrogatePair-'+original_dyad1+'A'+'-'+original_dyad2+'B'+'-'+condition+'.txt'\n",
    "            nameY='SurrogatePair-'+original_dyad2+'A'+'-'+original_dyad1+'B'+'-'+condition+'.txt'\n",
    "            \n",
    "            # save to file\n",
    "            surrogateX.to_csv(new_surrogate_path + nameX, encoding='utf-8',index=False,sep='\\t')\n",
    "            surrogateY.to_csv(new_surrogate_path + nameY, encoding='utf-8',index=False,sep='\\t')\n",
    "            \n",
    "    # return list of all surrogate files\n",
    "    return glob.glob(new_surrogate_path+\"*.txt\")"
   ]
  },
  {
   "cell_type": "markdown",
   "metadata": {
    "deletable": true,
    "editable": true
   },
   "source": [
    "RUN Phase 2: Surrogate Partners\n",
    "-------------------------------\n",
    "* Runs function to generate new surrogate transcript conversations (separate files)\n",
    "* For each surrogate transcript file, runs turn-level and conversational-level alignment scores\n",
    "* Saves output into single datasheet to be used in statistical analysis"
   ]
  },
  {
   "cell_type": "code",
   "execution_count": null,
   "metadata": {
    "collapsed": true,
    "deletable": true,
    "editable": true
   },
   "outputs": [],
   "source": [
    "def PHASE2RUN_SURROGATE(input_files, \n",
    "                         surrogate_file_directory,\n",
    "                         output_file_directory,\n",
    "                         semantic_model_input_file,\n",
    "                         high_sd_cutoff=3,\n",
    "                         low_n_cutoff=1,\n",
    "                         id_separator = '\\-',\n",
    "                         condition_label='cond',\n",
    "                         dyad_label='dyad',\n",
    "                         all_surrogates=False,\n",
    "                         keep_original_turn_order=False,\n",
    "                         delay=1,\n",
    "                         maxngram=2,\n",
    "                         ignore_duplicates=True,\n",
    "                         add_stanford_tags=False,\n",
    "                         input_as_directory=True):   \n",
    "    \"\"\"\n",
    "    Given a directory of individual .txt files and the\n",
    "    vocab list that have been generated by the `PHASE1RUN` \n",
    "    preparation stage, return multi-level alignment \n",
    "    scores with turn-by-turn and conversation-level metrics\n",
    "    for surrogate baseline conversations.\n",
    "    \n",
    "    By default, create the semantic model with a \n",
    "    high-frequency cutoff of 3 SD over the mean. If \n",
    "    desired, this can be changed with the \n",
    "    `high_sd_cutoff` argument and can be removed with\n",
    "    `high_sd_cutoff=None`.\n",
    "    \n",
    "    By default, create the semantic model with a \n",
    "    low-frequency cutoff in which a word will be \n",
    "    removed if they occur 1 or fewer times. if\n",
    "    desired, this can be changed with the \n",
    "    `low_n_cutoff` argument and can be removed with\n",
    "    `low_n_cutoff=0`.\n",
    "    \n",
    "    By default, compare only adjacent turns. If desired,\n",
    "    the comparison distance may be changed by increasing\n",
    "    the `delay` argument.\n",
    "    \n",
    "    By default, include maximum n-gram comparison of 2. If\n",
    "    desired, this may be changed by passing the appropriate\n",
    "    value to the the `maxngram` argument.\n",
    "    \n",
    "    By default, return scores based only on Penn POS taggers. \n",
    "    If desired, also return scores using Stanford tagger with \n",
    "    `add_stanford_tags=True`.\n",
    "    \n",
    "    By default, remove exact duplicates when calculating POS\n",
    "    similarity scores (i.e., does not consider perfectly\n",
    "    mimicked lexical items between speakers). If desired, \n",
    "    duplicates may be included when calculating scores by \n",
    "    passing `ignore_duplicates=False`.\n",
    "    \n",
    "    By default, the separator between dyad ID and\n",
    "    condition ID in each file name is a hyphen ('\\-'). \n",
    "    If desired, this may be changed with the \n",
    "    `id_separator` argument.\n",
    "\n",
    "    By default, condition IDs in each file name\n",
    "    will be identified as any characters following \n",
    "    `cond`. If desired, this may be changed with the \n",
    "    `condition_label` argument.\n",
    "    \n",
    "    By default, dyad IDs in each file name\n",
    "    will be identified as any characters following \n",
    "    `dyad`. If desired, this may be changed with the \n",
    "    `dyad_label` argument.\n",
    "    \n",
    "    By default, generate surrogates only from a subset\n",
    "    of all possible pairings. If desired, instead \n",
    "    generate surrogates from all possible pairings\n",
    "    with `all_surrogates=True`.\n",
    "    \n",
    "    By default, accept `input_files` as a directory\n",
    "    that includes `.txt` files of each individual \n",
    "    conversation. If desired, provide individual files\n",
    "    as a list of literal paths to the `input_files`\n",
    "    argument and set `input_as_directory=False`.\n",
    "    \"\"\"\n",
    "    \n",
    "    # grab the files in the input list\n",
    "    if input_as_directory==False:\n",
    "        file_list = glob.glob(input_files)\n",
    "    else:\n",
    "        file_list = glob.glob(input_files+\"*.txt\")\n",
    "    \n",
    "    \n",
    "    # create a surrogate file list\n",
    "    surrogate_file_list = GenerateSurrogate(original_conversation_list = file_list,\n",
    "                                                   surrogate_file_directory = surrogate_file_directory,\n",
    "                                                   all_surrogates = all_surrogates,\n",
    "                                                   id_separator = id_separator,\n",
    "                                                   condition_label = condition_label,\n",
    "                                                   dyad_label = dyad_label,\n",
    "                                                   keep_original_turn_order = keep_original_turn_order) \n",
    "    \n",
    "    # build the semantic model to be used for all conversations\n",
    "    [vocablist, highDimModel] = BuildSemanticModel(semantic_model_input_file=semantic_model_input_file,\n",
    "                                                        high_sd_cutoff=high_sd_cutoff,\n",
    "                                                        low_n_cutoff=low_n_cutoff)\n",
    "    \n",
    "    # create containers for alignment values\n",
    "    AlignmentT2T = pd.DataFrame()\n",
    "    AlignmentC2C = pd.DataFrame()\n",
    "    \n",
    "    # cycle through the files\n",
    "    for fileName in surrogate_file_list:\n",
    "        \n",
    "        # process the file if it's got a valid conversation\n",
    "        dataframe=pd.read_csv(fileName, sep='\\t',encoding='utf-8')\n",
    "        if len(dataframe) > 0:\n",
    "            \n",
    "            # let us know which filename we're processing\n",
    "            print \"Processing: \"+fileName   \n",
    "\n",
    "            # calculate turn-by-turn alignment scores\n",
    "            xT2T=TurnByTurnAnalysis(dataframe=dataframe,\n",
    "                                         delay=delay,\n",
    "                                         maxngram=maxngram,\n",
    "                                         vocablist=vocablist,\n",
    "                                         highDimModel=highDimModel)\n",
    "            AlignmentT2T=AlignmentT2T.append(xT2T)\n",
    "            \n",
    "            # calculate conversation-level alignment scores\n",
    "            xC2C = ConvoByConvoAnalysis(dataframe=dataframe,\n",
    "                                             maxngram = maxngram,\n",
    "                                             ignore_duplicates=ignore_duplicates,\n",
    "                                             add_stanford_tags = add_stanford_tags)\n",
    "            AlignmentC2C=AlignmentC2C.append(xC2C)\n",
    "        \n",
    "        # if it's invalid, let us know\n",
    "        else:\n",
    "            print \"Invalid file: \"+fileName   \n",
    "            \n",
    "    # update final dataframes\n",
    "    FINAL_TURN_SURROGATE = AlignmentT2T.reset_index(drop=True)\n",
    "    FINAL_CONVO_SURROGATE = AlignmentC2C.reset_index(drop=True)\n",
    "    \n",
    "    # export the final files\n",
    "    FINAL_TURN_SURROGATE.to_csv(output_file_directory+\"AlignmentT2T_Surrogate.txt\",\n",
    "                      encoding='utf-8',index=False,sep='\\t')   \n",
    "    FINAL_CONVO_SURROGATE.to_csv(output_file_directory+\"AlignmentC2C_Surrogate.txt\",\n",
    "                       encoding='utf-8',index=False,sep='\\t') \n",
    "\n",
    "    # display the info, too\n",
    "    return FINAL_TURN_SURROGATE, FINAL_CONVO_SURROGATE"
   ]
  },
  {
   "cell_type": "markdown",
   "metadata": {
    "collapsed": true,
    "deletable": true,
    "editable": true
   },
   "source": [
    "# Run everything!"
   ]
  },
  {
   "cell_type": "markdown",
   "metadata": {
    "deletable": true,
    "editable": true
   },
   "source": [
    "## Phase 1: Prep"
   ]
  },
  {
   "cell_type": "code",
   "execution_count": null,
   "metadata": {
    "collapsed": true,
    "deletable": true,
    "editable": true
   },
   "outputs": [],
   "source": [
    "import time\n",
    "start_phase1 = time.time()"
   ]
  },
  {
   "cell_type": "code",
   "execution_count": null,
   "metadata": {
    "collapsed": true,
    "deletable": true,
    "editable": true
   },
   "outputs": [],
   "source": [
    "# specified_filler_list = ['ignore','these','words']\n",
    "# loaded_filler_list = list(pd.read_csv('fillers.txt',squeeze=True))\n",
    "\n",
    "# model_store = PHASE1RUN(\n",
    "#               input_files=INPUT_PATH+TRANSCRIPTS+'31_1-0-2.txt',\n",
    "#               input_as_directory=False,\n",
    "#               save_concatenated_dataframe=False,\n",
    "#               output_file_directory=INPUT_PATH+PREPPED_TRANSCRIPTS,\n",
    "#               training_dictionary=INPUT_PATH+'big.txt',\n",
    "#               minwords=2,\n",
    "#               use_filler_list=None,\n",
    "#               add_stanford_tags=False,\n",
    "#               stanford_pos_path=STANFORD_POS_PATH)\n",
    "# model_store"
   ]
  },
  {
   "cell_type": "markdown",
   "metadata": {
    "collapsed": true,
    "deletable": true,
    "editable": true
   },
   "source": [
    "## Phase 2: Real"
   ]
  },
  {
   "cell_type": "code",
   "execution_count": null,
   "metadata": {
    "collapsed": true,
    "deletable": true,
    "editable": true
   },
   "outputs": [],
   "source": [
    "start_phase2real = time.time()"
   ]
  },
  {
   "cell_type": "code",
   "execution_count": null,
   "metadata": {
    "collapsed": true,
    "deletable": true,
    "editable": true
   },
   "outputs": [],
   "source": [
    "# [turn_real,convo_real] = PHASE2RUN_REAL(\n",
    "#                         input_files = INPUT_PATH+PREPPED_TRANSCRIPTS+'31_1-0-2.txt',\n",
    "#                         input_as_directory=False,\n",
    "#                         output_file_directory = INPUT_PATH+ANALYSIS_READY,\n",
    "#                         delay=1,\n",
    "#                         maxngram=2,\n",
    "#                         ignore_duplicates=True,\n",
    "#                         add_stanford_tags=False,       \n",
    "#                         use_pretrained_vectors=True,\n",
    "#                         pretrained_input_file=INPUT_PATH+'GoogleNews-vectors-negative300.bin',\n",
    "#                         semantic_model_input_file=INPUT_PATH+'align_concatenated_dataframe.txt', \n",
    "#                         high_sd_cutoff=3,\n",
    "#                         low_n_cutoff=1)\n",
    "# turn_real"
   ]
  },
  {
   "cell_type": "markdown",
   "metadata": {
    "deletable": true,
    "editable": true
   },
   "source": [
    "## Phase 2: Surrogate"
   ]
  },
  {
   "cell_type": "code",
   "execution_count": null,
   "metadata": {
    "collapsed": true,
    "deletable": true,
    "editable": true
   },
   "outputs": [],
   "source": [
    "start_phase2surrogate = time.time()"
   ]
  },
  {
   "cell_type": "code",
   "execution_count": null,
   "metadata": {
    "collapsed": true,
    "deletable": true,
    "editable": true
   },
   "outputs": [],
   "source": [
    "# [turn_surrogate,convo_surrogate] = PHASE2RUN_SURROGATE(input_file_directory = INPUT_PATH+PREPPED_TRANSCRIPTS, \n",
    "#                              surrogate_file_directory= INPUT_PATH+SURROGATE_TRANSCRIPTS,\n",
    "#                              input_as_directory=True,\n",
    "#                              output_file_directory= INPUT_PATH+ANALYSIS_READY,\n",
    "#                              semantic_model_input_file=INPUT_PATH+'align_concatenated_dataframe.txt',\n",
    "#                              high_sd_cutoff=3,\n",
    "#                              low_n_cutoff=1,\n",
    "#                              id_separator = '\\-',\n",
    "#                              condition_label='cond',\n",
    "#                              dyad_label='dyad',\n",
    "#                              all_surrogates=False,\n",
    "#                              keep_original_turn_order = False,\n",
    "#                              delay=1,\n",
    "#                              maxngram=MAXNGRAM,                          \n",
    "#                              ignore_duplicates=True,\n",
    "#                              add_stanford_tags=False)"
   ]
  },
  {
   "cell_type": "code",
   "execution_count": null,
   "metadata": {
    "collapsed": true,
    "deletable": true,
    "editable": true
   },
   "outputs": [],
   "source": [
    "end=time.time()"
   ]
  },
  {
   "cell_type": "markdown",
   "metadata": {
    "deletable": true,
    "editable": true
   },
   "source": [
    "## Speed calculations"
   ]
  },
  {
   "cell_type": "markdown",
   "metadata": {
    "deletable": true,
    "editable": true
   },
   "source": [
    "Phase 1 time:"
   ]
  },
  {
   "cell_type": "code",
   "execution_count": null,
   "metadata": {
    "collapsed": true,
    "deletable": true,
    "editable": true
   },
   "outputs": [],
   "source": [
    "start_phase2real - start_phase1"
   ]
  },
  {
   "cell_type": "markdown",
   "metadata": {
    "deletable": true,
    "editable": true
   },
   "source": [
    "Phase 2 real time:"
   ]
  },
  {
   "cell_type": "code",
   "execution_count": null,
   "metadata": {
    "collapsed": true,
    "deletable": true,
    "editable": true
   },
   "outputs": [],
   "source": [
    "start_phase2surrogate - start_phase2real"
   ]
  },
  {
   "cell_type": "markdown",
   "metadata": {
    "deletable": true,
    "editable": true
   },
   "source": [
    "Phase 2 surrogate time:"
   ]
  },
  {
   "cell_type": "code",
   "execution_count": null,
   "metadata": {
    "collapsed": true,
    "deletable": true,
    "editable": true
   },
   "outputs": [],
   "source": [
    "end - start_phase2surrogate"
   ]
  },
  {
   "cell_type": "markdown",
   "metadata": {
    "deletable": true,
    "editable": true
   },
   "source": [
    "All 3 phases:"
   ]
  },
  {
   "cell_type": "code",
   "execution_count": null,
   "metadata": {
    "collapsed": true,
    "deletable": true,
    "editable": true
   },
   "outputs": [],
   "source": [
    "end - start_phase1"
   ]
  },
  {
   "cell_type": "markdown",
   "metadata": {
    "deletable": true,
    "editable": true
   },
   "source": [
    "## Printouts!"
   ]
  },
  {
   "cell_type": "code",
   "execution_count": null,
   "metadata": {
    "collapsed": true,
    "deletable": true,
    "editable": true,
    "scrolled": true
   },
   "outputs": [],
   "source": [
    "turn_real.head(10)"
   ]
  },
  {
   "cell_type": "code",
   "execution_count": null,
   "metadata": {
    "collapsed": true,
    "deletable": true,
    "editable": true,
    "scrolled": true
   },
   "outputs": [],
   "source": [
    "convo_real.head(10)"
   ]
  },
  {
   "cell_type": "code",
   "execution_count": null,
   "metadata": {
    "collapsed": true,
    "deletable": true,
    "editable": true,
    "scrolled": true
   },
   "outputs": [],
   "source": [
    "turn_surrogate.head(10)"
   ]
  },
  {
   "cell_type": "code",
   "execution_count": null,
   "metadata": {
    "collapsed": true,
    "deletable": true,
    "editable": true,
    "scrolled": false
   },
   "outputs": [],
   "source": [
    "convo_surrogate.head(10)"
   ]
  }
 ],
 "metadata": {
  "kernelspec": {
   "display_name": "Python 2",
   "language": "python",
   "name": "python2"
  },
  "language_info": {
   "codemirror_mode": {
    "name": "ipython",
    "version": 2
   },
   "file_extension": ".py",
   "mimetype": "text/x-python",
   "name": "python",
   "nbconvert_exporter": "python",
   "pygments_lexer": "ipython2",
   "version": "2.7.13"
  }
 },
 "nbformat": 4,
 "nbformat_minor": 2
}
