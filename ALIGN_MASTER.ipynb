{
 "cells": [
  {
   "cell_type": "markdown",
   "metadata": {},
   "source": [
    "# To-do list"
   ]
  },
  {
   "cell_type": "markdown",
   "metadata": {},
   "source": [
    "**Things for Alex to do:**\n",
    "* [ ] Handling requirements (after getting them)\n",
    "* [ ] Dockerizing\n",
    "* [ ] Jupyter app-ifying\n",
    "* [x] Getting Stanford tagger included automatically\n",
    "* [ ] Clean up markdown text (when final notebooks are ready)\n",
    "* ~~[ ] See if I can implement w2v function (https://github.com/a-paxton/Gensim-LSI-Word-Similarities)~~\n",
    "* [ ] Convert functions into library\n",
    "* [ ] See whether `BuildSemanticSpace` can be sped up when pulling in the prebuilt GoogleNews vectors"
   ]
  },
  {
   "cell_type": "markdown",
   "metadata": {},
   "source": [
    "**Things for Nick to do:**\n",
    "* [x] Implement surrogate to match by conversation order AND conversation type\n",
    "* [x] Make file names more intuitive\n",
    "* [ ] Identify condition/dyad/number flexibly (using regex) - SKIPPED\n",
    "* [x] Allow surrogate baseline to be created using a smaller subset (permutations) — 2-3x?\n",
    "* [x] Do pip freeze or conda list -e > req.txt\n",
    "* [**???**] Redo analysis with new baseline + consider doing sample-wise shuffled baseline - Have questions on how to proceed\n",
    "* [ ] Go over manuscript again with new baseline + review comments/edits\n",
    "* [x] Need to create a simple other_filler_list as a text file that can be modified by a user and imported to be used here - make note that we only catch 2-letter fillers at this point with the regular expression default \n",
    "* [x] Note that align_concatenated_dataframe.txt takes the place of forSemantic.txt. Make updates accordingly. \n",
    "* [ ] We could/should probably make `convobyconvo` an optional add-on from `turnbyturn`.\n",
    "* [ ] Consider other POS taggers: https://stackoverflow.com/questions/30821188/python-nltk-pos-tag-not-returning-the-correct-part-of-speech-tag\n",
    "* [ ] Create semantic space using the TASA corpus to make available to users\n",
    "* [ ] Still some issues with lemmatizer in that any POS tag not recognized defaults to NOUN. Consider other lemmatizer options that doesn't rely on Wordnet."
   ]
  },
  {
   "cell_type": "markdown",
   "metadata": {},
   "source": [
    "**To Nick: Can we remove these to-do lists and stash them somewhere else?**"
   ]
  },
  {
   "cell_type": "markdown",
   "metadata": {},
   "source": [
    "***"
   ]
  },
  {
   "cell_type": "markdown",
   "metadata": {},
   "source": [
    "# ALIGN"
   ]
  },
  {
   "cell_type": "markdown",
   "metadata": {},
   "source": [
    "This notebook provides an introduction to **ALIGN**, a tool for quantifying multi-level linguistic similarity between speakers. "
   ]
  },
  {
   "cell_type": "markdown",
   "metadata": {},
   "source": [
    "***"
   ]
  },
  {
   "cell_type": "markdown",
   "metadata": {},
   "source": [
    "**Table of Contents**:"
   ]
  },
  {
   "cell_type": "markdown",
   "metadata": {},
   "source": [
    "* [Getting Started](#Getting-Started)\n",
    "    * [Prerequisites](#Prerequisites)\n",
    "    * [Preparing input data](#Preparing-input-data)\n",
    "    * [Filename conventions](#Filename-conventions)\n",
    "    * [User-specified parameters](#User-specified-parameters)\n",
    "    * [Main calls](#Main-calls)\n",
    "* [Setup](#Setup)\n",
    "    * [Import libraries](#Import-libraries)\n",
    "    * [User-specified settings](#User-specified-settings)\n",
    "* [Phase 1: Generate \"prepped\" transcripts](#Phase-1:-Generate-\"prepped\"-transcripts)\n",
    "    * [](#)\n",
    "* [Phase 2: Generate alignment scores](#Phase-2:-Generate-alignment-scores)"
   ]
  },
  {
   "cell_type": "markdown",
   "metadata": {},
   "source": [
    "***"
   ]
  },
  {
   "cell_type": "markdown",
   "metadata": {},
   "source": [
    "# Getting Started"
   ]
  },
  {
   "cell_type": "markdown",
   "metadata": {},
   "source": [
    "### Prerequisites"
   ]
  },
  {
   "cell_type": "markdown",
   "metadata": {},
   "source": [
    "* Jupyter Notebook with Python 2.7.13 kernel\n",
    "* Pandas:\n",
    "    * 0.21.1\n",
    "* Numpy:\n",
    "    * 1.11.3\n",
    "* Scipy:\n",
    "    * 0.19.0\n",
    "* NLTK:\n",
    "    * 3.2.5\n",
    "* Gensim:\n",
    "    * 3.1.0\n",
    "\n",
    "* Necessary packages also in `package_files/requirements.txt` "
   ]
  },
  {
   "cell_type": "markdown",
   "metadata": {},
   "source": [
    "### Preparing input data"
   ]
  },
  {
   "cell_type": "markdown",
   "metadata": {},
   "source": [
    "* Each input text file needs to contain a single conversation organized in an `N x 2` matrix\n",
    "    * Text file must be tab-delimited.\n",
    "* Each row must correspond to a single conversational turn from a speaker.\n",
    "    * Rows must be temporally ordered based on their occurrence in the conversation.\n",
    "    * Rows must alternate between speakers.\n",
    "* Speaker identifier and content for each turn are divided across two columns.\n",
    "    * Column 1 must have the header `participant`.\n",
    "        * Each cell specifies the speaker.\n",
    "        * Each speaker must have a unique label (e.g., `P1` and `P2`, `0` and `1`).\n",
    "    * Column 2 must have the header `content`.\n",
    "        * Each cell corresponds to the transcribed utterance from the speaker.\n",
    "        * Each cell must end with a newline character: `\\n`\n",
    "* See folder `examples > toy_data-original` in Github repository for an example"
   ]
  },
  {
   "cell_type": "markdown",
   "metadata": {},
   "source": [
    "### Filename conventions"
   ]
  },
  {
   "cell_type": "markdown",
   "metadata": {},
   "source": [
    "* Each conversation text file must be regularly formatted, including a prefix for dyad and a prefix for conversation prior to the identifier for each that are separated by a unique character. By default, ALIGN looks for patterns that follow this convention: `dyad1-condA.txt`\n",
    "    * However, users may choose to include any label for dyad or condition so long as the two labels are distinct from one another and are not subsets of any possible dyad or condition labels. Users may also use any character as a separator so long as it does not occur anywhere else in the filename.\n",
    "    * The chosen file format **must** be used when saving **all** files for this analysis."
   ]
  },
  {
   "cell_type": "markdown",
   "metadata": {},
   "source": [
    "### Highest-level functions"
   ]
  },
  {
   "cell_type": "markdown",
   "metadata": {},
   "source": [
    "Given appropriately prepared transcript files, ALIGN can be run in 3 high-level functions:"
   ]
  },
  {
   "cell_type": "markdown",
   "metadata": {},
   "source": [
    "`PHASE1RUN`"
   ]
  },
  {
   "cell_type": "markdown",
   "metadata": {},
   "source": [
    "* Pre-process each standardized conversation, checking it conforms to the requirements.\n",
    "* Each utterance is tokenized and lemmatized and has POS tags added."
   ]
  },
  {
   "cell_type": "markdown",
   "metadata": {},
   "source": [
    "`PHASE2RUN_REAL`"
   ]
  },
  {
   "cell_type": "markdown",
   "metadata": {},
   "source": [
    "* Generates turn-level and conversation-level alignment scores (lexical, conceptual, and syntactic) across a range of n-gram sequences"
   ]
  },
  {
   "cell_type": "markdown",
   "metadata": {},
   "source": [
    "`PHASE2RUN_SURROGATE`"
   ]
  },
  {
   "cell_type": "markdown",
   "metadata": {},
   "source": [
    "* Generates a surrogate corpus.\n",
    "* Runs analysis (using identical specifications from `PHASE2RUN_REAL`) on the surrogate corpus."
   ]
  },
  {
   "cell_type": "markdown",
   "metadata": {},
   "source": [
    "***"
   ]
  },
  {
   "cell_type": "markdown",
   "metadata": {},
   "source": [
    "# Setup"
   ]
  },
  {
   "cell_type": "markdown",
   "metadata": {},
   "source": [
    "Here, we make sure all libraries and parameters are in working order for the analysis."
   ]
  },
  {
   "cell_type": "markdown",
   "metadata": {},
   "source": [
    "[To top](#ALIGN)."
   ]
  },
  {
   "cell_type": "markdown",
   "metadata": {},
   "source": [
    "## Download necessary libraries"
   ]
  },
  {
   "cell_type": "markdown",
   "metadata": {},
   "source": [
    "Below, we install all required libraries for the project. We use `conda` to install *only within the current conda environment* to prevent interfering with any other environments you may have."
   ]
  },
  {
   "cell_type": "code",
   "execution_count": null,
   "metadata": {},
   "outputs": [],
   "source": [
    "import sys"
   ]
  },
  {
   "cell_type": "code",
   "execution_count": null,
   "metadata": {},
   "outputs": [],
   "source": [
    "!conda install --yes --prefix {sys.prefix} pandas"
   ]
  },
  {
   "cell_type": "code",
   "execution_count": null,
   "metadata": {},
   "outputs": [],
   "source": [
    "!conda install --yes --prefix {sys.prefix} numpy"
   ]
  },
  {
   "cell_type": "code",
   "execution_count": null,
   "metadata": {},
   "outputs": [],
   "source": [
    "!conda install --yes --prefix {sys.prefix} scipy"
   ]
  },
  {
   "cell_type": "code",
   "execution_count": null,
   "metadata": {},
   "outputs": [],
   "source": [
    "!conda install --yes --prefix {sys.prefix} nltk"
   ]
  },
  {
   "cell_type": "code",
   "execution_count": null,
   "metadata": {},
   "outputs": [],
   "source": [
    "!conda install --yes --prefix {sys.prefix} gensim"
   ]
  },
  {
   "cell_type": "markdown",
   "metadata": {},
   "source": [
    "## Import libraries"
   ]
  },
  {
   "cell_type": "markdown",
   "metadata": {},
   "source": [
    "### Standard libraries"
   ]
  },
  {
   "cell_type": "code",
   "execution_count": 91,
   "metadata": {
    "collapsed": true
   },
   "outputs": [],
   "source": [
    "import os,re,math,csv,string,random,logging,glob,itertools,operator, sys\n",
    "from os import listdir \n",
    "from os.path import isfile, join \n",
    "from collections import Counter, defaultdict, OrderedDict\n",
    "from itertools import chain, combinations"
   ]
  },
  {
   "cell_type": "markdown",
   "metadata": {},
   "source": [
    "### Third-party libraries"
   ]
  },
  {
   "cell_type": "markdown",
   "metadata": {},
   "source": [
    "For data analysis and data handling:"
   ]
  },
  {
   "cell_type": "code",
   "execution_count": 92,
   "metadata": {
    "collapsed": true
   },
   "outputs": [],
   "source": [
    "import pandas as pd\n",
    "import numpy as np\n",
    "import scipy\n",
    "from scipy import spatial "
   ]
  },
  {
   "cell_type": "markdown",
   "metadata": {},
   "source": [
    "For natural language processing:"
   ]
  },
  {
   "cell_type": "code",
   "execution_count": 93,
   "metadata": {
    "collapsed": true
   },
   "outputs": [],
   "source": [
    "import nltk\n",
    "from nltk.tokenize import word_tokenize \n",
    "from nltk.stem import WordNetLemmatizer \n",
    "from nltk.corpus import wordnet as wn \n",
    "from nltk.tag.stanford import StanfordPOSTagger\n",
    "from nltk.util import ngrams"
   ]
  },
  {
   "cell_type": "markdown",
   "metadata": {},
   "source": [
    "Download the NLTK default POS tagger:"
   ]
  },
  {
   "cell_type": "code",
   "execution_count": 94,
   "metadata": {},
   "outputs": [
    {
     "name": "stdout",
     "output_type": "stream",
     "text": [
      "[nltk_data] Downloading package averaged_perceptron_tagger to\n",
      "[nltk_data]     /Users/nduran/nltk_data...\n",
      "[nltk_data]   Package averaged_perceptron_tagger is already up-to-\n",
      "[nltk_data]       date!\n"
     ]
    },
    {
     "data": {
      "text/plain": [
       "True"
      ]
     },
     "execution_count": 94,
     "metadata": {},
     "output_type": "execute_result"
    }
   ],
   "source": [
    "nltk.download('averaged_perceptron_tagger')"
   ]
  },
  {
   "cell_type": "markdown",
   "metadata": {},
   "source": [
    "**Note:** With older version of NLTK (pre 3.1), the `maxent_treebank_pos_tagger` is also available. If desired, uncomment and run the following:"
   ]
  },
  {
   "cell_type": "code",
   "execution_count": 95,
   "metadata": {
    "collapsed": true
   },
   "outputs": [],
   "source": [
    "# nltk.download('maxent_treebank_pos_tagger')"
   ]
  },
  {
   "cell_type": "markdown",
   "metadata": {},
   "source": [
    "**Note**: The `StanfordPOSTagger` will be\n",
    "used in conjunction with local folder `stanford-postagger-2017-06-09/` and `.jar` file. The `StanfordPOSTagger` also uses the trained model: `english-left3words-distsim.tagger`. These files will be called below if analysis is being run with the Stanford tagger."
   ]
  },
  {
   "cell_type": "markdown",
   "metadata": {},
   "source": [
    "For building semantic space:"
   ]
  },
  {
   "cell_type": "code",
   "execution_count": 96,
   "metadata": {
    "collapsed": true
   },
   "outputs": [],
   "source": [
    "import gensim\n",
    "from gensim.models import word2vec"
   ]
  },
  {
   "cell_type": "markdown",
   "metadata": {},
   "source": [
    "Let's check our environment."
   ]
  },
  {
   "cell_type": "code",
   "execution_count": null,
   "metadata": {},
   "outputs": [],
   "source": [
    "print(\"Pandas Version Info:\\n{}\".format(pd.__version__))\n",
    "print(\"Numpy Version Info:\\n{}\".format(np.__version__))\n",
    "print(\"Scipy Version Info:\\n{}\".format(scipy.__version__))\n",
    "print(\"NLTK Version Info:\\n{}\".format(nltk.__version__))\n",
    "print(\"Gensim Version Info:\\n{}\".format(gensim.__version__))\n",
    "print(\"Python and Environment Info:\\n{}\".format(sys.version))"
   ]
  },
  {
   "cell_type": "markdown",
   "metadata": {},
   "source": [
    "## Specify global ALIGN settings"
   ]
  },
  {
   "cell_type": "markdown",
   "metadata": {},
   "source": [
    "For purposes of demonstrating ALIGN, the directory and folder pathnames correspond to data provided in the Github repository associated with this notebook. The default option is set to analyze conversations from a single English corpus from the CHILDES database (MacWhinney, 2000), specifically, Kuczaj’s Abe corpus (Kuczaj, 1976). Here, only the last 20 conversations are evaluated. Analysis is based on default settings unless otherwise indicated."
   ]
  },
  {
   "cell_type": "markdown",
   "metadata": {},
   "source": [
    "### Directories and folders"
   ]
  },
  {
   "cell_type": "markdown",
   "metadata": {},
   "source": [
    "**`INPUT_PATH`**: Set working directory, in which all notebook and supporting files are located."
   ]
  },
  {
   "cell_type": "code",
   "execution_count": 97,
   "metadata": {},
   "outputs": [],
   "source": [
    "INPUT_PATH=os.getcwd()+'/'"
   ]
  },
  {
   "cell_type": "markdown",
   "metadata": {},
   "source": [
    "**`TRANSCRIPTS`**: Set variable for folder name (as string) for relative location of folder containing the original transcript files."
   ]
  },
  {
   "cell_type": "code",
   "execution_count": 98,
   "metadata": {
    "collapsed": true
   },
   "outputs": [],
   "source": [
    "# TRANSCRIPTS = 'examples/TOY_DATA/toy_data-original/'\n",
    "TRANSCRIPTS = 'examples/CHILDES/childes-original/'"
   ]
  },
  {
   "cell_type": "markdown",
   "metadata": {},
   "source": [
    "**`STANFORD_POS_PATH`**: Path to Stanford POS tagger files."
   ]
  },
  {
   "cell_type": "code",
   "execution_count": 99,
   "metadata": {},
   "outputs": [],
   "source": [
    "STANFORD_POS_PATH = INPUT_PATH + 'package_files/stanford-postagger-full-2017-06-09/'"
   ]
  },
  {
   "cell_type": "markdown",
   "metadata": {},
   "source": [
    "**`STANFORD_LANGUAGE`**: If using stanford tagger, set language model to be used for POS tagging"
   ]
  },
  {
   "cell_type": "code",
   "execution_count": 100,
   "metadata": {
    "collapsed": true
   },
   "outputs": [],
   "source": [
    "STANFORD_LANGUAGE = STANFORD_POS_PATH + 'models/english-left3words-distsim.tagger'"
   ]
  },
  {
   "cell_type": "markdown",
   "metadata": {},
   "source": [
    "**`PREPPED_TRANSCRIPTS`**: Set variable for folder name (as string) for relative location of folder into which prepared transcript files will be saved."
   ]
  },
  {
   "cell_type": "code",
   "execution_count": 101,
   "metadata": {
    "collapsed": true
   },
   "outputs": [],
   "source": [
    "# PREPPED_TRANSCRIPTS = 'examples/toy_data-prepped/'\n",
    "PREPPED_TRANSCRIPTS = 'examples/CHILDES/childes-prepped/'"
   ]
  },
  {
   "cell_type": "markdown",
   "metadata": {},
   "source": [
    "**`ANALYSIS_READY`**: Set variable for folder name (as string) for relative location of folder into which analysis-ready dataframe files will be saved."
   ]
  },
  {
   "cell_type": "code",
   "execution_count": 102,
   "metadata": {
    "collapsed": true
   },
   "outputs": [],
   "source": [
    "# ANALYSIS_READY = 'examples/toy_data-analysis/'\n",
    "ANALYSIS_READY = 'examples/CHILDES/childes-analysis/'"
   ]
  },
  {
   "cell_type": "markdown",
   "metadata": {},
   "source": [
    "**`SURROGATE_TRANSCRIPTS`**: Set variable for folder name (as string) for relative location of folder into which all prepared surrogate transcript files will be saved."
   ]
  },
  {
   "cell_type": "code",
   "execution_count": 103,
   "metadata": {
    "collapsed": true
   },
   "outputs": [],
   "source": [
    "# SURROGATE_TRANSCRIPTS = 'examples/toy_data-surrogate/'\n",
    "SURROGATE_TRANSCRIPTS = 'examples/CHILDES/childes-surrogate/'"
   ]
  },
  {
   "cell_type": "markdown",
   "metadata": {},
   "source": [
    "**To Nick**: We should delete the commented-out lines above before releasing this to clean it up--is there a reason to keep them?"
   ]
  },
  {
   "cell_type": "markdown",
   "metadata": {},
   "source": [
    "### Analysis settings"
   ]
  },
  {
   "cell_type": "markdown",
   "metadata": {},
   "source": [
    "`MAXNGRAM`: Set maximum size for n-gram chunking.\n",
    "\n",
    "* Default: 2"
   ]
  },
  {
   "cell_type": "code",
   "execution_count": 104,
   "metadata": {
    "collapsed": true
   },
   "outputs": [],
   "source": [
    "MAXNGRAM = 2"
   ]
  },
  {
   "cell_type": "markdown",
   "metadata": {},
   "source": [
    "`MINWORDS`: Set minimum number of words for each turn.\n",
    "\n",
    "* Default: 2\n",
    "\n",
    "**Note**: The minimum number of words must be at least as long as maximum *n*-gram size (`MAXNGRAM` above)."
   ]
  },
  {
   "cell_type": "code",
   "execution_count": 105,
   "metadata": {
    "collapsed": true
   },
   "outputs": [],
   "source": [
    "MINWORDS = 2"
   ]
  },
  {
   "cell_type": "markdown",
   "metadata": {},
   "source": [
    "`ADD_STANFORD_TAGS`: Choose POS tagger. \n",
    "\n",
    "* Default: `False`\n",
    "    * Run NLTK default POS tagger (NLTK 3.1+): `averaged_perceptron_tagger`\n",
    "* Option: `True`\n",
    "    * Run both NLTK default POS tagger and Stanford POS tagger. Note: Adding the Stanford POS tagger will lead to an increase in processing time. "
   ]
  },
  {
   "cell_type": "code",
   "execution_count": 106,
   "metadata": {
    "collapsed": true
   },
   "outputs": [],
   "source": [
    "ADD_STANFORD_TAGS = False"
   ]
  },
  {
   "cell_type": "markdown",
   "metadata": {},
   "source": [
    "`DELAY`: Set max delay between partner's turns when generating alignment score.\n",
    "\n",
    "* Currently, the only acceptable value is 1 (i.e., contiguous turns)."
   ]
  },
  {
   "cell_type": "code",
   "execution_count": 107,
   "metadata": {
    "collapsed": true
   },
   "outputs": [],
   "source": [
    "DELAY = 1"
   ]
  },
  {
   "cell_type": "markdown",
   "metadata": {},
   "source": [
    "`USE_FILLER_LIST`: Choose method for removing speech fillers. \n",
    "\n",
    "* Default: `None`\n",
    "    * Does not provide additional speech fillers to be removed.\n",
    "* Option: list of strings\n",
    "    * Provide a list of literal strings to be removed from the transcripts."
   ]
  },
  {
   "cell_type": "code",
   "execution_count": 108,
   "metadata": {
    "collapsed": true
   },
   "outputs": [],
   "source": [
    "USE_FILLER_LIST = None"
   ]
  },
  {
   "cell_type": "markdown",
   "metadata": {},
   "source": [
    "`IGNORE_DUPLICATES`: Choose whether to remove duplicate lexial bigrams when computing syntactic alignment\n",
    "\n",
    "* Default: `True`\n",
    "    * Removes duplicate lexical bigrams.\n",
    "* Option `False`\n",
    "    * Keeps duplicate lexical bigrams"
   ]
  },
  {
   "cell_type": "code",
   "execution_count": 109,
   "metadata": {
    "collapsed": true
   },
   "outputs": [],
   "source": [
    "IGNORE_DUPLICATES = True"
   ]
  },
  {
   "cell_type": "markdown",
   "metadata": {},
   "source": [
    "`USE_PRETRAINED_VECTORS`: Choose whether to use high-dimensional semantic model pretrained vectors from GoogleNews or to build vectors based on transcripts (each utterance/row is equivalent to a single context). Note: if there are a small number of utterance/rows then the pretrained vectors should be used. \n",
    "\n",
    "* Default: `False`\n",
    "    * Builds high-dimensional based on input transcript\n",
    "* Option `True`\n",
    "    * Uses pre-trained vectors from GoogleNews"
   ]
  },
  {
   "cell_type": "code",
   "execution_count": 110,
   "metadata": {
    "collapsed": true
   },
   "outputs": [],
   "source": [
    "USE_PRETRAINED_VECTORS = False"
   ]
  },
  {
   "cell_type": "markdown",
   "metadata": {},
   "source": [
    "`ALL_SURROGATES`: Choose whether to generate surrogates from all possible pairings within a condition or only from a subset of all possible pairings. \n",
    "\n",
    "* Default: `True`\n",
    "    * Generates all possible pairings\n",
    "* Option `False`\n",
    "    * Generates from a subset of all possible pairings"
   ]
  },
  {
   "cell_type": "code",
   "execution_count": 111,
   "metadata": {
    "collapsed": true
   },
   "outputs": [],
   "source": [
    "ALL_SURROGATES = True"
   ]
  },
  {
   "cell_type": "markdown",
   "metadata": {},
   "source": [
    "`KEEP_ORIGINAL_TURN_ORDER`: For generating surrogate transcripts, choose whether to to retain the original ordering of each surrogate partner's data or create surrogates by shuffling all turns within each surrogate partner's data. \n",
    "\n",
    "* Default: `True`\n",
    "    * Retains original\n",
    "    ordering of conversational turns\n",
    "* Option `False`\n",
    "    * Shuffles ordering of conversational turns"
   ]
  },
  {
   "cell_type": "code",
   "execution_count": 112,
   "metadata": {
    "collapsed": true
   },
   "outputs": [],
   "source": [
    "KEEP_ORIGINAL_TURN_ORDER = True"
   ]
  },
  {
   "cell_type": "markdown",
   "metadata": {},
   "source": [
    "### Additional settings"
   ]
  },
  {
   "cell_type": "markdown",
   "metadata": {},
   "source": [
    "ALIGN contains a number of other settings that users may alter if desired. We outline each below and provide the default value for user information, but we preserve them in their defaults for the sake of this notebook. More information about each argument can also be found in the docstring for each function."
   ]
  },
  {
   "cell_type": "markdown",
   "metadata": {},
   "source": [
    "* `filler_regex_and_list`: remove common fillers through regex in addition to removing a user-specified list of fillers (default: `False`)\n",
    "* `high_sd_cutoff`: remove any words that occur in the dataset over a certain number of SDs greater than the mean (default: `3`)\n",
    "* `low_n_cutoff`: remove any words that occur in the dataset at or below a given raw number of times (default: `1`)\n",
    "* `input_as_directory`: pass a directory of files (rather than a list of file names) to process data (default: `True`)\n",
    "* `save_concatenated_dataframe`: save output of Phase 1 as a single dataframe (default: `True`)\n",
    "* `dyad_label`: prefix before dyad identifier in transcript filenames (default: `dyad`)\n",
    "* `condition_label`: prefix before dyad identifier in transcript filenames (default: `cond`)\n",
    "* `id_separator`: unique character separator between dyad and condition in transcript filenames (default: `-`)"
   ]
  },
  {
   "cell_type": "markdown",
   "metadata": {},
   "source": [
    "**To Nick**: I agree that we don't necessarily need to feature them here, but I've gone ahead and converted your comment into a public one so that users *know* that other functions are there. I think it'd be helpful to at least let them know that they exist, even if we don't make them easy to change."
   ]
  },
  {
   "cell_type": "markdown",
   "metadata": {},
   "source": [
    "***"
   ]
  },
  {
   "cell_type": "markdown",
   "metadata": {},
   "source": [
    "# Phase 1: Generate \"prepped\" transcripts"
   ]
  },
  {
   "cell_type": "markdown",
   "metadata": {},
   "source": [
    "## Initial clean-up"
   ]
  },
  {
   "cell_type": "markdown",
   "metadata": {},
   "source": [
    "* **[Clean up text](#Clean-up-text)** by removing:\n",
    "    * numbers, punctuation, and other non-ASCII alphabet characters\n",
    "    * common speech fillers (e.g., \"um\", \"huh\") and their derivations\n",
    "    * empty turns that may have inadvertently been included\n",
    "    * user-specified short turns\n",
    "        * removes short turns that are at least as long as maximum n-gram\n",
    "* **[Merge adjacent turns by the same participant](#Merge-adjacent-turns-by-the-same-participant)** into a single utterance row."
   ]
  },
  {
   "cell_type": "markdown",
   "metadata": {},
   "source": [
    "[To top](#ALIGN)."
   ]
  },
  {
   "cell_type": "markdown",
   "metadata": {},
   "source": [
    "### Clean up text"
   ]
  },
  {
   "cell_type": "markdown",
   "metadata": {},
   "source": [
    "**To Alex** Added an option to use both the regex default AND a list of additional words. I was finding that \"yeah\" appears a lot in the DA transcripts and wanted to manually remove it via the filler list. "
   ]
  },
  {
   "cell_type": "markdown",
   "metadata": {},
   "source": [
    "**To Nick**: Great idea! I've updated the argument to make it a bit more informative."
   ]
  },
  {
   "cell_type": "code",
   "execution_count": 113,
   "metadata": {
    "collapsed": true
   },
   "outputs": [],
   "source": [
    "def InitialCleanup(dataframe,\n",
    "                   minwords=2,\n",
    "                   use_filler_list=None,\n",
    "                   filler_regex_and_list=False):\n",
    "    \n",
    "    \"\"\"\n",
    "    Perform basic text cleaning to prepare dataframe\n",
    "    for analysis. Remove non-letter/-space characters,\n",
    "    empty turns, turns below a minimum length, and \n",
    "    fillers.\n",
    "    \n",
    "    By default, preserves turns 2 words or longer.\n",
    "    If desired, this may be changed by updating the\n",
    "    `minwords` argument.\n",
    "    \n",
    "    By default, remove common fillers through regex.\n",
    "    If desired, remove other words by passing a list\n",
    "    of literal strings to `use_filler_list` argument, \n",
    "    and if both regex and list of additional literal\n",
    "    strings are to be used, update `filler_regex_and_list=True`.\n",
    "    \"\"\"\n",
    "    \n",
    "    # only allow strings, spaces, and newlines to pass\n",
    "    WHITELIST = string.letters + '\\'' + ' '\n",
    "     \n",
    "    # remove inadvertent empty turns \n",
    "    dataframe = dataframe[pd.notnull(dataframe['content'])]\n",
    "    \n",
    "    # internal function: remove fillers via regular expressions\n",
    "    def applyRegExpression(textFiller):\n",
    "        textClean = re.sub('^(?!mom|am|ham)[u*|h*|m*|o*|a*]+[m*|h*|u*|a*]+\\s', ' ', textFiller) # at the start of a string\n",
    "        textClean = re.sub('\\s(?!mom|am|ham)[u*|h*|m*|o*|a*]+[m*|h*|u*|a*]+\\s', ' ', textClean) # within a string \n",
    "        textClean = re.sub('\\s(?!mom|am|ham)[u*|h*|m*|o*|a*]+[m*|h*|u*|a*]$', ' ', textClean) # end of a string \n",
    "        textClean = re.sub('^(?!mom|am|ham)[u*|h*|m*|o*|a*]+[m*|h*|u*|a*]$', ' ', textClean) # if entire turn string        \n",
    "        return textClean\n",
    "    \n",
    "    # create a new column with only approved text before cleaning per user-specified settings\n",
    "    dataframe['clean_content'] = dataframe['content'].apply(lambda utterance: ''.join([char for char in utterance if char in WHITELIST]).lower())\n",
    "    print(dataframe.head(10))\n",
    "    \n",
    "    # DEFAULT: remove typical speech fillers via regular expressions (examples: \"um, mm, oh, hm, uh, ha\")\n",
    "    if use_filler_list == None and filler_regex_and_list == False:                                \n",
    "        dataframe['clean_content'] = dataframe['clean_content'].apply(applyRegExpression)\n",
    "        \n",
    "    # OPTION 1: remove speech fillers or other words specified by user in a list\n",
    "    elif use_filler_list != None and filler_regex_and_list == False:\n",
    "        dataframe['clean_content'] = dataframe['clean_content'].apply(lambda utterance: ' '.join([word for word in utterance.split(\" \") if word not in use_filler_list]))\n",
    "            \n",
    "    # OPTION 2: remove speech fillers via regular expression and any additional words from user-specified list\n",
    "    elif use_filler_list != None and filler_regex_and_list == True:\n",
    "        dataframe['clean_content'] = dataframe['clean_content'].apply(applyRegExpression)\n",
    "        dataframe['clean_content'] = dataframe['clean_content'].apply(lambda utterance: ' '.join([word for word in utterance.split(\" \") if word not in use_filler_list]))\n",
    "        cleantext = \" \".join(cleantext)\n",
    "    \n",
    "    # OPTION 3: nothing is filtered\n",
    "    else:\n",
    "        dataframe['clean_content'] = dataframe['clean_content']     \n",
    "                \n",
    "    # drop the old \"content\" column and rename the clean \"content\" column\n",
    "    dataframe = dataframe.drop(['content'],axis=1)\n",
    "    dataframe = dataframe.rename(index=str,\n",
    "                                 columns ={'clean_content': 'content'})\n",
    "        \n",
    "    # remove rows that are now blank or do not meet `minwords` requirement, then drop length column    \n",
    "    dataframe['utteranceLen'] = dataframe['content'].apply(lambda x: word_tokenize(x)).str.len()\n",
    "    dataframe = dataframe.drop(dataframe[dataframe.utteranceLen < int(minwords)].index).drop(['utteranceLen'],axis=1)\n",
    "    dataframe = dataframe.reset_index(drop=True)\n",
    "        \n",
    "    # return the cleaned dataframe    \n",
    "    return dataframe"
   ]
  },
  {
   "cell_type": "markdown",
   "metadata": {},
   "source": [
    "### Merge adjacent turns by the same participant"
   ]
  },
  {
   "cell_type": "code",
   "execution_count": 114,
   "metadata": {
    "collapsed": true
   },
   "outputs": [],
   "source": [
    "def AdjacentMerge(dataframe):\n",
    "\n",
    "    \"\"\"\n",
    "    Given a dataframe of conversation turns,\n",
    "    merge adjacent turns by the same speaker.\n",
    "    \"\"\"    \n",
    "    \n",
    "    repeat=1\n",
    "    while repeat==1:\n",
    "        l1=len(dataframe) \n",
    "        DfMerge = []\n",
    "        k = 0\n",
    "        if len(dataframe) > 0:\n",
    "            while k < len(dataframe)-1: \n",
    "                if dataframe['participant'].iloc[k] != dataframe['participant'].iloc[k+1]:\n",
    "                    DfMerge.append([dataframe['participant'].iloc[k], dataframe['content'].iloc[k]])         \n",
    "                    k = k + 1\n",
    "                elif dataframe['participant'].iloc[k] == dataframe['participant'].iloc[k+1]:                    \n",
    "                    DfMerge.append([dataframe['participant'].iloc[k], dataframe['content'].iloc[k] + \" \" + dataframe['content'].iloc[k+1]])           \n",
    "                    k = k + 2   \n",
    "            if k == len(dataframe)-1:\n",
    "                DfMerge.append([dataframe['participant'].iloc[k], dataframe['content'].iloc[k]])      \n",
    "        \n",
    "        dataframe=pd.DataFrame(DfMerge,columns=('participant','content'))\n",
    "        if l1==len(dataframe): \n",
    "            repeat=0 \n",
    "                \n",
    "    return dataframe"
   ]
  },
  {
   "cell_type": "markdown",
   "metadata": {},
   "source": [
    "## Prepare transcript text"
   ]
  },
  {
   "cell_type": "markdown",
   "metadata": {},
   "source": [
    "* **[Check spelling](#Check-spelling)** via a Bayesian spell-checking algorithm (http://norvig.com/spell-correct.html).\n",
    "* **[Tokenize and apply spell correction](#Tokenize-and-apply-spell-correction)** to the original transcript text.\n",
    "* **[Lemmatize](#Lemmatize)** using WordNet-derived categories.\n",
    "* [**Part-of-speech tagging**](#Part-of-speech-tagging) with user-defined tagger(s) on both lemmatized and non-lemmatized tokens.\n",
    "    * Users may choose to use the NLTK default POS tagger (default) and/or the Stanford POS tagger (optional). The NLTK default tagger is more time-efficient."
   ]
  },
  {
   "cell_type": "markdown",
   "metadata": {},
   "source": [
    "### Tokenize and apply spell correction"
   ]
  },
  {
   "cell_type": "code",
   "execution_count": 115,
   "metadata": {
    "collapsed": true
   },
   "outputs": [],
   "source": [
    "def Tokenize(text,nwords):\n",
    "    \"\"\"\n",
    "    Given list of text to be processed and a list \n",
    "    of known words, return a list of edited and \n",
    "    tokenized words.\n",
    "    \"\"\"\n",
    "    \n",
    "    # internal function: identify possible spelling errors for a given word\n",
    "    def edits1(word): \n",
    "        splits     = [(word[:i], word[i:]) for i in range(len(word) + 1)]\n",
    "        deletes    = [a + b[1:] for a, b in splits if b]\n",
    "        transposes = [a + b[1] + b[0] + b[2:] for a, b in splits if len(b)>1]\n",
    "        replaces   = [a + c + b[1:] for a, b in splits for c in string.lowercase if b]\n",
    "        inserts    = [a + c + b     for a, b in splits for c in string.lowercase]\n",
    "        return set(deletes + transposes + replaces + inserts)\n",
    "\n",
    "    # internal function: identify known edits\n",
    "    def known_edits2(word,nwords):\n",
    "        return set(e2 for e1 in edits1(word) for e2 in edits1(e1) if e2 in nwords)\n",
    "\n",
    "    # internal function: identify known words\n",
    "    def known(words,nwords): return set(w for w in words if w in nwords)\n",
    "\n",
    "    # internal function: correct spelling\n",
    "    def correct(word,nwords):\n",
    "        candidates = known([word],nwords) or known(edits1(word),nwords) or known_edits2(word,nwords) or [word]\n",
    "        return max(candidates, key=nwords.get)\n",
    "\n",
    "    # expand out based on a fixed list of common contractions \n",
    "    contract_dict = { \"ain't\": \"is not\",\n",
    "        \"aren't\": \"are not\",\n",
    "        \"can't\": \"cannot\",\n",
    "        \"can't've\": \"cannot have\",\n",
    "        \"'cause\": \"because\",\n",
    "        \"could've\": \"could have\",\n",
    "        \"couldn't\": \"could not\",\n",
    "        \"couldn't've\": \"could not have\",\n",
    "        \"didn't\": \"did not\",\n",
    "        \"doesn't\": \"does not\",\n",
    "        \"don't\": \"do not\",\n",
    "        \"hadn't\": \"had not\",\n",
    "        \"hadn't've\": \"had not have\",\n",
    "        \"hasn't\": \"has not\",\n",
    "        \"haven't\": \"have not\",\n",
    "        \"he'd\": \"he had\",\n",
    "        \"he'd've\": \"he would have\",\n",
    "        \"he'll\": \"he will\",\n",
    "        \"he'll've\": \"he will have\",\n",
    "        \"he's\": \"he is\",\n",
    "        \"how'd\": \"how did\",\n",
    "        \"how'd'y\": \"how do you\",\n",
    "        \"how'll\": \"how will\",\n",
    "        \"how's\": \"how is\",\n",
    "        \"i'd\": \"i would\",\n",
    "        \"i'd've\": \"i would have\",\n",
    "        \"i'll\": \"i will\",\n",
    "        \"i'll've\": \"i will have\",\n",
    "        \"i'm\": \"i am\",\n",
    "        \"i've\": \"i have\",\n",
    "        \"isn't\": \"is not\",\n",
    "        \"it'd\": \"it would\",\n",
    "        \"it'd've\": \"it would have\",\n",
    "        \"it'll\": \"it will\",\n",
    "        \"it'll've\": \"it will have\",\n",
    "        \"it's\": \"it is\",\n",
    "        \"let's\": \"let us\",\n",
    "        \"ma'am\": \"madam\",\n",
    "        \"mayn't\": \"may not\",\n",
    "        \"might've\": \"might have\",\n",
    "        \"mightn't\": \"might not\",\n",
    "        \"mightn't've\": \"might not have\",\n",
    "        \"must've\": \"must have\",\n",
    "        \"mustn't\": \"must not\",\n",
    "        \"mustn't've\": \"must not have\",\n",
    "        \"needn't\": \"need not\",\n",
    "        \"needn't've\": \"need not have\",\n",
    "        \"o'clock\": \"of the clock\",\n",
    "        \"oughtn't\": \"ought not\",\n",
    "        \"oughtn't've\": \"ought not have\",\n",
    "        \"shan't\": \"shall not\",\n",
    "        \"sha'n't\": \"shall not\",\n",
    "        \"shan't've\": \"shall not have\",\n",
    "        \"she'd\": \"she would\",\n",
    "        \"she'd've\": \"she would have\",\n",
    "        \"she'll\": \"she will\",\n",
    "        \"she'll've\": \"she will have\",\n",
    "        \"she's\": \"she is\",\n",
    "        \"should've\": \"should have\",\n",
    "        \"shouldn't\": \"should not\",\n",
    "        \"shouldn't've\": \"should not have\",\n",
    "        \"so've\": \"so have\",\n",
    "        \"so's\": \"so as\",\n",
    "        \"that'd\": \"that had\",\n",
    "        \"that'd've\": \"that would have\",\n",
    "        \"that's\": \"that is\",\n",
    "        \"there'd\": \"there would\",\n",
    "        \"there'd've\": \"there would have\",\n",
    "        \"there's\": \"there is\",\n",
    "        \"they'd\": \"they would\",\n",
    "        \"they'd've\": \"they would have\",\n",
    "        \"they'll\": \"they will\",\n",
    "        \"they'll've\": \"they will have\",\n",
    "        \"they're\": \"they are\",\n",
    "        \"they've\": \"they have\",\n",
    "        \"to've\": \"to have\",\n",
    "        \"wasn't\": \"was not\",\n",
    "        \"we'd\": \"we would\",\n",
    "        \"we'd've\": \"we would have\",\n",
    "        \"we'll\": \"we will\",\n",
    "        \"we'll've\": \"we will have\",\n",
    "        \"we're\": \"we are\",\n",
    "        \"we've\": \"we have\",\n",
    "        \"weren't\": \"were not\",\n",
    "        \"what'll\": \"what will\",\n",
    "        \"what'll've\": \"what will have\",\n",
    "        \"what're\": \"what are\",\n",
    "        \"what's\": \"what is\",\n",
    "        \"what've\": \"what have\",\n",
    "        \"when's\": \"when is\",\n",
    "        \"when've\": \"when have\",\n",
    "        \"where'd\": \"where did\",\n",
    "        \"where's\": \"where is\",\n",
    "        \"where've\": \"where have\",\n",
    "        \"who'll\": \"who will\",\n",
    "        \"who'll've\": \"who will have\",\n",
    "        \"who's\": \"who is\",\n",
    "        \"who've\": \"who have\",\n",
    "        \"why's\": \"why is\",\n",
    "        \"why've\": \"why have\",\n",
    "        \"will've\": \"will have\",\n",
    "        \"won't\": \"will not\",\n",
    "        \"won't've\": \"will not have\",\n",
    "        \"would've\": \"would have\",\n",
    "        \"wouldn't\": \"would not\",\n",
    "        \"wouldn't've\": \"would not have\",\n",
    "        \"y'all\": \"you all\",\n",
    "        \"y'all'd\": \"you all would\",\n",
    "        \"y'all'd've\": \"you all would have\",\n",
    "        \"y'all're\": \"you all are\",\n",
    "        \"y'all've\": \"you all have\",\n",
    "        \"you'd\": \"you would\",\n",
    "        \"you'd've\": \"you would have\",\n",
    "        \"you'll\": \"you will\",\n",
    "        \"you'll've\": \"you will have\",\n",
    "        \"you're\": \"you are\",\n",
    "        \"you've\": \"you have\" }\n",
    "    contractions_re = re.compile('(%s)' % '|'.join(contract_dict.keys()))      \n",
    "\n",
    "    # internal function:    \n",
    "    def expand_contractions(text, contractions_re=contractions_re):\n",
    "        def replace(match):\n",
    "            return contract_dict[match.group(0)]\n",
    "        return contractions_re.sub(replace, text.lower())\n",
    "\n",
    "    # process all words in the text\n",
    "    cleantoken = []\n",
    "    text = expand_contractions(text)\n",
    "    token = word_tokenize(text)\n",
    "    for word in token:        \n",
    "        if \"'\" not in word:\n",
    "            cleantoken.append(correct(word,nwords))\n",
    "        else:\n",
    "            cleantoken.append(word) \n",
    "    return cleantoken"
   ]
  },
  {
   "cell_type": "markdown",
   "metadata": {},
   "source": [
    "### Lemmatize"
   ]
  },
  {
   "cell_type": "code",
   "execution_count": 116,
   "metadata": {
    "collapsed": true
   },
   "outputs": [],
   "source": [
    "def pos_to_wn(tag):\n",
    "    \"\"\"\n",
    "    Convert NLTK default tagger output into a format that Wordnet\n",
    "    can use in order to properly lemmatize the text.\n",
    "    \"\"\"\n",
    "    \n",
    "    # create some inner functions for simplicity\n",
    "    def is_noun(tag):\n",
    "        return tag in ['NN', 'NNS', 'NNP', 'NNPS']\n",
    "    def is_verb(tag):\n",
    "        return tag in ['VB', 'VBD', 'VBG', 'VBN', 'VBP', 'VBZ']\n",
    "    def is_adverb(tag):\n",
    "        return tag in ['RB', 'RBR', 'RBS']\n",
    "    def is_adjective(tag):\n",
    "        return tag in ['JJ', 'JJR', 'JJS']\n",
    "    \n",
    "    # check each tag against possible categories\n",
    "    if is_noun(tag):\n",
    "        return wn.NOUN\n",
    "    elif is_verb(tag):\n",
    "        return wn.VERB\n",
    "    elif is_adverb(tag):\n",
    "        return wn.ADV\n",
    "    elif is_adjective(tag):\n",
    "        return wn.ADJ\n",
    "    else:\n",
    "        return wn.NOUN"
   ]
  },
  {
   "cell_type": "code",
   "execution_count": 117,
   "metadata": {
    "collapsed": true
   },
   "outputs": [],
   "source": [
    "def Lemmatize(tokenlist):\n",
    "    lemmatizer = WordNetLemmatizer() \n",
    "    defaultPos = nltk.pos_tag(tokenlist) # get the POS tags from NLTK default tagger\n",
    "    words_lemma = []\n",
    "    for item in defaultPos:  \n",
    "        words_lemma.append(lemmatizer.lemmatize(item[0],pos_to_wn(item[1]))) # need to convert POS tags to a format (NOUN, VERB, ADV, ADJ) that wordnet uses to lemmatize\n",
    "    return words_lemma"
   ]
  },
  {
   "cell_type": "markdown",
   "metadata": {},
   "source": [
    "### Part-of-speech tagging"
   ]
  },
  {
   "cell_type": "code",
   "execution_count": 118,
   "metadata": {
    "collapsed": true
   },
   "outputs": [],
   "source": [
    "def ApplyPOSTagging(df,\n",
    "                    filename,\n",
    "                    add_stanford_tags=False,\n",
    "                    stanford_pos_path=None,\n",
    "                    stanford_language_path=None):\n",
    "\n",
    "    \"\"\"\n",
    "    Given a dataframe of conversation turns, return a new\n",
    "    dataframe with part-of-speech tagging. Add filename\n",
    "    (given as string) as a new column in returned dataframe.\n",
    "    \n",
    "    By default, return only tags from the NLTK default POS \n",
    "    tagger. Optionally, also return Stanford POS tagger \n",
    "    results by setting `add_stanford_tags=True`. \n",
    "    \n",
    "    If Stanford POS tagging is desired, specify the\n",
    "    location of the Stanford POS tagger with the \n",
    "    `stanford_pos_path` argument. Also note that the \n",
    "    default language model for the Stanford tagger is \n",
    "    English (english-left3words-distsim.tagger). To change \n",
    "    language model, specify the location with the\n",
    "    `stanford_language_path` argument.\n",
    "    \n",
    "    \"\"\"\n",
    "    \n",
    "    # if desired, import Stanford tagger\n",
    "    if add_stanford_tags == True:\n",
    "        if stanford_pos_path == None or stanford_language_path == None:\n",
    "            raise ValueError('Error! Specify path to Stanford POS tagger and language model using the `stanford_pos_path` and `stanford_language_path` arguments')\n",
    "        else:\n",
    "            stanford_tagger = StanfordPOSTagger(stanford_pos_path + stanford_language_path,\n",
    "                                                stanford_pos_path + 'stanford-postagger.jar')\n",
    "    \n",
    "    # add new columns to dataframe\n",
    "    df['tagged_token'] = df['token'].apply(nltk.pos_tag)\n",
    "    df['tagged_lemma'] = df['lemma'].apply(nltk.pos_tag)\n",
    "    \n",
    "    # if desired, also tag with Stanford tagger\n",
    "    if add_stanford_tags == True:\n",
    "        df['tagged_stan_token'] = df['token'].apply(stanford_tagger.tag)\n",
    "        df['tagged_stan_lemma'] = df['lemma'].apply(stanford_tagger.tag)\n",
    "\n",
    "    df['file'] = filename\n",
    "        \n",
    "    # return finished dataframe\n",
    "    return df"
   ]
  },
  {
   "cell_type": "markdown",
   "metadata": {},
   "source": [
    "## RUN Phase 1"
   ]
  },
  {
   "cell_type": "markdown",
   "metadata": {},
   "source": [
    "* For each original transcript file, saves new file with columns for:\n",
    "    * \"Clean\" text\n",
    "    * Tokenized words\n",
    "    * Tokenized lemmatized-words\n",
    "    * NLTK default POS-tagging on tokenized words\n",
    "    * NLTK default POS-tagging on lemmatized words\n",
    "    * Stanford POS-tagging on tokenized words\n",
    "    * Stanford POS-tagging on lemmatized-words\n",
    "* Also saves a single datasheet with all tokenized lemmatized utterances from all transcripts as individual rows\n",
    "    * called `align_concatenated_dataframe.txt`\n",
    "    * to be used in building semantic space for Phase 2"
   ]
  },
  {
   "cell_type": "markdown",
   "metadata": {},
   "source": [
    "**To Nick**: I think we should really reconsider naming these functions to something more transparent, like `prepare_transcripts` or `prep_analysis_transcripts`. It'd be a pretty big change across multiple cells in the notebook, though, so I thought I'd suggest it first."
   ]
  },
  {
   "cell_type": "code",
   "execution_count": 119,
   "metadata": {},
   "outputs": [],
   "source": [
    "def PHASE1RUN(input_files, \n",
    "              output_file_directory,\n",
    "              training_dictionary,\n",
    "              minwords=2,\n",
    "              use_filler_list=None,\n",
    "              filler_regex_and_list=False,\n",
    "              add_stanford_tags=False,\n",
    "              stanford_pos_path=None,\n",
    "              stanford_language_path=None,\n",
    "              input_as_directory=True,\n",
    "              save_concatenated_dataframe=True):   \n",
    "\n",
    "    \"\"\"\n",
    "    Given individual .txt files of conversations, \n",
    "    return a completely prepared dataframe of transcribed \n",
    "    conversations for later ALIGN analysis, including: text \n",
    "    cleaning, merging adjacent turns, spell-checking, \n",
    "    tokenization, lemmatization, and part-of-speech tagging. \n",
    "    The output serve as the input for later ALIGN\n",
    "    analysis.\n",
    "    \n",
    "    By default, set a minimum number of words in a turn to\n",
    "    2. If desired, this may be chaged by changing the\n",
    "    `minwords` file.\n",
    "    \n",
    "    By default, remove common fillers through regex.\n",
    "    If desired, remove other words by passing a list\n",
    "    of literal strings to `use_filler_list` argument, \n",
    "    and if both regex and list of additional literal\n",
    "    strings are to be used, update `filler_regex_and_list=True`.\n",
    "    \n",
    "    By default, return only the NLTK default \n",
    "    POS tagger values. Optionally, also return Stanford POS \n",
    "    tagger values with `add_stanford_tags=True`.\n",
    "    \n",
    "    If Stanford POS tagging is desired, specify the\n",
    "    location of the Stanford POS tagger with the \n",
    "    `stanford_pos_path` argument.\n",
    "    \n",
    "    By default, accept `input_files` as a directory\n",
    "    that includes `.txt` files of each individual \n",
    "    conversation. If desired, provide individual files\n",
    "    as a list of literal paths to the `input_files`\n",
    "    argument and set `input_as_directory=False`.\n",
    "    \n",
    "    By default, produce a single concatenated dataframe\n",
    "    of all processed conversations in the output directory. \n",
    "    If desired, suppress concatenated dataframe with \n",
    "    `save_concatenated_dataframe=False`.\n",
    "    \"\"\"\n",
    "    \n",
    "    # create an internal function to train the model\n",
    "    def train(features): \n",
    "        model = defaultdict(lambda: 1)\n",
    "        for f in features:\n",
    "            model[f] += 1\n",
    "        return model\n",
    "        \n",
    "    # train our spell-checking model\n",
    "    nwords = train(re.findall('[a-z]+',(file(training_dictionary).read().lower())))\n",
    "    \n",
    "    # grab the appropriate files\n",
    "    if input_as_directory==False:\n",
    "        file_list = glob.glob(input_files)\n",
    "    else: \n",
    "        file_list = glob.glob(input_files+\"*.txt\")\n",
    "    \n",
    "    # cycle through all files \n",
    "    main = pd.DataFrame()\n",
    "    for fileName in file_list:  \n",
    "        \n",
    "        # let us know which file we're processing\n",
    "        dataframe = pd.read_csv(fileName, sep='\\t',encoding='utf-8')\n",
    "        print \"Processing: \"+fileName\n",
    "\n",
    "        # clean up, merge, spellcheck, tokenize, lemmatize, and POS-tag\n",
    "        dataframe = InitialCleanup(dataframe,\n",
    "                                  minwords=minwords,\n",
    "                                  use_filler_list=use_filler_list,\n",
    "                                  filler_regex_and_list=filler_regex_and_list)\n",
    "        dataframe = AdjacentMerge(dataframe)\n",
    "        \n",
    "        # tokenize and lemmatize \n",
    "        dataframe['token'] = dataframe['content'].apply(Tokenize,\n",
    "                                     args=(nwords,))\n",
    "        dataframe['lemma'] = dataframe['token'].apply(Lemmatize)\n",
    "\n",
    "        # apply part-of-speech tagging\n",
    "        dataframe = ApplyPOSTagging(dataframe,  \n",
    "                                    filename = os.path.basename(fileName),\n",
    "                                    add_stanford_tags=add_stanford_tags,\n",
    "                                    stanford_pos_path=stanford_pos_path)\n",
    "        \n",
    "        # export the conversation's dataframe as a CSV\n",
    "        dataframe.to_csv(output_file_directory + os.path.basename(fileName), \n",
    "                         encoding='utf-8',index=False,sep='\\t')\n",
    "        main = main.append(dataframe)\n",
    "\n",
    "    # save the concatenated dataframe\n",
    "    if save_concatenated_dataframe != False:\n",
    "        main.to_csv(output_file_directory + '../' + \"align_concatenated_dataframe.txt\",\n",
    "                    encoding='utf-8',index=False, sep='\\t')\n",
    "    \n",
    "    # return the dataframe\n",
    "    return main"
   ]
  },
  {
   "cell_type": "markdown",
   "metadata": {},
   "source": [
    "# Phase 2: Generate alignment scores"
   ]
  },
  {
   "cell_type": "markdown",
   "metadata": {},
   "source": [
    "* [**Create helper functions**](#Create-helper-functions) for processing turn- and conversation-level data.\n",
    "* **[Build semantic space](#Build-semantic-space)** from the `forSemantic.txt` generated in Phase 1 and return a `word2vec` semantic space and vocabulary list."
   ]
  },
  {
   "cell_type": "markdown",
   "metadata": {},
   "source": [
    "[To top.](#ALIGN)"
   ]
  },
  {
   "cell_type": "markdown",
   "metadata": {
    "collapsed": true
   },
   "source": [
    "### Create helper functions"
   ]
  },
  {
   "cell_type": "code",
   "execution_count": 120,
   "metadata": {
    "collapsed": true
   },
   "outputs": [],
   "source": [
    "def ngram_pos(sequence1,sequence2,ngramsize=2,\n",
    "                   ignore_duplicates=True):\n",
    "    \"\"\"\n",
    "    Remove mimicked lexical sequences from two interlocutors'\n",
    "    sequences and return a dictionary of counts of ngrams\n",
    "    of the desired size for each sequence.\n",
    "    \n",
    "    By default, consider bigrams. If desired, this may be \n",
    "    changed by setting `ngramsize` to the appropriate \n",
    "    value.    \n",
    "    \n",
    "    By default, ignore duplicate lexical n-grams when\n",
    "    processing these sequences. If desired, this may\n",
    "    be changed with `ignore_duplicates=False`.\n",
    "    \"\"\"     \n",
    "        \n",
    "    # remove duplicates and recreate sequences\n",
    "    sequence1 = set(ngrams(sequence1,ngramsize))\n",
    "    sequence2 = set(ngrams(sequence2,ngramsize))\n",
    "\n",
    "    # if desired, remove duplicates from sequences\n",
    "    if ignore_duplicates==True:\n",
    "        new_sequence1 = [tuple([''.join(pair[1]) for pair in tup]) for tup in list(sequence1 - sequence2)]\n",
    "        new_sequence2 = [tuple([''.join(pair[1]) for pair in tup]) for tup in list(sequence2 - sequence1)]\n",
    "    else:\n",
    "        new_sequence1 = [tuple([''.join(pair[1]) for pair in tup]) for tup in sequence1]\n",
    "        new_sequence2 = [tuple([''.join(pair[1]) for pair in tup]) for tup in sequence2]\n",
    "        \n",
    "    # return counters\n",
    "    return Counter(new_sequence1), Counter(new_sequence2)"
   ]
  },
  {
   "cell_type": "code",
   "execution_count": 121,
   "metadata": {
    "collapsed": true
   },
   "outputs": [],
   "source": [
    "def ngram_lexical(sequence1,sequence2,ngramsize=2):\n",
    "    \"\"\"\n",
    "    Create ngrams of the desired size for each of two\n",
    "    interlocutors' sequences and return a dictionary \n",
    "    of counts of ngrams for each sequence.\n",
    "    \n",
    "    By default, consider bigrams. If desired, this may be \n",
    "    changed by setting `ngramsize` to the appropriate \n",
    "    value.  \n",
    "    \"\"\"   \n",
    "    \n",
    "    # generate ngrams\n",
    "    sequence1 = list(ngrams(sequence1,ngramsize))\n",
    "    sequence2 = list(ngrams(sequence2,ngramsize)) \n",
    "\n",
    "    # join for counters\n",
    "    new_sequence1 = [' '.join(pair) for pair in sequence1]\n",
    "    new_sequence2 = [' '.join(pair) for pair in sequence2]\n",
    "    \n",
    "    # return counters\n",
    "    return Counter(new_sequence1), Counter(new_sequence2)"
   ]
  },
  {
   "cell_type": "code",
   "execution_count": 122,
   "metadata": {
    "collapsed": true
   },
   "outputs": [],
   "source": [
    "def get_cosine(vec1, vec2): \n",
    "    \"\"\"\n",
    "    Derive cosine similarity metric, standard measure.\n",
    "    Adapted from <https://stackoverflow.com/a/33129724>.\n",
    "    \"\"\"     \n",
    "    \n",
    "    intersection = set(vec1.keys()) & set(vec2.keys())\n",
    "    numerator = sum([vec1[x] * vec2[x] for x in intersection])\n",
    "    sum1 = sum([vec1[x]**2 for x in vec1.keys()])\n",
    "    sum2 = sum([vec2[x]**2 for x in vec2.keys()])\n",
    "    denominator = math.sqrt(sum1) * math.sqrt(sum2)\n",
    "    if not denominator:\n",
    "        return 0.0\n",
    "    else:\n",
    "        return float(numerator) / denominator    "
   ]
  },
  {
   "cell_type": "code",
   "execution_count": 123,
   "metadata": {
    "collapsed": true
   },
   "outputs": [],
   "source": [
    "def build_composite_semantic_vector(lemma_seq,vocablist,highDimModel):\n",
    "    \"\"\"\n",
    "    Function for producing vocablist and model is called in the main loop\n",
    "    \"\"\"\n",
    "    \n",
    "    ## filter out words in corpus that do not appear in vocablist (either too rare or too frequent)\n",
    "    filter_lemma_seq = [word for word in lemma_seq if word in vocablist]    \n",
    "    ## build composite vector\n",
    "    getComposite = [0] * len(highDimModel[vocablist[1]])        \n",
    "    for w1 in filter_lemma_seq:\n",
    "        if w1 in highDimModel.vocab:\n",
    "            semvector = highDimModel[w1]\n",
    "            getComposite = getComposite + semvector\n",
    "    return getComposite"
   ]
  },
  {
   "cell_type": "markdown",
   "metadata": {},
   "source": [
    "### Build semantic space"
   ]
  },
  {
   "cell_type": "code",
   "execution_count": 124,
   "metadata": {
    "collapsed": true
   },
   "outputs": [],
   "source": [
    "def BuildSemanticModel(semantic_model_input_file,   \n",
    "                        pretrained_input_file,\n",
    "                        use_pretrained_vectors=False,                     \n",
    "                        high_sd_cutoff=3,\n",
    "                        low_n_cutoff=1):\n",
    "    \n",
    "    \"\"\"\n",
    "    Given an input file produced by the ALIGN Phase 1 functions, \n",
    "    build a semantic model from all transcripts in all conversations\n",
    "    in target corpus after removing high- and low-frequency words.\n",
    "    High-frequency words are determined by a user-defined number of\n",
    "    SDs over the mean (by default, `high_sd_cutoff=3`). Low-frequency\n",
    "    words must appear over a specified number of raw occurrences \n",
    "    (by default, `low_n_cutoff=1`).\n",
    "    \n",
    "    Frequency cutoffs can be removed by `high_sd_cutoff=None` and/or\n",
    "    `low_n_cutoff=0`.\n",
    "    \"\"\"\n",
    "    \n",
    "    # build vocabulary list from transcripts\n",
    "    data1 = pd.read_csv(semantic_model_input_file, sep='\\t',encoding='utf-8')\n",
    "        \n",
    "    # get frequency count of all included words        \n",
    "    all_sentences = [re.sub('[^\\w\\s]+','',str(row)).split(' ') for row in list(data1['lemma'])]\n",
    "    all_words = list([a for b in all_sentences for a in b])  \n",
    "    frequency = defaultdict(int)\n",
    "    for word in all_words:\n",
    "        frequency[word] += 1\n",
    "\n",
    "    # remove words that only occur more frequently than our cutoff (defined in occurrences)\n",
    "    frequency = {word: freq for word, freq in frequency.iteritems() if freq > low_n_cutoff}\n",
    "    \n",
    "    # if desired, remove high-frequency words (over user-defined SDs above mean) \n",
    "    if high_sd_cutoff == None:\n",
    "        contentWords = [word for word in frequency.keys()] \n",
    "    else:\n",
    "        getOut = np.mean(frequency.values())+(np.std(frequency.values())*(high_sd_cutoff))\n",
    "        contentWords = {word: freq for word, freq in frequency.iteritems() if freq < getOut}.keys()\n",
    "    \n",
    "    # decide whether to build semantic model from scratch or load in pretrained vectors\n",
    "    if use_pretrained_vectors == False:\n",
    "        keepSentences = [[word for word in row if word in contentWords] for row in all_sentences]\n",
    "        semantic_model = word2vec.Word2Vec(all_sentences, min_count=low_n_cutoff)\n",
    "    else:\n",
    "        if pretrained_input_file == None:\n",
    "            raise ValueError('Error! Specify path to pretrained vector file using the `pretrained_input_file` argument.')\n",
    "        else:\n",
    "            semantic_model = gensim.models.KeyedVectors.load_word2vec_format(pretrained_input_file, binary=True)    \n",
    "        \n",
    "    # return all the content words and the trained word vectors\n",
    "    return contentWords, semantic_model.wv"
   ]
  },
  {
   "cell_type": "markdown",
   "metadata": {},
   "source": [
    "### Calculate lexical and POS alignment scores for each n-gram length across two comparison vectors"
   ]
  },
  {
   "cell_type": "code",
   "execution_count": 125,
   "metadata": {
    "collapsed": true
   },
   "outputs": [],
   "source": [
    "def LexicalPOSAlignment(tok1,lem1,penn_tok1,penn_lem1,\n",
    "                             tok2,lem2,penn_tok2,penn_lem2,\n",
    "                             stan_tok1=None,stan_lem1=None,\n",
    "                             stan_tok2=None,stan_lem2=None,\n",
    "                             maxngram=2,\n",
    "                             ignore_duplicates=True,\n",
    "                             add_stanford_tags=False):\n",
    "    \n",
    "    \"\"\"\n",
    "    Derive lexical and part-of-speech alignment scores\n",
    "    between interlocutors (suffix `1` and `2` in arguments\n",
    "    passed to function). \n",
    "    \n",
    "    By default, return scores based only on Penn POS taggers. \n",
    "    If desired, also return scores using Stanford tagger with \n",
    "    `add_stanford_tags=True` and by providing appropriate \n",
    "    values for `stan_tok1`, `stan_lem1`, `stan_tok2`, and \n",
    "    `stan_lem2`.\n",
    "    \n",
    "    By default, consider only bigram when calculating\n",
    "    similarity. If desired, this window may be expanded \n",
    "    by changing the `maxngram` argument value.\n",
    "    \n",
    "    By default, remove exact duplicates when calculating\n",
    "    similarity scores (i.e., does not consider perfectly\n",
    "    mimicked lexical items between speakers). If desired, \n",
    "    duplicates may be included when calculating scores by \n",
    "    passing `ignore_duplicates=False`.\n",
    "    \"\"\"\n",
    "\n",
    "    # create empty dictionaries for syntactic similarity\n",
    "    syntax_penn_tok = {}\n",
    "    syntax_penn_lem = {}\n",
    "    \n",
    "    # if desired, generate Stanford-based scores\n",
    "    if add_stanford_tags == True:\n",
    "        syntax_stan_tok = {}\n",
    "        syntax_stan_lem = {}\n",
    "    \n",
    "    # create empty dictionaries for lexical similarity\n",
    "    lexical_tok = {}\n",
    "    lexical_lem = {}\n",
    "    \n",
    "    # cycle through all desired ngram lengths\n",
    "    for ngram in range(2,maxngram+1):\n",
    "                \n",
    "        # calculate similarity for lexical ngrams (tokens and lemmas)\n",
    "        [vectorT1, vectorT2] = ngram_lexical(tok1,tok2,ngramsize=ngram)\n",
    "        [vectorL1, vectorL2] = ngram_lexical(lem1,lem2,ngramsize=ngram)        \n",
    "        lexical_tok['lexical_tok{0}'.format(ngram)] = get_cosine(vectorT1,vectorT2)\n",
    "        lexical_lem['lexical_lem{0}'.format(ngram)] = get_cosine(vectorL1, vectorL2)\n",
    "        \n",
    "        # calculate similarity for Penn POS ngrams (tokens)\n",
    "        [vector_penn_tok1, vector_penn_tok2] = ngram_pos(penn_tok1,penn_tok2,\n",
    "                                                ngramsize=ngram,\n",
    "                                                ignore_duplicates=ignore_duplicates) \n",
    "        syntax_penn_tok['syntax_penn_tok{0}'.format(ngram)] = get_cosine(vector_penn_tok1, \n",
    "                                                                                            vector_penn_tok2)\n",
    "        # calculate similarity for Penn POS ngrams (lemmas)\n",
    "        [vector_penn_lem1, vector_penn_lem2] = ngram_pos(penn_lem1,penn_lem2,\n",
    "                                                              ngramsize=ngram,\n",
    "                                                              ignore_duplicates=ignore_duplicates) \n",
    "        syntax_penn_lem['syntax_penn_lem{0}'.format(ngram)] = get_cosine(vector_penn_lem1, \n",
    "                                                                                            vector_penn_lem2) \n",
    "\n",
    "        # if desired, also calculate using Stanford POS\n",
    "        if add_stanford_tags == True:         \n",
    "          \n",
    "            # calculate similarity for Stanford POS ngrams (tokens)\n",
    "            [vector_stan_tok1, vector_stan_tok2] = ngram_pos(stan_tok1,stan_tok2,\n",
    "                                                                  ngramsize=ngram,\n",
    "                                                                  ignore_duplicates=ignore_duplicates) \n",
    "            syntax_stan_tok['syntax_stan_tok{0}'.format(ngram)] = get_cosine(vector_stan_tok1,\n",
    "                                                                                                vector_stan_tok2)\n",
    "                        \n",
    "            # calculate similarity for Stanford POS ngrams (lemmas)\n",
    "            [vector_stan_lem1, vector_stan_lem2] = ngram_pos(stan_lem1,stan_lem2,\n",
    "                                                                  ngramsize=ngram,\n",
    "                                                                  ignore_duplicates=ignore_duplicates) \n",
    "            syntax_stan_lem['syntax_stan_lem{0}'.format(ngram)] = get_cosine(vector_stan_lem1,\n",
    "                                                                                                vector_stan_lem2)\n",
    "        \n",
    "    # return requested information\n",
    "    if add_stanford_tags == True:\n",
    "        dictionaries_list = [syntax_penn_tok, syntax_penn_lem,\n",
    "                             syntax_stan_tok, syntax_stan_lem, \n",
    "                             lexical_tok, lexical_lem]      \n",
    "    else:\n",
    "        dictionaries_list = [syntax_penn_tok, syntax_penn_lem,\n",
    "                             lexical_tok, lexical_lem]      \n",
    "            \n",
    "    return dictionaries_list"
   ]
  },
  {
   "cell_type": "markdown",
   "metadata": {},
   "source": [
    "## Generate turn-level analysis of alignment scores"
   ]
  },
  {
   "cell_type": "code",
   "execution_count": 126,
   "metadata": {
    "collapsed": true
   },
   "outputs": [],
   "source": [
    "def conceptualAlignment(lem1, lem2, vocablist, highDimModel):\n",
    "    \n",
    "    \"\"\"\n",
    "    Calculate conceptual alignment scores from list of lemmas\n",
    "    from between two interocutors (suffix `1` and `2` in arguments\n",
    "    passed to function) using `word2vec`.\n",
    "    \"\"\"\n",
    "\n",
    "    # aggregate composite high-dimensional vectors of all words in utterance\n",
    "    W2Vec1 = build_composite_semantic_vector(lem1,vocablist,highDimModel)\n",
    "    W2Vec2 = build_composite_semantic_vector(lem2,vocablist,highDimModel)\n",
    "\n",
    "    # return cosine distance alignment score\n",
    "    return 1 - spatial.distance.cosine(W2Vec1, W2Vec2) "
   ]
  },
  {
   "cell_type": "code",
   "execution_count": 127,
   "metadata": {
    "collapsed": true
   },
   "outputs": [],
   "source": [
    "def returnMultilevelAlignment(cond_info,\n",
    "                                   partnerA,tok1,lem1,penn_tok1,penn_lem1,\n",
    "                                   partnerB,tok2,lem2,penn_tok2,penn_lem2,\n",
    "                                   vocablist, highDimModel, \n",
    "                                   stan_tok1=None,stan_lem1=None,\n",
    "                                   stan_tok2=None,stan_lem2=None,\n",
    "                                   add_stanford_tags=False,\n",
    "                                   maxngram=2, \n",
    "                                   ignore_duplicates=True):\n",
    "\n",
    "    \"\"\"\n",
    "    Calculate lexical, syntactic, and conceptual alignment\n",
    "    between a pair of turns by individual interlocutors \n",
    "    (suffix `1` and `2` in arguments passed to function), \n",
    "    including leading/following comparison directionality.\n",
    "    \n",
    "    By default, return scores based only on Penn POS taggers. \n",
    "    If desired, also return scores using Stanford tagger with \n",
    "    `add_stanford_tags=True` and by providing appropriate \n",
    "    values for `stan_tok1`, `stan_lem1`, `stan_tok2`, and \n",
    "    `stan_lem2`.\n",
    "    \n",
    "    By default, consider only bigrams when calculating\n",
    "    similarity. If desired, this window may be expanded \n",
    "    by changing the `maxngram` argument value.\n",
    "    \n",
    "    By default, remove exact duplicates when calculating\n",
    "    similarity scores (i.e., does not consider perfectly\n",
    "    mimicked lexical items between speakers). If desired, \n",
    "    duplicates may be included when calculating scores by \n",
    "    passing `ignore_duplicates=False`.\n",
    "    \"\"\"\n",
    "    \n",
    "    # create empty dictionaries \n",
    "    partner_direction = {}\n",
    "    condition_info = {}\n",
    "    cosine_semanticL = {}\n",
    "    \n",
    "    # calculate lexical and syntactic alignment\n",
    "    dictionaries_list = LexicalPOSAlignment(tok1=tok1,lem1=lem1,\n",
    "                                                 penn_tok1=penn_tok1,penn_lem1=penn_lem1,\n",
    "                                                 tok2=tok2,lem2=lem2,\n",
    "                                                 penn_tok2=penn_tok2,penn_lem2=penn_lem2,\n",
    "                                                 stan_tok1=stan_tok1,stan_lem1=stan_lem1,\n",
    "                                                 stan_tok2=stan_tok2,stan_lem2=stan_lem2,\n",
    "                                                 maxngram=maxngram,\n",
    "                                                 ignore_duplicates=ignore_duplicates,\n",
    "                                                 add_stanford_tags=add_stanford_tags)\n",
    "    \n",
    "    # calculate conceptual alignment\n",
    "    cosine_semanticL['cosine_semanticL'] = conceptualAlignment(lem1,lem2,vocablist,highDimModel)\n",
    "    dictionaries_list.append(cosine_semanticL.copy())\n",
    "    \n",
    "    # determine directionality of leading/following comparison\n",
    "#     partner_direction['partner_direction'] = str(int(partnerA)) + \">\" + str(int(partnerB))\n",
    "    partner_direction['partner_direction'] = str(partnerA) + \">\" + str(partnerB)\n",
    "    dictionaries_list.append(partner_direction.copy())\n",
    "\n",
    "    # add condition information\n",
    "    condition_info['condition_info'] = cond_info    \n",
    "    dictionaries_list.append(condition_info.copy())\n",
    "    \n",
    "    # return alignment scores\n",
    "    return dictionaries_list"
   ]
  },
  {
   "cell_type": "code",
   "execution_count": 128,
   "metadata": {
    "collapsed": true
   },
   "outputs": [],
   "source": [
    "def TurnByTurnAnalysis(dataframe,\n",
    "                            vocablist,\n",
    "                            highDimModel, \n",
    "                            delay=1,\n",
    "                            maxngram=2,\n",
    "                            add_stanford_tags=False,\n",
    "                            ignore_duplicates=True):    \n",
    "\n",
    "    \"\"\"\n",
    "    Calculate lexical, syntactic, and conceptual alignment\n",
    "    between interlocutors over an entire conversation.\n",
    "    Automatically detect individual speakers by unique\n",
    "    speaker codes.\n",
    "    \n",
    "    By default, compare only adjacent turns. If desired,\n",
    "    the comparison distance may be changed by increasing\n",
    "    the `delay` argument.\n",
    "    \n",
    "    By default, include maximum n-gram comparison of 2. If\n",
    "    desired, this may be changed by passing the appropriate\n",
    "    value to the the `maxngram` argument.\n",
    "    \n",
    "    By default, return scores based only on Penn POS taggers. \n",
    "    If desired, also return scores using Stanford tagger with \n",
    "    `add_stanford_tags=True`.\n",
    "    \n",
    "    By default, remove exact duplicates when calculating POS\n",
    "    similarity scores (i.e., does not consider perfectly\n",
    "    mimicked lexical items between speakers). If desired, \n",
    "    duplicates may be included when calculating scores by \n",
    "    passing `ignore_duplicates=False`.\n",
    "    \"\"\"\n",
    "    \n",
    "    # if we don't want the Stanford tagger data, set defaults\n",
    "    if add_stanford_tags == False:\n",
    "        stan_tok1=None\n",
    "        stan_lem1=None\n",
    "        stan_tok2=None\n",
    "        stan_lem2=None\n",
    "    \n",
    "    # prepare the data to the appropriate type    \n",
    "    dataframe['token'] = dataframe['token'].apply(lambda x: re.sub('[^\\w\\s]+','',x).split(' '))    \n",
    "    dataframe['lemma'] = dataframe['lemma'].apply(lambda x: re.sub('[^\\w\\s]+','',x).split(' '))\n",
    "    dataframe['tagged_token'] = dataframe['tagged_token'].apply(lambda x: re.sub('[^\\w\\s]+','',x).split(' '))\n",
    "    dataframe['tagged_token'] = dataframe['tagged_token'].apply(lambda x: zip(x[0::2],x[1::2])) # thanks to https://stackoverflow.com/a/4647086\n",
    "    dataframe['tagged_lemma'] = dataframe['tagged_lemma'].apply(lambda x: re.sub('[^\\w\\s]+','',x).split(' '))\n",
    "    dataframe['tagged_lemma'] = dataframe['tagged_lemma'].apply(lambda x: zip(x[0::2],x[1::2])) # thanks to https://stackoverflow.com/a/4647086\n",
    "        \n",
    "    # if desired, prepare the Stanford tagger data\n",
    "    if add_stanford_tags == True:           \n",
    "        dataframe['tagged_stan_token'] = dataframe['tagged_stan_token'].apply(lambda x: re.sub('[^\\w\\s]+','',x).split(' '))\n",
    "        dataframe['tagged_stan_token'] = dataframe['tagged_stan_token'].apply(lambda x: zip(x[0::2],x[1::2])) # thanks to https://stackoverflow.com/a/4647086\n",
    "        dataframe['tagged_stan_lemma'] = dataframe['tagged_stan_lemma'].apply(lambda x: re.sub('[^\\w\\s]+','',x).split(' '))\n",
    "        dataframe['tagged_stan_lemma'] = dataframe['tagged_stan_lemma'].apply(lambda x: zip(x[0::2],x[1::2])) # thanks to https://stackoverflow.com/a/4647086\n",
    "        \n",
    "    # create lagged version of the dataframe\n",
    "    df_original = dataframe.drop(dataframe.tail(delay).index,inplace=False)\n",
    "    df_lagged = dataframe.shift(-delay).drop(dataframe.tail(delay).index,inplace=False)\n",
    "        \n",
    "    # cycle through each pair of turns\n",
    "    aggregated_df = pd.DataFrame()\n",
    "    for i in range(0,df_original.shape[0]):\n",
    "\n",
    "        # identify the condition for this dataframe\n",
    "        cond_info = dataframe['file'].unique()\n",
    "        if len(cond_info)==1: \n",
    "            cond_info = str(cond_info[0])\n",
    "        \n",
    "        # break and flag error if we have more than 1 condition per dataframe\n",
    "        else: \n",
    "            raise ValueError('Error! Dataframe contains multiple conditions. Split dataframe into multiple dataframes, one per condition: '+cond_info)\n",
    "\n",
    "        # grab all of first participant's data\n",
    "        first_row = df_original.iloc[i]\n",
    "        first_partner = first_row['participant']\n",
    "        tok1=first_row['token']\n",
    "        lem1=first_row['lemma']\n",
    "        penn_tok1=first_row['tagged_token']\n",
    "        penn_lem1=first_row['tagged_lemma']\n",
    "\n",
    "        # grab all of lagged participant's data\n",
    "        lagged_row = df_lagged.iloc[i]\n",
    "        lagged_partner = lagged_row['participant']\n",
    "        tok2=lagged_row['token']\n",
    "        lem2=lagged_row['lemma']\n",
    "        penn_tok2=lagged_row['tagged_token']\n",
    "        penn_lem2=lagged_row['tagged_lemma']\n",
    "                \n",
    "        # if desired, grab the Stanford tagger data for both participants\n",
    "        if add_stanford_tags == True:         \n",
    "            stan_tok1=first_row['tagged_stan_token']\n",
    "            stan_lem1=first_row['tagged_stan_lemma']\n",
    "            stan_tok2=lagged_row['tagged_stan_token']\n",
    "            stan_lem2=lagged_row['tagged_stan_lemma']\n",
    "   \n",
    "        # process multilevel alignment\n",
    "        dictionaries_list=returnMultilevelAlignment(cond_info=cond_info,\n",
    "                                                         partnerA=first_partner,\n",
    "                                                         tok1=tok1,lem1=lem1,\n",
    "                                                         penn_tok1=penn_tok1,penn_lem1=penn_lem1,\n",
    "                                                         partnerB=lagged_partner,\n",
    "                                                         tok2=tok2,lem2=lem2,\n",
    "                                                         penn_tok2=penn_tok2,penn_lem2=penn_lem2,\n",
    "                                                         vocablist=vocablist,\n",
    "                                                         highDimModel=highDimModel,\n",
    "                                                         stan_tok1=stan_tok1,stan_lem1=stan_lem1,\n",
    "                                                         stan_tok2=stan_tok2,stan_lem2=stan_lem2,\n",
    "                                                         maxngram = maxngram,\n",
    "                                                         ignore_duplicates = ignore_duplicates,\n",
    "                                                         add_stanford_tags = add_stanford_tags) \n",
    "                \n",
    "        # sort columns so they are in order, append data to existing structures   \n",
    "        next_df_line = pd.DataFrame.from_dict(OrderedDict(k for num, i in enumerate(d for d in dictionaries_list) for k in sorted(i.items())),\n",
    "                               orient='index').transpose()\n",
    "        aggregated_df = aggregated_df.append(next_df_line)\n",
    "        \n",
    "    # reformat turn information and add index\n",
    "    aggregated_df = aggregated_df.reset_index(drop=True).reset_index().rename(columns={\"index\":\"time\"})\n",
    "\n",
    "    # give us our finished dataframe\n",
    "    return aggregated_df"
   ]
  },
  {
   "cell_type": "markdown",
   "metadata": {},
   "source": [
    "Generate conversation-level analysis of alignment scores\n",
    "-----------------------------------------------------"
   ]
  },
  {
   "cell_type": "markdown",
   "metadata": {},
   "source": [
    "**To Alex** Had to add Lines 55-65 and 74-84 because of a problem that took me a long time to debug. But the surrogate analysis when running with stanford tags was throwing an error because the stanford tags were not in list format. But the issue is only with the stanford tags and not the penn tags. "
   ]
  },
  {
   "cell_type": "code",
   "execution_count": 129,
   "metadata": {},
   "outputs": [],
   "source": [
    "def ConvoByConvoAnalysis(dataframe,\n",
    "                          maxngram=2,\n",
    "                          ignore_duplicates=True,\n",
    "                          add_stanford_tags=False):\n",
    "\n",
    "    \"\"\"\n",
    "    Calculate analysis of multilevel similarity over\n",
    "    a conversation between two interlocutors from a \n",
    "    transcript dataframe prepared by Phase 1\n",
    "    of ALIGN. Automatically detect speakers by unique\n",
    "    speaker codes.\n",
    "    \n",
    "    By default, include maximum n-gram comparison of 2. If\n",
    "    desired, this may be changed by passing the appropriate\n",
    "    value to the the `maxngram` argument.\n",
    "    \n",
    "    By default, return scores based only on Penn POS taggers. \n",
    "    If desired, also return scores using Stanford tagger with \n",
    "    `add_stanford_tags=True`.\n",
    "    \n",
    "    By default, remove exact duplicates when calculating POS\n",
    "    similarity scores (i.e., does not consider perfectly\n",
    "    mimicked lexical items between speakers). If desired, \n",
    "    duplicates may be included when calculating scores by \n",
    "    passing `ignore_duplicates=False`.\n",
    "    \"\"\"\n",
    "\n",
    "    # identify the condition for this dataframe\n",
    "    cond_info = dataframe['file'].unique()\n",
    "    if len(cond_info)==1: \n",
    "        cond_info = str(cond_info[0])\n",
    "    \n",
    "    # break and flag error if we have more than 1 condition per dataframe\n",
    "    else: \n",
    "        raise ValueError('Error! Dataframe contains multiple conditions. Split dataframe into multiple dataframes, one per condition: '+cond_info)\n",
    "   \n",
    "    # if we don't want the Stanford info, set defaults \n",
    "    if add_stanford_tags == False:\n",
    "        stan_tok1 = None\n",
    "        stan_lem1 = None\n",
    "        stan_tok2 = None\n",
    "        stan_lem2 = None\n",
    "\n",
    "    # identify individual interlocutors\n",
    "    df_A = dataframe.loc[dataframe['participant'] == dataframe['participant'].unique()[0]]\n",
    "    df_B = dataframe.loc[dataframe['participant'] == dataframe['participant'].unique()[1]]\n",
    "   \n",
    "    # concatenate the token, lemma, and POS information for participant A\n",
    "    tok1 = [word for turn in df_A['token'] for word in turn]\n",
    "    lem1 = [word for turn in df_A['lemma'] for word in turn]\n",
    "    penn_tok1 = [POS for turn in df_A['tagged_token'] for POS in turn]    \n",
    "    penn_lem1 = [POS for turn in df_A['tagged_token'] for POS in turn] \n",
    "    if add_stanford_tags == True:        \n",
    "        \n",
    "        if type(df_A['tagged_stan_token'][0]) == list:\n",
    "            stan_tok1 = [POS for turn in df_A['tagged_stan_token'] for POS in turn] \n",
    "            stan_lem1 = [POS for turn in df_A['tagged_stan_lemma'] for POS in turn]\n",
    "            \n",
    "        elif type(df_A['tagged_stan_token'][0]) == unicode:\n",
    "            stan_tok1 = pd.Series(df_A['tagged_stan_token'].values).apply(lambda x: re.sub('[^\\w\\s]+','',x).split(' '))\n",
    "            stan_tok1 = stan_tok1.apply(lambda x: zip(x[0::2],x[1::2]))\n",
    "            stan_tok1 = [POS for turn in stan_tok1 for POS in turn] \n",
    "            stan_lem1 = pd.Series(df_A['tagged_stan_lemma'].values).apply(lambda x: re.sub('[^\\w\\s]+','',x).split(' '))\n",
    "            stan_lem1 = stan_lem1.apply(lambda x: zip(x[0::2],x[1::2]))\n",
    "            stan_lem1 = [POS for turn in stan_lem1 for POS in turn] \n",
    "                \n",
    "    # concatenate the token, lemma, and POS information for participant B\n",
    "    tok2 = [word for turn in df_B['token'] for word in turn]\n",
    "    lem2 = [word for turn in df_B['lemma'] for word in turn]\n",
    "    penn_tok2 = [POS for turn in df_B['tagged_token'] for POS in turn]    \n",
    "    penn_lem2 = [POS for turn in df_B['tagged_token'] for POS in turn] \n",
    "    if add_stanford_tags == True:\n",
    "        \n",
    "        if type(df_A['tagged_stan_token'][0]) == list:\n",
    "            stan_tok2 = [POS for turn in df_B['tagged_stan_token'] for POS in turn] \n",
    "            stan_lem2 = [POS for turn in df_B['tagged_stan_lemma'] for POS in turn]\n",
    "            \n",
    "        elif type(df_A['tagged_stan_token'][0]) == unicode:        \n",
    "            stan_tok2 = pd.Series(df_B['tagged_stan_token'].values).apply(lambda x: re.sub('[^\\w\\s]+','',x).split(' '))\n",
    "            stan_tok2 = stan_tok2.apply(lambda x: zip(x[0::2],x[1::2]))\n",
    "            stan_tok2 = [POS for turn in stan_tok2 for POS in turn] \n",
    "            stan_lem2 = pd.Series(df_B['tagged_stan_lemma'].values).apply(lambda x: re.sub('[^\\w\\s]+','',x).split(' '))\n",
    "            stan_lem2 = stan_lem2.apply(lambda x: zip(x[0::2],x[1::2]))\n",
    "            stan_lem2 = [POS for turn in stan_lem2 for POS in turn]         \n",
    "        \n",
    "    # process multilevel alignment\n",
    "    dictionaries_list = LexicalPOSAlignment(tok1=tok1,lem1=lem1,\n",
    "                                                 penn_tok1=penn_tok1,penn_lem1=penn_lem1,\n",
    "                                                 tok2=tok2,lem2=lem2,\n",
    "                                                 penn_tok2=penn_tok2,penn_lem2=penn_lem2,\n",
    "                                                 stan_tok1=stan_tok1,stan_lem1=stan_lem1,\n",
    "                                                 stan_tok2=stan_tok2,stan_lem2=stan_lem2,\n",
    "                                                 maxngram=maxngram,\n",
    "                                                 ignore_duplicates=ignore_duplicates,\n",
    "                                                 add_stanford_tags=add_stanford_tags)\n",
    "    \n",
    "    # append data to existing structures\n",
    "    dictionary_df = pd.DataFrame.from_dict(OrderedDict(k for num, i in enumerate(d for d in dictionaries_list) for k in sorted(i.items())),\n",
    "                       orient='index').transpose()    \n",
    "    dictionary_df['condition_info'] = cond_info\n",
    "            \n",
    "    # return the dataframe\n",
    "    return dictionary_df"
   ]
  },
  {
   "cell_type": "markdown",
   "metadata": {},
   "source": [
    "## RUN Phase 2: Actual Partners"
   ]
  },
  {
   "cell_type": "markdown",
   "metadata": {},
   "source": [
    "* For each prepped transcript file, runs turn-level and conversational-level alignment scores\n",
    "* Saves output into single datasheet to be used in statistical analysis"
   ]
  },
  {
   "cell_type": "code",
   "execution_count": 130,
   "metadata": {
    "collapsed": true
   },
   "outputs": [],
   "source": [
    "def PHASE2RUN_REAL(input_files, \n",
    "                    output_file_directory,\n",
    "                    semantic_model_input_file,\n",
    "                    pretrained_input_file,\n",
    "                    high_sd_cutoff=3,\n",
    "                    low_n_cutoff=1,\n",
    "                    delay=1,\n",
    "                    maxngram=2,\n",
    "                    use_pretrained_vectors=False,\n",
    "                    ignore_duplicates=True,\n",
    "                    add_stanford_tags=False,\n",
    "                    input_as_directory=True):   \n",
    "    \n",
    "    \"\"\"\n",
    "    Given a directory of individual .txt files and the\n",
    "    vocab list that have been generated by the `PHASE1RUN` \n",
    "    preparation stage, return multi-level alignment \n",
    "    scores with turn-by-turn and conversation-level metrics.\n",
    "    \n",
    "    By default, create the semantic model with a \n",
    "    high-frequency cutoff of 3 SD over the mean. If \n",
    "    desired, this can be changed with the \n",
    "    `high_sd_cutoff` argument and can be removed with\n",
    "    `high_sd_cutoff=None`.\n",
    "    \n",
    "    By default, create the semantic model with a \n",
    "    low-frequency cutoff in which a word will be \n",
    "    removed if they occur 1 or fewer times. if\n",
    "    desired, this can be changed with the \n",
    "    `low_n_cutoff` argument and can be removed with\n",
    "    `low_n_cutoff=0`.\n",
    "    \n",
    "    By default, compare only adjacent turns. If desired,\n",
    "    the comparison distance may be changed by increasing\n",
    "    the `delay` argument.\n",
    "    \n",
    "    By default, include maximum n-gram comparison of 2. If\n",
    "    desired, this may be changed by passing the appropriate\n",
    "    value to the the `maxngram` argument.\n",
    "    \n",
    "    By default, return scores based only on Penn POS taggers. \n",
    "    If desired, also return scores using Stanford tagger with \n",
    "    `add_stanford_tags=True`.\n",
    "    \n",
    "    By default, remove exact duplicates when calculating POS\n",
    "    similarity scores (i.e., does not consider perfectly\n",
    "    mimicked lexical items between speakers). If desired, \n",
    "    duplicates may be included when calculating scores by \n",
    "    passing `ignore_duplicates=False`.\n",
    "    \n",
    "    By default, accept `input_files` as a directory\n",
    "    that includes `.txt` files of each individual \n",
    "    conversation. If desired, provide individual files\n",
    "    as a list of literal paths to the `input_files`\n",
    "    argument and set `input_as_directory=False`.\n",
    "    \"\"\"\n",
    "    \n",
    "    # grab the files in the list\n",
    "    if input_as_directory == False:\n",
    "        file_list = glob.glob(input_files)\n",
    "    else:\n",
    "        file_list = glob.glob(input_files+\"*.txt\")\n",
    "    \n",
    "    # build the semantic model to be used for all conversations\n",
    "    [vocablist, highDimModel] = BuildSemanticModel(semantic_model_input_file=semantic_model_input_file,\n",
    "                                                       pretrained_input_file=pretrained_input_file,\n",
    "                                                       use_pretrained_vectors=use_pretrained_vectors,\n",
    "                                                       high_sd_cutoff=high_sd_cutoff,\n",
    "                                                       low_n_cutoff=low_n_cutoff)  \n",
    "    \n",
    "    # create containers for alignment values\n",
    "    AlignmentT2T = pd.DataFrame()\n",
    "    AlignmentC2C = pd.DataFrame()\n",
    "        \n",
    "    # cycle through each prepared file\n",
    "    for fileName in file_list:   \n",
    "        \n",
    "        # process the file if it's got a valid conversation\n",
    "        dataframe=pd.read_csv(fileName, sep='\\t',encoding='utf-8')\n",
    "        if len(dataframe) > 0:\n",
    "            \n",
    "            # let us know which filename we're processing\n",
    "            print \"Processing: \"+fileName   \n",
    "\n",
    "            # calculate turn-by-turn alignment scores\n",
    "            xT2T=TurnByTurnAnalysis(dataframe=dataframe,\n",
    "                                         delay=delay,\n",
    "                                         maxngram=maxngram,\n",
    "                                         vocablist=vocablist,\n",
    "                                         highDimModel=highDimModel,\n",
    "                                         add_stanford_tags=add_stanford_tags,\n",
    "                                         ignore_duplicates=ignore_duplicates)   \n",
    "            AlignmentT2T=AlignmentT2T.append(xT2T)\n",
    "            \n",
    "            # calculate conversation-level alignment scores\n",
    "            xC2C = ConvoByConvoAnalysis(dataframe=dataframe,\n",
    "                                             maxngram = maxngram,\n",
    "                                             ignore_duplicates=ignore_duplicates,\n",
    "                                             add_stanford_tags = add_stanford_tags)\n",
    "            AlignmentC2C=AlignmentC2C.append(xC2C)\n",
    "            \n",
    "        # if it's invalid, let us know\n",
    "        else:\n",
    "            print \"Invalid file: \"+fileName   \n",
    "            \n",
    "    # update final dataframes\n",
    "    FINAL_TURN = AlignmentT2T.reset_index(drop=True)\n",
    "    FINAL_CONVO = AlignmentC2C.reset_index(drop=True)\n",
    "    \n",
    "    # export the final files\n",
    "    FINAL_TURN.to_csv(output_file_directory+\"AlignmentT2T.txt\",\n",
    "                      encoding='utf-8',index=False,sep='\\t')   \n",
    "    FINAL_CONVO.to_csv(output_file_directory+\"AlignmentC2C.txt\",\n",
    "                       encoding='utf-8',index=False,sep='\\t') \n",
    "\n",
    "    # display the info, too\n",
    "    return FINAL_TURN, FINAL_CONVO"
   ]
  },
  {
   "cell_type": "markdown",
   "metadata": {
    "collapsed": true
   },
   "source": [
    "Generate surrogate pairings\n",
    "-------------------------\n",
    "* Collects all possible pairs of participants across the dyads in each condition and creates surrogate pairings by combining their conversational turns, preserving turn order. Output saved as new separate conversational transcripts. \n",
    "* Main Function:\n",
    "    * GenerateSurrogate "
   ]
  },
  {
   "cell_type": "markdown",
   "metadata": {},
   "source": [
    "**To Alex** There are several commented lines below that I was using for debugging. Will remove in final, FINAL version. This function/analysis gave me a lot of trouble. Oh, the joys of debugging. "
   ]
  },
  {
   "cell_type": "markdown",
   "metadata": {},
   "source": [
    "**To Alex** `surrogateY_turns` was never used, looks like it needs to go into Lines 111-112 "
   ]
  },
  {
   "cell_type": "markdown",
   "metadata": {},
   "source": [
    "**To Alex** There was an issue with how the turns were being sorted such that contributions from one partner were not being interleaved with the other partner. Instead of P1 > P2 > P1 > P2, it was often the case P1 > P2 > P2 > P1. The new code on Lines 107-113 and 122-129 correct the problem. "
   ]
  },
  {
   "cell_type": "markdown",
   "metadata": {},
   "source": [
    "**To Alex** Naming was incorrect. Fixed with Lines 136-137"
   ]
  },
  {
   "cell_type": "code",
   "execution_count": 131,
   "metadata": {},
   "outputs": [],
   "source": [
    "def GenerateSurrogate(original_conversation_list,\n",
    "                           surrogate_file_directory,\n",
    "                           all_surrogates=True,\n",
    "                           keep_original_turn_order=True,\n",
    "                           id_separator = '\\-',\n",
    "                           dyad_label='dyad',\n",
    "                           condition_label='cond'):\n",
    "    \n",
    "    \"\"\"\n",
    "    Create transcripts for surrogate pairs of \n",
    "    participants (i.e., participants who did not \n",
    "    genuinely interact in the experiment), which\n",
    "    will later be used to generate baseline levels \n",
    "    of alignment. Store surrogate files in a new\n",
    "    folder each time the surrogate generation is run.\n",
    "    \n",
    "    Returns a list of all surrogate files created.\n",
    "\n",
    "    By default, the separator between dyad ID and\n",
    "    condition ID is a hyphen ('\\-'). If desired,\n",
    "    this may be changed in the `id_separator` \n",
    "    argument.\n",
    "\n",
    "    By default, condition IDs will be identified as \n",
    "    any characters following `cond`. If desired,\n",
    "    this may be changed with the `condition_label`\n",
    "    argument.\n",
    "    \n",
    "    By default, dyad IDs will be identified as \n",
    "    any characters following `dyad`. If desired,\n",
    "    this may be changed with the `dyad_label`\n",
    "    argument.\n",
    "    \n",
    "    By default, generate surrogates from all possible \n",
    "    pairings. If desired, instead generate surrogates \n",
    "    only from a subset of all possible pairings\n",
    "    with `all_surrogates=False`.\n",
    "    \n",
    "    By default, create surrogates by retaining the \n",
    "    original ordering of each surrogate partner's \n",
    "    data. If desired, create surrogates by shuffling \n",
    "    all turns within each surrogate partner's data\n",
    "    with `keep_original_turn_order = False`.\n",
    "    \"\"\"\n",
    "        \n",
    "    # create a subfolder for the new set of surrogates\n",
    "    import time\n",
    "    new_surrogate_path = surrogate_file_directory + 'surrogate_run-' + str(time.time()) +'/'\n",
    "    if not os.path.exists(new_surrogate_path):\n",
    "        os.makedirs(new_surrogate_path)\n",
    "        \n",
    "    # grab condition types from each file name\n",
    "    file_info = [re.sub('\\.txt','',os.path.basename(file_name)) for file_name in original_conversation_list]\n",
    "    condition_ids = list(set([re.findall('[^'+id_separator+']*'+condition_label+'.*',metadata)[0] for metadata in file_info]))    \n",
    "    files_conditions = {}\n",
    "    for unique_condition in condition_ids:\n",
    "        next_condition_files = [add_file for add_file in original_conversation_list if unique_condition in add_file]\n",
    "        files_conditions[unique_condition] = next_condition_files\n",
    "        \n",
    "    # cycle through conditions\n",
    "    for condition in files_conditions.keys():\n",
    "#         if condition == \"cond2-0-3\": \n",
    "        if condition != \"testing\": # <<<< FOR DEBUGGING\n",
    "        \n",
    "            # default: grab all possible pairs of conversations of this condition\n",
    "            paired_surrogates = [pair for pair in combinations(files_conditions[condition],2)]\n",
    "\n",
    "            # otherwise, if desired, randomly pull from all pairs to get target surrogate sample\n",
    "            if all_surrogates == False:\n",
    "                import math\n",
    "                paired_surrogates = random.sample(paired_surrogates, \n",
    "                                                  int(math.ceil(len(files_conditions[condition])/2)))\n",
    "\n",
    "#             paired_surrogates = paired_surrogates[14:15] # <<<< FOR DEBUGGING\n",
    "                        \n",
    "            # cycle through surrogate pairings\n",
    "            for next_surrogate in paired_surrogates:\n",
    "\n",
    "                # read in the files\n",
    "                original_file1 = os.path.basename(next_surrogate[0])\n",
    "                original_file2 = os.path.basename(next_surrogate[1])\n",
    "                original_df1=pd.read_csv(next_surrogate[0], sep='\\t',encoding='utf-8')\n",
    "                original_df2=pd.read_csv(next_surrogate[1], sep='\\t',encoding='utf-8')\n",
    "\n",
    "                # get participants A and B from df1\n",
    "                participantA_1_code = min(original_df1['participant'].unique())\n",
    "                participantB_1_code = max(original_df1['participant'].unique())\n",
    "                participantA_1 = original_df1[original_df1['participant'] == participantA_1_code].reset_index().rename(columns={'file': 'original_file'})\n",
    "                participantB_1 = original_df1[original_df1['participant'] == participantB_1_code].reset_index().rename(columns={'file': 'original_file'})\n",
    "\n",
    "                # get participants A and B from df2\n",
    "                participantA_2_code = min(original_df2['participant'].unique())\n",
    "                participantB_2_code = max(original_df2['participant'].unique())\n",
    "                participantA_2 = original_df2[original_df2['participant'] == participantA_2_code].reset_index().rename(columns={'file': 'original_file'})\n",
    "                participantB_2 = original_df2[original_df2['participant'] == participantB_2_code].reset_index().rename(columns={'file': 'original_file'})\n",
    "\n",
    "                # identify truncation point for both surrogates (to have even number of turns)\n",
    "                surrogateX_turns=min([participantA_1.shape[0],\n",
    "                                      participantB_2.shape[0]])\n",
    "                surrogateY_turns=min([participantA_2.shape[0], \n",
    "                                      participantB_1.shape[0]])\n",
    "\n",
    "                # preserve original turn order for surrogate pairs\n",
    "                if keep_original_turn_order == True:                \n",
    "#                     surrogateX = participantA_1.truncate(after=surrogateX_turns-1,copy=False).append(\n",
    "#                                     participantB_2.truncate(after=surrogateX_turns-1,copy=False)).sort_index().reset_index(drop=True).rename(columns={'index': 'original_index'})\n",
    "                    surrogateX_A1 = participantA_1.truncate(after=surrogateX_turns-1,copy=False)\n",
    "                    surrogateX_B2 = participantB_2.truncate(after=surrogateX_turns-1,copy=False)\n",
    "                    surrogateX = pd.concat([surrogateX_A1,surrogateX_B2]).sort_index(kind=\"mergesort\").reset_index(drop=True).rename(columns={'index': 'original_index'})\n",
    "    \n",
    "                    surrogateY_A2 = participantA_2.truncate(after=surrogateY_turns-1,copy=False)\n",
    "                    surrogateY_B1 = participantB_1.truncate(after=surrogateY_turns-1,copy=False)\n",
    "                    surrogateY = pd.concat([surrogateY_A2,surrogateY_B1]).sort_index(kind=\"mergesort\").reset_index(drop=True).rename(columns={'index': 'original_index'})\n",
    "                     \n",
    "                # otherwise, if desired, just shuffle all turns within participants\n",
    "                else:\n",
    "\n",
    "                    # shuffle for first surrogate pairing\n",
    "#                     surrogateX_A1 = participantA_1.truncate(after=surrogateX_turns-1,copy=False).sample(frac=1).reset_index(drop=True)\n",
    "#                     surrogateX_B2 = participantB_2.truncate(after=surrogateX_turns-1,copy=False).sample(frac=1).reset_index(drop=True)                    \n",
    "#                     surrogateX = surrogateX_A1.append(surrogateX_B2).sort_index().reset_index(drop=True).rename(columns={'index': 'original_index'})\n",
    "                    surrogateX_A1 = participantA_1.truncate(after=surrogateX_turns-1,copy=False).sample(frac=1).reset_index(drop=True)\n",
    "                    surrogateX_B2 = participantB_2.truncate(after=surrogateX_turns-1,copy=False).sample(frac=1).reset_index(drop=True)\n",
    "                    surrogateX = pd.concat([surrogateX_A1,surrogateX_B2]).sort_index(kind=\"mergesort\").reset_index(drop=True).rename(columns={'index': 'original_index'})\n",
    "\n",
    "                    # and for second surrogate pairing\n",
    "                    surrogateY_A2 = participantA_2.truncate(after=surrogateY_turns-1,copy=False).sample(frac=1).reset_index(drop=True)\n",
    "                    surrogateY_B1 = participantB_1.truncate(after=surrogateY_turns-1,copy=False).sample(frac=1).reset_index(drop=True)\n",
    "                    surrogateY = pd.concat([surrogateY_A2,surrogateY_B1]).sort_index(kind=\"mergesort\").reset_index(drop=True).rename(columns={'index': 'original_index'})\n",
    "\n",
    "                # create filename for our surrogate file\n",
    "                original_dyad1 = re.findall(dyad_label+'[^'+id_separator+']*',original_file1)[0]\n",
    "                original_dyad2 = re.findall(dyad_label+'[^'+id_separator+']*',original_file2)[0]\n",
    "#                 surrogateX['file'] = condition + '-' + original_dyad1 + '-' + original_dyad2\n",
    "#                 surrogateY['file'] = condition + '-' + original_dyad1 + '-' + original_dyad2\n",
    "                surrogateX['file'] = original_dyad1 + '-' + original_dyad2 + '-' + condition\n",
    "                surrogateY['file'] = original_dyad2 + '-' + original_dyad1 + '-' + condition                \n",
    "                nameX='SurrogatePair-'+original_dyad1+'A'+'-'+original_dyad2+'B'+'-'+condition+'.txt'\n",
    "                nameY='SurrogatePair-'+original_dyad2+'A'+'-'+original_dyad1+'B'+'-'+condition+'.txt'\n",
    "\n",
    "#                 print surrogateX # <<<< FOR DEBUGGING\n",
    "    \n",
    "                # save to file\n",
    "                surrogateX.to_csv(new_surrogate_path + nameX, encoding='utf-8',index=False,sep='\\t')\n",
    "                surrogateY.to_csv(new_surrogate_path + nameY, encoding='utf-8',index=False,sep='\\t')\n",
    "            \n",
    "    # return list of all surrogate files\n",
    "    return glob.glob(new_surrogate_path+\"*.txt\") # <<<< TURN OFF FOR DEBUGGING\n",
    "\n",
    "# <<<< FOR DEBUGGING >>>>\n",
    "# input_files = INPUT_PATH+'PREPPED_TRANSCRIPTS_STANFORD2/'\n",
    "# file_list = glob.glob(input_files+\"*.txt\")\n",
    "# surrogate_file_directory=INPUT_PATH+'SURROGATE_TRANSCRIPTS/'\n",
    "\n",
    "# GenerateSurrogate(file_list,\n",
    "#                    surrogate_file_directory,\n",
    "#                    all_surrogates=True,\n",
    "#                    keep_original_turn_order=True,\n",
    "#                    id_separator = '\\_',\n",
    "#                    dyad_label='dyad',\n",
    "#                    condition_label='cond')"
   ]
  },
  {
   "cell_type": "markdown",
   "metadata": {},
   "source": [
    "RUN Phase 2: Surrogate Partners\n",
    "-------------------------------\n",
    "* Runs function to generate new surrogate transcript conversations (separate files)\n",
    "* For each surrogate transcript file, runs turn-level and conversational-level alignment scores\n",
    "* Saves output into single datasheet to be used in statistical analysis"
   ]
  },
  {
   "cell_type": "code",
   "execution_count": 132,
   "metadata": {
    "collapsed": true
   },
   "outputs": [],
   "source": [
    "def PHASE2RUN_SURROGATE(input_files, \n",
    "                         surrogate_file_directory,\n",
    "                         output_file_directory,\n",
    "                         semantic_model_input_file,\n",
    "                         pretrained_input_file,   \n",
    "                         high_sd_cutoff=3,\n",
    "                         low_n_cutoff=1,\n",
    "                         id_separator = '\\-',\n",
    "                         condition_label='cond',\n",
    "                         dyad_label='dyad',\n",
    "                         all_surrogates=True,\n",
    "                         keep_original_turn_order=True,\n",
    "                         delay=1,\n",
    "                         maxngram=2,\n",
    "                         use_pretrained_vectors=False,   \n",
    "                         ignore_duplicates=True,\n",
    "                         add_stanford_tags=False,\n",
    "                         input_as_directory=True):   \n",
    "    \n",
    "    \n",
    "    \"\"\"\n",
    "    Given a directory of individual .txt files and the\n",
    "    vocab list that have been generated by the `PHASE1RUN` \n",
    "    preparation stage, return multi-level alignment \n",
    "    scores with turn-by-turn and conversation-level metrics\n",
    "    for surrogate baseline conversations.\n",
    "    \n",
    "    By default, create the semantic model with a \n",
    "    high-frequency cutoff of 3 SD over the mean. If \n",
    "    desired, this can be changed with the \n",
    "    `high_sd_cutoff` argument and can be removed with\n",
    "    `high_sd_cutoff=None`.\n",
    "    \n",
    "    By default, create the semantic model with a \n",
    "    low-frequency cutoff in which a word will be \n",
    "    removed if they occur 1 or fewer times. if\n",
    "    desired, this can be changed with the \n",
    "    `low_n_cutoff` argument and can be removed with\n",
    "    `low_n_cutoff=0`.\n",
    "    \n",
    "    By default, compare only adjacent turns. If desired,\n",
    "    the comparison distance may be changed by increasing\n",
    "    the `delay` argument.\n",
    "    \n",
    "    By default, include maximum n-gram comparison of 2. If\n",
    "    desired, this may be changed by passing the appropriate\n",
    "    value to the the `maxngram` argument.\n",
    "    \n",
    "    By default, return scores based only on Penn POS taggers. \n",
    "    If desired, also return scores using Stanford tagger with \n",
    "    `add_stanford_tags=True`.\n",
    "    \n",
    "    By default, remove exact duplicates when calculating POS\n",
    "    similarity scores (i.e., does not consider perfectly\n",
    "    mimicked lexical items between speakers). If desired, \n",
    "    duplicates may be included when calculating scores by \n",
    "    passing `ignore_duplicates=False`.\n",
    "    \n",
    "    By default, the separator between dyad ID and\n",
    "    condition ID in each file name is a hyphen ('\\-'). \n",
    "    If desired, this may be changed with the \n",
    "    `id_separator` argument.\n",
    "\n",
    "    By default, condition IDs in each file name\n",
    "    will be identified as any characters following \n",
    "    `cond`. If desired, this may be changed with the \n",
    "    `condition_label` argument. \n",
    "    \n",
    "    By default, dyad IDs in each file name\n",
    "    will be identified as any characters following \n",
    "    `dyad`. If desired, this may be changed with the \n",
    "    `dyad_label` argument.\n",
    "    \n",
    "    By default, generate surrogates from all possible \n",
    "    pairings within a condition.  If desired, instead \n",
    "    generate surrogates only from a subset of all\n",
    "    possible pairings within a condition with \n",
    "    `all_surrogates=False`.\n",
    "    \n",
    "    By default, accept `input_files` as a directory\n",
    "    that includes `.txt` files of each individual \n",
    "    conversation. If desired, provide individual files\n",
    "    as a list of literal paths to the `input_files`\n",
    "    argument and set `input_as_directory=False`.\n",
    "    \"\"\"\n",
    "    \n",
    "    # grab the files in the input list\n",
    "    if input_as_directory==False:\n",
    "        file_list = glob.glob(input_files)\n",
    "    else:\n",
    "        file_list = glob.glob(input_files+\"*.txt\")\n",
    "    \n",
    "    # create a surrogate file list\n",
    "    surrogate_file_list = GenerateSurrogate(original_conversation_list = file_list,\n",
    "                                                   surrogate_file_directory = surrogate_file_directory,\n",
    "                                                   all_surrogates = all_surrogates,\n",
    "                                                   id_separator = id_separator,\n",
    "                                                   condition_label = condition_label,\n",
    "                                                   dyad_label = dyad_label,\n",
    "                                                   keep_original_turn_order = keep_original_turn_order) \n",
    "    \n",
    "    # build the semantic model to be used for all conversations\n",
    "    [vocablist, highDimModel] = BuildSemanticModel(semantic_model_input_file=semantic_model_input_file,\n",
    "                                                       pretrained_input_file=pretrained_input_file,\n",
    "                                                       use_pretrained_vectors=use_pretrained_vectors,\n",
    "                                                       high_sd_cutoff=high_sd_cutoff,\n",
    "                                                       low_n_cutoff=low_n_cutoff)  \n",
    "    \n",
    "    # create containers for alignment values\n",
    "    AlignmentT2T = pd.DataFrame()\n",
    "    AlignmentC2C = pd.DataFrame()\n",
    "    \n",
    "    # cycle through the files\n",
    "    for fileName in surrogate_file_list:\n",
    "        \n",
    "        # process the file if it's got a valid conversation\n",
    "        dataframe=pd.read_csv(fileName, sep='\\t',encoding='utf-8')\n",
    "        if len(dataframe) > 0:\n",
    "            \n",
    "            # let us know which filename we're processing\n",
    "            print \"Processing: \"+fileName   \n",
    "\n",
    "            # calculate turn-by-turn alignment scores\n",
    "            xT2T=TurnByTurnAnalysis(dataframe=dataframe,\n",
    "                                         delay=delay,\n",
    "                                         maxngram=maxngram,\n",
    "                                         vocablist=vocablist,\n",
    "                                         highDimModel=highDimModel,\n",
    "                                         add_stanford_tags = add_stanford_tags)\n",
    "            AlignmentT2T=AlignmentT2T.append(xT2T)\n",
    "                        \n",
    "            # calculate conversation-level alignment scores\n",
    "            xC2C = ConvoByConvoAnalysis(dataframe=dataframe,\n",
    "                                             maxngram = maxngram,\n",
    "                                             ignore_duplicates=ignore_duplicates,\n",
    "                                             add_stanford_tags = add_stanford_tags)\n",
    "            AlignmentC2C=AlignmentC2C.append(xC2C)\n",
    "        \n",
    "        # if it's invalid, let us know\n",
    "        else:\n",
    "            print \"Invalid file: \"+fileName   \n",
    "            \n",
    "    # update final dataframes\n",
    "    FINAL_TURN_SURROGATE = AlignmentT2T.reset_index(drop=True)\n",
    "    FINAL_CONVO_SURROGATE = AlignmentC2C.reset_index(drop=True)\n",
    "    \n",
    "    # export the final files\n",
    "    FINAL_TURN_SURROGATE.to_csv(output_file_directory+\"AlignmentT2T_Surrogate.txt\",\n",
    "                      encoding='utf-8',index=False,sep='\\t')   \n",
    "    FINAL_CONVO_SURROGATE.to_csv(output_file_directory+\"AlignmentC2C_Surrogate.txt\",\n",
    "                       encoding='utf-8',index=False,sep='\\t') \n",
    "\n",
    "    # display the info, too\n",
    "    return FINAL_TURN_SURROGATE, FINAL_CONVO_SURROGATE"
   ]
  },
  {
   "cell_type": "markdown",
   "metadata": {
    "collapsed": true
   },
   "source": [
    "# Run everything!"
   ]
  },
  {
   "cell_type": "markdown",
   "metadata": {},
   "source": [
    "## Phase 1: Prep"
   ]
  },
  {
   "cell_type": "code",
   "execution_count": 133,
   "metadata": {
    "collapsed": true
   },
   "outputs": [],
   "source": [
    "import time\n",
    "start_phase1 = time.time()"
   ]
  },
  {
   "cell_type": "markdown",
   "metadata": {},
   "source": [
    "**To Nick**: By the way, I did some hunting around to help suppress the NLTK warnings, and it looks like a lot of folks have this issue. There are a few ways we could handle this, but I think it might be useful for us to preserve the warning. What do you think?"
   ]
  },
  {
   "cell_type": "markdown",
   "metadata": {},
   "source": [
    "**To Alex** Agreed. I'm fine with leaving it. "
   ]
  },
  {
   "cell_type": "code",
   "execution_count": 134,
   "metadata": {
    "scrolled": false
   },
   "outputs": [
    {
     "name": "stdout",
     "output_type": "stream",
     "text": [
      "Processing: /Users/nduran/Desktop/GitProjects/align-linguistic-alignment/examples/CHILDES/childes-original/time197-cond1.txt\n",
      "Processing: /Users/nduran/Desktop/GitProjects/align-linguistic-alignment/examples/CHILDES/childes-original/time202-cond1.txt\n",
      "Processing: /Users/nduran/Desktop/GitProjects/align-linguistic-alignment/examples/CHILDES/childes-original/time191-cond1.txt\n",
      "Processing: /Users/nduran/Desktop/GitProjects/align-linguistic-alignment/examples/CHILDES/childes-original/time209-cond1.txt\n",
      "Processing: /Users/nduran/Desktop/GitProjects/align-linguistic-alignment/examples/CHILDES/childes-original/time210-cond1.txt\n",
      "Processing: /Users/nduran/Desktop/GitProjects/align-linguistic-alignment/examples/CHILDES/childes-original/time204-cond1.txt\n",
      "Processing: /Users/nduran/Desktop/GitProjects/align-linguistic-alignment/examples/CHILDES/childes-original/time196-cond1.txt\n",
      "Processing: /Users/nduran/Desktop/GitProjects/align-linguistic-alignment/examples/CHILDES/childes-original/time203-cond1.txt\n",
      "Processing: /Users/nduran/Desktop/GitProjects/align-linguistic-alignment/examples/CHILDES/childes-original/time208-cond1.txt\n",
      "Processing: /Users/nduran/Desktop/GitProjects/align-linguistic-alignment/examples/CHILDES/childes-original/time205-cond1.txt\n",
      "Processing: /Users/nduran/Desktop/GitProjects/align-linguistic-alignment/examples/CHILDES/childes-original/time195-cond1.txt\n",
      "Processing: /Users/nduran/Desktop/GitProjects/align-linguistic-alignment/examples/CHILDES/childes-original/time198-cond1.txt\n",
      "Processing: /Users/nduran/Desktop/GitProjects/align-linguistic-alignment/examples/CHILDES/childes-original/time200-cond1.txt\n",
      "Processing: /Users/nduran/Desktop/GitProjects/align-linguistic-alignment/examples/CHILDES/childes-original/time193-cond1.txt\n",
      "Processing: /Users/nduran/Desktop/GitProjects/align-linguistic-alignment/examples/CHILDES/childes-original/time206-cond1.txt\n",
      "Processing: /Users/nduran/Desktop/GitProjects/align-linguistic-alignment/examples/CHILDES/childes-original/time194-cond1.txt\n",
      "Processing: /Users/nduran/Desktop/GitProjects/align-linguistic-alignment/examples/CHILDES/childes-original/time199-cond1.txt\n",
      "Processing: /Users/nduran/Desktop/GitProjects/align-linguistic-alignment/examples/CHILDES/childes-original/time201-cond1.txt\n",
      "Processing: /Users/nduran/Desktop/GitProjects/align-linguistic-alignment/examples/CHILDES/childes-original/time192-cond1.txt\n",
      "Processing: /Users/nduran/Desktop/GitProjects/align-linguistic-alignment/examples/CHILDES/childes-original/time207-cond1.txt\n"
     ]
    }
   ],
   "source": [
    "# specified_filler_list = ['ignore','these','words']\n",
    "#loaded_filler_list = list(pd.read_csv(INPUT_PATH+'package_files/fillers.txt',squeeze=True))\n",
    "\n",
    "model_store = PHASE1RUN(\n",
    "          input_files=INPUT_PATH+'examples/CHILDES/childes-original/',\n",
    "          minwords=2,\n",
    "          add_stanford_tags=False,\n",
    "          output_file_directory=INPUT_PATH+'examples/CHILDES/childes-prepped/',\n",
    "          use_filler_list=None,\n",
    "          filler_regex_and_list=False,          \n",
    "          training_dictionary=INPUT_PATH+'package_files/gutenberg_tasa.txt',\n",
    "          stanford_pos_path=INPUT_PATH+'package_files/stanford-postagger-full-2017-06-09/',\n",
    "          stanford_language_path='models/english-left3words-distsim.tagger',\n",
    "          input_as_directory=True,\n",
    "          save_concatenated_dataframe=True)\n",
    "# model_store \n"
   ]
  },
  {
   "cell_type": "markdown",
   "metadata": {
    "collapsed": true
   },
   "source": [
    "## Phase 2: Real"
   ]
  },
  {
   "cell_type": "markdown",
   "metadata": {},
   "source": [
    "**Note: For demonstration purposes, given the small number of transcripts, the example here uses pretrained vectors from Google News rather than building a semantic space from the intrinsic corpus**"
   ]
  },
  {
   "cell_type": "code",
   "execution_count": 135,
   "metadata": {
    "collapsed": true
   },
   "outputs": [],
   "source": [
    "start_phase2real = time.time()"
   ]
  },
  {
   "cell_type": "code",
   "execution_count": 136,
   "metadata": {},
   "outputs": [
    {
     "name": "stdout",
     "output_type": "stream",
     "text": [
      "Processing: /Users/nduran/Desktop/GitProjects/align-linguistic-alignment/examples/CHILDES/childes-prepped/time197-cond1.txt\n",
      "Processing: /Users/nduran/Desktop/GitProjects/align-linguistic-alignment/examples/CHILDES/childes-prepped/time202-cond1.txt\n",
      "Processing: /Users/nduran/Desktop/GitProjects/align-linguistic-alignment/examples/CHILDES/childes-prepped/time191-cond1.txt\n",
      "Processing: /Users/nduran/Desktop/GitProjects/align-linguistic-alignment/examples/CHILDES/childes-prepped/time209-cond1.txt\n",
      "Processing: /Users/nduran/Desktop/GitProjects/align-linguistic-alignment/examples/CHILDES/childes-prepped/time210-cond1.txt\n",
      "Processing: /Users/nduran/Desktop/GitProjects/align-linguistic-alignment/examples/CHILDES/childes-prepped/time204-cond1.txt\n",
      "Processing: /Users/nduran/Desktop/GitProjects/align-linguistic-alignment/examples/CHILDES/childes-prepped/time196-cond1.txt\n",
      "Processing: /Users/nduran/Desktop/GitProjects/align-linguistic-alignment/examples/CHILDES/childes-prepped/time203-cond1.txt\n",
      "Processing: /Users/nduran/Desktop/GitProjects/align-linguistic-alignment/examples/CHILDES/childes-prepped/time208-cond1.txt\n",
      "Processing: /Users/nduran/Desktop/GitProjects/align-linguistic-alignment/examples/CHILDES/childes-prepped/time205-cond1.txt\n",
      "Processing: /Users/nduran/Desktop/GitProjects/align-linguistic-alignment/examples/CHILDES/childes-prepped/time195-cond1.txt\n",
      "Processing: /Users/nduran/Desktop/GitProjects/align-linguistic-alignment/examples/CHILDES/childes-prepped/time198-cond1.txt\n",
      "Processing: /Users/nduran/Desktop/GitProjects/align-linguistic-alignment/examples/CHILDES/childes-prepped/time200-cond1.txt\n",
      "Processing: /Users/nduran/Desktop/GitProjects/align-linguistic-alignment/examples/CHILDES/childes-prepped/time193-cond1.txt\n",
      "Processing: /Users/nduran/Desktop/GitProjects/align-linguistic-alignment/examples/CHILDES/childes-prepped/time206-cond1.txt\n",
      "Processing: /Users/nduran/Desktop/GitProjects/align-linguistic-alignment/examples/CHILDES/childes-prepped/time194-cond1.txt\n",
      "Processing: /Users/nduran/Desktop/GitProjects/align-linguistic-alignment/examples/CHILDES/childes-prepped/time199-cond1.txt\n",
      "Processing: /Users/nduran/Desktop/GitProjects/align-linguistic-alignment/examples/CHILDES/childes-prepped/time201-cond1.txt\n",
      "Processing: /Users/nduran/Desktop/GitProjects/align-linguistic-alignment/examples/CHILDES/childes-prepped/time192-cond1.txt\n",
      "Processing: /Users/nduran/Desktop/GitProjects/align-linguistic-alignment/examples/CHILDES/childes-prepped/time207-cond1.txt\n"
     ]
    }
   ],
   "source": [
    "[turn_real,convo_real]= PHASE2RUN_REAL(\n",
    "                        input_files = INPUT_PATH+'examples/CHILDES/childes-prepped/',\n",
    "                        add_stanford_tags=False,  \n",
    "                        maxngram=2,   \n",
    "                        use_pretrained_vectors=True,\n",
    "                        semantic_model_input_file=INPUT_PATH+'align_concatenated_dataframe.txt',\n",
    "                        output_file_directory = INPUT_PATH+'examples/CHILDES/childes-analysis/',\n",
    "                        pretrained_input_file=INPUT_PATH+'package_files/GoogleNews-vectors-negative300.bin',\n",
    "                        ignore_duplicates=True,\n",
    "                        delay=1,\n",
    "                        high_sd_cutoff=3,\n",
    "                        low_n_cutoff=1,\n",
    "                        input_as_directory=True)\n",
    "# turn_real,convo_real \n"
   ]
  },
  {
   "cell_type": "markdown",
   "metadata": {},
   "source": [
    "## Phase 2: Surrogate"
   ]
  },
  {
   "cell_type": "markdown",
   "metadata": {},
   "source": [
    "**Note: For demonstration purposes, also using pre-trained vectors from Google News, and the `dyad_label` is set to \"time\" given each conversation is of the same speakers but just at different points in time. Also generating a subset of surrogate pairings rather than all possible pairings.** "
   ]
  },
  {
   "cell_type": "code",
   "execution_count": 137,
   "metadata": {
    "collapsed": true
   },
   "outputs": [],
   "source": [
    "start_phase2surrogate = time.time()"
   ]
  },
  {
   "cell_type": "code",
   "execution_count": 138,
   "metadata": {},
   "outputs": [
    {
     "name": "stdout",
     "output_type": "stream",
     "text": [
      "Processing: /Users/nduran/Desktop/GitProjects/align-linguistic-alignment/examples/CHILDES/childes-surrogate/surrogate_run-1515266822.4/SurrogatePair-time191A-time197B-cond1.txt\n",
      "Processing: /Users/nduran/Desktop/GitProjects/align-linguistic-alignment/examples/CHILDES/childes-surrogate/surrogate_run-1515266822.4/SurrogatePair-time210A-time197B-cond1.txt\n",
      "Processing: /Users/nduran/Desktop/GitProjects/align-linguistic-alignment/examples/CHILDES/childes-surrogate/surrogate_run-1515266822.4/SurrogatePair-time204A-time203B-cond1.txt\n",
      "Processing: /Users/nduran/Desktop/GitProjects/align-linguistic-alignment/examples/CHILDES/childes-surrogate/surrogate_run-1515266822.4/SurrogatePair-time197A-time210B-cond1.txt\n",
      "Processing: /Users/nduran/Desktop/GitProjects/align-linguistic-alignment/examples/CHILDES/childes-surrogate/surrogate_run-1515266822.4/SurrogatePair-time196A-time210B-cond1.txt\n",
      "Processing: /Users/nduran/Desktop/GitProjects/align-linguistic-alignment/examples/CHILDES/childes-surrogate/surrogate_run-1515266822.4/SurrogatePair-time206A-time195B-cond1.txt\n",
      "Processing: /Users/nduran/Desktop/GitProjects/align-linguistic-alignment/examples/CHILDES/childes-surrogate/surrogate_run-1515266822.4/SurrogatePair-time195A-time206B-cond1.txt\n",
      "Processing: /Users/nduran/Desktop/GitProjects/align-linguistic-alignment/examples/CHILDES/childes-surrogate/surrogate_run-1515266822.4/SurrogatePair-time205A-time204B-cond1.txt\n",
      "Processing: /Users/nduran/Desktop/GitProjects/align-linguistic-alignment/examples/CHILDES/childes-surrogate/surrogate_run-1515266822.4/SurrogatePair-time203A-time204B-cond1.txt\n",
      "Processing: /Users/nduran/Desktop/GitProjects/align-linguistic-alignment/examples/CHILDES/childes-surrogate/surrogate_run-1515266822.4/SurrogatePair-time199A-time209B-cond1.txt\n",
      "Processing: /Users/nduran/Desktop/GitProjects/align-linguistic-alignment/examples/CHILDES/childes-surrogate/surrogate_run-1515266822.4/SurrogatePair-time208A-time206B-cond1.txt\n",
      "Processing: /Users/nduran/Desktop/GitProjects/align-linguistic-alignment/examples/CHILDES/childes-surrogate/surrogate_run-1515266822.4/SurrogatePair-time200A-time204B-cond1.txt\n",
      "Processing: /Users/nduran/Desktop/GitProjects/align-linguistic-alignment/examples/CHILDES/childes-surrogate/surrogate_run-1515266822.4/SurrogatePair-time202A-time191B-cond1.txt\n",
      "Processing: /Users/nduran/Desktop/GitProjects/align-linguistic-alignment/examples/CHILDES/childes-surrogate/surrogate_run-1515266822.4/SurrogatePair-time210A-time196B-cond1.txt\n",
      "Processing: /Users/nduran/Desktop/GitProjects/align-linguistic-alignment/examples/CHILDES/childes-surrogate/surrogate_run-1515266822.4/SurrogatePair-time204A-time200B-cond1.txt\n",
      "Processing: /Users/nduran/Desktop/GitProjects/align-linguistic-alignment/examples/CHILDES/childes-surrogate/surrogate_run-1515266822.4/SurrogatePair-time209A-time199B-cond1.txt\n",
      "Processing: /Users/nduran/Desktop/GitProjects/align-linguistic-alignment/examples/CHILDES/childes-surrogate/surrogate_run-1515266822.4/SurrogatePair-time206A-time208B-cond1.txt\n",
      "Processing: /Users/nduran/Desktop/GitProjects/align-linguistic-alignment/examples/CHILDES/childes-surrogate/surrogate_run-1515266822.4/SurrogatePair-time204A-time205B-cond1.txt\n",
      "Processing: /Users/nduran/Desktop/GitProjects/align-linguistic-alignment/examples/CHILDES/childes-surrogate/surrogate_run-1515266822.4/SurrogatePair-time197A-time191B-cond1.txt\n",
      "Processing: /Users/nduran/Desktop/GitProjects/align-linguistic-alignment/examples/CHILDES/childes-surrogate/surrogate_run-1515266822.4/SurrogatePair-time191A-time202B-cond1.txt\n"
     ]
    }
   ],
   "source": [
    "[turn_surrogate,convo_surrogate] = PHASE2RUN_SURROGATE(\n",
    "                                input_files = INPUT_PATH+'examples/CHILDES/childes-prepped/', \n",
    "                                add_stanford_tags=False,\n",
    "                                maxngram=2,\n",
    "                                use_pretrained_vectors=True,\n",
    "                                all_surrogates=False,\n",
    "                                keep_original_turn_order=True,\n",
    "                                id_separator = '\\-',\n",
    "                                dyad_label='time',\n",
    "                                condition_label='cond',\n",
    "                                surrogate_file_directory= INPUT_PATH+'examples/CHILDES/childes-surrogate/',                                \n",
    "                                output_file_directory=INPUT_PATH+'examples/CHILDES/childes-analysis/',\n",
    "                                pretrained_input_file=INPUT_PATH+'package_files/GoogleNews-vectors-negative300.bin',\n",
    "                                semantic_model_input_file=INPUT_PATH+'align_concatenated_dataframe.txt',\n",
    "                                ignore_duplicates=True,\n",
    "                                delay=1,\n",
    "                                high_sd_cutoff=3,\n",
    "                                low_n_cutoff=1,\n",
    "                                input_as_directory=True)\n",
    "# turn_surrogate,convo_surrogate"
   ]
  },
  {
   "cell_type": "code",
   "execution_count": 139,
   "metadata": {
    "collapsed": true
   },
   "outputs": [],
   "source": [
    "end=time.time()"
   ]
  },
  {
   "cell_type": "markdown",
   "metadata": {},
   "source": [
    "## Speed calculations"
   ]
  },
  {
   "cell_type": "markdown",
   "metadata": {},
   "source": [
    "Phase 1 time:"
   ]
  },
  {
   "cell_type": "code",
   "execution_count": 140,
   "metadata": {},
   "outputs": [
    {
     "data": {
      "text/plain": [
       "29.210001945495605"
      ]
     },
     "execution_count": 140,
     "metadata": {},
     "output_type": "execute_result"
    }
   ],
   "source": [
    "start_phase2real - start_phase1"
   ]
  },
  {
   "cell_type": "markdown",
   "metadata": {},
   "source": [
    "Phase 2 real time:"
   ]
  },
  {
   "cell_type": "code",
   "execution_count": 141,
   "metadata": {},
   "outputs": [
    {
     "data": {
      "text/plain": [
       "77.13945412635803"
      ]
     },
     "execution_count": 141,
     "metadata": {},
     "output_type": "execute_result"
    }
   ],
   "source": [
    "start_phase2surrogate - start_phase2real"
   ]
  },
  {
   "cell_type": "markdown",
   "metadata": {},
   "source": [
    "Phase 2 surrogate time:"
   ]
  },
  {
   "cell_type": "code",
   "execution_count": 142,
   "metadata": {},
   "outputs": [
    {
     "data": {
      "text/plain": [
       "83.51615786552429"
      ]
     },
     "execution_count": 142,
     "metadata": {},
     "output_type": "execute_result"
    }
   ],
   "source": [
    "end - start_phase2surrogate"
   ]
  },
  {
   "cell_type": "markdown",
   "metadata": {},
   "source": [
    "All 3 phases:"
   ]
  },
  {
   "cell_type": "code",
   "execution_count": 143,
   "metadata": {},
   "outputs": [
    {
     "data": {
      "text/plain": [
       "189.86561393737793"
      ]
     },
     "execution_count": 143,
     "metadata": {},
     "output_type": "execute_result"
    }
   ],
   "source": [
    "end - start_phase1"
   ]
  },
  {
   "cell_type": "markdown",
   "metadata": {},
   "source": [
    "## Printouts!"
   ]
  },
  {
   "cell_type": "code",
   "execution_count": 144,
   "metadata": {
    "scrolled": true
   },
   "outputs": [
    {
     "data": {
      "text/html": [
       "<div>\n",
       "<style scoped>\n",
       "    .dataframe tbody tr th:only-of-type {\n",
       "        vertical-align: middle;\n",
       "    }\n",
       "\n",
       "    .dataframe tbody tr th {\n",
       "        vertical-align: top;\n",
       "    }\n",
       "\n",
       "    .dataframe thead th {\n",
       "        text-align: right;\n",
       "    }\n",
       "</style>\n",
       "<table border=\"1\" class=\"dataframe\">\n",
       "  <thead>\n",
       "    <tr style=\"text-align: right;\">\n",
       "      <th></th>\n",
       "      <th>time</th>\n",
       "      <th>syntax_penn_tok2</th>\n",
       "      <th>syntax_penn_lem2</th>\n",
       "      <th>lexical_tok2</th>\n",
       "      <th>lexical_lem2</th>\n",
       "      <th>cosine_semanticL</th>\n",
       "      <th>partner_direction</th>\n",
       "      <th>condition_info</th>\n",
       "    </tr>\n",
       "  </thead>\n",
       "  <tbody>\n",
       "    <tr>\n",
       "      <th>0</th>\n",
       "      <td>0</td>\n",
       "      <td>0</td>\n",
       "      <td>0</td>\n",
       "      <td>0</td>\n",
       "      <td>0</td>\n",
       "      <td>0.285198</td>\n",
       "      <td>cgv&gt;kid</td>\n",
       "      <td>time197-cond1.txt</td>\n",
       "    </tr>\n",
       "    <tr>\n",
       "      <th>1</th>\n",
       "      <td>1</td>\n",
       "      <td>0</td>\n",
       "      <td>0</td>\n",
       "      <td>0</td>\n",
       "      <td>0</td>\n",
       "      <td>0.37358</td>\n",
       "      <td>kid&gt;cgv</td>\n",
       "      <td>time197-cond1.txt</td>\n",
       "    </tr>\n",
       "    <tr>\n",
       "      <th>2</th>\n",
       "      <td>2</td>\n",
       "      <td>0.154303</td>\n",
       "      <td>0</td>\n",
       "      <td>0</td>\n",
       "      <td>0</td>\n",
       "      <td>0.57782</td>\n",
       "      <td>cgv&gt;kid</td>\n",
       "      <td>time197-cond1.txt</td>\n",
       "    </tr>\n",
       "    <tr>\n",
       "      <th>3</th>\n",
       "      <td>3</td>\n",
       "      <td>0</td>\n",
       "      <td>0</td>\n",
       "      <td>0</td>\n",
       "      <td>0</td>\n",
       "      <td>0.672067</td>\n",
       "      <td>kid&gt;cgv</td>\n",
       "      <td>time197-cond1.txt</td>\n",
       "    </tr>\n",
       "    <tr>\n",
       "      <th>4</th>\n",
       "      <td>4</td>\n",
       "      <td>0.111111</td>\n",
       "      <td>0.09245</td>\n",
       "      <td>0</td>\n",
       "      <td>0</td>\n",
       "      <td>0.597504</td>\n",
       "      <td>cgv&gt;kid</td>\n",
       "      <td>time197-cond1.txt</td>\n",
       "    </tr>\n",
       "    <tr>\n",
       "      <th>5</th>\n",
       "      <td>5</td>\n",
       "      <td>0.222222</td>\n",
       "      <td>0.27735</td>\n",
       "      <td>0</td>\n",
       "      <td>0</td>\n",
       "      <td>0.617649</td>\n",
       "      <td>kid&gt;cgv</td>\n",
       "      <td>time197-cond1.txt</td>\n",
       "    </tr>\n",
       "    <tr>\n",
       "      <th>6</th>\n",
       "      <td>6</td>\n",
       "      <td>0</td>\n",
       "      <td>0</td>\n",
       "      <td>0</td>\n",
       "      <td>0</td>\n",
       "      <td>0.168668</td>\n",
       "      <td>cgv&gt;kid</td>\n",
       "      <td>time197-cond1.txt</td>\n",
       "    </tr>\n",
       "    <tr>\n",
       "      <th>7</th>\n",
       "      <td>7</td>\n",
       "      <td>0</td>\n",
       "      <td>0</td>\n",
       "      <td>0</td>\n",
       "      <td>0</td>\n",
       "      <td>0.223091</td>\n",
       "      <td>kid&gt;cgv</td>\n",
       "      <td>time197-cond1.txt</td>\n",
       "    </tr>\n",
       "    <tr>\n",
       "      <th>8</th>\n",
       "      <td>8</td>\n",
       "      <td>0</td>\n",
       "      <td>0</td>\n",
       "      <td>0</td>\n",
       "      <td>0</td>\n",
       "      <td>0.323836</td>\n",
       "      <td>cgv&gt;kid</td>\n",
       "      <td>time197-cond1.txt</td>\n",
       "    </tr>\n",
       "    <tr>\n",
       "      <th>9</th>\n",
       "      <td>9</td>\n",
       "      <td>0</td>\n",
       "      <td>0</td>\n",
       "      <td>0</td>\n",
       "      <td>0</td>\n",
       "      <td>0.283156</td>\n",
       "      <td>kid&gt;cgv</td>\n",
       "      <td>time197-cond1.txt</td>\n",
       "    </tr>\n",
       "  </tbody>\n",
       "</table>\n",
       "</div>"
      ],
      "text/plain": [
       "   time syntax_penn_tok2 syntax_penn_lem2 lexical_tok2 lexical_lem2  \\\n",
       "0     0                0                0            0            0   \n",
       "1     1                0                0            0            0   \n",
       "2     2         0.154303                0            0            0   \n",
       "3     3                0                0            0            0   \n",
       "4     4         0.111111          0.09245            0            0   \n",
       "5     5         0.222222          0.27735            0            0   \n",
       "6     6                0                0            0            0   \n",
       "7     7                0                0            0            0   \n",
       "8     8                0                0            0            0   \n",
       "9     9                0                0            0            0   \n",
       "\n",
       "  cosine_semanticL partner_direction     condition_info  \n",
       "0         0.285198           cgv>kid  time197-cond1.txt  \n",
       "1          0.37358           kid>cgv  time197-cond1.txt  \n",
       "2          0.57782           cgv>kid  time197-cond1.txt  \n",
       "3         0.672067           kid>cgv  time197-cond1.txt  \n",
       "4         0.597504           cgv>kid  time197-cond1.txt  \n",
       "5         0.617649           kid>cgv  time197-cond1.txt  \n",
       "6         0.168668           cgv>kid  time197-cond1.txt  \n",
       "7         0.223091           kid>cgv  time197-cond1.txt  \n",
       "8         0.323836           cgv>kid  time197-cond1.txt  \n",
       "9         0.283156           kid>cgv  time197-cond1.txt  "
      ]
     },
     "execution_count": 144,
     "metadata": {},
     "output_type": "execute_result"
    }
   ],
   "source": [
    "turn_real.head(10)"
   ]
  },
  {
   "cell_type": "code",
   "execution_count": 145,
   "metadata": {
    "scrolled": true
   },
   "outputs": [
    {
     "data": {
      "text/html": [
       "<div>\n",
       "<style scoped>\n",
       "    .dataframe tbody tr th:only-of-type {\n",
       "        vertical-align: middle;\n",
       "    }\n",
       "\n",
       "    .dataframe tbody tr th {\n",
       "        vertical-align: top;\n",
       "    }\n",
       "\n",
       "    .dataframe thead th {\n",
       "        text-align: right;\n",
       "    }\n",
       "</style>\n",
       "<table border=\"1\" class=\"dataframe\">\n",
       "  <thead>\n",
       "    <tr style=\"text-align: right;\">\n",
       "      <th></th>\n",
       "      <th>syntax_penn_tok2</th>\n",
       "      <th>syntax_penn_lem2</th>\n",
       "      <th>lexical_tok2</th>\n",
       "      <th>lexical_lem2</th>\n",
       "      <th>condition_info</th>\n",
       "    </tr>\n",
       "  </thead>\n",
       "  <tbody>\n",
       "    <tr>\n",
       "      <th>0</th>\n",
       "      <td>0.709110</td>\n",
       "      <td>0.709110</td>\n",
       "      <td>0.099848</td>\n",
       "      <td>0.186072</td>\n",
       "      <td>time197-cond1.txt</td>\n",
       "    </tr>\n",
       "    <tr>\n",
       "      <th>1</th>\n",
       "      <td>0.768490</td>\n",
       "      <td>0.768490</td>\n",
       "      <td>0.353514</td>\n",
       "      <td>0.435380</td>\n",
       "      <td>time202-cond1.txt</td>\n",
       "    </tr>\n",
       "    <tr>\n",
       "      <th>2</th>\n",
       "      <td>0.744802</td>\n",
       "      <td>0.744802</td>\n",
       "      <td>0.309924</td>\n",
       "      <td>0.356673</td>\n",
       "      <td>time191-cond1.txt</td>\n",
       "    </tr>\n",
       "    <tr>\n",
       "      <th>3</th>\n",
       "      <td>0.782399</td>\n",
       "      <td>0.782399</td>\n",
       "      <td>0.353604</td>\n",
       "      <td>0.401469</td>\n",
       "      <td>time209-cond1.txt</td>\n",
       "    </tr>\n",
       "    <tr>\n",
       "      <th>4</th>\n",
       "      <td>0.810753</td>\n",
       "      <td>0.810753</td>\n",
       "      <td>0.192589</td>\n",
       "      <td>0.305209</td>\n",
       "      <td>time210-cond1.txt</td>\n",
       "    </tr>\n",
       "    <tr>\n",
       "      <th>5</th>\n",
       "      <td>0.766315</td>\n",
       "      <td>0.766315</td>\n",
       "      <td>0.311128</td>\n",
       "      <td>0.365522</td>\n",
       "      <td>time204-cond1.txt</td>\n",
       "    </tr>\n",
       "    <tr>\n",
       "      <th>6</th>\n",
       "      <td>0.670246</td>\n",
       "      <td>0.670246</td>\n",
       "      <td>0.164155</td>\n",
       "      <td>0.228145</td>\n",
       "      <td>time196-cond1.txt</td>\n",
       "    </tr>\n",
       "    <tr>\n",
       "      <th>7</th>\n",
       "      <td>0.789571</td>\n",
       "      <td>0.789571</td>\n",
       "      <td>0.285261</td>\n",
       "      <td>0.317173</td>\n",
       "      <td>time203-cond1.txt</td>\n",
       "    </tr>\n",
       "    <tr>\n",
       "      <th>8</th>\n",
       "      <td>0.741248</td>\n",
       "      <td>0.741248</td>\n",
       "      <td>0.319008</td>\n",
       "      <td>0.383271</td>\n",
       "      <td>time208-cond1.txt</td>\n",
       "    </tr>\n",
       "    <tr>\n",
       "      <th>9</th>\n",
       "      <td>0.785440</td>\n",
       "      <td>0.785440</td>\n",
       "      <td>0.188816</td>\n",
       "      <td>0.229783</td>\n",
       "      <td>time205-cond1.txt</td>\n",
       "    </tr>\n",
       "  </tbody>\n",
       "</table>\n",
       "</div>"
      ],
      "text/plain": [
       "   syntax_penn_tok2  syntax_penn_lem2  lexical_tok2  lexical_lem2  \\\n",
       "0          0.709110          0.709110      0.099848      0.186072   \n",
       "1          0.768490          0.768490      0.353514      0.435380   \n",
       "2          0.744802          0.744802      0.309924      0.356673   \n",
       "3          0.782399          0.782399      0.353604      0.401469   \n",
       "4          0.810753          0.810753      0.192589      0.305209   \n",
       "5          0.766315          0.766315      0.311128      0.365522   \n",
       "6          0.670246          0.670246      0.164155      0.228145   \n",
       "7          0.789571          0.789571      0.285261      0.317173   \n",
       "8          0.741248          0.741248      0.319008      0.383271   \n",
       "9          0.785440          0.785440      0.188816      0.229783   \n",
       "\n",
       "      condition_info  \n",
       "0  time197-cond1.txt  \n",
       "1  time202-cond1.txt  \n",
       "2  time191-cond1.txt  \n",
       "3  time209-cond1.txt  \n",
       "4  time210-cond1.txt  \n",
       "5  time204-cond1.txt  \n",
       "6  time196-cond1.txt  \n",
       "7  time203-cond1.txt  \n",
       "8  time208-cond1.txt  \n",
       "9  time205-cond1.txt  "
      ]
     },
     "execution_count": 145,
     "metadata": {},
     "output_type": "execute_result"
    }
   ],
   "source": [
    "convo_real.head(10)"
   ]
  },
  {
   "cell_type": "code",
   "execution_count": 146,
   "metadata": {
    "scrolled": true
   },
   "outputs": [
    {
     "data": {
      "text/html": [
       "<div>\n",
       "<style scoped>\n",
       "    .dataframe tbody tr th:only-of-type {\n",
       "        vertical-align: middle;\n",
       "    }\n",
       "\n",
       "    .dataframe tbody tr th {\n",
       "        vertical-align: top;\n",
       "    }\n",
       "\n",
       "    .dataframe thead th {\n",
       "        text-align: right;\n",
       "    }\n",
       "</style>\n",
       "<table border=\"1\" class=\"dataframe\">\n",
       "  <thead>\n",
       "    <tr style=\"text-align: right;\">\n",
       "      <th></th>\n",
       "      <th>time</th>\n",
       "      <th>syntax_penn_tok2</th>\n",
       "      <th>syntax_penn_lem2</th>\n",
       "      <th>lexical_tok2</th>\n",
       "      <th>lexical_lem2</th>\n",
       "      <th>cosine_semanticL</th>\n",
       "      <th>partner_direction</th>\n",
       "      <th>condition_info</th>\n",
       "    </tr>\n",
       "  </thead>\n",
       "  <tbody>\n",
       "    <tr>\n",
       "      <th>0</th>\n",
       "      <td>0</td>\n",
       "      <td>0</td>\n",
       "      <td>0.147442</td>\n",
       "      <td>0</td>\n",
       "      <td>0</td>\n",
       "      <td>0.542784</td>\n",
       "      <td>cgv&gt;kid</td>\n",
       "      <td>time191-time197-cond1</td>\n",
       "    </tr>\n",
       "    <tr>\n",
       "      <th>1</th>\n",
       "      <td>1</td>\n",
       "      <td>0</td>\n",
       "      <td>0</td>\n",
       "      <td>0</td>\n",
       "      <td>0</td>\n",
       "      <td>0.436636</td>\n",
       "      <td>kid&gt;cgv</td>\n",
       "      <td>time191-time197-cond1</td>\n",
       "    </tr>\n",
       "    <tr>\n",
       "      <th>2</th>\n",
       "      <td>2</td>\n",
       "      <td>0.267261</td>\n",
       "      <td>0</td>\n",
       "      <td>0</td>\n",
       "      <td>0</td>\n",
       "      <td>0.538351</td>\n",
       "      <td>cgv&gt;kid</td>\n",
       "      <td>time191-time197-cond1</td>\n",
       "    </tr>\n",
       "    <tr>\n",
       "      <th>3</th>\n",
       "      <td>3</td>\n",
       "      <td>0</td>\n",
       "      <td>0</td>\n",
       "      <td>0</td>\n",
       "      <td>0</td>\n",
       "      <td>0.528428</td>\n",
       "      <td>kid&gt;cgv</td>\n",
       "      <td>time191-time197-cond1</td>\n",
       "    </tr>\n",
       "    <tr>\n",
       "      <th>4</th>\n",
       "      <td>4</td>\n",
       "      <td>0</td>\n",
       "      <td>0</td>\n",
       "      <td>0</td>\n",
       "      <td>0</td>\n",
       "      <td>0.532534</td>\n",
       "      <td>cgv&gt;kid</td>\n",
       "      <td>time191-time197-cond1</td>\n",
       "    </tr>\n",
       "    <tr>\n",
       "      <th>5</th>\n",
       "      <td>5</td>\n",
       "      <td>0</td>\n",
       "      <td>0</td>\n",
       "      <td>0</td>\n",
       "      <td>0</td>\n",
       "      <td>0.579946</td>\n",
       "      <td>kid&gt;cgv</td>\n",
       "      <td>time191-time197-cond1</td>\n",
       "    </tr>\n",
       "    <tr>\n",
       "      <th>6</th>\n",
       "      <td>6</td>\n",
       "      <td>0</td>\n",
       "      <td>0</td>\n",
       "      <td>0</td>\n",
       "      <td>0</td>\n",
       "      <td>0.267185</td>\n",
       "      <td>cgv&gt;kid</td>\n",
       "      <td>time191-time197-cond1</td>\n",
       "    </tr>\n",
       "    <tr>\n",
       "      <th>7</th>\n",
       "      <td>7</td>\n",
       "      <td>0.213201</td>\n",
       "      <td>0.316228</td>\n",
       "      <td>0</td>\n",
       "      <td>0</td>\n",
       "      <td>0.252943</td>\n",
       "      <td>kid&gt;cgv</td>\n",
       "      <td>time191-time197-cond1</td>\n",
       "    </tr>\n",
       "    <tr>\n",
       "      <th>8</th>\n",
       "      <td>8</td>\n",
       "      <td>0.25</td>\n",
       "      <td>0.25</td>\n",
       "      <td>0</td>\n",
       "      <td>0</td>\n",
       "      <td>0.295974</td>\n",
       "      <td>cgv&gt;kid</td>\n",
       "      <td>time191-time197-cond1</td>\n",
       "    </tr>\n",
       "    <tr>\n",
       "      <th>9</th>\n",
       "      <td>9</td>\n",
       "      <td>0</td>\n",
       "      <td>0</td>\n",
       "      <td>0</td>\n",
       "      <td>0</td>\n",
       "      <td>0.289302</td>\n",
       "      <td>kid&gt;cgv</td>\n",
       "      <td>time191-time197-cond1</td>\n",
       "    </tr>\n",
       "  </tbody>\n",
       "</table>\n",
       "</div>"
      ],
      "text/plain": [
       "   time syntax_penn_tok2 syntax_penn_lem2 lexical_tok2 lexical_lem2  \\\n",
       "0     0                0         0.147442            0            0   \n",
       "1     1                0                0            0            0   \n",
       "2     2         0.267261                0            0            0   \n",
       "3     3                0                0            0            0   \n",
       "4     4                0                0            0            0   \n",
       "5     5                0                0            0            0   \n",
       "6     6                0                0            0            0   \n",
       "7     7         0.213201         0.316228            0            0   \n",
       "8     8             0.25             0.25            0            0   \n",
       "9     9                0                0            0            0   \n",
       "\n",
       "  cosine_semanticL partner_direction         condition_info  \n",
       "0         0.542784           cgv>kid  time191-time197-cond1  \n",
       "1         0.436636           kid>cgv  time191-time197-cond1  \n",
       "2         0.538351           cgv>kid  time191-time197-cond1  \n",
       "3         0.528428           kid>cgv  time191-time197-cond1  \n",
       "4         0.532534           cgv>kid  time191-time197-cond1  \n",
       "5         0.579946           kid>cgv  time191-time197-cond1  \n",
       "6         0.267185           cgv>kid  time191-time197-cond1  \n",
       "7         0.252943           kid>cgv  time191-time197-cond1  \n",
       "8         0.295974           cgv>kid  time191-time197-cond1  \n",
       "9         0.289302           kid>cgv  time191-time197-cond1  "
      ]
     },
     "execution_count": 146,
     "metadata": {},
     "output_type": "execute_result"
    }
   ],
   "source": [
    "turn_surrogate.head(10)"
   ]
  },
  {
   "cell_type": "code",
   "execution_count": 147,
   "metadata": {
    "scrolled": false
   },
   "outputs": [
    {
     "data": {
      "text/html": [
       "<div>\n",
       "<style scoped>\n",
       "    .dataframe tbody tr th:only-of-type {\n",
       "        vertical-align: middle;\n",
       "    }\n",
       "\n",
       "    .dataframe tbody tr th {\n",
       "        vertical-align: top;\n",
       "    }\n",
       "\n",
       "    .dataframe thead th {\n",
       "        text-align: right;\n",
       "    }\n",
       "</style>\n",
       "<table border=\"1\" class=\"dataframe\">\n",
       "  <thead>\n",
       "    <tr style=\"text-align: right;\">\n",
       "      <th></th>\n",
       "      <th>syntax_penn_tok2</th>\n",
       "      <th>syntax_penn_lem2</th>\n",
       "      <th>lexical_tok2</th>\n",
       "      <th>lexical_lem2</th>\n",
       "      <th>condition_info</th>\n",
       "    </tr>\n",
       "  </thead>\n",
       "  <tbody>\n",
       "    <tr>\n",
       "      <th>0</th>\n",
       "      <td>0.712865</td>\n",
       "      <td>0.712865</td>\n",
       "      <td>0.072915</td>\n",
       "      <td>0.129414</td>\n",
       "      <td>time191-time197-cond1</td>\n",
       "    </tr>\n",
       "    <tr>\n",
       "      <th>1</th>\n",
       "      <td>0.747546</td>\n",
       "      <td>0.747546</td>\n",
       "      <td>0.102264</td>\n",
       "      <td>0.157979</td>\n",
       "      <td>time210-time197-cond1</td>\n",
       "    </tr>\n",
       "    <tr>\n",
       "      <th>2</th>\n",
       "      <td>0.794227</td>\n",
       "      <td>0.794227</td>\n",
       "      <td>0.294345</td>\n",
       "      <td>0.369104</td>\n",
       "      <td>time204-time203-cond1</td>\n",
       "    </tr>\n",
       "    <tr>\n",
       "      <th>3</th>\n",
       "      <td>0.727220</td>\n",
       "      <td>0.727220</td>\n",
       "      <td>0.078701</td>\n",
       "      <td>0.103854</td>\n",
       "      <td>time197-time210-cond1</td>\n",
       "    </tr>\n",
       "    <tr>\n",
       "      <th>4</th>\n",
       "      <td>0.635508</td>\n",
       "      <td>0.635508</td>\n",
       "      <td>0.101603</td>\n",
       "      <td>0.197212</td>\n",
       "      <td>time196-time210-cond1</td>\n",
       "    </tr>\n",
       "    <tr>\n",
       "      <th>5</th>\n",
       "      <td>0.805757</td>\n",
       "      <td>0.805757</td>\n",
       "      <td>0.131102</td>\n",
       "      <td>0.191838</td>\n",
       "      <td>time206-time195-cond1</td>\n",
       "    </tr>\n",
       "    <tr>\n",
       "      <th>6</th>\n",
       "      <td>0.774550</td>\n",
       "      <td>0.774550</td>\n",
       "      <td>0.143296</td>\n",
       "      <td>0.214000</td>\n",
       "      <td>time195-time206-cond1</td>\n",
       "    </tr>\n",
       "    <tr>\n",
       "      <th>7</th>\n",
       "      <td>0.831761</td>\n",
       "      <td>0.831761</td>\n",
       "      <td>0.155460</td>\n",
       "      <td>0.197622</td>\n",
       "      <td>time205-time204-cond1</td>\n",
       "    </tr>\n",
       "    <tr>\n",
       "      <th>8</th>\n",
       "      <td>0.822344</td>\n",
       "      <td>0.822344</td>\n",
       "      <td>0.149548</td>\n",
       "      <td>0.201435</td>\n",
       "      <td>time203-time204-cond1</td>\n",
       "    </tr>\n",
       "    <tr>\n",
       "      <th>9</th>\n",
       "      <td>0.723442</td>\n",
       "      <td>0.723442</td>\n",
       "      <td>0.177118</td>\n",
       "      <td>0.277054</td>\n",
       "      <td>time199-time209-cond1</td>\n",
       "    </tr>\n",
       "  </tbody>\n",
       "</table>\n",
       "</div>"
      ],
      "text/plain": [
       "   syntax_penn_tok2  syntax_penn_lem2  lexical_tok2  lexical_lem2  \\\n",
       "0          0.712865          0.712865      0.072915      0.129414   \n",
       "1          0.747546          0.747546      0.102264      0.157979   \n",
       "2          0.794227          0.794227      0.294345      0.369104   \n",
       "3          0.727220          0.727220      0.078701      0.103854   \n",
       "4          0.635508          0.635508      0.101603      0.197212   \n",
       "5          0.805757          0.805757      0.131102      0.191838   \n",
       "6          0.774550          0.774550      0.143296      0.214000   \n",
       "7          0.831761          0.831761      0.155460      0.197622   \n",
       "8          0.822344          0.822344      0.149548      0.201435   \n",
       "9          0.723442          0.723442      0.177118      0.277054   \n",
       "\n",
       "          condition_info  \n",
       "0  time191-time197-cond1  \n",
       "1  time210-time197-cond1  \n",
       "2  time204-time203-cond1  \n",
       "3  time197-time210-cond1  \n",
       "4  time196-time210-cond1  \n",
       "5  time206-time195-cond1  \n",
       "6  time195-time206-cond1  \n",
       "7  time205-time204-cond1  \n",
       "8  time203-time204-cond1  \n",
       "9  time199-time209-cond1  "
      ]
     },
     "execution_count": 147,
     "metadata": {},
     "output_type": "execute_result"
    }
   ],
   "source": [
    "convo_surrogate.head(10)"
   ]
  }
 ],
 "metadata": {
  "kernelspec": {
   "display_name": "Python 2",
   "language": "python",
   "name": "python2"
  },
  "language_info": {
   "codemirror_mode": {
    "name": "ipython",
    "version": 2
   },
   "file_extension": ".py",
   "mimetype": "text/x-python",
   "name": "python",
   "nbconvert_exporter": "python",
   "pygments_lexer": "ipython2",
   "version": "2.7.14"
  }
 },
 "nbformat": 4,
 "nbformat_minor": 2
}
