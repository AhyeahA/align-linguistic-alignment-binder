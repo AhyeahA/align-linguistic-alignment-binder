{
 "cells": [
  {
   "cell_type": "markdown",
   "metadata": {
    "deletable": true,
    "editable": true
   },
   "source": [
    "# To-do list"
   ]
  },
  {
   "cell_type": "markdown",
   "metadata": {
    "deletable": true,
    "editable": true
   },
   "source": [
    "**Things for Alex to do:**\n",
    "* [ ] Handling requirements (after getting them)\n",
    "* [ ] Dockerizing\n",
    "* [ ] Jupyter app-ifying\n",
    "* [ ] Getting Stanford tagger included automatically\n",
    "* [ ] Clean up markdown text (when final notebooks are ready)\n",
    "* [ ] See if I can implement w2v function (https://github.com/a-paxton/Gensim-LSI-Word-Similarities)\n",
    "* [ ] Convert functions into library\n",
    "* [ ] See whether `BuildSemanticSpace` can be sped up when pulling in the prebuilt GoogleNews vectors"
   ]
  },
  {
   "cell_type": "markdown",
   "metadata": {
    "deletable": true,
    "editable": true
   },
   "source": [
    "**Things for Nick to do:**\n",
    "* [x] Implement surrogate to match by conversation order AND conversation type\n",
    "* [x] Make file names more intuitive\n",
    "* [ ] Identify condition/dyad/number flexibly (using regex) - SKIPPED\n",
    "* [x] Allow surrogate baseline to be created using a smaller subset (permutations) — 2-3x?\n",
    "* [x] Do pip freeze or conda list -e > req.txt\n",
    "* [**???**] Redo analysis with new baseline + consider doing sample-wise shuffled baseline - Have questions on how to proceed\n",
    "* [ ] Go over manuscript again with new baseline + review comments/edits\n",
    "* [x] Need to create a simple other_filler_list as a text file that can be modified by a user and imported to be used here - make note that we only catch 2-letter fillers at this point with the regular expression default \n",
    "* [x] Note that align_concatenated_dataframe.txt takes the place of forSemantic.txt. Make updates accordingly. \n",
    "* [ ] We could/should probably make `convobyconvo` an optional add-on from `turnbyturn`.\n",
    "* [ ] Consider other POS taggers: https://stackoverflow.com/questions/30821188/python-nltk-pos-tag-not-returning-the-correct-part-of-speech-tag\n",
    "* [ ] Create semantic space using the TASA corpus to make available to users\n",
    "* [ ] Still some issues with lemmatizer in that any POS tag not recognized defaults to NOUN. Consider other lemmatizer options that doesn't rely on Wordnet."
   ]
  },
  {
   "cell_type": "markdown",
   "metadata": {
    "deletable": true,
    "editable": true
   },
   "source": [
    "***"
   ]
  },
  {
   "cell_type": "markdown",
   "metadata": {
    "deletable": true,
    "editable": true
   },
   "source": [
    "# ALIGN"
   ]
  },
  {
   "cell_type": "markdown",
   "metadata": {
    "deletable": true,
    "editable": true
   },
   "source": [
    "This notebook provides an introduction to **ALIGN**, a tool for quantifying multi-level linguistic similarity between speakers. "
   ]
  },
  {
   "cell_type": "markdown",
   "metadata": {
    "deletable": true,
    "editable": true
   },
   "source": [
    "***"
   ]
  },
  {
   "cell_type": "markdown",
   "metadata": {
    "deletable": true,
    "editable": true
   },
   "source": [
    "**Table of Contents**:"
   ]
  },
  {
   "cell_type": "markdown",
   "metadata": {
    "deletable": true,
    "editable": true
   },
   "source": [
    "* [Getting Started](#Getting-Started)\n",
    "    * [Prerequisites](#Prerequisites)\n",
    "    * [Preparing input data](#Preparing-input-data)\n",
    "    * [Filename conventions](#Filename-conventions)\n",
    "    * [User-specified parameters](#User-specified-parameters)\n",
    "    * [Main calls](#Main-calls)\n",
    "* [Setup](#Setup)\n",
    "    * [Import libraries](#Import-libraries)\n",
    "    * [User-specified settings](#User-specified-settings)\n",
    "* [Phase 1: Generate \"prepped\" transcripts](#Phase-1:-Generate-\"prepped\"-transcripts)\n",
    "    * [](#)\n",
    "* [Phase 2: Generate alignment scores](#Phase-2:-Generate-alignment-scores)"
   ]
  },
  {
   "cell_type": "markdown",
   "metadata": {
    "deletable": true,
    "editable": true
   },
   "source": [
    "***"
   ]
  },
  {
   "cell_type": "markdown",
   "metadata": {
    "deletable": true,
    "editable": true
   },
   "source": [
    "# Getting Started"
   ]
  },
  {
   "cell_type": "markdown",
   "metadata": {
    "deletable": true,
    "editable": true
   },
   "source": [
    "### Prerequisites"
   ]
  },
  {
   "cell_type": "markdown",
   "metadata": {
    "deletable": true,
    "editable": true
   },
   "source": [
    "* Jupyter Notebook with Python 2.7.1.3 kernel\n",
    "* Packages in `requirements.txt`\n",
    "\n",
    "*See notes in \"DISTRIBUTION ISSUES\" Notebook for suggestions on how to package effectively and accomodate Python 3 users*"
   ]
  },
  {
   "cell_type": "markdown",
   "metadata": {
    "deletable": true,
    "editable": true
   },
   "source": [
    "**To Nick**: Is the above reference still accurate? I don't see such a notebook now."
   ]
  },
  {
   "cell_type": "markdown",
   "metadata": {
    "deletable": true,
    "editable": true
   },
   "source": [
    "### Preparing input data"
   ]
  },
  {
   "cell_type": "markdown",
   "metadata": {
    "deletable": true,
    "editable": true
   },
   "source": [
    "* Each input text file needs to contain a single conversation organized in an `N x 2` matrix\n",
    "    * Text file must be tab-delimited.\n",
    "* Each row must correspond to a single conversational turn from a speaker.\n",
    "    * Rows must be temporally ordered based on their occurrence in the conversation.\n",
    "    * Rows must alternate between speakers.\n",
    "* Speaker identifier and content for each turn are divided across two columns.\n",
    "    * Column 1 must have the header `participant`.\n",
    "        * Each cell specifies the speaker.\n",
    "        * Each speaker must have a unique label (e.g., `P1` and `P2`, `0` and `1`).\n",
    "    * Column 2 must have the header `content`.\n",
    "        * Each cell corresponds to the transcribed utterance from the speaker.\n",
    "        * Each cell must end with a newline character: `\\n`\n",
    "* See folder `examples > toy_data-original` in Github repository for an example"
   ]
  },
  {
   "cell_type": "markdown",
   "metadata": {
    "deletable": true,
    "editable": true
   },
   "source": [
    "### Filename conventions"
   ]
  },
  {
   "cell_type": "markdown",
   "metadata": {
    "deletable": true,
    "editable": true
   },
   "source": [
    "* Each conversation text file needs to be named in the format: `A_B.txt`\n",
    "    * `A` corresponds to the dyad number for that conversation\n",
    "    * `B` corresponding to a condition code for that conversation "
   ]
  },
  {
   "cell_type": "markdown",
   "metadata": {
    "deletable": true,
    "editable": true
   },
   "source": [
    "### Main calls"
   ]
  },
  {
   "cell_type": "markdown",
   "metadata": {
    "deletable": true,
    "editable": true
   },
   "source": [
    "`PHASE1RUN`"
   ]
  },
  {
   "cell_type": "markdown",
   "metadata": {
    "deletable": true,
    "editable": true
   },
   "source": [
    "* Converts each conversation into standardized format.\n",
    "* Each utterance is tokenized and lemmatized and has POS tags added."
   ]
  },
  {
   "cell_type": "markdown",
   "metadata": {
    "deletable": true,
    "editable": true
   },
   "source": [
    "`PHASE2RUN_REAL`"
   ]
  },
  {
   "cell_type": "markdown",
   "metadata": {
    "deletable": true,
    "editable": true
   },
   "source": [
    "* Generates turn-level and conversation-level alignment scores (lexical, conceptual, and syntactic) across a range of n-gram sequences"
   ]
  },
  {
   "cell_type": "markdown",
   "metadata": {
    "deletable": true,
    "editable": true
   },
   "source": [
    "`PHASE2RUN_SURROGATE`"
   ]
  },
  {
   "cell_type": "markdown",
   "metadata": {
    "deletable": true,
    "editable": true
   },
   "source": [
    "* Generates a surrogate corpus.\n",
    "* Runs identical analysis as PHASE2RUN_REAL on the surrogate corpus."
   ]
  },
  {
   "cell_type": "markdown",
   "metadata": {
    "deletable": true,
    "editable": true
   },
   "source": [
    "### Checking requirements"
   ]
  },
  {
   "cell_type": "code",
   "execution_count": 1,
   "metadata": {
    "collapsed": false,
    "deletable": true,
    "editable": true
   },
   "outputs": [
    {
     "name": "stdout",
     "output_type": "stream",
     "text": [
      "Pandas Version Info:\n",
      "0.21.1\n",
      "Numpy Version Info:\n",
      "1.11.3\n",
      "Scipy Version Info:\n",
      "0.19.0\n",
      "NLTK Version Info:\n",
      "3.2.5\n",
      "Gensim Version Info:\n",
      "3.1.0\n",
      "Python and Conda Environment Info:\n",
      "2.7.13 |Anaconda 2.3.0 (x86_64)| (default, Dec 20 2016, 23:05:08) \n",
      "[GCC 4.2.1 Compatible Apple LLVM 6.0 (clang-600.0.57)]\n"
     ]
    }
   ],
   "source": [
    "import pandas\n",
    "import numpy\n",
    "import scipy\n",
    "import nltk\n",
    "import gensim \n",
    "\n",
    "print(\"Pandas Version Info:\\n{}\".format(pandas.__version__))\n",
    "print(\"Numpy Version Info:\\n{}\".format(numpy.__version__))\n",
    "print(\"Scipy Version Info:\\n{}\".format(scipy.__version__))\n",
    "print(\"NLTK Version Info:\\n{}\".format(nltk.__version__))\n",
    "print(\"Gensim Version Info:\\n{}\".format(gensim.__version__))\n",
    "\n",
    "import sys\n",
    "print(\"Python and Conda Environment Info:\\n{}\".format(sys.version))\n"
   ]
  },
  {
   "cell_type": "markdown",
   "metadata": {
    "deletable": true,
    "editable": true
   },
   "source": [
    "**To Alex** Feel free to delete the above if no longer needed for final notebook"
   ]
  },
  {
   "cell_type": "markdown",
   "metadata": {
    "deletable": true,
    "editable": true
   },
   "source": [
    "***"
   ]
  },
  {
   "cell_type": "markdown",
   "metadata": {
    "deletable": true,
    "editable": true
   },
   "source": [
    "# Setup"
   ]
  },
  {
   "cell_type": "markdown",
   "metadata": {
    "deletable": true,
    "editable": true
   },
   "source": [
    "Here, we'll get ready to run ALIGN over our target dataset."
   ]
  },
  {
   "cell_type": "markdown",
   "metadata": {
    "deletable": true,
    "editable": true
   },
   "source": [
    "[To top](#ALIGN)."
   ]
  },
  {
   "cell_type": "markdown",
   "metadata": {
    "deletable": true,
    "editable": true
   },
   "source": [
    "## Import libraries"
   ]
  },
  {
   "cell_type": "markdown",
   "metadata": {
    "deletable": true,
    "editable": true
   },
   "source": [
    "### Standard libraries"
   ]
  },
  {
   "cell_type": "code",
   "execution_count": 2,
   "metadata": {
    "collapsed": true,
    "deletable": true,
    "editable": true
   },
   "outputs": [],
   "source": [
    "import os,re,math,csv,string,random,logging,glob,itertools,operator\n",
    "from os import listdir \n",
    "from os.path import isfile, join \n",
    "from collections import Counter, defaultdict, OrderedDict\n",
    "from itertools import chain, combinations"
   ]
  },
  {
   "cell_type": "markdown",
   "metadata": {
    "deletable": true,
    "editable": true
   },
   "source": [
    "### Third-party libraries"
   ]
  },
  {
   "cell_type": "markdown",
   "metadata": {
    "deletable": true,
    "editable": true
   },
   "source": [
    "For data analysis and data handling:"
   ]
  },
  {
   "cell_type": "code",
   "execution_count": 3,
   "metadata": {
    "collapsed": true,
    "deletable": true,
    "editable": true
   },
   "outputs": [],
   "source": [
    "import pandas as pd\n",
    "import numpy as np\n",
    "from scipy import spatial "
   ]
  },
  {
   "cell_type": "markdown",
   "metadata": {
    "deletable": true,
    "editable": true
   },
   "source": [
    "For natural language processing:"
   ]
  },
  {
   "cell_type": "code",
   "execution_count": 4,
   "metadata": {
    "collapsed": true,
    "deletable": true,
    "editable": true
   },
   "outputs": [],
   "source": [
    "import nltk\n",
    "from nltk.tokenize import word_tokenize \n",
    "from nltk.stem import WordNetLemmatizer \n",
    "from nltk.corpus import wordnet as wn \n",
    "from nltk.tag.stanford import StanfordPOSTagger\n",
    "from nltk.util import ngrams"
   ]
  },
  {
   "cell_type": "markdown",
   "metadata": {
    "deletable": true,
    "editable": true
   },
   "source": [
    "Download the NLTK default POS tagger:"
   ]
  },
  {
   "cell_type": "code",
   "execution_count": 5,
   "metadata": {
    "collapsed": false,
    "deletable": true,
    "editable": true
   },
   "outputs": [
    {
     "name": "stdout",
     "output_type": "stream",
     "text": [
      "[nltk_data] Downloading package averaged_perceptron_tagger to\n",
      "[nltk_data]     /Users/nduran/nltk_data...\n",
      "[nltk_data]   Package averaged_perceptron_tagger is already up-to-\n",
      "[nltk_data]       date!\n"
     ]
    },
    {
     "data": {
      "text/plain": [
       "True"
      ]
     },
     "execution_count": 5,
     "metadata": {},
     "output_type": "execute_result"
    }
   ],
   "source": [
    "nltk.download('averaged_perceptron_tagger')"
   ]
  },
  {
   "cell_type": "markdown",
   "metadata": {
    "deletable": true,
    "editable": true
   },
   "source": [
    "**Note:** With older version of NLTK (pre 3.1), the `maxent_treebank_pos_tagger` is also available. If desired, uncomment and run the following:"
   ]
  },
  {
   "cell_type": "code",
   "execution_count": 6,
   "metadata": {
    "collapsed": true,
    "deletable": true,
    "editable": true
   },
   "outputs": [],
   "source": [
    "# nltk.download('maxent_treebank_pos_tagger')"
   ]
  },
  {
   "cell_type": "markdown",
   "metadata": {
    "deletable": true,
    "editable": true
   },
   "source": [
    "**Note**: The `StanfordPOSTagger` will be\n",
    "used in conjunction with local folder `stanford-postagger-2017-06-09/` and `.jar` file. The `StanfordPOSTagger` also uses the trained model: `english-left3words-distsim.tagger`. These files will be called below if analysis is being run with the Stanford tagger."
   ]
  },
  {
   "cell_type": "markdown",
   "metadata": {
    "deletable": true,
    "editable": true
   },
   "source": [
    "For building semantic space:"
   ]
  },
  {
   "cell_type": "code",
   "execution_count": 7,
   "metadata": {
    "collapsed": true,
    "deletable": true,
    "editable": true
   },
   "outputs": [],
   "source": [
    "from gensim.models import word2vec"
   ]
  },
  {
   "cell_type": "markdown",
   "metadata": {
    "deletable": true,
    "editable": true
   },
   "source": [
    "## User-specified settings"
   ]
  },
  {
   "cell_type": "markdown",
   "metadata": {
    "deletable": true,
    "editable": true
   },
   "source": [
    "### Directories and folders"
   ]
  },
  {
   "cell_type": "markdown",
   "metadata": {
    "deletable": true,
    "editable": true
   },
   "source": [
    "`INPUT_PATH`: Set working directory, in which all notebook and supporting files are located."
   ]
  },
  {
   "cell_type": "markdown",
   "metadata": {
    "deletable": true,
    "editable": true
   },
   "source": [
    "Or \"Pathname for the unzipped project folder\" if going with `anaconda-project.yml` configuration file"
   ]
  },
  {
   "cell_type": "code",
   "execution_count": 8,
   "metadata": {
    "collapsed": false,
    "deletable": true,
    "editable": true
   },
   "outputs": [],
   "source": [
    "INPUT_PATH=os.getcwd()+'/'"
   ]
  },
  {
   "cell_type": "markdown",
   "metadata": {
    "deletable": true,
    "editable": true
   },
   "source": [
    "`TRANSCRIPTS`: Set variable for folder name (as string) for relative location of folder containing the original transcript files."
   ]
  },
  {
   "cell_type": "code",
   "execution_count": 9,
   "metadata": {
    "collapsed": true,
    "deletable": true,
    "editable": true
   },
   "outputs": [],
   "source": [
    "TRANSCRIPTS = 'examples/toy_data-original/'"
   ]
  },
  {
   "cell_type": "markdown",
   "metadata": {
    "deletable": true,
    "editable": true
   },
   "source": [
    "`STANFORD_PATH`: Path to Stanford POS tagger files."
   ]
  },
  {
   "cell_type": "code",
   "execution_count": 10,
   "metadata": {
    "collapsed": true,
    "deletable": true,
    "editable": true
   },
   "outputs": [],
   "source": [
    "STANFORD_POS_PATH = INPUT_PATH + 'package_files/stanford-postagger-2017-06-09/'"
   ]
  },
  {
   "cell_type": "markdown",
   "metadata": {
    "deletable": true,
    "editable": true
   },
   "source": [
    "`PREPPED_TRANSCRIPTS`: Set variable for folder name (as string) for relative location of folder into which prepared transcript files will be saved."
   ]
  },
  {
   "cell_type": "code",
   "execution_count": 11,
   "metadata": {
    "collapsed": true,
    "deletable": true,
    "editable": true
   },
   "outputs": [],
   "source": [
    "PREPPED_TRANSCRIPTS = 'examples/toy_data-prepped/'"
   ]
  },
  {
   "cell_type": "markdown",
   "metadata": {
    "deletable": true,
    "editable": true
   },
   "source": [
    "`ANALYSIS_READY`: Set variable for folder name (as string) for relative location of folder into which analysis-ready dataframe files will be saved."
   ]
  },
  {
   "cell_type": "code",
   "execution_count": 12,
   "metadata": {
    "collapsed": true,
    "deletable": true,
    "editable": true
   },
   "outputs": [],
   "source": [
    "ANALYSIS_READY = 'examples/toy_data-analysis/'"
   ]
  },
  {
   "cell_type": "markdown",
   "metadata": {
    "deletable": true,
    "editable": true
   },
   "source": [
    "`SURROGATE_TRANSCRIPTS`: Set variable for folder name (as string) for relative location of folder into which all prepared surrogate transcript files will be saved."
   ]
  },
  {
   "cell_type": "code",
   "execution_count": 13,
   "metadata": {
    "collapsed": true,
    "deletable": true,
    "editable": true
   },
   "outputs": [],
   "source": [
    "SURROGATE_TRANSCRIPTS = 'examples/toy_data-surrogate/'"
   ]
  },
  {
   "cell_type": "markdown",
   "metadata": {
    "deletable": true,
    "editable": true
   },
   "source": [
    "### Analysis settings"
   ]
  },
  {
   "cell_type": "markdown",
   "metadata": {
    "deletable": true,
    "editable": true
   },
   "source": [
    "`MAXNGRAM`: Set maximum size for n-gram chunking.\n",
    "\n",
    "* Default: 2"
   ]
  },
  {
   "cell_type": "code",
   "execution_count": 14,
   "metadata": {
    "collapsed": true,
    "deletable": true,
    "editable": true
   },
   "outputs": [],
   "source": [
    "MAXNGRAM = 2"
   ]
  },
  {
   "cell_type": "markdown",
   "metadata": {
    "deletable": true,
    "editable": true
   },
   "source": [
    "`MINWORDS`: Set minimum number of words for each turn.\n",
    "\n",
    "* Default: 2\n",
    "\n",
    "**Note**: The minimum number of words must be at least as long as maximum *n*-gram size (`MAXNGRAM` above)."
   ]
  },
  {
   "cell_type": "code",
   "execution_count": 15,
   "metadata": {
    "collapsed": true,
    "deletable": true,
    "editable": true
   },
   "outputs": [],
   "source": [
    "MINWORDS = 2"
   ]
  },
  {
   "cell_type": "markdown",
   "metadata": {
    "deletable": true,
    "editable": true
   },
   "source": [
    "`ADD_STANFORD_TAGS`: Choose POS tagger. \n",
    "\n",
    "* Default: `False`\n",
    "    * Run NLTK default POS tagger (NLTK 3.1+): `averaged_perceptron_tagger`\n",
    "* Option: `True`\n",
    "    * Run both NLTK default POS tagger and Stanford POS tagger. Note: Adding the Stanford POS tagger will lead to an increase in processing time. "
   ]
  },
  {
   "cell_type": "code",
   "execution_count": 16,
   "metadata": {
    "collapsed": true,
    "deletable": true,
    "editable": true
   },
   "outputs": [],
   "source": [
    "ADD_STANFORD_TAGS = False"
   ]
  },
  {
   "cell_type": "markdown",
   "metadata": {
    "deletable": true,
    "editable": true
   },
   "source": [
    "`DELAY`: Set max delay between partner's turns when generating alignment score.\n",
    "\n",
    "* Currently, the only acceptable value is 1 (i.e., contiguous turns)."
   ]
  },
  {
   "cell_type": "code",
   "execution_count": 17,
   "metadata": {
    "collapsed": true,
    "deletable": true,
    "editable": true
   },
   "outputs": [],
   "source": [
    "DELAY = 1"
   ]
  },
  {
   "cell_type": "markdown",
   "metadata": {
    "deletable": true,
    "editable": true
   },
   "source": [
    "`USE_FILLER_LIST`: Choose method for removing speech fillers. \n",
    "\n",
    "* Default: `None`\n",
    "    * Does not provide additional speech fillers to be removed.\n",
    "* Option: list of strings\n",
    "    * Provide a list of literal strings to be removed from the transcripts."
   ]
  },
  {
   "cell_type": "code",
   "execution_count": 18,
   "metadata": {
    "collapsed": true,
    "deletable": true,
    "editable": true
   },
   "outputs": [],
   "source": [
    "USE_FILLER_LIST = None"
   ]
  },
  {
   "cell_type": "markdown",
   "metadata": {
    "deletable": true,
    "editable": true
   },
   "source": [
    "`IGNORE_DUPLICATES`: Choose whether to remove duplicate lexial bigrams when computing syntactic alignment\n",
    "\n",
    "* Default: `True`\n",
    "    * Removes duplicate lexical bigrams.\n",
    "* Option `False`\n",
    "    * Keeps duplicate lexical bigrams"
   ]
  },
  {
   "cell_type": "code",
   "execution_count": 19,
   "metadata": {
    "collapsed": true,
    "deletable": true,
    "editable": true
   },
   "outputs": [],
   "source": [
    "IGNORE_DUPLICATES = True"
   ]
  },
  {
   "cell_type": "markdown",
   "metadata": {
    "deletable": true,
    "editable": true
   },
   "source": [
    "`USE_PRETRAINED_VECTORS`: Choose whether to use high-dimensional semantic model pretrained vectors from GoogleNews or to build vectors based on transcripts (each utterance/row is equivalent to a single context). Note: if there are a small number of utterance/rows then the pretrained vectors should be used. \n",
    "\n",
    "* Default: `False`\n",
    "    * Builds high-dimensional based on input transcript\n",
    "* Option `True`\n",
    "    * Uses pre-trained vectors from GoogleNews"
   ]
  },
  {
   "cell_type": "code",
   "execution_count": 20,
   "metadata": {
    "collapsed": true,
    "deletable": true,
    "editable": true
   },
   "outputs": [],
   "source": [
    "USE_PRETRAINED_VECTORS = False"
   ]
  },
  {
   "cell_type": "markdown",
   "metadata": {
    "deletable": true,
    "editable": true
   },
   "source": [
    "`ALL_SURROGATES`: Choose whether to generate surrogates from all possible pairings within a condition or only from a subset of all possible pairings. \n",
    "\n",
    "* Default: `True`\n",
    "    * Generates all possible pairings\n",
    "* Option `False`\n",
    "    * Generates from a subset of all possible pairings"
   ]
  },
  {
   "cell_type": "code",
   "execution_count": 21,
   "metadata": {
    "collapsed": true,
    "deletable": true,
    "editable": true
   },
   "outputs": [],
   "source": [
    "ALL_SURROGATES = True"
   ]
  },
  {
   "cell_type": "markdown",
   "metadata": {
    "deletable": true,
    "editable": true
   },
   "source": [
    "`KEEP_ORIGINAL_TURN_ORDER`: For generating surrogate transcripts, choose whether to to retain the original ordering of each surrogate partner's data or create surrogates by shuffling all turns within each surrogate partner's data. \n",
    "\n",
    "* Default: `True`\n",
    "    * Retains original\n",
    "    ordering of conversational turns\n",
    "* Option `False`\n",
    "    * Shuffles ordering of conversational turns"
   ]
  },
  {
   "cell_type": "code",
   "execution_count": 22,
   "metadata": {
    "collapsed": true,
    "deletable": true,
    "editable": true
   },
   "outputs": [],
   "source": [
    "KEEP_ORIGINAL_TURN_ORDER = True"
   ]
  },
  {
   "cell_type": "markdown",
   "metadata": {
    "deletable": true,
    "editable": true
   },
   "source": [
    "**To Alex** There are also several other options users could specify, but they seem minor and I can't imagine that they would ever need to be changed. Plus, you did a good job in the function description of their definition and settings. The above are the more important ones that are mentioned in the paper (and we might not even want to include the above in the notebook but rather in the Github README file) \n",
    "    * use_both=False\n",
    "    * high_sd_cutoff=3\n",
    "    * low_n_cutoff=1\n",
    "    * input_as_directory=True\n",
    "    * save_concatenated_dataframe=True\n",
    "    * id_separator = '\\-'\n",
    "    * condition_label='cond'\n",
    "    * dyad_label='dyad'     "
   ]
  },
  {
   "cell_type": "markdown",
   "metadata": {
    "deletable": true,
    "editable": true
   },
   "source": [
    "***"
   ]
  },
  {
   "cell_type": "markdown",
   "metadata": {
    "deletable": true,
    "editable": true
   },
   "source": [
    "# Phase 1: Generate \"prepped\" transcripts"
   ]
  },
  {
   "cell_type": "markdown",
   "metadata": {
    "deletable": true,
    "editable": true
   },
   "source": [
    "## Initial clean-up"
   ]
  },
  {
   "cell_type": "markdown",
   "metadata": {
    "deletable": true,
    "editable": true
   },
   "source": [
    "* **[Clean up text](#Clean-up-text)** by removing:\n",
    "    * numbers, punctuation, and other non-ASCII alphabet characters\n",
    "    * common speech fillers (e.g., \"um\", \"huh\") and their derivations\n",
    "    * empty turns that may have inadvertently been included\n",
    "    * user-specified short turns\n",
    "        * removes short turns that are at least as long as maximum n-gram\n",
    "* **[Merge adjacent turns by the same participant](#Merge-adjacent-turns-by-the-same-participant)** into a single utterance row."
   ]
  },
  {
   "cell_type": "markdown",
   "metadata": {
    "deletable": true,
    "editable": true
   },
   "source": [
    "[To top](#ALIGN)."
   ]
  },
  {
   "cell_type": "markdown",
   "metadata": {
    "deletable": true,
    "editable": true
   },
   "source": [
    "### Clean up text"
   ]
  },
  {
   "cell_type": "markdown",
   "metadata": {
    "deletable": true,
    "editable": true
   },
   "source": [
    "**To Alex** Added an option to use both the regex default AND a list of additional words. I was finding that \"yeah\" appears a lot in the DA transcripts and wanted to manually remove it via the filler list. "
   ]
  },
  {
   "cell_type": "code",
   "execution_count": 23,
   "metadata": {
    "collapsed": true,
    "deletable": true,
    "editable": true
   },
   "outputs": [],
   "source": [
    "def InitialCleanup(dataframe,\n",
    "                   minwords=2,\n",
    "                   use_filler_list=None,\n",
    "                   use_both=False):\n",
    "    \n",
    "    \"\"\"\n",
    "    Perform basic text cleaning to prepare dataframe\n",
    "    for analysis. Remove non-letter/-space characters,\n",
    "    empty turns, turns below a minimum length, and \n",
    "    fillers.\n",
    "    \n",
    "    By default, preserves turns 2 words or longer.\n",
    "    If desired, this may be changed by updating the\n",
    "    `minwords` argument.\n",
    "    \n",
    "    By default, remove common fillers through regex.\n",
    "    If desired, remove other words by passing a list\n",
    "    of literal strings to `use_filler_list` argument, \n",
    "    and if both regex and list of additional literal\n",
    "    strings are to be used, update `use_both=True`.\n",
    "    \"\"\"\n",
    "    \n",
    "    # only allow strings, spaces, and newlines to pass\n",
    "    WHITELIST = string.letters + '\\'' + ' '\n",
    "    clean = []\n",
    "    utteranceLen = []\n",
    "     \n",
    "    # remove inadvertent empty turns \n",
    "    dataframe = dataframe[pd.notnull(dataframe['content'])]\n",
    "    \n",
    "    # internal function: remove fillers via regular expressions\n",
    "    def applyRegExpression(textFiller):\n",
    "        textClean = re.sub('^(?!mom|am|ham)[u*|h*|m*|o*|a*]+[m*|h*|u*|a*]+\\s', ' ', textFiller) # at the start of a string\n",
    "        textClean = re.sub('\\s(?!mom|am|ham)[u*|h*|m*|o*|a*]+[m*|h*|u*|a*]+\\s', ' ', textClean) # within a string \n",
    "        textClean = re.sub('\\s(?!mom|am|ham)[u*|h*|m*|o*|a*]+[m*|h*|u*|a*]$', ' ', textClean) # end of a string \n",
    "        textClean = re.sub('^(?!mom|am|ham)[u*|h*|m*|o*|a*]+[m*|h*|u*|a*]$', ' ', textClean) # if entire turn string        \n",
    "        return textClean\n",
    "    \n",
    "    for value in dataframe['content'].values:            \n",
    "        cleantext = ''.join(c for c in value if c in WHITELIST).lower() \n",
    "        \n",
    "        # DEFAULT: remove typical speech fillers via regular expressions (examples: \"um, mm, oh, hm, uh, ha\")\n",
    "        if use_filler_list == None and use_both == False:                                \n",
    "            cleantext = applyRegExpression(cleantext)\n",
    "        # OPTION 1: remove speech fillers or other words specified by user in a list\n",
    "        elif use_filler_list != None and use_both == False:\n",
    "            cleantext = [word for word in cleantext.split(\" \") if word not in use_filler_list]\n",
    "            cleantext = \" \".join(cleantext)\n",
    "        # OPTION 2: remove speech fillers via regular expression and any additional words from user-specified list\n",
    "        elif use_filler_list != None and use_both == True:\n",
    "            cleantext = applyRegExpression(cleantext)\n",
    "            cleantext = [word for word in cleantext.split(\" \") if word not in use_filler_list]\n",
    "            cleantext = \" \".join(cleantext)\n",
    "        # append cleaned lines\n",
    "        clean.append(cleantext)        \n",
    "                \n",
    "    # drop the old \"content\" column and add the clean \"content\" column\n",
    "    dataframe = dataframe.iloc[:, [0,1]]\n",
    "    dataframe['content'] = clean\n",
    "        \n",
    "    # remove rows that are now blank or do not meet `minwords` requirement, then drop length column    \n",
    "    dataframe['utteranceLen'] = dataframe['content'].apply(lambda x: word_tokenize(x)).str.len()\n",
    "    dataframe = dataframe.drop(dataframe[dataframe.utteranceLen < int(minwords)].index)\n",
    "    dataframe = dataframe.iloc[:, [0,1]]\n",
    "        \n",
    "    # return the cleaned dataframe    \n",
    "    return dataframe"
   ]
  },
  {
   "cell_type": "markdown",
   "metadata": {
    "deletable": true,
    "editable": true
   },
   "source": [
    "### Merge adjacent turns by the same participant"
   ]
  },
  {
   "cell_type": "code",
   "execution_count": 24,
   "metadata": {
    "collapsed": true,
    "deletable": true,
    "editable": true
   },
   "outputs": [],
   "source": [
    "def AdjacentMerge(dataframe):\n",
    "\n",
    "    \"\"\"\n",
    "    Given a dataframe of conversation turns,\n",
    "    merge adjacent turns by the same speaker.\n",
    "    \"\"\"    \n",
    "    \n",
    "    repeat=1\n",
    "    while repeat==1:\n",
    "        l1=len(dataframe) \n",
    "        DfMerge = []\n",
    "        k = 0\n",
    "        if len(dataframe) > 0:\n",
    "            while k < len(dataframe)-1: \n",
    "                if dataframe['participant'].iloc[k] != dataframe['participant'].iloc[k+1]:\n",
    "                    DfMerge.append([dataframe['participant'].iloc[k], dataframe['content'].iloc[k]])         \n",
    "                    k = k + 1\n",
    "                elif dataframe['participant'].iloc[k] == dataframe['participant'].iloc[k+1]:                    \n",
    "                    DfMerge.append([dataframe['participant'].iloc[k], dataframe['content'].iloc[k] + \" \" + dataframe['content'].iloc[k+1]])           \n",
    "                    k = k + 2   \n",
    "            if k == len(dataframe)-1:\n",
    "                DfMerge.append([dataframe['participant'].iloc[k], dataframe['content'].iloc[k]])      \n",
    "        \n",
    "        dataframe=pd.DataFrame(DfMerge,columns=('participant','content'))\n",
    "        if l1==len(dataframe): \n",
    "            repeat=0 \n",
    "                \n",
    "    return dataframe"
   ]
  },
  {
   "cell_type": "markdown",
   "metadata": {
    "deletable": true,
    "editable": true
   },
   "source": [
    "## Prepare transcript text"
   ]
  },
  {
   "cell_type": "markdown",
   "metadata": {
    "deletable": true,
    "editable": true
   },
   "source": [
    "* **[Check spelling](#Check-spelling)** via a Bayesian spell-checking algorithm (http://norvig.com/spell-correct.html).\n",
    "* **[Tokenize and apply spell correction](#Tokenize-and-apply-spell-correction)** to the original transcript text.\n",
    "* **[Lemmatize](#Lemmatize)** using WordNet-derived categories.\n",
    "* [**Part-of-speech tagging**](#Part-of-speech-tagging) with user-defined tagger(s) on both lemmatized and non-lemmatized tokens.\n",
    "    * Users may choose to use the NLTK default POS tagger (default) and/or the Stanford POS tagger (optional). The NLTK default tagger is more time-efficient."
   ]
  },
  {
   "cell_type": "markdown",
   "metadata": {
    "deletable": true,
    "editable": true
   },
   "source": [
    "### Tokenize and apply spell correction"
   ]
  },
  {
   "cell_type": "code",
   "execution_count": 25,
   "metadata": {
    "collapsed": true,
    "deletable": true,
    "editable": true
   },
   "outputs": [],
   "source": [
    "def Tokenize(text,nwords):\n",
    "    \"\"\"\n",
    "    Given list of text to be processed and a list \n",
    "    of known words, return a list of edited and \n",
    "    tokenized words.\n",
    "    \"\"\"\n",
    "    \n",
    "    # internal function: identify possible spelling errors for a given word\n",
    "    def edits1(word): \n",
    "        splits     = [(word[:i], word[i:]) for i in range(len(word) + 1)]\n",
    "        deletes    = [a + b[1:] for a, b in splits if b]\n",
    "        transposes = [a + b[1] + b[0] + b[2:] for a, b in splits if len(b)>1]\n",
    "        replaces   = [a + c + b[1:] for a, b in splits for c in string.lowercase if b]\n",
    "        inserts    = [a + c + b     for a, b in splits for c in string.lowercase]\n",
    "        return set(deletes + transposes + replaces + inserts)\n",
    "\n",
    "    # internal function: identify known edits\n",
    "    def known_edits2(word,nwords):\n",
    "        return set(e2 for e1 in edits1(word) for e2 in edits1(e1) if e2 in nwords)\n",
    "\n",
    "    # internal function: identify known words\n",
    "    def known(words,nwords): return set(w for w in words if w in nwords)\n",
    "\n",
    "    # internal function: correct spelling\n",
    "    def correct(word,nwords):\n",
    "        candidates = known([word],nwords) or known(edits1(word),nwords) or known_edits2(word,nwords) or [word]\n",
    "        return max(candidates, key=nwords.get)\n",
    "\n",
    "    # expand out based on a fixed list of common contractions \n",
    "    contract_dict = { \"ain't\": \"is not\",\n",
    "        \"aren't\": \"are not\",\n",
    "        \"can't\": \"cannot\",\n",
    "        \"can't've\": \"cannot have\",\n",
    "        \"'cause\": \"because\",\n",
    "        \"could've\": \"could have\",\n",
    "        \"couldn't\": \"could not\",\n",
    "        \"couldn't've\": \"could not have\",\n",
    "        \"didn't\": \"did not\",\n",
    "        \"doesn't\": \"does not\",\n",
    "        \"don't\": \"do not\",\n",
    "        \"hadn't\": \"had not\",\n",
    "        \"hadn't've\": \"had not have\",\n",
    "        \"hasn't\": \"has not\",\n",
    "        \"haven't\": \"have not\",\n",
    "        \"he'd\": \"he had\",\n",
    "        \"he'd've\": \"he would have\",\n",
    "        \"he'll\": \"he will\",\n",
    "        \"he'll've\": \"he will have\",\n",
    "        \"he's\": \"he is\",\n",
    "        \"how'd\": \"how did\",\n",
    "        \"how'd'y\": \"how do you\",\n",
    "        \"how'll\": \"how will\",\n",
    "        \"how's\": \"how is\",\n",
    "        \"i'd\": \"i would\",\n",
    "        \"i'd've\": \"i would have\",\n",
    "        \"i'll\": \"i will\",\n",
    "        \"i'll've\": \"i will have\",\n",
    "        \"i'm\": \"i am\",\n",
    "        \"i've\": \"i have\",\n",
    "        \"isn't\": \"is not\",\n",
    "        \"it'd\": \"it would\",\n",
    "        \"it'd've\": \"it would have\",\n",
    "        \"it'll\": \"it will\",\n",
    "        \"it'll've\": \"it will have\",\n",
    "        \"it's\": \"it is\",\n",
    "        \"let's\": \"let us\",\n",
    "        \"ma'am\": \"madam\",\n",
    "        \"mayn't\": \"may not\",\n",
    "        \"might've\": \"might have\",\n",
    "        \"mightn't\": \"might not\",\n",
    "        \"mightn't've\": \"might not have\",\n",
    "        \"must've\": \"must have\",\n",
    "        \"mustn't\": \"must not\",\n",
    "        \"mustn't've\": \"must not have\",\n",
    "        \"needn't\": \"need not\",\n",
    "        \"needn't've\": \"need not have\",\n",
    "        \"o'clock\": \"of the clock\",\n",
    "        \"oughtn't\": \"ought not\",\n",
    "        \"oughtn't've\": \"ought not have\",\n",
    "        \"shan't\": \"shall not\",\n",
    "        \"sha'n't\": \"shall not\",\n",
    "        \"shan't've\": \"shall not have\",\n",
    "        \"she'd\": \"she would\",\n",
    "        \"she'd've\": \"she would have\",\n",
    "        \"she'll\": \"she will\",\n",
    "        \"she'll've\": \"she will have\",\n",
    "        \"she's\": \"she is\",\n",
    "        \"should've\": \"should have\",\n",
    "        \"shouldn't\": \"should not\",\n",
    "        \"shouldn't've\": \"should not have\",\n",
    "        \"so've\": \"so have\",\n",
    "        \"so's\": \"so as\",\n",
    "        \"that'd\": \"that had\",\n",
    "        \"that'd've\": \"that would have\",\n",
    "        \"that's\": \"that is\",\n",
    "        \"there'd\": \"there would\",\n",
    "        \"there'd've\": \"there would have\",\n",
    "        \"there's\": \"there is\",\n",
    "        \"they'd\": \"they would\",\n",
    "        \"they'd've\": \"they would have\",\n",
    "        \"they'll\": \"they will\",\n",
    "        \"they'll've\": \"they will have\",\n",
    "        \"they're\": \"they are\",\n",
    "        \"they've\": \"they have\",\n",
    "        \"to've\": \"to have\",\n",
    "        \"wasn't\": \"was not\",\n",
    "        \"we'd\": \"we would\",\n",
    "        \"we'd've\": \"we would have\",\n",
    "        \"we'll\": \"we will\",\n",
    "        \"we'll've\": \"we will have\",\n",
    "        \"we're\": \"we are\",\n",
    "        \"we've\": \"we have\",\n",
    "        \"weren't\": \"were not\",\n",
    "        \"what'll\": \"what will\",\n",
    "        \"what'll've\": \"what will have\",\n",
    "        \"what're\": \"what are\",\n",
    "        \"what's\": \"what is\",\n",
    "        \"what've\": \"what have\",\n",
    "        \"when's\": \"when is\",\n",
    "        \"when've\": \"when have\",\n",
    "        \"where'd\": \"where did\",\n",
    "        \"where's\": \"where is\",\n",
    "        \"where've\": \"where have\",\n",
    "        \"who'll\": \"who will\",\n",
    "        \"who'll've\": \"who will have\",\n",
    "        \"who's\": \"who is\",\n",
    "        \"who've\": \"who have\",\n",
    "        \"why's\": \"why is\",\n",
    "        \"why've\": \"why have\",\n",
    "        \"will've\": \"will have\",\n",
    "        \"won't\": \"will not\",\n",
    "        \"won't've\": \"will not have\",\n",
    "        \"would've\": \"would have\",\n",
    "        \"wouldn't\": \"would not\",\n",
    "        \"wouldn't've\": \"would not have\",\n",
    "        \"y'all\": \"you all\",\n",
    "        \"y'all'd\": \"you all would\",\n",
    "        \"y'all'd've\": \"you all would have\",\n",
    "        \"y'all're\": \"you all are\",\n",
    "        \"y'all've\": \"you all have\",\n",
    "        \"you'd\": \"you would\",\n",
    "        \"you'd've\": \"you would have\",\n",
    "        \"you'll\": \"you will\",\n",
    "        \"you'll've\": \"you will have\",\n",
    "        \"you're\": \"you are\",\n",
    "        \"you've\": \"you have\" }\n",
    "    contractions_re = re.compile('(%s)' % '|'.join(contract_dict.keys()))      \n",
    "\n",
    "    # internal function:    \n",
    "    def expand_contractions(text, contractions_re=contractions_re):\n",
    "        def replace(match):\n",
    "            return contract_dict[match.group(0)]\n",
    "        return contractions_re.sub(replace, text.lower())\n",
    "\n",
    "    # process all words in the text\n",
    "    cleantoken = []\n",
    "    text = expand_contractions(text)\n",
    "    token = word_tokenize(text)\n",
    "    for word in token:        \n",
    "        if \"'\" not in word:\n",
    "            cleantoken.append(correct(word,nwords))\n",
    "        else:\n",
    "            cleantoken.append(word) \n",
    "    return cleantoken"
   ]
  },
  {
   "cell_type": "markdown",
   "metadata": {
    "deletable": true,
    "editable": true
   },
   "source": [
    "### Lemmatize"
   ]
  },
  {
   "cell_type": "code",
   "execution_count": 26,
   "metadata": {
    "collapsed": true,
    "deletable": true,
    "editable": true
   },
   "outputs": [],
   "source": [
    "def pos_to_wn(tag):\n",
    "    \"\"\"\n",
    "    Convert NLTK default tagger output into a format that Wordnet\n",
    "    can use in order to properly lemmatize the text.\n",
    "    \"\"\"\n",
    "    \n",
    "    # create some inner functions for simplicity\n",
    "    def is_noun(tag):\n",
    "        return tag in ['NN', 'NNS', 'NNP', 'NNPS']\n",
    "    def is_verb(tag):\n",
    "        return tag in ['VB', 'VBD', 'VBG', 'VBN', 'VBP', 'VBZ']\n",
    "    def is_adverb(tag):\n",
    "        return tag in ['RB', 'RBR', 'RBS']\n",
    "    def is_adjective(tag):\n",
    "        return tag in ['JJ', 'JJR', 'JJS']\n",
    "    \n",
    "    # check each tag against possible categories\n",
    "    if is_noun(tag):\n",
    "        return wn.NOUN\n",
    "    elif is_verb(tag):\n",
    "        return wn.VERB\n",
    "    elif is_adverb(tag):\n",
    "        return wn.ADV\n",
    "    elif is_adjective(tag):\n",
    "        return wn.ADJ\n",
    "    else:\n",
    "        return wn.NOUN"
   ]
  },
  {
   "cell_type": "code",
   "execution_count": 27,
   "metadata": {
    "collapsed": true,
    "deletable": true,
    "editable": true
   },
   "outputs": [],
   "source": [
    "def Lemmatize(tokenlist):\n",
    "    lemmatizer = WordNetLemmatizer() \n",
    "    defaultPos = nltk.pos_tag(tokenlist) # get the POS tags from NLTK default tagger\n",
    "    words_lemma = []\n",
    "    for item in defaultPos:  \n",
    "        words_lemma.append(lemmatizer.lemmatize(item[0],pos_to_wn(item[1]))) # need to convert POS tags to a format (NOUN, VERB, ADV, ADJ) that wordnet uses to lemmatize\n",
    "    return words_lemma"
   ]
  },
  {
   "cell_type": "markdown",
   "metadata": {
    "deletable": true,
    "editable": true
   },
   "source": [
    "### Part-of-speech tagging"
   ]
  },
  {
   "cell_type": "code",
   "execution_count": 28,
   "metadata": {
    "collapsed": true,
    "deletable": true,
    "editable": true
   },
   "outputs": [],
   "source": [
    "def ApplyPOSTagging(df,\n",
    "                    filename,\n",
    "                    add_stanford_tags=False,\n",
    "                    stanford_pos_path=None):\n",
    "\n",
    "    \"\"\"\n",
    "    Given a dataframe of conversation turns, return a new\n",
    "    dataframe with part-of-speech tagging. Add filename\n",
    "    (given as string) as a new column in returned dataframe.\n",
    "    \n",
    "    By default, return only tags from the NLTK default POS \n",
    "    tagger. Optionally, also return Stanford POS tagger \n",
    "    results by setting `add_stanford_tags=True`.\n",
    "    \n",
    "    If Stanford POS tagging is desired, specify the\n",
    "    location of the Stanford POS tagger with the \n",
    "    `stanford_pos_path` argument.\n",
    "    \"\"\"\n",
    "    \n",
    "    # if desired, import Stanford tagger\n",
    "    if add_stanford_tags == True:\n",
    "        if stanford_pos_path == None:\n",
    "            raise ValueError('Error! Specify path to Stanford POS tagger using the `stanford_pos_path` argument.')\n",
    "        else:\n",
    "            stanford_tagger = StanfordPOSTagger(stanford_pos_path + 'models/english-left3words-distsim.tagger',\n",
    "                                                stanford_pos_path + 'stanford-postagger.jar')\n",
    "    \n",
    "    # add new columns to dataframe\n",
    "    df['tagged_token'] = df['token'].apply(nltk.pos_tag)\n",
    "    df['tagged_lemma'] = df['lemma'].apply(nltk.pos_tag)\n",
    "    \n",
    "    # if desired, also tag with Stanford tagger\n",
    "    if add_stanford_tags == True:\n",
    "        df['tagged_stan_token'] = df['token'].apply(stanford_tagger.tag)\n",
    "        df['tagged_stan_lemma'] = df['lemma'].apply(stanford_tagger.tag)\n",
    "\n",
    "    df['file'] = filename\n",
    "        \n",
    "    # return finished dataframe\n",
    "    return df"
   ]
  },
  {
   "cell_type": "markdown",
   "metadata": {
    "deletable": true,
    "editable": true
   },
   "source": [
    "## RUN Phase 1"
   ]
  },
  {
   "cell_type": "markdown",
   "metadata": {
    "deletable": true,
    "editable": true
   },
   "source": [
    "* For each original transcript file, saves new file with columns for:\n",
    "    * \"Clean\" text\n",
    "    * Tokenized words\n",
    "    * Tokenized lemmatized-words\n",
    "    * NLTK default POS-tagging on tokenized words\n",
    "    * NLTK default POS-tagging on lemmatized words\n",
    "    * Stanford POS-tagging on tokenized words\n",
    "    * Stanford POS-tagging on lemmatized-words\n",
    "* Also saves a single datasheet with all tokenized lemmatized utterances from all transcripts as individual rows\n",
    "    * called `align_concatenated_dataframe.txt`\n",
    "    * to be used in building semantic space for Phase 2"
   ]
  },
  {
   "cell_type": "code",
   "execution_count": 29,
   "metadata": {
    "collapsed": false,
    "deletable": true,
    "editable": true
   },
   "outputs": [],
   "source": [
    "def PHASE1RUN(input_files, \n",
    "              output_file_directory,\n",
    "              training_dictionary,\n",
    "              minwords=2,\n",
    "              use_filler_list=None,\n",
    "              use_both=False,\n",
    "              add_stanford_tags=False,\n",
    "              stanford_pos_path=None,\n",
    "              input_as_directory=True,\n",
    "              save_concatenated_dataframe=True):   \n",
    "\n",
    "    \"\"\"\n",
    "    Given individual .txt files of conversations, \n",
    "    return a completely prepared dataframe of transcribed \n",
    "    conversations for later ALIGN analysis, including: text \n",
    "    cleaning, merging adjacent turns, spell-checking, \n",
    "    tokenization, lemmatization, and part-of-speech tagging. \n",
    "    The output serve as the input for later ALIGN\n",
    "    analysis.\n",
    "    \n",
    "    By default, set a minimum number of words in a turn to\n",
    "    3. If desired, this may be chaged by changing the\n",
    "    `minwords` file.\n",
    "    \n",
    "    By default, return only the NLTK default \n",
    "    POS tagger values. Optionally, also return Stanford POS \n",
    "    tagger values with `add_stanford_tags=True`.\n",
    "    \n",
    "    If Stanford POS tagging is desired, specify the\n",
    "    location of the Stanford POS tagger with the \n",
    "    `stanford_pos_path` argument.\n",
    "    \n",
    "    By default, accept `input_files` as a directory\n",
    "    that includes `.txt` files of each individual \n",
    "    conversation. If desired, provide individual files\n",
    "    as a list of literal paths to the `input_files`\n",
    "    argument and set `input_as_directory=False`.\n",
    "    \n",
    "    By default, produce a single concatenated dataframe\n",
    "    of all processed conversations in the output directory. \n",
    "    If desired, suppress concatenated dataframe with \n",
    "    `save_concatenated_dataframe=False`.\n",
    "    \"\"\"\n",
    "    \n",
    "    # create an internal function to train the model\n",
    "    def train(features): \n",
    "        model = defaultdict(lambda: 1)\n",
    "        for f in features:\n",
    "            model[f] += 1\n",
    "        return model\n",
    "        \n",
    "    # train our spell-checking model\n",
    "    nwords = train(re.findall('[a-z]+',(file(training_dictionary).read().lower())))\n",
    "    \n",
    "    # grab the appropriate files\n",
    "    if input_as_directory==False:\n",
    "        file_list = input_files\n",
    "    else: \n",
    "        file_list = glob.glob(input_files+\"*.txt\")\n",
    "    \n",
    "    # cycle through all files \n",
    "    main = pd.DataFrame()\n",
    "    for fileName in file_list:  \n",
    "        \n",
    "        # let us know which file we're processing\n",
    "        dataframe = pd.read_csv(fileName, sep='\\t',encoding='utf-8')\n",
    "        print \"Processing: \"+fileName\n",
    "\n",
    "        # clean up, merge, spellcheck, tokenize, lemmatize, and POS-tag\n",
    "        dataframe = InitialCleanup(dataframe,\n",
    "                                  minwords=minwords,\n",
    "                                  use_filler_list=use_filler_list,\n",
    "                                  use_both=use_both)\n",
    "        dataframe = AdjacentMerge(dataframe)\n",
    "        \n",
    "        # tokenize and lemmatize \n",
    "        dataframe['token'] = dataframe['content'].apply(Tokenize,\n",
    "                                     args=(nwords,))\n",
    "        dataframe['lemma'] = dataframe['token'].apply(Lemmatize)\n",
    "\n",
    "        # apply part-of-speech tagging\n",
    "        dataframe = ApplyPOSTagging(dataframe,  \n",
    "                                    filename = os.path.basename(fileName),\n",
    "                                    add_stanford_tags=add_stanford_tags,\n",
    "                                    stanford_pos_path=stanford_pos_path\n",
    "                                    )\n",
    "        \n",
    "        # export the conversation's dataframe as a CSV\n",
    "        dataframe.to_csv(output_file_directory + os.path.basename(fileName), \n",
    "                         encoding='utf-8',index=False,sep='\\t')\n",
    "        main = main.append(dataframe)\n",
    "\n",
    "    # save the concatenated dataframe\n",
    "    if save_concatenated_dataframe != False:\n",
    "        main.to_csv(output_file_directory + '../' + \"align_concatenated_dataframe.txt\",\n",
    "                    encoding='utf-8',index=False, sep='\\t')\n",
    "    \n",
    "    # return the dataframe\n",
    "    return main"
   ]
  },
  {
   "cell_type": "markdown",
   "metadata": {
    "deletable": true,
    "editable": true
   },
   "source": [
    "**To Nick**: Line 58 shouldn't need `glob.glob`, since that's a search function. Line 58 should just read in literal paths to specific files if the user isn't inputting a directory. If that's not working as intended for you, please let me know! I'll do some more debugging.\n",
    "\n",
    "**To Alex**: Yeah, doesn't work on my end without `glob.glob`. When I try to feed just a single file I get an error. "
   ]
  },
  {
   "cell_type": "markdown",
   "metadata": {
    "deletable": true,
    "editable": true
   },
   "source": [
    "# Phase 2: Generate alignment scores"
   ]
  },
  {
   "cell_type": "markdown",
   "metadata": {
    "deletable": true,
    "editable": true
   },
   "source": [
    "* [**Create helper functions**](#Create-helper-functions) for processing turn- and conversation-level data.\n",
    "* **[Build semantic space](#Build-semantic-space)** from the `forSemantic.txt` generated in Phase 1 and return a `word2vec` semantic space and vocabulary list."
   ]
  },
  {
   "cell_type": "markdown",
   "metadata": {
    "deletable": true,
    "editable": true
   },
   "source": [
    "[To top.](#ALIGN)"
   ]
  },
  {
   "cell_type": "markdown",
   "metadata": {
    "collapsed": true,
    "deletable": true,
    "editable": true
   },
   "source": [
    "### Create helper functions"
   ]
  },
  {
   "cell_type": "code",
   "execution_count": 30,
   "metadata": {
    "collapsed": true,
    "deletable": true,
    "editable": true
   },
   "outputs": [],
   "source": [
    "def ngram_pos(sequence1,sequence2,ngramsize=2,\n",
    "                   ignore_duplicates=True):\n",
    "    \"\"\"\n",
    "    Remove mimicked lexical sequences from two interlocutors'\n",
    "    sequences and return a dictionary of counts of ngrams\n",
    "    of the desired size for each sequence.\n",
    "    \n",
    "    By default, consider bigrams. If desired, this may be \n",
    "    changed by setting `ngramsize` to the appropriate \n",
    "    value.    \n",
    "    \n",
    "    By default, ignore duplicate lexical n-grams when\n",
    "    processing these sequences. If desired, this may\n",
    "    be changed with `ignore_duplicates=False`.\n",
    "    \"\"\"     \n",
    "        \n",
    "    # remove duplicates and recreate sequences\n",
    "    sequence1 = set(ngrams(sequence1,ngramsize))\n",
    "    sequence2 = set(ngrams(sequence2,ngramsize))\n",
    "\n",
    "    # if desired, remove duplicates from sequences\n",
    "    if ignore_duplicates==True:\n",
    "        new_sequence1 = [tuple([''.join(pair[1]) for pair in tup]) for tup in list(sequence1 - sequence2)]\n",
    "        new_sequence2 = [tuple([''.join(pair[1]) for pair in tup]) for tup in list(sequence2 - sequence1)]\n",
    "    else:\n",
    "        new_sequence1 = [tuple([''.join(pair[1]) for pair in tup]) for tup in sequence1]\n",
    "        new_sequence2 = [tuple([''.join(pair[1]) for pair in tup]) for tup in sequence2]\n",
    "        \n",
    "    # return counters\n",
    "    return Counter(new_sequence1), Counter(new_sequence2)"
   ]
  },
  {
   "cell_type": "code",
   "execution_count": 31,
   "metadata": {
    "collapsed": true,
    "deletable": true,
    "editable": true
   },
   "outputs": [],
   "source": [
    "def ngram_lexical(sequence1,sequence2,ngramsize=2):\n",
    "    \"\"\"\n",
    "    Create ngrams of the desired size for each of two\n",
    "    interlocutors' sequences and return a dictionary \n",
    "    of counts of ngrams for each sequence.\n",
    "    \n",
    "    By default, consider bigrams. If desired, this may be \n",
    "    changed by setting `ngramsize` to the appropriate \n",
    "    value.  \n",
    "    \"\"\"   \n",
    "    \n",
    "    # generate ngrams\n",
    "    sequence1 = list(ngrams(sequence1,ngramsize))\n",
    "    sequence2 = list(ngrams(sequence2,ngramsize)) \n",
    "\n",
    "    # join for counters\n",
    "    new_sequence1 = [' '.join(pair) for pair in sequence1]\n",
    "    new_sequence2 = [' '.join(pair) for pair in sequence2]\n",
    "    \n",
    "    # return counters\n",
    "    return Counter(new_sequence1), Counter(new_sequence2)"
   ]
  },
  {
   "cell_type": "code",
   "execution_count": 32,
   "metadata": {
    "collapsed": true,
    "deletable": true,
    "editable": true
   },
   "outputs": [],
   "source": [
    "def get_cosine(vec1, vec2): \n",
    "    \"\"\"\n",
    "    Derive cosine similarity metric, standard measure.\n",
    "    Adapted from <https://stackoverflow.com/a/33129724>.\n",
    "    \"\"\"     \n",
    "    \n",
    "    intersection = set(vec1.keys()) & set(vec2.keys())\n",
    "    numerator = sum([vec1[x] * vec2[x] for x in intersection])\n",
    "    sum1 = sum([vec1[x]**2 for x in vec1.keys()])\n",
    "    sum2 = sum([vec2[x]**2 for x in vec2.keys()])\n",
    "    denominator = math.sqrt(sum1) * math.sqrt(sum2)\n",
    "    if not denominator:\n",
    "        return 0.0\n",
    "    else:\n",
    "        return float(numerator) / denominator    "
   ]
  },
  {
   "cell_type": "code",
   "execution_count": 33,
   "metadata": {
    "collapsed": true,
    "deletable": true,
    "editable": true
   },
   "outputs": [],
   "source": [
    "def build_composite_semantic_vector(lemma_seq,vocablist,highDimModel):\n",
    "    \"\"\"\n",
    "    Function for producing vocablist and model is called in the main loop\n",
    "    \"\"\"\n",
    "    \n",
    "    ## filter out words in corpus that do not appear in vocablist (either too rare or too frequent)\n",
    "    filter_lemma_seq = [word for word in lemma_seq if word in vocablist]    \n",
    "    ## build composite vector\n",
    "    getComposite = [0] * len(highDimModel[vocablist[1]])        \n",
    "    for w1 in filter_lemma_seq:\n",
    "        if w1 in highDimModel.vocab:\n",
    "            semvector = highDimModel[w1]\n",
    "            getComposite = getComposite + semvector\n",
    "    return getComposite"
   ]
  },
  {
   "cell_type": "markdown",
   "metadata": {
    "deletable": true,
    "editable": true
   },
   "source": [
    "### Build semantic space"
   ]
  },
  {
   "cell_type": "code",
   "execution_count": 34,
   "metadata": {
    "collapsed": true,
    "deletable": true,
    "editable": true
   },
   "outputs": [],
   "source": [
    "def BuildSemanticModel(semantic_model_input_file,   \n",
    "                        pretrained_input_file,\n",
    "                        use_pretrained_vectors=False,                     \n",
    "                        high_sd_cutoff=3,\n",
    "                        low_n_cutoff=1):\n",
    "    \n",
    "    \"\"\"\n",
    "    Given an input file produced by the ALIGN Phase 1 functions, \n",
    "    build a semantic model from all transcripts in all conversations\n",
    "    in target corpus after removing high- and low-frequency words.\n",
    "    High-frequency words are determined by a user-defined number of\n",
    "    SDs over the mean (by default, `high_sd_cutoff=3`). Low-frequency\n",
    "    words must appear over a specified number of raw occurrences \n",
    "    (by default, `low_n_cutoff=1`).\n",
    "    \n",
    "    Frequency cutoffs can be removed by `high_sd_cutoff=None` and/or\n",
    "    `low_n_cutoff=0`.\n",
    "    \"\"\"\n",
    "    \n",
    "    # build vocabulary list from transcripts\n",
    "    data1 = pd.read_csv(semantic_model_input_file, sep='\\t',encoding='utf-8')\n",
    "        \n",
    "    # get frequency count of all included words        \n",
    "    all_sentences = [re.sub('[^\\w\\s]+','',str(row)).split(' ') for row in list(data1['lemma'])]\n",
    "    all_words = list([a for b in all_sentences for a in b])  \n",
    "    frequency = defaultdict(int)\n",
    "    for word in all_words:\n",
    "        frequency[word] += 1\n",
    "\n",
    "    # remove words that only occur more frequently than our cutoff (defined in occurrences)\n",
    "    frequency = {word: freq for word, freq in frequency.iteritems() if freq > low_n_cutoff}\n",
    "    \n",
    "    # if desired, remove high-frequency words (over user-defined SDs above mean) \n",
    "    if high_sd_cutoff == None:\n",
    "        contentWords = [word for word in frequency.keys()] \n",
    "    else:\n",
    "        getOut = np.mean(frequency.values())+(np.std(frequency.values())*(high_sd_cutoff))\n",
    "        contentWords = {word: freq for word, freq in frequency.iteritems() if freq < getOut}.keys()\n",
    "    \n",
    "    # decide whether to build semantic model from scratch or load in pretrained vectors\n",
    "    if use_pretrained_vectors == False:\n",
    "        keepSentences = [[word for word in row if word in contentWords] for row in all_sentences]\n",
    "        semantic_model = word2vec.Word2Vec(all_sentences, min_count=low_n_cutoff)\n",
    "    else:\n",
    "        if pretrained_input_file == None:\n",
    "            raise ValueError('Error! Specify path to pretrained vector file using the `pretrained_input_file` argument.')\n",
    "        else:\n",
    "            semantic_model = gensim.models.KeyedVectors.load_word2vec_format(pretrained_input_file, binary=True)    \n",
    "        \n",
    "    # return all the content words and the trained word vectors\n",
    "    return contentWords, semantic_model.wv"
   ]
  },
  {
   "cell_type": "markdown",
   "metadata": {
    "deletable": true,
    "editable": true
   },
   "source": [
    "### Calculate lexical and POS alignment scores for each n-gram length across two comparison vectors"
   ]
  },
  {
   "cell_type": "code",
   "execution_count": 35,
   "metadata": {
    "collapsed": true,
    "deletable": true,
    "editable": true
   },
   "outputs": [],
   "source": [
    "def LexicalPOSAlignment(tok1,lem1,penn_tok1,penn_lem1,\n",
    "                             tok2,lem2,penn_tok2,penn_lem2,\n",
    "                             stan_tok1=None,stan_lem1=None,\n",
    "                             stan_tok2=None,stan_lem2=None,\n",
    "                             maxngram=2,\n",
    "                             ignore_duplicates=True,\n",
    "                             add_stanford_tags=False):\n",
    "    \n",
    "    \"\"\"\n",
    "    Derive lexical and part-of-speech alignment scores\n",
    "    between interlocutors (suffix `1` and `2` in arguments\n",
    "    passed to function). \n",
    "    \n",
    "    By default, return scores based only on Penn POS taggers. \n",
    "    If desired, also return scores using Stanford tagger with \n",
    "    `add_stanford_tags=True` and by providing appropriate \n",
    "    values for `stan_tok1`, `stan_lem1`, `stan_tok2`, and \n",
    "    `stan_lem2`.\n",
    "    \n",
    "    By default, consider only bigram when calculating\n",
    "    similarity. If desired, this window may be expanded \n",
    "    by changing the `maxngram` argument value.\n",
    "    \n",
    "    By default, remove exact duplicates when calculating\n",
    "    similarity scores (i.e., does not consider perfectly\n",
    "    mimicked lexical items between speakers). If desired, \n",
    "    duplicates may be included when calculating scores by \n",
    "    passing `ignore_duplicates=False`.\n",
    "    \"\"\"\n",
    "\n",
    "    # create empty dictionaries for syntactic similarity\n",
    "    syntax_penn_tok = {}\n",
    "    syntax_penn_lem = {}\n",
    "    \n",
    "    # if desired, generate Stanford-based scores\n",
    "    if add_stanford_tags == True:\n",
    "        syntax_stan_tok = {}\n",
    "        syntax_stan_lem = {}\n",
    "    \n",
    "    # create empty dictionaries for lexical similarity\n",
    "    lexical_tok = {}\n",
    "    lexical_lem = {}\n",
    "    \n",
    "    # cycle through all desired ngram lengths\n",
    "    for ngram in range(2,maxngram+1):\n",
    "                \n",
    "        # calculate similarity for lexical ngrams (tokens and lemmas)\n",
    "        [vectorT1, vectorT2] = ngram_lexical(tok1,tok2,ngramsize=ngram)\n",
    "        [vectorL1, vectorL2] = ngram_lexical(lem1,lem2,ngramsize=ngram)        \n",
    "        lexical_tok['lexical_tok{0}'.format(ngram)] = get_cosine(vectorT1,vectorT2)\n",
    "        lexical_lem['lexical_lem{0}'.format(ngram)] = get_cosine(vectorL1, vectorL2)\n",
    "        \n",
    "        # calculate similarity for Penn POS ngrams (tokens)\n",
    "        [vector_penn_tok1, vector_penn_tok2] = ngram_pos(penn_tok1,penn_tok2,\n",
    "                                                ngramsize=ngram,\n",
    "                                                ignore_duplicates=ignore_duplicates) \n",
    "        syntax_penn_tok['syntax_penn_tok{0}'.format(ngram)] = get_cosine(vector_penn_tok1, \n",
    "                                                                                            vector_penn_tok2)\n",
    "        # calculate similarity for Penn POS ngrams (lemmas)\n",
    "        [vector_penn_lem1, vector_penn_lem2] = ngram_pos(penn_lem1,penn_lem2,\n",
    "                                                              ngramsize=ngram,\n",
    "                                                              ignore_duplicates=ignore_duplicates) \n",
    "        syntax_penn_lem['syntax_penn_lem{0}'.format(ngram)] = get_cosine(vector_penn_lem1, \n",
    "                                                                                            vector_penn_lem2) \n",
    "\n",
    "        # if desired, also calculate using Stanford POS\n",
    "        if add_stanford_tags == True:         \n",
    "          \n",
    "            # calculate similarity for Stanford POS ngrams (tokens)\n",
    "            [vector_stan_tok1, vector_stan_tok2] = ngram_pos(stan_tok1,stan_tok2,\n",
    "                                                                  ngramsize=ngram,\n",
    "                                                                  ignore_duplicates=ignore_duplicates) \n",
    "            syntax_stan_tok['syntax_stan_tok{0}'.format(ngram)] = get_cosine(vector_stan_tok1,\n",
    "                                                                                                vector_stan_tok2)\n",
    "                        \n",
    "            # calculate similarity for Stanford POS ngrams (lemmas)\n",
    "            [vector_stan_lem1, vector_stan_lem2] = ngram_pos(stan_lem1,stan_lem2,\n",
    "                                                                  ngramsize=ngram,\n",
    "                                                                  ignore_duplicates=ignore_duplicates) \n",
    "            syntax_stan_lem['syntax_stan_lem{0}'.format(ngram)] = get_cosine(vector_stan_lem1,\n",
    "                                                                                                vector_stan_lem2)\n",
    "        \n",
    "    # return requested information\n",
    "    if add_stanford_tags == True:\n",
    "        dictionaries_list = [syntax_penn_tok, syntax_penn_lem,\n",
    "                             syntax_stan_tok, syntax_stan_lem, \n",
    "                             lexical_tok, lexical_lem]      \n",
    "    else:\n",
    "        dictionaries_list = [syntax_penn_tok, syntax_penn_lem,\n",
    "                             lexical_tok, lexical_lem]      \n",
    "            \n",
    "    return dictionaries_list"
   ]
  },
  {
   "cell_type": "markdown",
   "metadata": {
    "deletable": true,
    "editable": true
   },
   "source": [
    "## Generate turn-level analysis of alignment scores"
   ]
  },
  {
   "cell_type": "code",
   "execution_count": 36,
   "metadata": {
    "collapsed": true,
    "deletable": true,
    "editable": true
   },
   "outputs": [],
   "source": [
    "def conceptualAlignment(lem1, lem2, vocablist, highDimModel):\n",
    "    \n",
    "    \"\"\"\n",
    "    Calculate conceptual alignment scores from list of lemmas\n",
    "    from between two interocutors (suffix `1` and `2` in arguments\n",
    "    passed to function) using `word2vec`.\n",
    "    \"\"\"\n",
    "\n",
    "    # aggregate composite high-dimensional vectors of all words in utterance\n",
    "    W2Vec1 = build_composite_semantic_vector(lem1,vocablist,highDimModel)\n",
    "    W2Vec2 = build_composite_semantic_vector(lem2,vocablist,highDimModel)\n",
    "\n",
    "    # return cosine distance alignment score\n",
    "    return 1 - spatial.distance.cosine(W2Vec1, W2Vec2) "
   ]
  },
  {
   "cell_type": "code",
   "execution_count": 37,
   "metadata": {
    "collapsed": true,
    "deletable": true,
    "editable": true
   },
   "outputs": [],
   "source": [
    "def returnMultilevelAlignment(cond_info,\n",
    "                                   partnerA,tok1,lem1,penn_tok1,penn_lem1,\n",
    "                                   partnerB,tok2,lem2,penn_tok2,penn_lem2,\n",
    "                                   vocablist, highDimModel, \n",
    "                                   stan_tok1=None,stan_lem1=None,\n",
    "                                   stan_tok2=None,stan_lem2=None,\n",
    "                                   add_stanford_tags=False,\n",
    "                                   maxngram=2, \n",
    "                                   ignore_duplicates=True):\n",
    "\n",
    "    \"\"\"\n",
    "    Calculate lexical, syntactic, and conceptual alignment\n",
    "    between a pair of turns by individual interlocutors \n",
    "    (suffix `1` and `2` in arguments passed to function), \n",
    "    including leading/following comparison directionality.\n",
    "    \n",
    "    By default, return scores based only on Penn POS taggers. \n",
    "    If desired, also return scores using Stanford tagger with \n",
    "    `add_stanford_tags=True` and by providing appropriate \n",
    "    values for `stan_tok1`, `stan_lem1`, `stan_tok2`, and \n",
    "    `stan_lem2`.\n",
    "    \n",
    "    By default, consider only bigrams when calculating\n",
    "    similarity. If desired, this window may be expanded \n",
    "    by changing the `maxngram` argument value.\n",
    "    \n",
    "    By default, remove exact duplicates when calculating\n",
    "    similarity scores (i.e., does not consider perfectly\n",
    "    mimicked lexical items between speakers). If desired, \n",
    "    duplicates may be included when calculating scores by \n",
    "    passing `ignore_duplicates=False`.\n",
    "    \"\"\"\n",
    "    \n",
    "    # create empty dictionaries \n",
    "    partner_direction = {}\n",
    "    condition_info = {}\n",
    "    cosine_semanticL = {}\n",
    "    \n",
    "    # calculate lexical and syntactic alignment\n",
    "    dictionaries_list = LexicalPOSAlignment(tok1=tok1,lem1=lem1,\n",
    "                                                 penn_tok1=penn_tok1,penn_lem1=penn_lem1,\n",
    "                                                 tok2=tok2,lem2=lem2,\n",
    "                                                 penn_tok2=penn_tok2,penn_lem2=penn_lem2,\n",
    "                                                 stan_tok1=stan_tok1,stan_lem1=stan_lem1,\n",
    "                                                 stan_tok2=stan_tok2,stan_lem2=stan_lem2,\n",
    "                                                 maxngram=maxngram,\n",
    "                                                 ignore_duplicates=ignore_duplicates,\n",
    "                                                 add_stanford_tags=add_stanford_tags)\n",
    "    \n",
    "    # calculate conceptual alignment\n",
    "    cosine_semanticL['cosine_semanticL'] = conceptualAlignment(lem1,lem2,vocablist,highDimModel)\n",
    "    dictionaries_list.append(cosine_semanticL.copy())\n",
    "    \n",
    "    # determine directionality of leading/following comparison\n",
    "#     partner_direction['partner_direction'] = str(int(partnerA)) + \">\" + str(int(partnerB))\n",
    "    partner_direction['partner_direction'] = str(partnerA) + \">\" + str(partnerB)\n",
    "    dictionaries_list.append(partner_direction.copy())\n",
    "\n",
    "    # add condition information\n",
    "    condition_info['condition_info'] = cond_info    \n",
    "    dictionaries_list.append(condition_info.copy())\n",
    "    \n",
    "    # return alignment scores\n",
    "    return dictionaries_list"
   ]
  },
  {
   "cell_type": "code",
   "execution_count": 38,
   "metadata": {
    "collapsed": true,
    "deletable": true,
    "editable": true
   },
   "outputs": [],
   "source": [
    "def TurnByTurnAnalysis(dataframe,\n",
    "                            vocablist,\n",
    "                            highDimModel, \n",
    "                            delay=1,\n",
    "                            maxngram=2,\n",
    "                            add_stanford_tags=False,\n",
    "                            ignore_duplicates=True):    \n",
    "\n",
    "    \"\"\"\n",
    "    Calculate lexical, syntactic, and conceptual alignment\n",
    "    between interlocutors over an entire conversation.\n",
    "    Automatically detect individual speakers by unique\n",
    "    speaker codes.\n",
    "    \n",
    "    By default, compare only adjacent turns. If desired,\n",
    "    the comparison distance may be changed by increasing\n",
    "    the `delay` argument.\n",
    "    \n",
    "    By default, include maximum n-gram comparison of 2. If\n",
    "    desired, this may be changed by passing the appropriate\n",
    "    value to the the `maxngram` argument.\n",
    "    \n",
    "    By default, return scores based only on Penn POS taggers. \n",
    "    If desired, also return scores using Stanford tagger with \n",
    "    `add_stanford_tags=True`.\n",
    "    \n",
    "    By default, remove exact duplicates when calculating POS\n",
    "    similarity scores (i.e., does not consider perfectly\n",
    "    mimicked lexical items between speakers). If desired, \n",
    "    duplicates may be included when calculating scores by \n",
    "    passing `ignore_duplicates=False`.\n",
    "    \"\"\"\n",
    "    \n",
    "    # if we don't want the Stanford tagger data, set defaults\n",
    "    if add_stanford_tags == False:\n",
    "        stan_tok1=None\n",
    "        stan_lem1=None\n",
    "        stan_tok2=None\n",
    "        stan_lem2=None\n",
    "    \n",
    "    # prepare the data to the appropriate type    \n",
    "    dataframe['token'] = dataframe['token'].apply(lambda x: re.sub('[^\\w\\s]+','',x).split(' '))    \n",
    "    dataframe['lemma'] = dataframe['lemma'].apply(lambda x: re.sub('[^\\w\\s]+','',x).split(' '))\n",
    "    dataframe['tagged_token'] = dataframe['tagged_token'].apply(lambda x: re.sub('[^\\w\\s]+','',x).split(' '))\n",
    "    dataframe['tagged_token'] = dataframe['tagged_token'].apply(lambda x: zip(x[0::2],x[1::2])) # thanks to https://stackoverflow.com/a/4647086\n",
    "    dataframe['tagged_lemma'] = dataframe['tagged_lemma'].apply(lambda x: re.sub('[^\\w\\s]+','',x).split(' '))\n",
    "    dataframe['tagged_lemma'] = dataframe['tagged_lemma'].apply(lambda x: zip(x[0::2],x[1::2])) # thanks to https://stackoverflow.com/a/4647086\n",
    "        \n",
    "    # if desired, prepare the Stanford tagger data\n",
    "    if add_stanford_tags == True:           \n",
    "        dataframe['tagged_stan_token'] = dataframe['tagged_stan_token'].apply(lambda x: re.sub('[^\\w\\s]+','',x).split(' '))\n",
    "        dataframe['tagged_stan_token'] = dataframe['tagged_stan_token'].apply(lambda x: zip(x[0::2],x[1::2])) # thanks to https://stackoverflow.com/a/4647086\n",
    "        dataframe['tagged_stan_lemma'] = dataframe['tagged_stan_lemma'].apply(lambda x: re.sub('[^\\w\\s]+','',x).split(' '))\n",
    "        dataframe['tagged_stan_lemma'] = dataframe['tagged_stan_lemma'].apply(lambda x: zip(x[0::2],x[1::2])) # thanks to https://stackoverflow.com/a/4647086\n",
    "        \n",
    "    # create lagged version of the dataframe\n",
    "    df_original = dataframe.drop(dataframe.tail(delay).index,inplace=False)\n",
    "    df_lagged = dataframe.shift(-delay).drop(dataframe.tail(delay).index,inplace=False)\n",
    "        \n",
    "    # cycle through each pair of turns\n",
    "    aggregated_df = pd.DataFrame()\n",
    "    for i in range(0,df_original.shape[0]):\n",
    "\n",
    "        # identify the condition for this dataframe\n",
    "        cond_info = dataframe['file'].unique()\n",
    "        if len(cond_info)==1: \n",
    "            cond_info = str(cond_info[0])\n",
    "        \n",
    "        # break and flag error if we have more than 1 condition per dataframe\n",
    "        else: \n",
    "            raise ValueError('Error! Dataframe contains multiple conditions. Split dataframe into multiple dataframes, one per condition: '+cond_info)\n",
    "\n",
    "        # grab all of first participant's data\n",
    "        first_row = df_original.iloc[i]\n",
    "        first_partner = first_row['participant']\n",
    "        tok1=first_row['token']\n",
    "        lem1=first_row['lemma']\n",
    "        penn_tok1=first_row['tagged_token']\n",
    "        penn_lem1=first_row['tagged_lemma']\n",
    "\n",
    "        # grab all of lagged participant's data\n",
    "        lagged_row = df_lagged.iloc[i]\n",
    "        lagged_partner = lagged_row['participant']\n",
    "        tok2=lagged_row['token']\n",
    "        lem2=lagged_row['lemma']\n",
    "        penn_tok2=lagged_row['tagged_token']\n",
    "        penn_lem2=lagged_row['tagged_lemma']\n",
    "                \n",
    "        # if desired, grab the Stanford tagger data for both participants\n",
    "        if add_stanford_tags == True:         \n",
    "            stan_tok1=first_row['tagged_stan_token']\n",
    "            stan_lem1=first_row['tagged_stan_lemma']\n",
    "            stan_tok2=lagged_row['tagged_stan_token']\n",
    "            stan_lem2=lagged_row['tagged_stan_lemma']\n",
    "   \n",
    "        # process multilevel alignment\n",
    "        dictionaries_list=returnMultilevelAlignment(cond_info=cond_info,\n",
    "                                                         partnerA=first_partner,\n",
    "                                                         tok1=tok1,lem1=lem1,\n",
    "                                                         penn_tok1=penn_tok1,penn_lem1=penn_lem1,\n",
    "                                                         partnerB=lagged_partner,\n",
    "                                                         tok2=tok2,lem2=lem2,\n",
    "                                                         penn_tok2=penn_tok2,penn_lem2=penn_lem2,\n",
    "                                                         vocablist=vocablist,\n",
    "                                                         highDimModel=highDimModel,\n",
    "                                                         stan_tok1=stan_tok1,stan_lem1=stan_lem1,\n",
    "                                                         stan_tok2=stan_tok2,stan_lem2=stan_lem2,\n",
    "                                                         maxngram = maxngram,\n",
    "                                                         ignore_duplicates = ignore_duplicates,\n",
    "                                                         add_stanford_tags = add_stanford_tags) \n",
    "                \n",
    "        # sort columns so they are in order, append data to existing structures   \n",
    "        next_df_line = pd.DataFrame.from_dict(OrderedDict(k for num, i in enumerate(d for d in dictionaries_list) for k in sorted(i.items())),\n",
    "                               orient='index').transpose()\n",
    "        aggregated_df = aggregated_df.append(next_df_line)\n",
    "        \n",
    "    # reformat turn information and add index\n",
    "    aggregated_df = aggregated_df.reset_index(drop=True).reset_index().rename(columns={\"index\":\"time\"})\n",
    "\n",
    "    # give us our finished dataframe\n",
    "    return aggregated_df"
   ]
  },
  {
   "cell_type": "markdown",
   "metadata": {
    "deletable": true,
    "editable": true
   },
   "source": [
    "Generate conversation-level analysis of alignment scores\n",
    "-----------------------------------------------------"
   ]
  },
  {
   "cell_type": "markdown",
   "metadata": {
    "deletable": true,
    "editable": true
   },
   "source": [
    "**To Alex** Had to add Lines 55-65 and 74-84 because of a problem that took me a long time to debug. But the surrogate analysis when running with stanford tags was throwing an error because the stanford tags were not in list format. But the issue is only with the stanford tags and not the penn tags. "
   ]
  },
  {
   "cell_type": "code",
   "execution_count": 39,
   "metadata": {
    "collapsed": false,
    "deletable": true,
    "editable": true
   },
   "outputs": [],
   "source": [
    "def ConvoByConvoAnalysis(dataframe,\n",
    "                          maxngram=2,\n",
    "                          ignore_duplicates=True,\n",
    "                          add_stanford_tags=False):\n",
    "\n",
    "    \"\"\"\n",
    "    Calculate analysis of multilevel similarity over\n",
    "    a conversation between two interlocutors from a \n",
    "    transcript dataframe prepared by Phase 1\n",
    "    of ALIGN. Automatically detect speakers by unique\n",
    "    speaker codes.\n",
    "    \n",
    "    By default, include maximum n-gram comparison of 2. If\n",
    "    desired, this may be changed by passing the appropriate\n",
    "    value to the the `maxngram` argument.\n",
    "    \n",
    "    By default, return scores based only on Penn POS taggers. \n",
    "    If desired, also return scores using Stanford tagger with \n",
    "    `add_stanford_tags=True`.\n",
    "    \n",
    "    By default, remove exact duplicates when calculating POS\n",
    "    similarity scores (i.e., does not consider perfectly\n",
    "    mimicked lexical items between speakers). If desired, \n",
    "    duplicates may be included when calculating scores by \n",
    "    passing `ignore_duplicates=False`.\n",
    "    \"\"\"\n",
    "\n",
    "    # identify the condition for this dataframe\n",
    "    cond_info = dataframe['file'].unique()\n",
    "    if len(cond_info)==1: \n",
    "        cond_info = str(cond_info[0])\n",
    "    \n",
    "    # break and flag error if we have more than 1 condition per dataframe\n",
    "    else: \n",
    "        raise ValueError('Error! Dataframe contains multiple conditions. Split dataframe into multiple dataframes, one per condition: '+cond_info)\n",
    "   \n",
    "    # if we don't want the Stanford info, set defaults \n",
    "    if add_stanford_tags == False:\n",
    "        stan_tok1 = None\n",
    "        stan_lem1 = None\n",
    "        stan_tok2 = None\n",
    "        stan_lem2 = None\n",
    "\n",
    "    # identify individual interlocutors\n",
    "    df_A = dataframe.loc[dataframe['participant'] == dataframe['participant'].unique()[0]]\n",
    "    df_B = dataframe.loc[dataframe['participant'] == dataframe['participant'].unique()[1]]\n",
    "   \n",
    "    # concatenate the token, lemma, and POS information for participant A\n",
    "    tok1 = [word for turn in df_A['token'] for word in turn]\n",
    "    lem1 = [word for turn in df_A['lemma'] for word in turn]\n",
    "    penn_tok1 = [POS for turn in df_A['tagged_token'] for POS in turn]    \n",
    "    penn_lem1 = [POS for turn in df_A['tagged_token'] for POS in turn] \n",
    "    if add_stanford_tags == True:        \n",
    "        \n",
    "        if type(df_A['tagged_stan_token'][0]) == list:\n",
    "            stan_tok1 = [POS for turn in df_A['tagged_stan_token'] for POS in turn] \n",
    "            stan_lem1 = [POS for turn in df_A['tagged_stan_lemma'] for POS in turn]\n",
    "            \n",
    "        elif type(df_A['tagged_stan_token'][0]) == unicode:\n",
    "            stan_tok1 = pd.Series(df_A['tagged_stan_token'].values).apply(lambda x: re.sub('[^\\w\\s]+','',x).split(' '))\n",
    "            stan_tok1 = stan_tok1.apply(lambda x: zip(x[0::2],x[1::2]))\n",
    "            stan_tok1 = [POS for turn in stan_tok1 for POS in turn] \n",
    "            stan_lem1 = pd.Series(df_A['tagged_stan_lemma'].values).apply(lambda x: re.sub('[^\\w\\s]+','',x).split(' '))\n",
    "            stan_lem1 = stan_lem1.apply(lambda x: zip(x[0::2],x[1::2]))\n",
    "            stan_lem1 = [POS for turn in stan_lem1 for POS in turn] \n",
    "                \n",
    "    # concatenate the token, lemma, and POS information for participant B\n",
    "    tok2 = [word for turn in df_B['token'] for word in turn]\n",
    "    lem2 = [word for turn in df_B['lemma'] for word in turn]\n",
    "    penn_tok2 = [POS for turn in df_B['tagged_token'] for POS in turn]    \n",
    "    penn_lem2 = [POS for turn in df_B['tagged_token'] for POS in turn] \n",
    "    if add_stanford_tags == True:\n",
    "        \n",
    "        if type(df_A['tagged_stan_token'][0]) == list:\n",
    "            stan_tok2 = [POS for turn in df_B['tagged_stan_token'] for POS in turn] \n",
    "            stan_lem2 = [POS for turn in df_B['tagged_stan_lemma'] for POS in turn]\n",
    "            \n",
    "        elif type(df_A['tagged_stan_token'][0]) == unicode:        \n",
    "            stan_tok2 = pd.Series(df_B['tagged_stan_token'].values).apply(lambda x: re.sub('[^\\w\\s]+','',x).split(' '))\n",
    "            stan_tok2 = stan_tok2.apply(lambda x: zip(x[0::2],x[1::2]))\n",
    "            stan_tok2 = [POS for turn in stan_tok2 for POS in turn] \n",
    "            stan_lem2 = pd.Series(df_B['tagged_stan_lemma'].values).apply(lambda x: re.sub('[^\\w\\s]+','',x).split(' '))\n",
    "            stan_lem2 = stan_lem2.apply(lambda x: zip(x[0::2],x[1::2]))\n",
    "            stan_lem2 = [POS for turn in stan_lem2 for POS in turn]         \n",
    "        \n",
    "    # process multilevel alignment\n",
    "    dictionaries_list = LexicalPOSAlignment(tok1=tok1,lem1=lem1,\n",
    "                                                 penn_tok1=penn_tok1,penn_lem1=penn_lem1,\n",
    "                                                 tok2=tok2,lem2=lem2,\n",
    "                                                 penn_tok2=penn_tok2,penn_lem2=penn_lem2,\n",
    "                                                 stan_tok1=stan_tok1,stan_lem1=stan_lem1,\n",
    "                                                 stan_tok2=stan_tok2,stan_lem2=stan_lem2,\n",
    "                                                 maxngram=maxngram,\n",
    "                                                 ignore_duplicates=ignore_duplicates,\n",
    "                                                 add_stanford_tags=add_stanford_tags)\n",
    "    \n",
    "    # append data to existing structures\n",
    "    dictionary_df = pd.DataFrame.from_dict(OrderedDict(k for num, i in enumerate(d for d in dictionaries_list) for k in sorted(i.items())),\n",
    "                       orient='index').transpose()    \n",
    "    dictionary_df['condition_info'] = cond_info\n",
    "            \n",
    "    # return the dataframe\n",
    "    return dictionary_df"
   ]
  },
  {
   "cell_type": "markdown",
   "metadata": {
    "deletable": true,
    "editable": true
   },
   "source": [
    "## RUN Phase 2: Actual Partners"
   ]
  },
  {
   "cell_type": "markdown",
   "metadata": {
    "deletable": true,
    "editable": true
   },
   "source": [
    "* For each prepped transcript file, runs turn-level and conversational-level alignment scores\n",
    "* Saves output into single datasheet to be used in statistical analysis"
   ]
  },
  {
   "cell_type": "code",
   "execution_count": 40,
   "metadata": {
    "collapsed": true,
    "deletable": true,
    "editable": true
   },
   "outputs": [],
   "source": [
    "def PHASE2RUN_REAL(input_files, \n",
    "                    output_file_directory,\n",
    "                    semantic_model_input_file,\n",
    "                    pretrained_input_file,\n",
    "                    high_sd_cutoff=3,\n",
    "                    low_n_cutoff=1,\n",
    "                    delay=1,\n",
    "                    maxngram=2,\n",
    "                    use_pretrained_vectors=False,\n",
    "                    ignore_duplicates=True,\n",
    "                    add_stanford_tags=False,\n",
    "                    input_as_directory=True):   \n",
    "    \n",
    "    \"\"\"\n",
    "    Given a directory of individual .txt files and the\n",
    "    vocab list that have been generated by the `PHASE1RUN` \n",
    "    preparation stage, return multi-level alignment \n",
    "    scores with turn-by-turn and conversation-level metrics.\n",
    "    \n",
    "    By default, create the semantic model with a \n",
    "    high-frequency cutoff of 3 SD over the mean. If \n",
    "    desired, this can be changed with the \n",
    "    `high_sd_cutoff` argument and can be removed with\n",
    "    `high_sd_cutoff=None`.\n",
    "    \n",
    "    By default, create the semantic model with a \n",
    "    low-frequency cutoff in which a word will be \n",
    "    removed if they occur 1 or fewer times. if\n",
    "    desired, this can be changed with the \n",
    "    `low_n_cutoff` argument and can be removed with\n",
    "    `low_n_cutoff=0`.\n",
    "    \n",
    "    By default, compare only adjacent turns. If desired,\n",
    "    the comparison distance may be changed by increasing\n",
    "    the `delay` argument.\n",
    "    \n",
    "    By default, include maximum n-gram comparison of 2. If\n",
    "    desired, this may be changed by passing the appropriate\n",
    "    value to the the `maxngram` argument.\n",
    "    \n",
    "    By default, return scores based only on Penn POS taggers. \n",
    "    If desired, also return scores using Stanford tagger with \n",
    "    `add_stanford_tags=True`.\n",
    "    \n",
    "    By default, remove exact duplicates when calculating POS\n",
    "    similarity scores (i.e., does not consider perfectly\n",
    "    mimicked lexical items between speakers). If desired, \n",
    "    duplicates may be included when calculating scores by \n",
    "    passing `ignore_duplicates=False`.\n",
    "    \n",
    "    By default, accept `input_files` as a directory\n",
    "    that includes `.txt` files of each individual \n",
    "    conversation. If desired, provide individual files\n",
    "    as a list of literal paths to the `input_files`\n",
    "    argument and set `input_as_directory=False`.\n",
    "    \"\"\"\n",
    "    \n",
    "    # grab the files in the list\n",
    "    if input_as_directory == False:\n",
    "        file_list = glob.glob(input_files)\n",
    "    else:\n",
    "        file_list = glob.glob(input_files+\"*.txt\")\n",
    "    \n",
    "    # build the semantic model to be used for all conversations\n",
    "    [vocablist, highDimModel] = BuildSemanticModel(semantic_model_input_file=semantic_model_input_file,\n",
    "                                                       pretrained_input_file=pretrained_input_file,\n",
    "                                                       use_pretrained_vectors=use_pretrained_vectors,\n",
    "                                                       high_sd_cutoff=high_sd_cutoff,\n",
    "                                                       low_n_cutoff=low_n_cutoff)  \n",
    "    \n",
    "    # create containers for alignment values\n",
    "    AlignmentT2T = pd.DataFrame()\n",
    "    AlignmentC2C = pd.DataFrame()\n",
    "        \n",
    "    # cycle through each prepared file\n",
    "    for fileName in file_list:   \n",
    "        \n",
    "        # process the file if it's got a valid conversation\n",
    "        dataframe=pd.read_csv(fileName, sep='\\t',encoding='utf-8')\n",
    "        if len(dataframe) > 0:\n",
    "            \n",
    "            # let us know which filename we're processing\n",
    "            print \"Processing: \"+fileName   \n",
    "\n",
    "            # calculate turn-by-turn alignment scores\n",
    "            xT2T=TurnByTurnAnalysis(dataframe=dataframe,\n",
    "                                         delay=delay,\n",
    "                                         maxngram=maxngram,\n",
    "                                         vocablist=vocablist,\n",
    "                                         highDimModel=highDimModel,\n",
    "                                         add_stanford_tags=add_stanford_tags,\n",
    "                                         ignore_duplicates=ignore_duplicates)   \n",
    "            AlignmentT2T=AlignmentT2T.append(xT2T)\n",
    "            \n",
    "            # calculate conversation-level alignment scores\n",
    "            xC2C = ConvoByConvoAnalysis(dataframe=dataframe,\n",
    "                                             maxngram = maxngram,\n",
    "                                             ignore_duplicates=ignore_duplicates,\n",
    "                                             add_stanford_tags = add_stanford_tags)\n",
    "            AlignmentC2C=AlignmentC2C.append(xC2C)\n",
    "            \n",
    "        # if it's invalid, let us know\n",
    "        else:\n",
    "            print \"Invalid file: \"+fileName   \n",
    "            \n",
    "    # update final dataframes\n",
    "    FINAL_TURN = AlignmentT2T.reset_index(drop=True)\n",
    "    FINAL_CONVO = AlignmentC2C.reset_index(drop=True)\n",
    "    \n",
    "    # export the final files\n",
    "    FINAL_TURN.to_csv(output_file_directory+\"AlignmentT2T.txt\",\n",
    "                      encoding='utf-8',index=False,sep='\\t')   \n",
    "    FINAL_CONVO.to_csv(output_file_directory+\"AlignmentC2C.txt\",\n",
    "                       encoding='utf-8',index=False,sep='\\t') \n",
    "\n",
    "    # display the info, too\n",
    "    return FINAL_TURN, FINAL_CONVO"
   ]
  },
  {
   "cell_type": "markdown",
   "metadata": {
    "collapsed": true,
    "deletable": true,
    "editable": true
   },
   "source": [
    "Generate surrogate pairings\n",
    "-------------------------\n",
    "* Collects all possible pairs of participants across the dyads in each condition and creates surrogate pairings by combining their conversational turns, preserving turn order. Output saved as new separate conversational transcripts. \n",
    "* Main Function:\n",
    "    * GenerateSurrogate "
   ]
  },
  {
   "cell_type": "markdown",
   "metadata": {
    "deletable": true,
    "editable": true
   },
   "source": [
    "**To Alex** There are several commented lines below that I was using for debugging. Will remove in final, FINAL version. This function/analysis gave me a lot of trouble. Oh, the joys of debugging. "
   ]
  },
  {
   "cell_type": "markdown",
   "metadata": {
    "deletable": true,
    "editable": true
   },
   "source": [
    "**To Alex** `surrogateY_turns` was never used, looks like it needs to go into Lines 111-112 "
   ]
  },
  {
   "cell_type": "markdown",
   "metadata": {
    "deletable": true,
    "editable": true
   },
   "source": [
    "**To Alex** There was an issue with how the turns were being sorted such that contributions from one partner were not being interleaved with the other partner. Instead of P1 > P2 > P1 > P2, it was often the case P1 > P2 > P2 > P1. The new code on Lines 107-113 and 122-129 correct the problem. "
   ]
  },
  {
   "cell_type": "markdown",
   "metadata": {
    "deletable": true,
    "editable": true
   },
   "source": [
    "**To Alex** Naming was incorrect. Fixed with Lines 136-137"
   ]
  },
  {
   "cell_type": "code",
   "execution_count": 41,
   "metadata": {
    "collapsed": false,
    "deletable": true,
    "editable": true
   },
   "outputs": [],
   "source": [
    "def GenerateSurrogate(original_conversation_list,\n",
    "                           surrogate_file_directory,\n",
    "                           all_surrogates=True,\n",
    "                           keep_original_turn_order=True,\n",
    "                           id_separator = '\\-',\n",
    "                           dyad_label='dyad',\n",
    "                           condition_label='cond'):\n",
    "    \n",
    "    \"\"\"\n",
    "    Create transcripts for surrogate pairs of \n",
    "    participants (i.e., participants who did not \n",
    "    genuinely interact in the experiment), which\n",
    "    will later be used to generate baseline levels \n",
    "    of alignment. Store surrogate files in a new\n",
    "    folder each time the surrogate generation is run.\n",
    "    \n",
    "    Returns a list of all surrogate files created.\n",
    "\n",
    "    By default, the separator between dyad ID and\n",
    "    condition ID is a hyphen ('\\-'). If desired,\n",
    "    this may be changed in the `id_separator` \n",
    "    argument.\n",
    "\n",
    "    By default, condition IDs will be identified as \n",
    "    any characters following `cond`. If desired,\n",
    "    this may be changed with the `condition_label`\n",
    "    argument.\n",
    "    \n",
    "    By default, dyad IDs will be identified as \n",
    "    any characters following `dyad`. If desired,\n",
    "    this may be changed with the `dyad_label`\n",
    "    argument.\n",
    "    \n",
    "    By default, generate surrogates from all possible \n",
    "    pairings. If desired, instead generate surrogates \n",
    "    only from a subset of all possible pairings\n",
    "    with `all_surrogates=False`.\n",
    "    \n",
    "    By default, create surrogates by retaining the \n",
    "    original ordering of each surrogate partner's \n",
    "    data. If desired, create surrogates by shuffling \n",
    "    all turns within each surrogate partner's data\n",
    "    with `keep_original_turn_order = False`.\n",
    "    \"\"\"\n",
    "        \n",
    "    # create a subfolder for the new set of surrogates\n",
    "    import time\n",
    "    new_surrogate_path = surrogate_file_directory + 'surrogate_run-' + str(time.time()) +'/'\n",
    "    if not os.path.exists(new_surrogate_path):\n",
    "        os.makedirs(new_surrogate_path)\n",
    "        \n",
    "    # grab condition types from each file name\n",
    "    file_info = [re.sub('\\.txt','',os.path.basename(file_name)) for file_name in original_conversation_list]\n",
    "    condition_ids = list(set([re.findall('[^'+id_separator+']*'+condition_label+'.*',metadata)[0] for metadata in file_info]))    \n",
    "    files_conditions = {}\n",
    "    for unique_condition in condition_ids:\n",
    "        next_condition_files = [add_file for add_file in original_conversation_list if unique_condition in add_file]\n",
    "        files_conditions[unique_condition] = next_condition_files\n",
    "        \n",
    "    # cycle through conditions\n",
    "    for condition in files_conditions.keys():\n",
    "#         if condition == \"cond2-0-3\": \n",
    "        if condition != \"testing\": # <<<< FOR DEBUGGING\n",
    "        \n",
    "            # default: grab all possible pairs of conversations of this condition\n",
    "            paired_surrogates = [pair for pair in combinations(files_conditions[condition],2)]\n",
    "\n",
    "            # otherwise, if desired, randomly pull from all pairs to get target surrogate sample\n",
    "            if all_surrogates == False:\n",
    "                import math\n",
    "                paired_surrogates = random.sample(paired_surrogates, \n",
    "                                                  int(math.ceil(len(files_conditions[condition])/2)))\n",
    "\n",
    "#             paired_surrogates = paired_surrogates[14:15] # <<<< FOR DEBUGGING\n",
    "                        \n",
    "            # cycle through surrogate pairings\n",
    "            for next_surrogate in paired_surrogates:\n",
    "\n",
    "                # read in the files\n",
    "                original_file1 = os.path.basename(next_surrogate[0])\n",
    "                original_file2 = os.path.basename(next_surrogate[1])\n",
    "                original_df1=pd.read_csv(next_surrogate[0], sep='\\t',encoding='utf-8')\n",
    "                original_df2=pd.read_csv(next_surrogate[1], sep='\\t',encoding='utf-8')\n",
    "\n",
    "                # get participants A and B from df1\n",
    "                participantA_1_code = min(original_df1['participant'].unique())\n",
    "                participantB_1_code = max(original_df1['participant'].unique())\n",
    "                participantA_1 = original_df1[original_df1['participant'] == participantA_1_code].reset_index().rename(columns={'file': 'original_file'})\n",
    "                participantB_1 = original_df1[original_df1['participant'] == participantB_1_code].reset_index().rename(columns={'file': 'original_file'})\n",
    "\n",
    "                # get participants A and B from df2\n",
    "                participantA_2_code = min(original_df2['participant'].unique())\n",
    "                participantB_2_code = max(original_df2['participant'].unique())\n",
    "                participantA_2 = original_df2[original_df2['participant'] == participantA_2_code].reset_index().rename(columns={'file': 'original_file'})\n",
    "                participantB_2 = original_df2[original_df2['participant'] == participantB_2_code].reset_index().rename(columns={'file': 'original_file'})\n",
    "\n",
    "                # identify truncation point for both surrogates (to have even number of turns)\n",
    "                surrogateX_turns=min([participantA_1.shape[0],\n",
    "                                      participantB_2.shape[0]])\n",
    "                surrogateY_turns=min([participantA_2.shape[0], \n",
    "                                      participantB_1.shape[0]])\n",
    "\n",
    "                # preserve original turn order for surrogate pairs\n",
    "                if keep_original_turn_order == True:                \n",
    "#                     surrogateX = participantA_1.truncate(after=surrogateX_turns-1,copy=False).append(\n",
    "#                                     participantB_2.truncate(after=surrogateX_turns-1,copy=False)).sort_index().reset_index(drop=True).rename(columns={'index': 'original_index'})\n",
    "                    surrogateX_A1 = participantA_1.truncate(after=surrogateX_turns-1,copy=False)\n",
    "                    surrogateX_B2 = participantB_2.truncate(after=surrogateX_turns-1,copy=False)\n",
    "                    surrogateX = pd.concat([surrogateX_A1,surrogateX_B2]).sort_index(kind=\"mergesort\").reset_index(drop=True).rename(columns={'index': 'original_index'})\n",
    "    \n",
    "                    surrogateY_A2 = participantA_2.truncate(after=surrogateY_turns-1,copy=False)\n",
    "                    surrogateY_B1 = participantB_1.truncate(after=surrogateY_turns-1,copy=False)\n",
    "                    surrogateY = pd.concat([surrogateY_A2,surrogateY_B1]).sort_index(kind=\"mergesort\").reset_index(drop=True).rename(columns={'index': 'original_index'})\n",
    "                     \n",
    "                # otherwise, if desired, just shuffle all turns within participants\n",
    "                else:\n",
    "\n",
    "                    # shuffle for first surrogate pairing\n",
    "#                     surrogateX_A1 = participantA_1.truncate(after=surrogateX_turns-1,copy=False).sample(frac=1).reset_index(drop=True)\n",
    "#                     surrogateX_B2 = participantB_2.truncate(after=surrogateX_turns-1,copy=False).sample(frac=1).reset_index(drop=True)                    \n",
    "#                     surrogateX = surrogateX_A1.append(surrogateX_B2).sort_index().reset_index(drop=True).rename(columns={'index': 'original_index'})\n",
    "                    surrogateX_A1 = participantA_1.truncate(after=surrogateX_turns-1,copy=False).sample(frac=1).reset_index(drop=True)\n",
    "                    surrogateX_B2 = participantB_2.truncate(after=surrogateX_turns-1,copy=False).sample(frac=1).reset_index(drop=True)\n",
    "                    surrogateX = pd.concat([surrogateX_A1,surrogateX_B2]).sort_index(kind=\"mergesort\").reset_index(drop=True).rename(columns={'index': 'original_index'})\n",
    "\n",
    "                    # and for second surrogate pairing\n",
    "                    surrogateY_A2 = participantA_2.truncate(after=surrogateY_turns-1,copy=False).sample(frac=1).reset_index(drop=True)\n",
    "                    surrogateY_B1 = participantB_1.truncate(after=surrogateY_turns-1,copy=False).sample(frac=1).reset_index(drop=True)\n",
    "                    surrogateY = pd.concat([surrogateY_A2,surrogateY_B1]).sort_index(kind=\"mergesort\").reset_index(drop=True).rename(columns={'index': 'original_index'})\n",
    "\n",
    "                # create filename for our surrogate file\n",
    "                original_dyad1 = re.findall(dyad_label+'[^'+id_separator+']*',original_file1)[0]\n",
    "                original_dyad2 = re.findall(dyad_label+'[^'+id_separator+']*',original_file2)[0]\n",
    "#                 surrogateX['file'] = condition + '-' + original_dyad1 + '-' + original_dyad2\n",
    "#                 surrogateY['file'] = condition + '-' + original_dyad1 + '-' + original_dyad2\n",
    "                surrogateX['file'] = original_dyad1 + '-' + original_dyad2 + '-' + condition\n",
    "                surrogateY['file'] = original_dyad2 + '-' + original_dyad1 + '-' + condition                \n",
    "                nameX='SurrogatePair-'+original_dyad1+'A'+'-'+original_dyad2+'B'+'-'+condition+'.txt'\n",
    "                nameY='SurrogatePair-'+original_dyad2+'A'+'-'+original_dyad1+'B'+'-'+condition+'.txt'\n",
    "\n",
    "#                 print surrogateX # <<<< FOR DEBUGGING\n",
    "    \n",
    "                # save to file\n",
    "                surrogateX.to_csv(new_surrogate_path + nameX, encoding='utf-8',index=False,sep='\\t')\n",
    "                surrogateY.to_csv(new_surrogate_path + nameY, encoding='utf-8',index=False,sep='\\t')\n",
    "            \n",
    "    # return list of all surrogate files\n",
    "    return glob.glob(new_surrogate_path+\"*.txt\") # <<<< TURN OFF FOR DEBUGGING\n",
    "\n",
    "# <<<< FOR DEBUGGING >>>>\n",
    "# input_files = INPUT_PATH+'PREPPED_TRANSCRIPTS_STANFORD2/'\n",
    "# file_list = glob.glob(input_files+\"*.txt\")\n",
    "# surrogate_file_directory=INPUT_PATH+'SURROGATE_TRANSCRIPTS/'\n",
    "\n",
    "# GenerateSurrogate(file_list,\n",
    "#                    surrogate_file_directory,\n",
    "#                    all_surrogates=True,\n",
    "#                    keep_original_turn_order=True,\n",
    "#                    id_separator = '\\_',\n",
    "#                    dyad_label='dyad',\n",
    "#                    condition_label='cond')"
   ]
  },
  {
   "cell_type": "markdown",
   "metadata": {
    "deletable": true,
    "editable": true
   },
   "source": [
    "RUN Phase 2: Surrogate Partners\n",
    "-------------------------------\n",
    "* Runs function to generate new surrogate transcript conversations (separate files)\n",
    "* For each surrogate transcript file, runs turn-level and conversational-level alignment scores\n",
    "* Saves output into single datasheet to be used in statistical analysis"
   ]
  },
  {
   "cell_type": "code",
   "execution_count": 42,
   "metadata": {
    "collapsed": true,
    "deletable": true,
    "editable": true
   },
   "outputs": [],
   "source": [
    "def PHASE2RUN_SURROGATE(input_files, \n",
    "                         surrogate_file_directory,\n",
    "                         output_file_directory,\n",
    "                         semantic_model_input_file,\n",
    "                         pretrained_input_file,   \n",
    "                         high_sd_cutoff=3,\n",
    "                         low_n_cutoff=1,\n",
    "                         id_separator = '\\-',\n",
    "                         condition_label='cond',\n",
    "                         dyad_label='dyad',\n",
    "                         all_surrogates=True,\n",
    "                         keep_original_turn_order=True,\n",
    "                         delay=1,\n",
    "                         maxngram=2,\n",
    "                         use_pretrained_vectors=False,   \n",
    "                         ignore_duplicates=True,\n",
    "                         add_stanford_tags=False,\n",
    "                         input_as_directory=True):   \n",
    "    \n",
    "    \n",
    "    \"\"\"\n",
    "    Given a directory of individual .txt files and the\n",
    "    vocab list that have been generated by the `PHASE1RUN` \n",
    "    preparation stage, return multi-level alignment \n",
    "    scores with turn-by-turn and conversation-level metrics\n",
    "    for surrogate baseline conversations.\n",
    "    \n",
    "    By default, create the semantic model with a \n",
    "    high-frequency cutoff of 3 SD over the mean. If \n",
    "    desired, this can be changed with the \n",
    "    `high_sd_cutoff` argument and can be removed with\n",
    "    `high_sd_cutoff=None`.\n",
    "    \n",
    "    By default, create the semantic model with a \n",
    "    low-frequency cutoff in which a word will be \n",
    "    removed if they occur 1 or fewer times. if\n",
    "    desired, this can be changed with the \n",
    "    `low_n_cutoff` argument and can be removed with\n",
    "    `low_n_cutoff=0`.\n",
    "    \n",
    "    By default, compare only adjacent turns. If desired,\n",
    "    the comparison distance may be changed by increasing\n",
    "    the `delay` argument.\n",
    "    \n",
    "    By default, include maximum n-gram comparison of 2. If\n",
    "    desired, this may be changed by passing the appropriate\n",
    "    value to the the `maxngram` argument.\n",
    "    \n",
    "    By default, return scores based only on Penn POS taggers. \n",
    "    If desired, also return scores using Stanford tagger with \n",
    "    `add_stanford_tags=True`.\n",
    "    \n",
    "    By default, remove exact duplicates when calculating POS\n",
    "    similarity scores (i.e., does not consider perfectly\n",
    "    mimicked lexical items between speakers). If desired, \n",
    "    duplicates may be included when calculating scores by \n",
    "    passing `ignore_duplicates=False`.\n",
    "    \n",
    "    By default, the separator between dyad ID and\n",
    "    condition ID in each file name is a hyphen ('\\-'). \n",
    "    If desired, this may be changed with the \n",
    "    `id_separator` argument.\n",
    "\n",
    "    By default, condition IDs in each file name\n",
    "    will be identified as any characters following \n",
    "    `cond`. If desired, this may be changed with the \n",
    "    `condition_label` argument. \n",
    "    \n",
    "    By default, dyad IDs in each file name\n",
    "    will be identified as any characters following \n",
    "    `dyad`. If desired, this may be changed with the \n",
    "    `dyad_label` argument.\n",
    "    \n",
    "    By default, generate surrogates from all possible \n",
    "    pairings within a condition.  If desired, instead \n",
    "    generate surrogates only from a subset of all\n",
    "    possible pairings within a condition with \n",
    "    `all_surrogates=False`.\n",
    "    \n",
    "    By default, accept `input_files` as a directory\n",
    "    that includes `.txt` files of each individual \n",
    "    conversation. If desired, provide individual files\n",
    "    as a list of literal paths to the `input_files`\n",
    "    argument and set `input_as_directory=False`.\n",
    "    \"\"\"\n",
    "    \n",
    "    # grab the files in the input list\n",
    "    if input_as_directory==False:\n",
    "        file_list = glob.glob(input_files)\n",
    "    else:\n",
    "        file_list = glob.glob(input_files+\"*.txt\")\n",
    "    \n",
    "    # create a surrogate file list\n",
    "    surrogate_file_list = GenerateSurrogate(original_conversation_list = file_list,\n",
    "                                                   surrogate_file_directory = surrogate_file_directory,\n",
    "                                                   all_surrogates = all_surrogates,\n",
    "                                                   id_separator = id_separator,\n",
    "                                                   condition_label = condition_label,\n",
    "                                                   dyad_label = dyad_label,\n",
    "                                                   keep_original_turn_order = keep_original_turn_order) \n",
    "    \n",
    "    # build the semantic model to be used for all conversations\n",
    "    [vocablist, highDimModel] = BuildSemanticModel(semantic_model_input_file=semantic_model_input_file,\n",
    "                                                       pretrained_input_file=pretrained_input_file,\n",
    "                                                       use_pretrained_vectors=use_pretrained_vectors,\n",
    "                                                       high_sd_cutoff=high_sd_cutoff,\n",
    "                                                       low_n_cutoff=low_n_cutoff)  \n",
    "    \n",
    "    # create containers for alignment values\n",
    "    AlignmentT2T = pd.DataFrame()\n",
    "    AlignmentC2C = pd.DataFrame()\n",
    "    \n",
    "    # cycle through the files\n",
    "    for fileName in surrogate_file_list:\n",
    "        \n",
    "        # process the file if it's got a valid conversation\n",
    "        dataframe=pd.read_csv(fileName, sep='\\t',encoding='utf-8')\n",
    "        if len(dataframe) > 0:\n",
    "            \n",
    "            # let us know which filename we're processing\n",
    "            print \"Processing: \"+fileName   \n",
    "\n",
    "            # calculate turn-by-turn alignment scores\n",
    "            xT2T=TurnByTurnAnalysis(dataframe=dataframe,\n",
    "                                         delay=delay,\n",
    "                                         maxngram=maxngram,\n",
    "                                         vocablist=vocablist,\n",
    "                                         highDimModel=highDimModel,\n",
    "                                         add_stanford_tags = add_stanford_tags)\n",
    "            AlignmentT2T=AlignmentT2T.append(xT2T)\n",
    "                        \n",
    "            # calculate conversation-level alignment scores\n",
    "            xC2C = ConvoByConvoAnalysis(dataframe=dataframe,\n",
    "                                             maxngram = maxngram,\n",
    "                                             ignore_duplicates=ignore_duplicates,\n",
    "                                             add_stanford_tags = add_stanford_tags)\n",
    "            AlignmentC2C=AlignmentC2C.append(xC2C)\n",
    "        \n",
    "        # if it's invalid, let us know\n",
    "        else:\n",
    "            print \"Invalid file: \"+fileName   \n",
    "            \n",
    "    # update final dataframes\n",
    "    FINAL_TURN_SURROGATE = AlignmentT2T.reset_index(drop=True)\n",
    "    FINAL_CONVO_SURROGATE = AlignmentC2C.reset_index(drop=True)\n",
    "    \n",
    "    # export the final files\n",
    "    FINAL_TURN_SURROGATE.to_csv(output_file_directory+\"AlignmentT2T_Surrogate.txt\",\n",
    "                      encoding='utf-8',index=False,sep='\\t')   \n",
    "    FINAL_CONVO_SURROGATE.to_csv(output_file_directory+\"AlignmentC2C_Surrogate.txt\",\n",
    "                       encoding='utf-8',index=False,sep='\\t') \n",
    "\n",
    "    # display the info, too\n",
    "    return FINAL_TURN_SURROGATE, FINAL_CONVO_SURROGATE"
   ]
  },
  {
   "cell_type": "markdown",
   "metadata": {
    "collapsed": true,
    "deletable": true,
    "editable": true
   },
   "source": [
    "# Run everything!"
   ]
  },
  {
   "cell_type": "markdown",
   "metadata": {
    "deletable": true,
    "editable": true
   },
   "source": [
    "**To Alex** Below I'm running a set of 210 conversations from the CHILDES corpus. These are the conversations between ABE and his caregiver over developmental time (I think it covers conversations from 3 to 5 years old). In the final notebook, I will make sure that everything is clean and set to the defaults. By the way, you can access the CHILDES example here: https://www.dropbox.com/sh/mt1fbiuklu80gu0/AADlMlPr7NMAvY5AfBkUcDPwa?dl=0"
   ]
  },
  {
   "cell_type": "markdown",
   "metadata": {
    "deletable": true,
    "editable": true
   },
   "source": [
    "## Phase 1: Prep"
   ]
  },
  {
   "cell_type": "code",
   "execution_count": 43,
   "metadata": {
    "collapsed": true,
    "deletable": true,
    "editable": true
   },
   "outputs": [],
   "source": [
    "import time\n",
    "start_phase1 = time.time()"
   ]
  },
  {
   "cell_type": "markdown",
   "metadata": {
    "deletable": true,
    "editable": true
   },
   "source": [
    "**To Nick**: By the way, I did some hunting around to help suppress the NLTK warnings, and it looks like a lot of folks have this issue. There are a few ways we could handle this, but I think it might be useful for us to preserve the warning. What do you think?"
   ]
  },
  {
   "cell_type": "markdown",
   "metadata": {
    "deletable": true,
    "editable": true
   },
   "source": [
    "**To Alex** Agreed. I'm fine with leaving it. "
   ]
  },
  {
   "cell_type": "code",
   "execution_count": null,
   "metadata": {
    "collapsed": false,
    "deletable": true,
    "editable": true,
    "scrolled": false
   },
   "outputs": [],
   "source": [
    "# specified_filler_list = ['ignore','these','words']\n",
    "#loaded_filler_list = list(pd.read_csv(INPUT_PATH+'package_files/fillers.txt',squeeze=True))\n",
    "\n",
    "model_store = PHASE1RUN(\n",
    "          input_files=INPUT_PATH+'examples/CHILDES/childes-original/',\n",
    "          minwords=3,\n",
    "          add_stanford_tags=True,\n",
    "          output_file_directory=INPUT_PATH+'examples/CHILDES/childes-prepped/',\n",
    "          use_filler_list=None,\n",
    "          use_both=False,          \n",
    "          training_dictionary=INPUT_PATH+'package_files/gutenberg_tasa.txt',\n",
    "          stanford_pos_path=INPUT_PATH+'package_files/stanford-postagger-2017-06-09/',\n",
    "          input_as_directory=True,\n",
    "          save_concatenated_dataframe=True)\n",
    "model_store \n"
   ]
  },
  {
   "cell_type": "markdown",
   "metadata": {
    "collapsed": true,
    "deletable": true,
    "editable": true
   },
   "source": [
    "## Phase 2: Real"
   ]
  },
  {
   "cell_type": "code",
   "execution_count": 45,
   "metadata": {
    "collapsed": true,
    "deletable": true,
    "editable": true
   },
   "outputs": [],
   "source": [
    "start_phase2real = time.time()"
   ]
  },
  {
   "cell_type": "code",
   "execution_count": 63,
   "metadata": {
    "collapsed": false,
    "deletable": true,
    "editable": true
   },
   "outputs": [
    {
     "name": "stdout",
     "output_type": "stream",
     "text": [
      "Processing: /Users/nduran/Desktop/GitProjects/align-linguistic-alignment/examples/CHILDES/childes-prepped/time89-cond1.txt\n",
      "Processing: /Users/nduran/Desktop/GitProjects/align-linguistic-alignment/examples/CHILDES/childes-prepped/time40-cond1.txt\n",
      "Processing: /Users/nduran/Desktop/GitProjects/align-linguistic-alignment/examples/CHILDES/childes-prepped/time6-cond1.txt\n",
      "Processing: /Users/nduran/Desktop/GitProjects/align-linguistic-alignment/examples/CHILDES/childes-prepped/time111-cond1.txt\n",
      "Processing: /Users/nduran/Desktop/GitProjects/align-linguistic-alignment/examples/CHILDES/childes-prepped/time105-cond1.txt\n",
      "Processing: /Users/nduran/Desktop/GitProjects/align-linguistic-alignment/examples/CHILDES/childes-prepped/time54-cond1.txt\n",
      "Processing: /Users/nduran/Desktop/GitProjects/align-linguistic-alignment/examples/CHILDES/childes-prepped/time124-cond1.txt\n",
      "Processing: /Users/nduran/Desktop/GitProjects/align-linguistic-alignment/examples/CHILDES/childes-prepped/time75-cond1.txt\n",
      "Processing: /Users/nduran/Desktop/GitProjects/align-linguistic-alignment/examples/CHILDES/childes-prepped/time197-cond1.txt\n",
      "Processing: /Users/nduran/Desktop/GitProjects/align-linguistic-alignment/examples/CHILDES/childes-prepped/time183-cond1.txt\n",
      "Processing: /Users/nduran/Desktop/GitProjects/align-linguistic-alignment/examples/CHILDES/childes-prepped/time61-cond1.txt\n",
      "Processing: /Users/nduran/Desktop/GitProjects/align-linguistic-alignment/examples/CHILDES/childes-prepped/time130-cond1.txt\n",
      "Processing: /Users/nduran/Desktop/GitProjects/align-linguistic-alignment/examples/CHILDES/childes-prepped/time166-cond1.txt\n",
      "Processing: /Users/nduran/Desktop/GitProjects/align-linguistic-alignment/examples/CHILDES/childes-prepped/time84-cond1.txt\n",
      "Processing: /Users/nduran/Desktop/GitProjects/align-linguistic-alignment/examples/CHILDES/childes-prepped/time37-cond1.txt\n",
      "Processing: /Users/nduran/Desktop/GitProjects/align-linguistic-alignment/examples/CHILDES/childes-prepped/time23-cond1.txt\n",
      "Processing: /Users/nduran/Desktop/GitProjects/align-linguistic-alignment/examples/CHILDES/childes-prepped/time108-cond1.txt\n",
      "Processing: /Users/nduran/Desktop/GitProjects/align-linguistic-alignment/examples/CHILDES/childes-prepped/time59-cond1.txt\n",
      "Processing: /Users/nduran/Desktop/GitProjects/align-linguistic-alignment/examples/CHILDES/childes-prepped/time90-cond1.txt\n",
      "Processing: /Users/nduran/Desktop/GitProjects/align-linguistic-alignment/examples/CHILDES/childes-prepped/time172-cond1.txt\n",
      "Processing: /Users/nduran/Desktop/GitProjects/align-linguistic-alignment/examples/CHILDES/childes-prepped/time202-cond1.txt\n",
      "Processing: /Users/nduran/Desktop/GitProjects/align-linguistic-alignment/examples/CHILDES/childes-prepped/time129-cond1.txt\n",
      "Processing: /Users/nduran/Desktop/GitProjects/align-linguistic-alignment/examples/CHILDES/childes-prepped/time153-cond1.txt\n",
      "Processing: /Users/nduran/Desktop/GitProjects/align-linguistic-alignment/examples/CHILDES/childes-prepped/time78-cond1.txt\n",
      "Processing: /Users/nduran/Desktop/GitProjects/align-linguistic-alignment/examples/CHILDES/childes-prepped/time147-cond1.txt\n",
      "Processing: /Users/nduran/Desktop/GitProjects/align-linguistic-alignment/examples/CHILDES/childes-prepped/time16-cond1.txt\n",
      "Processing: /Users/nduran/Desktop/GitProjects/align-linguistic-alignment/examples/CHILDES/childes-prepped/time158-cond1.txt\n",
      "Processing: /Users/nduran/Desktop/GitProjects/align-linguistic-alignment/examples/CHILDES/childes-prepped/time191-cond1.txt\n",
      "Processing: /Users/nduran/Desktop/GitProjects/align-linguistic-alignment/examples/CHILDES/childes-prepped/time73-cond1.txt\n",
      "Processing: /Users/nduran/Desktop/GitProjects/align-linguistic-alignment/examples/CHILDES/childes-prepped/time122-cond1.txt\n",
      "Processing: /Users/nduran/Desktop/GitProjects/align-linguistic-alignment/examples/CHILDES/childes-prepped/time136-cond1.txt\n",
      "Processing: /Users/nduran/Desktop/GitProjects/align-linguistic-alignment/examples/CHILDES/childes-prepped/time67-cond1.txt\n",
      "Processing: /Users/nduran/Desktop/GitProjects/align-linguistic-alignment/examples/CHILDES/childes-prepped/time185-cond1.txt\n",
      "Processing: /Users/nduran/Desktop/GitProjects/align-linguistic-alignment/examples/CHILDES/childes-prepped/time117-cond1.txt\n",
      "Processing: /Users/nduran/Desktop/GitProjects/align-linguistic-alignment/examples/CHILDES/childes-prepped/time46-cond1.txt\n",
      "Processing: /Users/nduran/Desktop/GitProjects/align-linguistic-alignment/examples/CHILDES/childes-prepped/time52-cond1.txt\n",
      "Processing: /Users/nduran/Desktop/GitProjects/align-linguistic-alignment/examples/CHILDES/childes-prepped/time179-cond1.txt\n",
      "Processing: /Users/nduran/Desktop/GitProjects/align-linguistic-alignment/examples/CHILDES/childes-prepped/time209-cond1.txt\n",
      "Processing: /Users/nduran/Desktop/GitProjects/align-linguistic-alignment/examples/CHILDES/childes-prepped/time28-cond1.txt\n",
      "Processing: /Users/nduran/Desktop/GitProjects/align-linguistic-alignment/examples/CHILDES/childes-prepped/time103-cond1.txt\n",
      "Processing: /Users/nduran/Desktop/GitProjects/align-linguistic-alignment/examples/CHILDES/childes-prepped/time155-cond1.txt\n",
      "Processing: /Users/nduran/Desktop/GitProjects/align-linguistic-alignment/examples/CHILDES/childes-prepped/time10-cond1.txt\n",
      "Processing: /Users/nduran/Desktop/GitProjects/align-linguistic-alignment/examples/CHILDES/childes-prepped/time188-cond1.txt\n",
      "Processing: /Users/nduran/Desktop/GitProjects/align-linguistic-alignment/examples/CHILDES/childes-prepped/time141-cond1.txt\n",
      "Processing: /Users/nduran/Desktop/GitProjects/align-linguistic-alignment/examples/CHILDES/childes-prepped/time31-cond1.txt\n",
      "Processing: /Users/nduran/Desktop/GitProjects/align-linguistic-alignment/examples/CHILDES/childes-prepped/time82-cond1.txt\n",
      "Processing: /Users/nduran/Desktop/GitProjects/align-linguistic-alignment/examples/CHILDES/childes-prepped/time160-cond1.txt\n",
      "Processing: /Users/nduran/Desktop/GitProjects/align-linguistic-alignment/examples/CHILDES/childes-prepped/time210-cond1.txt\n",
      "Processing: /Users/nduran/Desktop/GitProjects/align-linguistic-alignment/examples/CHILDES/childes-prepped/time204-cond1.txt\n",
      "Processing: /Users/nduran/Desktop/GitProjects/align-linguistic-alignment/examples/CHILDES/childes-prepped/time174-cond1.txt\n",
      "Processing: /Users/nduran/Desktop/GitProjects/align-linguistic-alignment/examples/CHILDES/childes-prepped/time96-cond1.txt\n",
      "Processing: /Users/nduran/Desktop/GitProjects/align-linguistic-alignment/examples/CHILDES/childes-prepped/time25-cond1.txt\n",
      "Processing: /Users/nduran/Desktop/GitProjects/align-linguistic-alignment/examples/CHILDES/childes-prepped/time104-cond1.txt\n",
      "Processing: /Users/nduran/Desktop/GitProjects/align-linguistic-alignment/examples/CHILDES/childes-prepped/time55-cond1.txt\n",
      "Processing: /Users/nduran/Desktop/GitProjects/align-linguistic-alignment/examples/CHILDES/childes-prepped/time7-cond1.txt\n",
      "Processing: /Users/nduran/Desktop/GitProjects/align-linguistic-alignment/examples/CHILDES/childes-prepped/time88-cond1.txt\n",
      "Processing: /Users/nduran/Desktop/GitProjects/align-linguistic-alignment/examples/CHILDES/childes-prepped/time41-cond1.txt\n",
      "Processing: /Users/nduran/Desktop/GitProjects/align-linguistic-alignment/examples/CHILDES/childes-prepped/time110-cond1.txt\n",
      "Processing: /Users/nduran/Desktop/GitProjects/align-linguistic-alignment/examples/CHILDES/childes-prepped/time182-cond1.txt\n",
      "Processing: /Users/nduran/Desktop/GitProjects/align-linguistic-alignment/examples/CHILDES/childes-prepped/time60-cond1.txt\n",
      "Processing: /Users/nduran/Desktop/GitProjects/align-linguistic-alignment/examples/CHILDES/childes-prepped/time131-cond1.txt\n",
      "Processing: /Users/nduran/Desktop/GitProjects/align-linguistic-alignment/examples/CHILDES/childes-prepped/time125-cond1.txt\n",
      "Processing: /Users/nduran/Desktop/GitProjects/align-linguistic-alignment/examples/CHILDES/childes-prepped/time74-cond1.txt\n",
      "Processing: /Users/nduran/Desktop/GitProjects/align-linguistic-alignment/examples/CHILDES/childes-prepped/time196-cond1.txt\n",
      "Processing: /Users/nduran/Desktop/GitProjects/align-linguistic-alignment/examples/CHILDES/childes-prepped/time22-cond1.txt\n",
      "Processing: /Users/nduran/Desktop/GitProjects/align-linguistic-alignment/examples/CHILDES/childes-prepped/time109-cond1.txt\n",
      "Processing: /Users/nduran/Desktop/GitProjects/align-linguistic-alignment/examples/CHILDES/childes-prepped/time203-cond1.txt\n",
      "Processing: /Users/nduran/Desktop/GitProjects/align-linguistic-alignment/examples/CHILDES/childes-prepped/time58-cond1.txt\n",
      "Processing: /Users/nduran/Desktop/GitProjects/align-linguistic-alignment/examples/CHILDES/childes-prepped/time91-cond1.txt\n",
      "Processing: /Users/nduran/Desktop/GitProjects/align-linguistic-alignment/examples/CHILDES/childes-prepped/time173-cond1.txt\n",
      "Processing: /Users/nduran/Desktop/GitProjects/align-linguistic-alignment/examples/CHILDES/childes-prepped/time167-cond1.txt\n",
      "Processing: /Users/nduran/Desktop/GitProjects/align-linguistic-alignment/examples/CHILDES/childes-prepped/time85-cond1.txt\n",
      "Processing: /Users/nduran/Desktop/GitProjects/align-linguistic-alignment/examples/CHILDES/childes-prepped/time36-cond1.txt\n",
      "Processing: /Users/nduran/Desktop/GitProjects/align-linguistic-alignment/examples/CHILDES/childes-prepped/time146-cond1.txt\n",
      "Processing: /Users/nduran/Desktop/GitProjects/align-linguistic-alignment/examples/CHILDES/childes-prepped/time17-cond1.txt\n",
      "Processing: /Users/nduran/Desktop/GitProjects/align-linguistic-alignment/examples/CHILDES/childes-prepped/time128-cond1.txt\n",
      "Processing: /Users/nduran/Desktop/GitProjects/align-linguistic-alignment/examples/CHILDES/childes-prepped/time152-cond1.txt\n",
      "Processing: /Users/nduran/Desktop/GitProjects/align-linguistic-alignment/examples/CHILDES/childes-prepped/time79-cond1.txt\n",
      "Processing: /Users/nduran/Desktop/GitProjects/align-linguistic-alignment/examples/CHILDES/childes-prepped/time137-cond1.txt\n",
      "Processing: /Users/nduran/Desktop/GitProjects/align-linguistic-alignment/examples/CHILDES/childes-prepped/time66-cond1.txt\n",
      "Processing: /Users/nduran/Desktop/GitProjects/align-linguistic-alignment/examples/CHILDES/childes-prepped/time184-cond1.txt\n",
      "Processing: /Users/nduran/Desktop/GitProjects/align-linguistic-alignment/examples/CHILDES/childes-prepped/time159-cond1.txt\n",
      "Processing: /Users/nduran/Desktop/GitProjects/align-linguistic-alignment/examples/CHILDES/childes-prepped/time190-cond1.txt\n",
      "Processing: /Users/nduran/Desktop/GitProjects/align-linguistic-alignment/examples/CHILDES/childes-prepped/time72-cond1.txt\n",
      "Processing: /Users/nduran/Desktop/GitProjects/align-linguistic-alignment/examples/CHILDES/childes-prepped/time123-cond1.txt\n",
      "Processing: /Users/nduran/Desktop/GitProjects/align-linguistic-alignment/examples/CHILDES/childes-prepped/time208-cond1.txt\n",
      "Processing: /Users/nduran/Desktop/GitProjects/align-linguistic-alignment/examples/CHILDES/childes-prepped/time53-cond1.txt\n",
      "Processing: /Users/nduran/Desktop/GitProjects/align-linguistic-alignment/examples/CHILDES/childes-prepped/time178-cond1.txt\n",
      "Processing: /Users/nduran/Desktop/GitProjects/align-linguistic-alignment/examples/CHILDES/childes-prepped/time29-cond1.txt\n",
      "Processing: /Users/nduran/Desktop/GitProjects/align-linguistic-alignment/examples/CHILDES/childes-prepped/time102-cond1.txt\n",
      "Processing: /Users/nduran/Desktop/GitProjects/align-linguistic-alignment/examples/CHILDES/childes-prepped/time116-cond1.txt\n",
      "Processing: /Users/nduran/Desktop/GitProjects/align-linguistic-alignment/examples/CHILDES/childes-prepped/time47-cond1.txt\n",
      "Processing: /Users/nduran/Desktop/GitProjects/align-linguistic-alignment/examples/CHILDES/childes-prepped/time1-cond1.txt\n",
      "Processing: /Users/nduran/Desktop/GitProjects/align-linguistic-alignment/examples/CHILDES/childes-prepped/time11-cond1.txt\n",
      "Processing: /Users/nduran/Desktop/GitProjects/align-linguistic-alignment/examples/CHILDES/childes-prepped/time189-cond1.txt\n",
      "Processing: /Users/nduran/Desktop/GitProjects/align-linguistic-alignment/examples/CHILDES/childes-prepped/time140-cond1.txt\n",
      "Processing: /Users/nduran/Desktop/GitProjects/align-linguistic-alignment/examples/CHILDES/childes-prepped/time154-cond1.txt\n",
      "Processing: /Users/nduran/Desktop/GitProjects/align-linguistic-alignment/examples/CHILDES/childes-prepped/time175-cond1.txt\n",
      "Processing: /Users/nduran/Desktop/GitProjects/align-linguistic-alignment/examples/CHILDES/childes-prepped/time97-cond1.txt\n",
      "Processing: /Users/nduran/Desktop/GitProjects/align-linguistic-alignment/examples/CHILDES/childes-prepped/time205-cond1.txt\n",
      "Processing: /Users/nduran/Desktop/GitProjects/align-linguistic-alignment/examples/CHILDES/childes-prepped/time24-cond1.txt\n",
      "Processing: /Users/nduran/Desktop/GitProjects/align-linguistic-alignment/examples/CHILDES/childes-prepped/time30-cond1.txt\n",
      "Processing: /Users/nduran/Desktop/GitProjects/align-linguistic-alignment/examples/CHILDES/childes-prepped/time83-cond1.txt\n",
      "Processing: /Users/nduran/Desktop/GitProjects/align-linguistic-alignment/examples/CHILDES/childes-prepped/time161-cond1.txt\n",
      "Processing: /Users/nduran/Desktop/GitProjects/align-linguistic-alignment/examples/CHILDES/childes-prepped/time126-cond1.txt\n",
      "Processing: /Users/nduran/Desktop/GitProjects/align-linguistic-alignment/examples/CHILDES/childes-prepped/time195-cond1.txt\n",
      "Processing: /Users/nduran/Desktop/GitProjects/align-linguistic-alignment/examples/CHILDES/childes-prepped/time77-cond1.txt\n",
      "Processing: /Users/nduran/Desktop/GitProjects/align-linguistic-alignment/examples/CHILDES/childes-prepped/time63-cond1.txt\n",
      "Processing: /Users/nduran/Desktop/GitProjects/align-linguistic-alignment/examples/CHILDES/childes-prepped/time148-cond1.txt\n",
      "Processing: /Users/nduran/Desktop/GitProjects/align-linguistic-alignment/examples/CHILDES/childes-prepped/time181-cond1.txt\n",
      "Processing: /Users/nduran/Desktop/GitProjects/align-linguistic-alignment/examples/CHILDES/childes-prepped/time19-cond1.txt\n",
      "Processing: /Users/nduran/Desktop/GitProjects/align-linguistic-alignment/examples/CHILDES/childes-prepped/time132-cond1.txt\n",
      "Processing: /Users/nduran/Desktop/GitProjects/align-linguistic-alignment/examples/CHILDES/childes-prepped/time169-cond1.txt\n",
      "Processing: /Users/nduran/Desktop/GitProjects/align-linguistic-alignment/examples/CHILDES/childes-prepped/time42-cond1.txt\n",
      "Processing: /Users/nduran/Desktop/GitProjects/align-linguistic-alignment/examples/CHILDES/childes-prepped/time4-cond1.txt\n",
      "Processing: /Users/nduran/Desktop/GitProjects/align-linguistic-alignment/examples/CHILDES/childes-prepped/time113-cond1.txt\n",
      "Processing: /Users/nduran/Desktop/GitProjects/align-linguistic-alignment/examples/CHILDES/childes-prepped/time38-cond1.txt\n",
      "Processing: /Users/nduran/Desktop/GitProjects/align-linguistic-alignment/examples/CHILDES/childes-prepped/time107-cond1.txt\n",
      "Processing: /Users/nduran/Desktop/GitProjects/align-linguistic-alignment/examples/CHILDES/childes-prepped/time56-cond1.txt\n",
      "Processing: /Users/nduran/Desktop/GitProjects/align-linguistic-alignment/examples/CHILDES/childes-prepped/time198-cond1.txt\n",
      "Processing: /Users/nduran/Desktop/GitProjects/align-linguistic-alignment/examples/CHILDES/childes-prepped/time151-cond1.txt\n",
      "Processing: /Users/nduran/Desktop/GitProjects/align-linguistic-alignment/examples/CHILDES/childes-prepped/time145-cond1.txt\n",
      "Processing: /Users/nduran/Desktop/GitProjects/align-linguistic-alignment/examples/CHILDES/childes-prepped/time14-cond1.txt\n",
      "Processing: /Users/nduran/Desktop/GitProjects/align-linguistic-alignment/examples/CHILDES/childes-prepped/time9-cond1.txt\n",
      "Processing: /Users/nduran/Desktop/GitProjects/align-linguistic-alignment/examples/CHILDES/childes-prepped/time86-cond1.txt\n",
      "Processing: /Users/nduran/Desktop/GitProjects/align-linguistic-alignment/examples/CHILDES/childes-prepped/time164-cond1.txt\n",
      "Processing: /Users/nduran/Desktop/GitProjects/align-linguistic-alignment/examples/CHILDES/childes-prepped/time35-cond1.txt\n",
      "Processing: /Users/nduran/Desktop/GitProjects/align-linguistic-alignment/examples/CHILDES/childes-prepped/time21-cond1.txt\n",
      "Processing: /Users/nduran/Desktop/GitProjects/align-linguistic-alignment/examples/CHILDES/childes-prepped/time170-cond1.txt\n",
      "Processing: /Users/nduran/Desktop/GitProjects/align-linguistic-alignment/examples/CHILDES/childes-prepped/time92-cond1.txt\n",
      "Processing: /Users/nduran/Desktop/GitProjects/align-linguistic-alignment/examples/CHILDES/childes-prepped/time200-cond1.txt\n",
      "Processing: /Users/nduran/Desktop/GitProjects/align-linguistic-alignment/examples/CHILDES/childes-prepped/time115-cond1.txt\n",
      "Processing: /Users/nduran/Desktop/GitProjects/align-linguistic-alignment/examples/CHILDES/childes-prepped/time2-cond1.txt\n",
      "Processing: /Users/nduran/Desktop/GitProjects/align-linguistic-alignment/examples/CHILDES/childes-prepped/time44-cond1.txt\n",
      "Processing: /Users/nduran/Desktop/GitProjects/align-linguistic-alignment/examples/CHILDES/childes-prepped/time99-cond1.txt\n",
      "Processing: /Users/nduran/Desktop/GitProjects/align-linguistic-alignment/examples/CHILDES/childes-prepped/time50-cond1.txt\n",
      "Processing: /Users/nduran/Desktop/GitProjects/align-linguistic-alignment/examples/CHILDES/childes-prepped/time101-cond1.txt\n",
      "Processing: /Users/nduran/Desktop/GitProjects/align-linguistic-alignment/examples/CHILDES/childes-prepped/time71-cond1.txt\n",
      "Processing: /Users/nduran/Desktop/GitProjects/align-linguistic-alignment/examples/CHILDES/childes-prepped/time193-cond1.txt\n",
      "Processing: /Users/nduran/Desktop/GitProjects/align-linguistic-alignment/examples/CHILDES/childes-prepped/time120-cond1.txt\n",
      "Processing: /Users/nduran/Desktop/GitProjects/align-linguistic-alignment/examples/CHILDES/childes-prepped/time134-cond1.txt\n",
      "Processing: /Users/nduran/Desktop/GitProjects/align-linguistic-alignment/examples/CHILDES/childes-prepped/time187-cond1.txt\n",
      "Processing: /Users/nduran/Desktop/GitProjects/align-linguistic-alignment/examples/CHILDES/childes-prepped/time65-cond1.txt\n",
      "Processing: /Users/nduran/Desktop/GitProjects/align-linguistic-alignment/examples/CHILDES/childes-prepped/time118-cond1.txt\n",
      "Processing: /Users/nduran/Desktop/GitProjects/align-linguistic-alignment/examples/CHILDES/childes-prepped/time33-cond1.txt\n",
      "Processing: /Users/nduran/Desktop/GitProjects/align-linguistic-alignment/examples/CHILDES/childes-prepped/time162-cond1.txt\n",
      "Processing: /Users/nduran/Desktop/GitProjects/align-linguistic-alignment/examples/CHILDES/childes-prepped/time49-cond1.txt\n",
      "Processing: /Users/nduran/Desktop/GitProjects/align-linguistic-alignment/examples/CHILDES/childes-prepped/time80-cond1.txt\n",
      "Processing: /Users/nduran/Desktop/GitProjects/align-linguistic-alignment/examples/CHILDES/childes-prepped/time206-cond1.txt\n",
      "Processing: /Users/nduran/Desktop/GitProjects/align-linguistic-alignment/examples/CHILDES/childes-prepped/time94-cond1.txt\n",
      "Processing: /Users/nduran/Desktop/GitProjects/align-linguistic-alignment/examples/CHILDES/childes-prepped/time176-cond1.txt\n",
      "Processing: /Users/nduran/Desktop/GitProjects/align-linguistic-alignment/examples/CHILDES/childes-prepped/time27-cond1.txt\n",
      "Processing: /Users/nduran/Desktop/GitProjects/align-linguistic-alignment/examples/CHILDES/childes-prepped/time157-cond1.txt\n",
      "Processing: /Users/nduran/Desktop/GitProjects/align-linguistic-alignment/examples/CHILDES/childes-prepped/time12-cond1.txt\n",
      "Processing: /Users/nduran/Desktop/GitProjects/align-linguistic-alignment/examples/CHILDES/childes-prepped/time139-cond1.txt\n",
      "Processing: /Users/nduran/Desktop/GitProjects/align-linguistic-alignment/examples/CHILDES/childes-prepped/time68-cond1.txt\n",
      "Processing: /Users/nduran/Desktop/GitProjects/align-linguistic-alignment/examples/CHILDES/childes-prepped/time143-cond1.txt\n",
      "Processing: /Users/nduran/Desktop/GitProjects/align-linguistic-alignment/examples/CHILDES/childes-prepped/time62-cond1.txt\n",
      "Processing: /Users/nduran/Desktop/GitProjects/align-linguistic-alignment/examples/CHILDES/childes-prepped/time149-cond1.txt\n",
      "Processing: /Users/nduran/Desktop/GitProjects/align-linguistic-alignment/examples/CHILDES/childes-prepped/time180-cond1.txt\n",
      "Processing: /Users/nduran/Desktop/GitProjects/align-linguistic-alignment/examples/CHILDES/childes-prepped/time18-cond1.txt\n",
      "Processing: /Users/nduran/Desktop/GitProjects/align-linguistic-alignment/examples/CHILDES/childes-prepped/time133-cond1.txt\n",
      "Processing: /Users/nduran/Desktop/GitProjects/align-linguistic-alignment/examples/CHILDES/childes-prepped/time127-cond1.txt\n",
      "Processing: /Users/nduran/Desktop/GitProjects/align-linguistic-alignment/examples/CHILDES/childes-prepped/time194-cond1.txt\n",
      "Processing: /Users/nduran/Desktop/GitProjects/align-linguistic-alignment/examples/CHILDES/childes-prepped/time76-cond1.txt\n",
      "Processing: /Users/nduran/Desktop/GitProjects/align-linguistic-alignment/examples/CHILDES/childes-prepped/time106-cond1.txt\n",
      "Processing: /Users/nduran/Desktop/GitProjects/align-linguistic-alignment/examples/CHILDES/childes-prepped/time57-cond1.txt\n",
      "Processing: /Users/nduran/Desktop/GitProjects/align-linguistic-alignment/examples/CHILDES/childes-prepped/time5-cond1.txt\n",
      "Processing: /Users/nduran/Desktop/GitProjects/align-linguistic-alignment/examples/CHILDES/childes-prepped/time168-cond1.txt\n",
      "Processing: /Users/nduran/Desktop/GitProjects/align-linguistic-alignment/examples/CHILDES/childes-prepped/time43-cond1.txt\n",
      "Processing: /Users/nduran/Desktop/GitProjects/align-linguistic-alignment/examples/CHILDES/childes-prepped/time112-cond1.txt\n",
      "Processing: /Users/nduran/Desktop/GitProjects/align-linguistic-alignment/examples/CHILDES/childes-prepped/time39-cond1.txt\n",
      "Processing: /Users/nduran/Desktop/GitProjects/align-linguistic-alignment/examples/CHILDES/childes-prepped/time144-cond1.txt\n",
      "Processing: /Users/nduran/Desktop/GitProjects/align-linguistic-alignment/examples/CHILDES/childes-prepped/time15-cond1.txt\n",
      "Processing: /Users/nduran/Desktop/GitProjects/align-linguistic-alignment/examples/CHILDES/childes-prepped/time199-cond1.txt\n",
      "Processing: /Users/nduran/Desktop/GitProjects/align-linguistic-alignment/examples/CHILDES/childes-prepped/time150-cond1.txt\n",
      "Processing: /Users/nduran/Desktop/GitProjects/align-linguistic-alignment/examples/CHILDES/childes-prepped/time20-cond1.txt\n",
      "Processing: /Users/nduran/Desktop/GitProjects/align-linguistic-alignment/examples/CHILDES/childes-prepped/time201-cond1.txt\n",
      "Processing: /Users/nduran/Desktop/GitProjects/align-linguistic-alignment/examples/CHILDES/childes-prepped/time171-cond1.txt\n",
      "Processing: /Users/nduran/Desktop/GitProjects/align-linguistic-alignment/examples/CHILDES/childes-prepped/time93-cond1.txt\n",
      "Processing: /Users/nduran/Desktop/GitProjects/align-linguistic-alignment/examples/CHILDES/childes-prepped/time87-cond1.txt\n",
      "Processing: /Users/nduran/Desktop/GitProjects/align-linguistic-alignment/examples/CHILDES/childes-prepped/time165-cond1.txt\n",
      "Processing: /Users/nduran/Desktop/GitProjects/align-linguistic-alignment/examples/CHILDES/childes-prepped/time8-cond1.txt\n",
      "Processing: /Users/nduran/Desktop/GitProjects/align-linguistic-alignment/examples/CHILDES/childes-prepped/time34-cond1.txt\n",
      "Processing: /Users/nduran/Desktop/GitProjects/align-linguistic-alignment/examples/CHILDES/childes-prepped/time98-cond1.txt\n",
      "Processing: /Users/nduran/Desktop/GitProjects/align-linguistic-alignment/examples/CHILDES/childes-prepped/time51-cond1.txt\n",
      "Processing: /Users/nduran/Desktop/GitProjects/align-linguistic-alignment/examples/CHILDES/childes-prepped/time100-cond1.txt\n",
      "Processing: /Users/nduran/Desktop/GitProjects/align-linguistic-alignment/examples/CHILDES/childes-prepped/time114-cond1.txt\n",
      "Processing: /Users/nduran/Desktop/GitProjects/align-linguistic-alignment/examples/CHILDES/childes-prepped/time45-cond1.txt\n",
      "Processing: /Users/nduran/Desktop/GitProjects/align-linguistic-alignment/examples/CHILDES/childes-prepped/time3-cond1.txt\n",
      "Processing: /Users/nduran/Desktop/GitProjects/align-linguistic-alignment/examples/CHILDES/childes-prepped/time135-cond1.txt\n",
      "Processing: /Users/nduran/Desktop/GitProjects/align-linguistic-alignment/examples/CHILDES/childes-prepped/time186-cond1.txt\n",
      "Processing: /Users/nduran/Desktop/GitProjects/align-linguistic-alignment/examples/CHILDES/childes-prepped/time64-cond1.txt\n",
      "Processing: /Users/nduran/Desktop/GitProjects/align-linguistic-alignment/examples/CHILDES/childes-prepped/time70-cond1.txt\n",
      "Processing: /Users/nduran/Desktop/GitProjects/align-linguistic-alignment/examples/CHILDES/childes-prepped/time192-cond1.txt\n",
      "Processing: /Users/nduran/Desktop/GitProjects/align-linguistic-alignment/examples/CHILDES/childes-prepped/time121-cond1.txt\n",
      "Processing: /Users/nduran/Desktop/GitProjects/align-linguistic-alignment/examples/CHILDES/childes-prepped/time95-cond1.txt\n",
      "Processing: /Users/nduran/Desktop/GitProjects/align-linguistic-alignment/examples/CHILDES/childes-prepped/time177-cond1.txt\n",
      "Processing: /Users/nduran/Desktop/GitProjects/align-linguistic-alignment/examples/CHILDES/childes-prepped/time207-cond1.txt\n",
      "Processing: /Users/nduran/Desktop/GitProjects/align-linguistic-alignment/examples/CHILDES/childes-prepped/time26-cond1.txt\n",
      "Processing: /Users/nduran/Desktop/GitProjects/align-linguistic-alignment/examples/CHILDES/childes-prepped/time119-cond1.txt\n",
      "Processing: /Users/nduran/Desktop/GitProjects/align-linguistic-alignment/examples/CHILDES/childes-prepped/time32-cond1.txt\n",
      "Processing: /Users/nduran/Desktop/GitProjects/align-linguistic-alignment/examples/CHILDES/childes-prepped/time163-cond1.txt\n",
      "Processing: /Users/nduran/Desktop/GitProjects/align-linguistic-alignment/examples/CHILDES/childes-prepped/time48-cond1.txt\n",
      "Processing: /Users/nduran/Desktop/GitProjects/align-linguistic-alignment/examples/CHILDES/childes-prepped/time81-cond1.txt\n",
      "Processing: /Users/nduran/Desktop/GitProjects/align-linguistic-alignment/examples/CHILDES/childes-prepped/time13-cond1.txt\n",
      "Processing: /Users/nduran/Desktop/GitProjects/align-linguistic-alignment/examples/CHILDES/childes-prepped/time138-cond1.txt\n",
      "Processing: /Users/nduran/Desktop/GitProjects/align-linguistic-alignment/examples/CHILDES/childes-prepped/time69-cond1.txt\n",
      "Processing: /Users/nduran/Desktop/GitProjects/align-linguistic-alignment/examples/CHILDES/childes-prepped/time142-cond1.txt\n",
      "Processing: /Users/nduran/Desktop/GitProjects/align-linguistic-alignment/examples/CHILDES/childes-prepped/time156-cond1.txt\n"
     ]
    },
    {
     "data": {
      "text/plain": [
       "(       time syntax_penn_tok2 syntax_penn_lex2 lexical_tok2 lexical_lem2  \\\n",
       " 0         0                0                0            0            0   \n",
       " 1         1                0                0            0            0   \n",
       " 2         2          0.46291          0.46291            0            0   \n",
       " 3         3                0                0     0.239046     0.239046   \n",
       " 4         4                0                0            0            0   \n",
       " 5         5         0.353553         0.210819     0.190693     0.286039   \n",
       " 6         6         0.426401         0.213201            0            0   \n",
       " 7         7                0                0            0            0   \n",
       " 8         8                0                0            0            0   \n",
       " 9         9                0                0            0            0   \n",
       " 10       10                0                0            0            0   \n",
       " 11       11                0                0            0            0   \n",
       " 12       12                0                0            0            0   \n",
       " 13       13                0         0.353553            0            0   \n",
       " 14       14                0                0            0            0   \n",
       " 15       15                0                0            0            0   \n",
       " 16       16                0         0.111803            0            0   \n",
       " 17       17                0                0            0            0   \n",
       " 18       18                0                0            0            0   \n",
       " 19       19                0         0.316228            0            0   \n",
       " 20       20                0                0            0            0   \n",
       " 21       21                0                0            0            0   \n",
       " 22       22                0                0          0.5          0.5   \n",
       " 23       23                0                0     0.408248     0.408248   \n",
       " 24       24                0                0            0            0   \n",
       " 25       25                0                0            0            0   \n",
       " 26       26                0                0     0.235702     0.235702   \n",
       " 27       27         0.182574         0.182574            0            0   \n",
       " 28       28         0.223607         0.223607            0            0   \n",
       " 29       29         0.188982         0.188982            0            0   \n",
       " ...     ...              ...              ...          ...          ...   \n",
       " 27788    56                0                0            0            0   \n",
       " 27789    57                0         0.258199            0            0   \n",
       " 27790    58                0                0            0            0   \n",
       " 27791    59                0                0            0            0   \n",
       " 27792    60                0                0     0.138013     0.138013   \n",
       " 27793    61                0        0.0721688    0.0597614    0.0597614   \n",
       " 27794    62                0         0.131306            0            0   \n",
       " 27795    63        0.0980581        0.0928477            0            0   \n",
       " 27796    64                0                0            0            0   \n",
       " 27797    65                0                0            0            0   \n",
       " 27798    66                0                0            0            0   \n",
       " 27799    67        0.0898027                0            0            0   \n",
       " 27800    68                0                0            0            0   \n",
       " 27801    69        0.0790569         0.147442     0.138013     0.138013   \n",
       " 27802    70                0                0    0.0990148      0.19803   \n",
       " 27803    71                0                0            0            0   \n",
       " 27804    72                0                0            0            0   \n",
       " 27805    73              0.2         0.100504     0.181818     0.181818   \n",
       " 27806    74                0         0.267652     0.146735     0.146735   \n",
       " 27807    75         0.190693         0.267652    0.0418854     0.125656   \n",
       " 27808    76        0.0372161         0.155936            0    0.0449467   \n",
       " 27809    77          0.19868         0.153093            0            0   \n",
       " 27810    78         0.113228         0.273861            0            0   \n",
       " 27811    79         0.294174         0.365148            0            0   \n",
       " 27812    80              0.5              0.5            0            0   \n",
       " 27813    81         0.204124         0.213201            0            0   \n",
       " 27814    82                0                0     0.535303     0.535303   \n",
       " 27815    83                0                0            0            0   \n",
       " 27816    84                0                0            0            0   \n",
       " 27817    85                0                0     0.258199     0.258199   \n",
       " \n",
       "       cosine_semanticL partner_direction     condition_info  \n",
       " 0             0.537873           kid>cgv   time89-cond1.txt  \n",
       " 1             0.499034           cgv>kid   time89-cond1.txt  \n",
       " 2             0.727328           kid>cgv   time89-cond1.txt  \n",
       " 3             0.895055           cgv>kid   time89-cond1.txt  \n",
       " 4             0.584518           kid>cgv   time89-cond1.txt  \n",
       " 5             0.850932           cgv>kid   time89-cond1.txt  \n",
       " 6             0.776363           kid>cgv   time89-cond1.txt  \n",
       " 7             0.578801           cgv>kid   time89-cond1.txt  \n",
       " 8             0.510567           kid>cgv   time89-cond1.txt  \n",
       " 9              0.51986           cgv>kid   time89-cond1.txt  \n",
       " 10                 NaN           kid>cgv   time89-cond1.txt  \n",
       " 11                 NaN           cgv>kid   time89-cond1.txt  \n",
       " 12            0.307147           kid>cgv   time89-cond1.txt  \n",
       " 13            0.502592           cgv>kid   time89-cond1.txt  \n",
       " 14            0.239885           kid>cgv   time89-cond1.txt  \n",
       " 15            0.410399           cgv>kid   time89-cond1.txt  \n",
       " 16            0.398142           kid>cgv   time89-cond1.txt  \n",
       " 17            0.475884           cgv>kid   time89-cond1.txt  \n",
       " 18                 NaN           kid>cgv   time89-cond1.txt  \n",
       " 19                 NaN           cgv>kid   time89-cond1.txt  \n",
       " 20            0.558573           kid>cgv   time89-cond1.txt  \n",
       " 21            0.493458           cgv>kid   time89-cond1.txt  \n",
       " 22            0.877506           kid>cgv   time89-cond1.txt  \n",
       " 23            0.878194           cgv>kid   time89-cond1.txt  \n",
       " 24            0.658359           kid>cgv   time89-cond1.txt  \n",
       " 25            0.522195           cgv>kid   time89-cond1.txt  \n",
       " 26            0.407426           kid>cgv   time89-cond1.txt  \n",
       " 27            0.414099           cgv>kid   time89-cond1.txt  \n",
       " 28            0.555161           kid>cgv   time89-cond1.txt  \n",
       " 29            0.412237           cgv>kid   time89-cond1.txt  \n",
       " ...                ...               ...                ...  \n",
       " 27788         0.645256           cgv>kid  time156-cond1.txt  \n",
       " 27789         0.527091           kid>cgv  time156-cond1.txt  \n",
       " 27790        0.0575861           cgv>kid  time156-cond1.txt  \n",
       " 27791         0.728489           kid>cgv  time156-cond1.txt  \n",
       " 27792         0.459552           cgv>kid  time156-cond1.txt  \n",
       " 27793         0.634349           kid>cgv  time156-cond1.txt  \n",
       " 27794          0.63077           cgv>kid  time156-cond1.txt  \n",
       " 27795         0.613707           kid>cgv  time156-cond1.txt  \n",
       " 27796         0.551519           cgv>kid  time156-cond1.txt  \n",
       " 27797         0.432305           kid>cgv  time156-cond1.txt  \n",
       " 27798         0.421588           cgv>kid  time156-cond1.txt  \n",
       " 27799          0.59689           kid>cgv  time156-cond1.txt  \n",
       " 27800         0.550215           cgv>kid  time156-cond1.txt  \n",
       " 27801         0.702536           kid>cgv  time156-cond1.txt  \n",
       " 27802         0.605751           cgv>kid  time156-cond1.txt  \n",
       " 27803         0.409098           kid>cgv  time156-cond1.txt  \n",
       " 27804          0.52155           cgv>kid  time156-cond1.txt  \n",
       " 27805         0.739921           kid>cgv  time156-cond1.txt  \n",
       " 27806          0.86613           cgv>kid  time156-cond1.txt  \n",
       " 27807         0.813753           kid>cgv  time156-cond1.txt  \n",
       " 27808         0.653002           cgv>kid  time156-cond1.txt  \n",
       " 27809         0.334994           kid>cgv  time156-cond1.txt  \n",
       " 27810         0.622735           cgv>kid  time156-cond1.txt  \n",
       " 27811         0.767257           kid>cgv  time156-cond1.txt  \n",
       " 27812         0.475367           cgv>kid  time156-cond1.txt  \n",
       " 27813         0.491709           kid>cgv  time156-cond1.txt  \n",
       " 27814         0.871258           cgv>kid  time156-cond1.txt  \n",
       " 27815         0.367391           kid>cgv  time156-cond1.txt  \n",
       " 27816         0.364573           cgv>kid  time156-cond1.txt  \n",
       " 27817         0.504705           kid>cgv  time156-cond1.txt  \n",
       " \n",
       " [27818 rows x 8 columns],\n",
       "      syntax_penn_tok2  syntax_penn_lex2  lexical_tok2  lexical_lem2  \\\n",
       " 0            0.754144          0.754144      0.302658      0.391843   \n",
       " 1            0.686863          0.686863      0.153521      0.177873   \n",
       " 2            0.381084          0.381084      0.087103      0.101430   \n",
       " 3            0.821846          0.821846      0.293467      0.357906   \n",
       " 4            0.746779          0.746779      0.258972      0.310971   \n",
       " 5            0.791090          0.791090      0.345934      0.414845   \n",
       " 6            0.687575          0.687575      0.209833      0.305059   \n",
       " 7            0.705539          0.705539      0.388520      0.472845   \n",
       " 8            0.709110          0.709110      0.099848      0.186072   \n",
       " 9            0.752607          0.752607      0.139299      0.172072   \n",
       " 10           0.751068          0.751068      0.200969      0.269066   \n",
       " 11           0.763804          0.763804      0.178266      0.213034   \n",
       " 12           0.674007          0.674007      0.135890      0.171938   \n",
       " 13           0.802663          0.802663      0.193534      0.218696   \n",
       " 14           0.700928          0.700928      0.212792      0.232368   \n",
       " 15           0.766804          0.766804      0.193274      0.278084   \n",
       " 16           0.772715          0.772715      0.261260      0.319475   \n",
       " 17           0.818389          0.818389      0.274346      0.339789   \n",
       " 18           0.736185          0.736185      0.330412      0.430269   \n",
       " 19           0.752800          0.752800      0.245291      0.311629   \n",
       " 20           0.768490          0.768490      0.353514      0.435380   \n",
       " 21           0.771196          0.771196      0.212910      0.263651   \n",
       " 22           0.608295          0.608295      0.173774      0.233591   \n",
       " 23           0.831083          0.831083      0.222266      0.249321   \n",
       " 24           0.601402          0.601402      0.233689      0.282823   \n",
       " 25           0.628585          0.628585      0.252988      0.275950   \n",
       " 26           0.719828          0.719828      0.198113      0.237243   \n",
       " 27           0.744802          0.744802      0.309924      0.356673   \n",
       " 28           0.809354          0.809354      0.316696      0.355354   \n",
       " 29           0.720745          0.720745      0.206097      0.305582   \n",
       " ..                ...               ...           ...           ...   \n",
       " 180          0.718075          0.718075      0.257260      0.304463   \n",
       " 181          0.755154          0.755154      0.191499      0.221302   \n",
       " 182          0.697139          0.697139      0.237140      0.245295   \n",
       " 183          0.744803          0.744803      0.260305      0.298126   \n",
       " 184          0.741709          0.741709      0.307238      0.384990   \n",
       " 185          0.842187          0.842187      0.398349      0.430249   \n",
       " 186          0.719259          0.719259      0.191934      0.216517   \n",
       " 187          0.703293          0.703293      0.334913      0.399279   \n",
       " 188          0.691704          0.691704      0.211854      0.278237   \n",
       " 189          0.699353          0.699353      0.323434      0.385120   \n",
       " 190          0.758699          0.758699      0.215285      0.256327   \n",
       " 191          0.555084          0.555084      0.176072      0.207971   \n",
       " 192          0.760032          0.760032      0.263004      0.315402   \n",
       " 193          0.776500          0.776500      0.191130      0.218255   \n",
       " 194          0.695120          0.695120      0.152565      0.258088   \n",
       " 195          0.735805          0.735805      0.284535      0.368053   \n",
       " 196          0.837389          0.837389      0.281816      0.335199   \n",
       " 197          0.441722          0.441722      0.126953      0.159360   \n",
       " 198          0.691723          0.691723      0.188926      0.233575   \n",
       " 199          0.780051          0.780051      0.352720      0.368509   \n",
       " 200          0.684391          0.684391      0.238674      0.302760   \n",
       " 201          0.780708          0.780708      0.232898      0.268667   \n",
       " 202          0.705942          0.705942      0.229377      0.321235   \n",
       " 203          0.807138          0.807138      0.302579      0.332888   \n",
       " 204          0.754293          0.754293      0.353934      0.397369   \n",
       " 205          0.689567          0.689567      0.307411      0.348596   \n",
       " 206          0.709117          0.709117      0.357527      0.441795   \n",
       " 207          0.821629          0.821629      0.385698      0.437221   \n",
       " 208          0.778435          0.778435      0.317839      0.399267   \n",
       " 209          0.715292          0.715292      0.184309      0.266461   \n",
       " \n",
       "         condition_info  \n",
       " 0     time89-cond1.txt  \n",
       " 1     time40-cond1.txt  \n",
       " 2      time6-cond1.txt  \n",
       " 3    time111-cond1.txt  \n",
       " 4    time105-cond1.txt  \n",
       " 5     time54-cond1.txt  \n",
       " 6    time124-cond1.txt  \n",
       " 7     time75-cond1.txt  \n",
       " 8    time197-cond1.txt  \n",
       " 9    time183-cond1.txt  \n",
       " 10    time61-cond1.txt  \n",
       " 11   time130-cond1.txt  \n",
       " 12   time166-cond1.txt  \n",
       " 13    time84-cond1.txt  \n",
       " 14    time37-cond1.txt  \n",
       " 15    time23-cond1.txt  \n",
       " 16   time108-cond1.txt  \n",
       " 17    time59-cond1.txt  \n",
       " 18    time90-cond1.txt  \n",
       " 19   time172-cond1.txt  \n",
       " 20   time202-cond1.txt  \n",
       " 21   time129-cond1.txt  \n",
       " 22   time153-cond1.txt  \n",
       " 23    time78-cond1.txt  \n",
       " 24   time147-cond1.txt  \n",
       " 25    time16-cond1.txt  \n",
       " 26   time158-cond1.txt  \n",
       " 27   time191-cond1.txt  \n",
       " 28    time73-cond1.txt  \n",
       " 29   time122-cond1.txt  \n",
       " ..                 ...  \n",
       " 180   time87-cond1.txt  \n",
       " 181  time165-cond1.txt  \n",
       " 182    time8-cond1.txt  \n",
       " 183   time34-cond1.txt  \n",
       " 184   time98-cond1.txt  \n",
       " 185   time51-cond1.txt  \n",
       " 186  time100-cond1.txt  \n",
       " 187  time114-cond1.txt  \n",
       " 188   time45-cond1.txt  \n",
       " 189    time3-cond1.txt  \n",
       " 190  time135-cond1.txt  \n",
       " 191  time186-cond1.txt  \n",
       " 192   time64-cond1.txt  \n",
       " 193   time70-cond1.txt  \n",
       " 194  time192-cond1.txt  \n",
       " 195  time121-cond1.txt  \n",
       " 196   time95-cond1.txt  \n",
       " 197  time177-cond1.txt  \n",
       " 198  time207-cond1.txt  \n",
       " 199   time26-cond1.txt  \n",
       " 200  time119-cond1.txt  \n",
       " 201   time32-cond1.txt  \n",
       " 202  time163-cond1.txt  \n",
       " 203   time48-cond1.txt  \n",
       " 204   time81-cond1.txt  \n",
       " 205   time13-cond1.txt  \n",
       " 206  time138-cond1.txt  \n",
       " 207   time69-cond1.txt  \n",
       " 208  time142-cond1.txt  \n",
       " 209  time156-cond1.txt  \n",
       " \n",
       " [210 rows x 5 columns])"
      ]
     },
     "execution_count": 63,
     "metadata": {},
     "output_type": "execute_result"
    }
   ],
   "source": [
    "[turn_real,convo_real]= PHASE2RUN_REAL(\n",
    "                        input_files = INPUT_PATH+'examples/CHILDES/childes-prepped/',\n",
    "                        add_stanford_tags=True,  \n",
    "                        maxngram=3,   \n",
    "                        use_pretrained_vectors=True,\n",
    "                        semantic_model_input_file=INPUT_PATH+'align_concatenated_dataframe.txt',\n",
    "                        output_file_directory = INPUT_PATH+'examples/CHILDES/childes-analysis/',\n",
    "                        pretrained_input_file=INPUT_PATH+'package_files/GoogleNews-vectors-negative300.bin',\n",
    "                        ignore_duplicates=True,\n",
    "                        delay=1,\n",
    "                        high_sd_cutoff=3,\n",
    "                        low_n_cutoff=1,\n",
    "                        input_as_directory=True)\n",
    "turn_real,convo_real \n",
    "\n"
   ]
  },
  {
   "cell_type": "markdown",
   "metadata": {
    "deletable": true,
    "editable": true
   },
   "source": [
    "## Phase 2: Surrogate"
   ]
  },
  {
   "cell_type": "code",
   "execution_count": 47,
   "metadata": {
    "collapsed": true,
    "deletable": true,
    "editable": true
   },
   "outputs": [],
   "source": [
    "start_phase2surrogate = time.time()"
   ]
  },
  {
   "cell_type": "code",
   "execution_count": 65,
   "metadata": {
    "collapsed": false,
    "deletable": true,
    "editable": true
   },
   "outputs": [
    {
     "name": "stdout",
     "output_type": "stream",
     "text": [
      "Processing: /Users/nduran/Desktop/GitProjects/align-linguistic-alignment/examples/CHILDES/childes-surrogate/surrogate_run-1514586050.78/SurrogatePair-time17A-time101B-cond1.txt\n",
      "Processing: /Users/nduran/Desktop/GitProjects/align-linguistic-alignment/examples/CHILDES/childes-surrogate/surrogate_run-1514586050.78/SurrogatePair-time126A-time149B-cond1.txt\n",
      "Processing: /Users/nduran/Desktop/GitProjects/align-linguistic-alignment/examples/CHILDES/childes-surrogate/surrogate_run-1514586050.78/SurrogatePair-time180A-time21B-cond1.txt\n",
      "Processing: /Users/nduran/Desktop/GitProjects/align-linguistic-alignment/examples/CHILDES/childes-surrogate/surrogate_run-1514586050.78/SurrogatePair-time158A-time71B-cond1.txt\n",
      "Processing: /Users/nduran/Desktop/GitProjects/align-linguistic-alignment/examples/CHILDES/childes-surrogate/surrogate_run-1514586050.78/SurrogatePair-time172A-time123B-cond1.txt\n",
      "Processing: /Users/nduran/Desktop/GitProjects/align-linguistic-alignment/examples/CHILDES/childes-surrogate/surrogate_run-1514586050.78/SurrogatePair-time188A-time14B-cond1.txt\n",
      "Processing: /Users/nduran/Desktop/GitProjects/align-linguistic-alignment/examples/CHILDES/childes-surrogate/surrogate_run-1514586050.78/SurrogatePair-time102A-time122B-cond1.txt\n",
      "Processing: /Users/nduran/Desktop/GitProjects/align-linguistic-alignment/examples/CHILDES/childes-surrogate/surrogate_run-1514586050.78/SurrogatePair-time119A-time85B-cond1.txt\n",
      "Processing: /Users/nduran/Desktop/GitProjects/align-linguistic-alignment/examples/CHILDES/childes-surrogate/surrogate_run-1514586050.78/SurrogatePair-time210A-time107B-cond1.txt\n",
      "Processing: /Users/nduran/Desktop/GitProjects/align-linguistic-alignment/examples/CHILDES/childes-surrogate/surrogate_run-1514586050.78/SurrogatePair-time15A-time20B-cond1.txt\n",
      "Processing: /Users/nduran/Desktop/GitProjects/align-linguistic-alignment/examples/CHILDES/childes-surrogate/surrogate_run-1514586050.78/SurrogatePair-time200A-time2B-cond1.txt\n",
      "Processing: /Users/nduran/Desktop/GitProjects/align-linguistic-alignment/examples/CHILDES/childes-surrogate/surrogate_run-1514586050.78/SurrogatePair-time187A-time111B-cond1.txt\n",
      "Processing: /Users/nduran/Desktop/GitProjects/align-linguistic-alignment/examples/CHILDES/childes-surrogate/surrogate_run-1514586050.78/SurrogatePair-time59A-time166B-cond1.txt\n",
      "Processing: /Users/nduran/Desktop/GitProjects/align-linguistic-alignment/examples/CHILDES/childes-surrogate/surrogate_run-1514586050.78/SurrogatePair-time43A-time40B-cond1.txt\n",
      "Processing: /Users/nduran/Desktop/GitProjects/align-linguistic-alignment/examples/CHILDES/childes-surrogate/surrogate_run-1514586050.78/SurrogatePair-time81A-time174B-cond1.txt\n",
      "Processing: /Users/nduran/Desktop/GitProjects/align-linguistic-alignment/examples/CHILDES/childes-surrogate/surrogate_run-1514586050.78/SurrogatePair-time205A-time206B-cond1.txt\n",
      "Processing: /Users/nduran/Desktop/GitProjects/align-linguistic-alignment/examples/CHILDES/childes-surrogate/surrogate_run-1514586050.78/SurrogatePair-time208A-time201B-cond1.txt\n",
      "Processing: /Users/nduran/Desktop/GitProjects/align-linguistic-alignment/examples/CHILDES/childes-surrogate/surrogate_run-1514586050.78/SurrogatePair-time56A-time96B-cond1.txt\n",
      "Processing: /Users/nduran/Desktop/GitProjects/align-linguistic-alignment/examples/CHILDES/childes-surrogate/surrogate_run-1514586050.78/SurrogatePair-time20A-time15B-cond1.txt\n",
      "Processing: /Users/nduran/Desktop/GitProjects/align-linguistic-alignment/examples/CHILDES/childes-surrogate/surrogate_run-1514586050.78/SurrogatePair-time94A-time190B-cond1.txt\n",
      "Processing: /Users/nduran/Desktop/GitProjects/align-linguistic-alignment/examples/CHILDES/childes-surrogate/surrogate_run-1514586050.78/SurrogatePair-time85A-time102B-cond1.txt\n",
      "Processing: /Users/nduran/Desktop/GitProjects/align-linguistic-alignment/examples/CHILDES/childes-surrogate/surrogate_run-1514586050.78/SurrogatePair-time101A-time17B-cond1.txt\n",
      "Processing: /Users/nduran/Desktop/GitProjects/align-linguistic-alignment/examples/CHILDES/childes-surrogate/surrogate_run-1514586050.78/SurrogatePair-time111A-time187B-cond1.txt\n",
      "Processing: /Users/nduran/Desktop/GitProjects/align-linguistic-alignment/examples/CHILDES/childes-surrogate/surrogate_run-1514586050.78/SurrogatePair-time44A-time136B-cond1.txt\n",
      "Processing: /Users/nduran/Desktop/GitProjects/align-linguistic-alignment/examples/CHILDES/childes-surrogate/surrogate_run-1514586050.78/SurrogatePair-time26A-time129B-cond1.txt\n",
      "Processing: /Users/nduran/Desktop/GitProjects/align-linguistic-alignment/examples/CHILDES/childes-surrogate/surrogate_run-1514586050.78/SurrogatePair-time202A-time108B-cond1.txt\n",
      "Processing: /Users/nduran/Desktop/GitProjects/align-linguistic-alignment/examples/CHILDES/childes-surrogate/surrogate_run-1514586050.78/SurrogatePair-time52A-time120B-cond1.txt\n",
      "Processing: /Users/nduran/Desktop/GitProjects/align-linguistic-alignment/examples/CHILDES/childes-surrogate/surrogate_run-1514586050.78/SurrogatePair-time129A-time51B-cond1.txt\n",
      "Processing: /Users/nduran/Desktop/GitProjects/align-linguistic-alignment/examples/CHILDES/childes-surrogate/surrogate_run-1514586050.78/SurrogatePair-time165A-time46B-cond1.txt\n",
      "Processing: /Users/nduran/Desktop/GitProjects/align-linguistic-alignment/examples/CHILDES/childes-surrogate/surrogate_run-1514586050.78/SurrogatePair-time199A-time78B-cond1.txt\n",
      "Processing: /Users/nduran/Desktop/GitProjects/align-linguistic-alignment/examples/CHILDES/childes-surrogate/surrogate_run-1514586050.78/SurrogatePair-time172A-time75B-cond1.txt\n",
      "Processing: /Users/nduran/Desktop/GitProjects/align-linguistic-alignment/examples/CHILDES/childes-surrogate/surrogate_run-1514586050.78/SurrogatePair-time90A-time75B-cond1.txt\n",
      "Processing: /Users/nduran/Desktop/GitProjects/align-linguistic-alignment/examples/CHILDES/childes-surrogate/surrogate_run-1514586050.78/SurrogatePair-time18A-time78B-cond1.txt\n",
      "Processing: /Users/nduran/Desktop/GitProjects/align-linguistic-alignment/examples/CHILDES/childes-surrogate/surrogate_run-1514586050.78/SurrogatePair-time181A-time80B-cond1.txt\n",
      "Processing: /Users/nduran/Desktop/GitProjects/align-linguistic-alignment/examples/CHILDES/childes-surrogate/surrogate_run-1514586050.78/SurrogatePair-time119A-time145B-cond1.txt\n",
      "Processing: /Users/nduran/Desktop/GitProjects/align-linguistic-alignment/examples/CHILDES/childes-surrogate/surrogate_run-1514586050.78/SurrogatePair-time29A-time111B-cond1.txt\n",
      "Processing: /Users/nduran/Desktop/GitProjects/align-linguistic-alignment/examples/CHILDES/childes-surrogate/surrogate_run-1514586050.78/SurrogatePair-time11A-time57B-cond1.txt\n",
      "Processing: /Users/nduran/Desktop/GitProjects/align-linguistic-alignment/examples/CHILDES/childes-surrogate/surrogate_run-1514586050.78/SurrogatePair-time113A-time125B-cond1.txt\n",
      "Processing: /Users/nduran/Desktop/GitProjects/align-linguistic-alignment/examples/CHILDES/childes-surrogate/surrogate_run-1514586050.78/SurrogatePair-time169A-time206B-cond1.txt\n",
      "Processing: /Users/nduran/Desktop/GitProjects/align-linguistic-alignment/examples/CHILDES/childes-surrogate/surrogate_run-1514586050.78/SurrogatePair-time113A-time193B-cond1.txt\n",
      "Processing: /Users/nduran/Desktop/GitProjects/align-linguistic-alignment/examples/CHILDES/childes-surrogate/surrogate_run-1514586050.78/SurrogatePair-time28A-time39B-cond1.txt\n",
      "Processing: /Users/nduran/Desktop/GitProjects/align-linguistic-alignment/examples/CHILDES/childes-surrogate/surrogate_run-1514586050.78/SurrogatePair-time164A-time40B-cond1.txt\n",
      "Processing: /Users/nduran/Desktop/GitProjects/align-linguistic-alignment/examples/CHILDES/childes-surrogate/surrogate_run-1514586050.78/SurrogatePair-time207A-time86B-cond1.txt\n",
      "Processing: /Users/nduran/Desktop/GitProjects/align-linguistic-alignment/examples/CHILDES/childes-surrogate/surrogate_run-1514586050.78/SurrogatePair-time57A-time11B-cond1.txt\n",
      "Processing: /Users/nduran/Desktop/GitProjects/align-linguistic-alignment/examples/CHILDES/childes-surrogate/surrogate_run-1514586050.78/SurrogatePair-time28A-time82B-cond1.txt\n",
      "Processing: /Users/nduran/Desktop/GitProjects/align-linguistic-alignment/examples/CHILDES/childes-surrogate/surrogate_run-1514586050.78/SurrogatePair-time114A-time54B-cond1.txt\n",
      "Processing: /Users/nduran/Desktop/GitProjects/align-linguistic-alignment/examples/CHILDES/childes-surrogate/surrogate_run-1514586050.78/SurrogatePair-time14A-time188B-cond1.txt\n",
      "Processing: /Users/nduran/Desktop/GitProjects/align-linguistic-alignment/examples/CHILDES/childes-surrogate/surrogate_run-1514586050.78/SurrogatePair-time118A-time60B-cond1.txt\n",
      "Processing: /Users/nduran/Desktop/GitProjects/align-linguistic-alignment/examples/CHILDES/childes-surrogate/surrogate_run-1514586050.78/SurrogatePair-time50A-time99B-cond1.txt\n",
      "Processing: /Users/nduran/Desktop/GitProjects/align-linguistic-alignment/examples/CHILDES/childes-surrogate/surrogate_run-1514586050.78/SurrogatePair-time193A-time113B-cond1.txt\n",
      "Processing: /Users/nduran/Desktop/GitProjects/align-linguistic-alignment/examples/CHILDES/childes-surrogate/surrogate_run-1514586050.78/SurrogatePair-time49A-time147B-cond1.txt\n",
      "Processing: /Users/nduran/Desktop/GitProjects/align-linguistic-alignment/examples/CHILDES/childes-surrogate/surrogate_run-1514586050.78/SurrogatePair-time96A-time56B-cond1.txt\n",
      "Processing: /Users/nduran/Desktop/GitProjects/align-linguistic-alignment/examples/CHILDES/childes-surrogate/surrogate_run-1514586050.78/SurrogatePair-time9A-time105B-cond1.txt\n",
      "Processing: /Users/nduran/Desktop/GitProjects/align-linguistic-alignment/examples/CHILDES/childes-surrogate/surrogate_run-1514586050.78/SurrogatePair-time125A-time113B-cond1.txt\n",
      "Processing: /Users/nduran/Desktop/GitProjects/align-linguistic-alignment/examples/CHILDES/childes-surrogate/surrogate_run-1514586050.78/SurrogatePair-time108A-time202B-cond1.txt\n",
      "Processing: /Users/nduran/Desktop/GitProjects/align-linguistic-alignment/examples/CHILDES/childes-surrogate/surrogate_run-1514586050.78/SurrogatePair-time196A-time149B-cond1.txt\n",
      "Processing: /Users/nduran/Desktop/GitProjects/align-linguistic-alignment/examples/CHILDES/childes-surrogate/surrogate_run-1514586050.78/SurrogatePair-time136A-time111B-cond1.txt\n",
      "Processing: /Users/nduran/Desktop/GitProjects/align-linguistic-alignment/examples/CHILDES/childes-surrogate/surrogate_run-1514586050.78/SurrogatePair-time50A-time61B-cond1.txt\n",
      "Processing: /Users/nduran/Desktop/GitProjects/align-linguistic-alignment/examples/CHILDES/childes-surrogate/surrogate_run-1514586050.78/SurrogatePair-time40A-time164B-cond1.txt\n",
      "Processing: /Users/nduran/Desktop/GitProjects/align-linguistic-alignment/examples/CHILDES/childes-surrogate/surrogate_run-1514586050.78/SurrogatePair-time116A-time110B-cond1.txt\n",
      "Processing: /Users/nduran/Desktop/GitProjects/align-linguistic-alignment/examples/CHILDES/childes-surrogate/surrogate_run-1514586050.78/SurrogatePair-time99A-time50B-cond1.txt\n",
      "Processing: /Users/nduran/Desktop/GitProjects/align-linguistic-alignment/examples/CHILDES/childes-surrogate/surrogate_run-1514586050.78/SurrogatePair-time169A-time34B-cond1.txt\n",
      "Processing: /Users/nduran/Desktop/GitProjects/align-linguistic-alignment/examples/CHILDES/childes-surrogate/surrogate_run-1514586050.78/SurrogatePair-time127A-time209B-cond1.txt\n",
      "Processing: /Users/nduran/Desktop/GitProjects/align-linguistic-alignment/examples/CHILDES/childes-surrogate/surrogate_run-1514586050.78/SurrogatePair-time62A-time89B-cond1.txt\n",
      "Processing: /Users/nduran/Desktop/GitProjects/align-linguistic-alignment/examples/CHILDES/childes-surrogate/surrogate_run-1514586050.78/SurrogatePair-time172A-time99B-cond1.txt\n",
      "Processing: /Users/nduran/Desktop/GitProjects/align-linguistic-alignment/examples/CHILDES/childes-surrogate/surrogate_run-1514586050.78/SurrogatePair-time136A-time44B-cond1.txt\n",
      "Processing: /Users/nduran/Desktop/GitProjects/align-linguistic-alignment/examples/CHILDES/childes-surrogate/surrogate_run-1514586050.78/SurrogatePair-time153A-time164B-cond1.txt\n",
      "Processing: /Users/nduran/Desktop/GitProjects/align-linguistic-alignment/examples/CHILDES/childes-surrogate/surrogate_run-1514586050.78/SurrogatePair-time120A-time52B-cond1.txt\n",
      "Processing: /Users/nduran/Desktop/GitProjects/align-linguistic-alignment/examples/CHILDES/childes-surrogate/surrogate_run-1514586050.78/SurrogatePair-time68A-time119B-cond1.txt\n",
      "Processing: /Users/nduran/Desktop/GitProjects/align-linguistic-alignment/examples/CHILDES/childes-surrogate/surrogate_run-1514586050.78/SurrogatePair-time33A-time152B-cond1.txt\n",
      "Processing: /Users/nduran/Desktop/GitProjects/align-linguistic-alignment/examples/CHILDES/childes-surrogate/surrogate_run-1514586050.78/SurrogatePair-time208A-time203B-cond1.txt\n",
      "Processing: /Users/nduran/Desktop/GitProjects/align-linguistic-alignment/examples/CHILDES/childes-surrogate/surrogate_run-1514586050.78/SurrogatePair-time149A-time196B-cond1.txt\n",
      "Processing: /Users/nduran/Desktop/GitProjects/align-linguistic-alignment/examples/CHILDES/childes-surrogate/surrogate_run-1514586050.78/SurrogatePair-time106A-time193B-cond1.txt\n",
      "Processing: /Users/nduran/Desktop/GitProjects/align-linguistic-alignment/examples/CHILDES/childes-surrogate/surrogate_run-1514586050.78/SurrogatePair-time24A-time173B-cond1.txt\n",
      "Processing: /Users/nduran/Desktop/GitProjects/align-linguistic-alignment/examples/CHILDES/childes-surrogate/surrogate_run-1514586050.78/SurrogatePair-time72A-time32B-cond1.txt\n",
      "Processing: /Users/nduran/Desktop/GitProjects/align-linguistic-alignment/examples/CHILDES/childes-surrogate/surrogate_run-1514586050.78/SurrogatePair-time152A-time33B-cond1.txt\n",
      "Processing: /Users/nduran/Desktop/GitProjects/align-linguistic-alignment/examples/CHILDES/childes-surrogate/surrogate_run-1514586050.78/SurrogatePair-time92A-time24B-cond1.txt\n",
      "Processing: /Users/nduran/Desktop/GitProjects/align-linguistic-alignment/examples/CHILDES/childes-surrogate/surrogate_run-1514586050.78/SurrogatePair-time200A-time107B-cond1.txt\n",
      "Processing: /Users/nduran/Desktop/GitProjects/align-linguistic-alignment/examples/CHILDES/childes-surrogate/surrogate_run-1514586050.78/SurrogatePair-time85A-time119B-cond1.txt\n",
      "Processing: /Users/nduran/Desktop/GitProjects/align-linguistic-alignment/examples/CHILDES/childes-surrogate/surrogate_run-1514586050.78/SurrogatePair-time89A-time157B-cond1.txt\n",
      "Processing: /Users/nduran/Desktop/GitProjects/align-linguistic-alignment/examples/CHILDES/childes-surrogate/surrogate_run-1514586050.78/SurrogatePair-time24A-time92B-cond1.txt\n",
      "Processing: /Users/nduran/Desktop/GitProjects/align-linguistic-alignment/examples/CHILDES/childes-surrogate/surrogate_run-1514586050.78/SurrogatePair-time111A-time45B-cond1.txt\n",
      "Processing: /Users/nduran/Desktop/GitProjects/align-linguistic-alignment/examples/CHILDES/childes-surrogate/surrogate_run-1514586050.78/SurrogatePair-time135A-time108B-cond1.txt\n",
      "Processing: /Users/nduran/Desktop/GitProjects/align-linguistic-alignment/examples/CHILDES/childes-surrogate/surrogate_run-1514586050.78/SurrogatePair-time107A-time200B-cond1.txt\n",
      "Processing: /Users/nduran/Desktop/GitProjects/align-linguistic-alignment/examples/CHILDES/childes-surrogate/surrogate_run-1514586050.78/SurrogatePair-time16A-time33B-cond1.txt\n",
      "Processing: /Users/nduran/Desktop/GitProjects/align-linguistic-alignment/examples/CHILDES/childes-surrogate/surrogate_run-1514586050.78/SurrogatePair-time11A-time139B-cond1.txt\n",
      "Processing: /Users/nduran/Desktop/GitProjects/align-linguistic-alignment/examples/CHILDES/childes-surrogate/surrogate_run-1514586050.78/SurrogatePair-time111A-time136B-cond1.txt\n",
      "Processing: /Users/nduran/Desktop/GitProjects/align-linguistic-alignment/examples/CHILDES/childes-surrogate/surrogate_run-1514586050.78/SurrogatePair-time173A-time24B-cond1.txt\n",
      "Processing: /Users/nduran/Desktop/GitProjects/align-linguistic-alignment/examples/CHILDES/childes-surrogate/surrogate_run-1514586050.78/SurrogatePair-time135A-time114B-cond1.txt\n",
      "Processing: /Users/nduran/Desktop/GitProjects/align-linguistic-alignment/examples/CHILDES/childes-surrogate/surrogate_run-1514586050.78/SurrogatePair-time131A-time36B-cond1.txt\n",
      "Processing: /Users/nduran/Desktop/GitProjects/align-linguistic-alignment/examples/CHILDES/childes-surrogate/surrogate_run-1514586050.78/SurrogatePair-time180A-time7B-cond1.txt\n",
      "Processing: /Users/nduran/Desktop/GitProjects/align-linguistic-alignment/examples/CHILDES/childes-surrogate/surrogate_run-1514586050.78/SurrogatePair-time79A-time192B-cond1.txt\n",
      "Processing: /Users/nduran/Desktop/GitProjects/align-linguistic-alignment/examples/CHILDES/childes-surrogate/surrogate_run-1514586050.78/SurrogatePair-time78A-time18B-cond1.txt\n",
      "Processing: /Users/nduran/Desktop/GitProjects/align-linguistic-alignment/examples/CHILDES/childes-surrogate/surrogate_run-1514586050.78/SurrogatePair-time61A-time50B-cond1.txt\n",
      "Processing: /Users/nduran/Desktop/GitProjects/align-linguistic-alignment/examples/CHILDES/childes-surrogate/surrogate_run-1514586050.78/SurrogatePair-time122A-time102B-cond1.txt\n",
      "Processing: /Users/nduran/Desktop/GitProjects/align-linguistic-alignment/examples/CHILDES/childes-surrogate/surrogate_run-1514586050.78/SurrogatePair-time74A-time184B-cond1.txt\n",
      "Processing: /Users/nduran/Desktop/GitProjects/align-linguistic-alignment/examples/CHILDES/childes-surrogate/surrogate_run-1514586050.78/SurrogatePair-time91A-time146B-cond1.txt\n",
      "Processing: /Users/nduran/Desktop/GitProjects/align-linguistic-alignment/examples/CHILDES/childes-surrogate/surrogate_run-1514586050.78/SurrogatePair-time102A-time85B-cond1.txt\n",
      "Processing: /Users/nduran/Desktop/GitProjects/align-linguistic-alignment/examples/CHILDES/childes-surrogate/surrogate_run-1514586050.78/SurrogatePair-time80A-time181B-cond1.txt\n",
      "Processing: /Users/nduran/Desktop/GitProjects/align-linguistic-alignment/examples/CHILDES/childes-surrogate/surrogate_run-1514586050.78/SurrogatePair-time89A-time62B-cond1.txt\n",
      "Processing: /Users/nduran/Desktop/GitProjects/align-linguistic-alignment/examples/CHILDES/childes-surrogate/surrogate_run-1514586050.78/SurrogatePair-time39A-time57B-cond1.txt\n",
      "Processing: /Users/nduran/Desktop/GitProjects/align-linguistic-alignment/examples/CHILDES/childes-surrogate/surrogate_run-1514586050.78/SurrogatePair-time71A-time158B-cond1.txt\n",
      "Processing: /Users/nduran/Desktop/GitProjects/align-linguistic-alignment/examples/CHILDES/childes-surrogate/surrogate_run-1514586050.78/SurrogatePair-time117A-time78B-cond1.txt\n",
      "Processing: /Users/nduran/Desktop/GitProjects/align-linguistic-alignment/examples/CHILDES/childes-surrogate/surrogate_run-1514586050.78/SurrogatePair-time147A-time49B-cond1.txt\n",
      "Processing: /Users/nduran/Desktop/GitProjects/align-linguistic-alignment/examples/CHILDES/childes-surrogate/surrogate_run-1514586050.78/SurrogatePair-time51A-time129B-cond1.txt\n",
      "Processing: /Users/nduran/Desktop/GitProjects/align-linguistic-alignment/examples/CHILDES/childes-surrogate/surrogate_run-1514586050.78/SurrogatePair-time10A-time62B-cond1.txt\n",
      "Processing: /Users/nduran/Desktop/GitProjects/align-linguistic-alignment/examples/CHILDES/childes-surrogate/surrogate_run-1514586050.78/SurrogatePair-time81A-time112B-cond1.txt\n",
      "Processing: /Users/nduran/Desktop/GitProjects/align-linguistic-alignment/examples/CHILDES/childes-surrogate/surrogate_run-1514586050.78/SurrogatePair-time76A-time60B-cond1.txt\n",
      "Processing: /Users/nduran/Desktop/GitProjects/align-linguistic-alignment/examples/CHILDES/childes-surrogate/surrogate_run-1514586050.78/SurrogatePair-time39A-time91B-cond1.txt\n",
      "Processing: /Users/nduran/Desktop/GitProjects/align-linguistic-alignment/examples/CHILDES/childes-surrogate/surrogate_run-1514586050.78/SurrogatePair-time73A-time147B-cond1.txt\n",
      "Processing: /Users/nduran/Desktop/GitProjects/align-linguistic-alignment/examples/CHILDES/childes-surrogate/surrogate_run-1514586050.78/SurrogatePair-time39A-time72B-cond1.txt\n",
      "Processing: /Users/nduran/Desktop/GitProjects/align-linguistic-alignment/examples/CHILDES/childes-surrogate/surrogate_run-1514586050.78/SurrogatePair-time149A-time126B-cond1.txt\n",
      "Processing: /Users/nduran/Desktop/GitProjects/align-linguistic-alignment/examples/CHILDES/childes-surrogate/surrogate_run-1514586050.78/SurrogatePair-time164A-time200B-cond1.txt\n",
      "Processing: /Users/nduran/Desktop/GitProjects/align-linguistic-alignment/examples/CHILDES/childes-surrogate/surrogate_run-1514586050.78/SurrogatePair-time108A-time135B-cond1.txt\n",
      "Processing: /Users/nduran/Desktop/GitProjects/align-linguistic-alignment/examples/CHILDES/childes-surrogate/surrogate_run-1514586050.78/SurrogatePair-time169A-time76B-cond1.txt\n",
      "Processing: /Users/nduran/Desktop/GitProjects/align-linguistic-alignment/examples/CHILDES/childes-surrogate/surrogate_run-1514586050.78/SurrogatePair-time205A-time62B-cond1.txt\n",
      "Processing: /Users/nduran/Desktop/GitProjects/align-linguistic-alignment/examples/CHILDES/childes-surrogate/surrogate_run-1514586050.78/SurrogatePair-time76A-time169B-cond1.txt\n",
      "Processing: /Users/nduran/Desktop/GitProjects/align-linguistic-alignment/examples/CHILDES/childes-surrogate/surrogate_run-1514586050.78/SurrogatePair-time72A-time39B-cond1.txt\n",
      "Processing: /Users/nduran/Desktop/GitProjects/align-linguistic-alignment/examples/CHILDES/childes-surrogate/surrogate_run-1514586050.78/SurrogatePair-time87A-time106B-cond1.txt\n",
      "Processing: /Users/nduran/Desktop/GitProjects/align-linguistic-alignment/examples/CHILDES/childes-surrogate/surrogate_run-1514586050.78/SurrogatePair-time79A-time88B-cond1.txt\n",
      "Processing: /Users/nduran/Desktop/GitProjects/align-linguistic-alignment/examples/CHILDES/childes-surrogate/surrogate_run-1514586050.78/SurrogatePair-time123A-time172B-cond1.txt\n",
      "Processing: /Users/nduran/Desktop/GitProjects/align-linguistic-alignment/examples/CHILDES/childes-surrogate/surrogate_run-1514586050.78/SurrogatePair-time147A-time73B-cond1.txt\n",
      "Processing: /Users/nduran/Desktop/GitProjects/align-linguistic-alignment/examples/CHILDES/childes-surrogate/surrogate_run-1514586050.78/SurrogatePair-time175A-time78B-cond1.txt\n",
      "Processing: /Users/nduran/Desktop/GitProjects/align-linguistic-alignment/examples/CHILDES/childes-surrogate/surrogate_run-1514586050.78/SurrogatePair-time129A-time26B-cond1.txt\n",
      "Processing: /Users/nduran/Desktop/GitProjects/align-linguistic-alignment/examples/CHILDES/childes-surrogate/surrogate_run-1514586050.78/SurrogatePair-time60A-time76B-cond1.txt\n",
      "Processing: /Users/nduran/Desktop/GitProjects/align-linguistic-alignment/examples/CHILDES/childes-surrogate/surrogate_run-1514586050.78/SurrogatePair-time179A-time112B-cond1.txt\n",
      "Processing: /Users/nduran/Desktop/GitProjects/align-linguistic-alignment/examples/CHILDES/childes-surrogate/surrogate_run-1514586050.78/SurrogatePair-time111A-time29B-cond1.txt\n",
      "Processing: /Users/nduran/Desktop/GitProjects/align-linguistic-alignment/examples/CHILDES/childes-surrogate/surrogate_run-1514586050.78/SurrogatePair-time106A-time87B-cond1.txt\n",
      "Processing: /Users/nduran/Desktop/GitProjects/align-linguistic-alignment/examples/CHILDES/childes-surrogate/surrogate_run-1514586050.78/SurrogatePair-time164A-time153B-cond1.txt\n",
      "Processing: /Users/nduran/Desktop/GitProjects/align-linguistic-alignment/examples/CHILDES/childes-surrogate/surrogate_run-1514586050.78/SurrogatePair-time139A-time11B-cond1.txt\n",
      "Processing: /Users/nduran/Desktop/GitProjects/align-linguistic-alignment/examples/CHILDES/childes-surrogate/surrogate_run-1514586050.78/SurrogatePair-time103A-time173B-cond1.txt\n",
      "Processing: /Users/nduran/Desktop/GitProjects/align-linguistic-alignment/examples/CHILDES/childes-surrogate/surrogate_run-1514586050.78/SurrogatePair-time174A-time81B-cond1.txt\n",
      "Processing: /Users/nduran/Desktop/GitProjects/align-linguistic-alignment/examples/CHILDES/childes-surrogate/surrogate_run-1514586050.78/SurrogatePair-time51A-time143B-cond1.txt\n",
      "Processing: /Users/nduran/Desktop/GitProjects/align-linguistic-alignment/examples/CHILDES/childes-surrogate/surrogate_run-1514586050.78/SurrogatePair-time99A-time153B-cond1.txt\n",
      "Processing: /Users/nduran/Desktop/GitProjects/align-linguistic-alignment/examples/CHILDES/childes-surrogate/surrogate_run-1514586050.78/SurrogatePair-time45A-time111B-cond1.txt\n",
      "Processing: /Users/nduran/Desktop/GitProjects/align-linguistic-alignment/examples/CHILDES/childes-surrogate/surrogate_run-1514586050.78/SurrogatePair-time184A-time74B-cond1.txt\n",
      "Processing: /Users/nduran/Desktop/GitProjects/align-linguistic-alignment/examples/CHILDES/childes-surrogate/surrogate_run-1514586050.78/SurrogatePair-time112A-time179B-cond1.txt\n",
      "Processing: /Users/nduran/Desktop/GitProjects/align-linguistic-alignment/examples/CHILDES/childes-surrogate/surrogate_run-1514586050.78/SurrogatePair-time78A-time199B-cond1.txt\n",
      "Processing: /Users/nduran/Desktop/GitProjects/align-linguistic-alignment/examples/CHILDES/childes-surrogate/surrogate_run-1514586050.78/SurrogatePair-time60A-time118B-cond1.txt\n",
      "Processing: /Users/nduran/Desktop/GitProjects/align-linguistic-alignment/examples/CHILDES/childes-surrogate/surrogate_run-1514586050.78/SurrogatePair-time110A-time116B-cond1.txt\n",
      "Processing: /Users/nduran/Desktop/GitProjects/align-linguistic-alignment/examples/CHILDES/childes-surrogate/surrogate_run-1514586050.78/SurrogatePair-time114A-time135B-cond1.txt\n",
      "Processing: /Users/nduran/Desktop/GitProjects/align-linguistic-alignment/examples/CHILDES/childes-surrogate/surrogate_run-1514586050.78/SurrogatePair-time18A-time116B-cond1.txt\n",
      "Processing: /Users/nduran/Desktop/GitProjects/align-linguistic-alignment/examples/CHILDES/childes-surrogate/surrogate_run-1514586050.78/SurrogatePair-time86A-time208B-cond1.txt\n",
      "Processing: /Users/nduran/Desktop/GitProjects/align-linguistic-alignment/examples/CHILDES/childes-surrogate/surrogate_run-1514586050.78/SurrogatePair-time76A-time43B-cond1.txt\n",
      "Processing: /Users/nduran/Desktop/GitProjects/align-linguistic-alignment/examples/CHILDES/childes-surrogate/surrogate_run-1514586050.78/SurrogatePair-time157A-time89B-cond1.txt\n",
      "Processing: /Users/nduran/Desktop/GitProjects/align-linguistic-alignment/examples/CHILDES/childes-surrogate/surrogate_run-1514586050.78/SurrogatePair-time153A-time99B-cond1.txt\n",
      "Processing: /Users/nduran/Desktop/GitProjects/align-linguistic-alignment/examples/CHILDES/childes-surrogate/surrogate_run-1514586050.78/SurrogatePair-time43A-time76B-cond1.txt\n",
      "Processing: /Users/nduran/Desktop/GitProjects/align-linguistic-alignment/examples/CHILDES/childes-surrogate/surrogate_run-1514586050.78/SurrogatePair-time193A-time106B-cond1.txt\n",
      "Processing: /Users/nduran/Desktop/GitProjects/align-linguistic-alignment/examples/CHILDES/childes-surrogate/surrogate_run-1514586050.78/SurrogatePair-time7A-time180B-cond1.txt\n",
      "Processing: /Users/nduran/Desktop/GitProjects/align-linguistic-alignment/examples/CHILDES/childes-surrogate/surrogate_run-1514586050.78/SurrogatePair-time42A-time150B-cond1.txt\n",
      "Processing: /Users/nduran/Desktop/GitProjects/align-linguistic-alignment/examples/CHILDES/childes-surrogate/surrogate_run-1514586050.78/SurrogatePair-time143A-time51B-cond1.txt\n",
      "Processing: /Users/nduran/Desktop/GitProjects/align-linguistic-alignment/examples/CHILDES/childes-surrogate/surrogate_run-1514586050.78/SurrogatePair-time177A-time76B-cond1.txt\n",
      "Processing: /Users/nduran/Desktop/GitProjects/align-linguistic-alignment/examples/CHILDES/childes-surrogate/surrogate_run-1514586050.78/SurrogatePair-time87A-time188B-cond1.txt\n",
      "Processing: /Users/nduran/Desktop/GitProjects/align-linguistic-alignment/examples/CHILDES/childes-surrogate/surrogate_run-1514586050.78/SurrogatePair-time166A-time59B-cond1.txt\n",
      "Processing: /Users/nduran/Desktop/GitProjects/align-linguistic-alignment/examples/CHILDES/childes-surrogate/surrogate_run-1514586050.78/SurrogatePair-time99A-time172B-cond1.txt\n",
      "Processing: /Users/nduran/Desktop/GitProjects/align-linguistic-alignment/examples/CHILDES/childes-surrogate/surrogate_run-1514586050.78/SurrogatePair-time40A-time43B-cond1.txt\n",
      "Processing: /Users/nduran/Desktop/GitProjects/align-linguistic-alignment/examples/CHILDES/childes-surrogate/surrogate_run-1514586050.78/SurrogatePair-time201A-time208B-cond1.txt\n",
      "Processing: /Users/nduran/Desktop/GitProjects/align-linguistic-alignment/examples/CHILDES/childes-surrogate/surrogate_run-1514586050.78/SurrogatePair-time91A-time39B-cond1.txt\n",
      "Processing: /Users/nduran/Desktop/GitProjects/align-linguistic-alignment/examples/CHILDES/childes-surrogate/surrogate_run-1514586050.78/SurrogatePair-time105A-time9B-cond1.txt\n",
      "Processing: /Users/nduran/Desktop/GitProjects/align-linguistic-alignment/examples/CHILDES/childes-surrogate/surrogate_run-1514586050.78/SurrogatePair-time209A-time127B-cond1.txt\n",
      "Processing: /Users/nduran/Desktop/GitProjects/align-linguistic-alignment/examples/CHILDES/childes-surrogate/surrogate_run-1514586050.78/SurrogatePair-time57A-time39B-cond1.txt\n",
      "Processing: /Users/nduran/Desktop/GitProjects/align-linguistic-alignment/examples/CHILDES/childes-surrogate/surrogate_run-1514586050.78/SurrogatePair-time173A-time103B-cond1.txt\n",
      "Processing: /Users/nduran/Desktop/GitProjects/align-linguistic-alignment/examples/CHILDES/childes-surrogate/surrogate_run-1514586050.78/SurrogatePair-time33A-time16B-cond1.txt\n",
      "Processing: /Users/nduran/Desktop/GitProjects/align-linguistic-alignment/examples/CHILDES/childes-surrogate/surrogate_run-1514586050.78/SurrogatePair-time21A-time180B-cond1.txt\n",
      "Processing: /Users/nduran/Desktop/GitProjects/align-linguistic-alignment/examples/CHILDES/childes-surrogate/surrogate_run-1514586050.78/SurrogatePair-time55A-time203B-cond1.txt\n",
      "Processing: /Users/nduran/Desktop/GitProjects/align-linguistic-alignment/examples/CHILDES/childes-surrogate/surrogate_run-1514586050.78/SurrogatePair-time54A-time114B-cond1.txt\n",
      "Processing: /Users/nduran/Desktop/GitProjects/align-linguistic-alignment/examples/CHILDES/childes-surrogate/surrogate_run-1514586050.78/SurrogatePair-time192A-time79B-cond1.txt\n",
      "Processing: /Users/nduran/Desktop/GitProjects/align-linguistic-alignment/examples/CHILDES/childes-surrogate/surrogate_run-1514586050.78/SurrogatePair-time203A-time208B-cond1.txt\n",
      "Processing: /Users/nduran/Desktop/GitProjects/align-linguistic-alignment/examples/CHILDES/childes-surrogate/surrogate_run-1514586050.78/SurrogatePair-time76A-time177B-cond1.txt\n",
      "Processing: /Users/nduran/Desktop/GitProjects/align-linguistic-alignment/examples/CHILDES/childes-surrogate/surrogate_run-1514586050.78/SurrogatePair-time18A-time11B-cond1.txt\n",
      "Processing: /Users/nduran/Desktop/GitProjects/align-linguistic-alignment/examples/CHILDES/childes-surrogate/surrogate_run-1514586050.78/SurrogatePair-time163A-time136B-cond1.txt\n",
      "Processing: /Users/nduran/Desktop/GitProjects/align-linguistic-alignment/examples/CHILDES/childes-surrogate/surrogate_run-1514586050.78/SurrogatePair-time206A-time169B-cond1.txt\n",
      "Processing: /Users/nduran/Desktop/GitProjects/align-linguistic-alignment/examples/CHILDES/childes-surrogate/surrogate_run-1514586050.78/SurrogatePair-time146A-time91B-cond1.txt\n",
      "Processing: /Users/nduran/Desktop/GitProjects/align-linguistic-alignment/examples/CHILDES/childes-surrogate/surrogate_run-1514586050.78/SurrogatePair-time39A-time28B-cond1.txt\n",
      "Processing: /Users/nduran/Desktop/GitProjects/align-linguistic-alignment/examples/CHILDES/childes-surrogate/surrogate_run-1514586050.78/SurrogatePair-time107A-time210B-cond1.txt\n",
      "Processing: /Users/nduran/Desktop/GitProjects/align-linguistic-alignment/examples/CHILDES/childes-surrogate/surrogate_run-1514586050.78/SurrogatePair-time62A-time10B-cond1.txt\n",
      "Processing: /Users/nduran/Desktop/GitProjects/align-linguistic-alignment/examples/CHILDES/childes-surrogate/surrogate_run-1514586050.78/SurrogatePair-time150A-time42B-cond1.txt\n",
      "Processing: /Users/nduran/Desktop/GitProjects/align-linguistic-alignment/examples/CHILDES/childes-surrogate/surrogate_run-1514586050.78/SurrogatePair-time36A-time131B-cond1.txt\n",
      "Processing: /Users/nduran/Desktop/GitProjects/align-linguistic-alignment/examples/CHILDES/childes-surrogate/surrogate_run-1514586050.78/SurrogatePair-time145A-time119B-cond1.txt\n",
      "Processing: /Users/nduran/Desktop/GitProjects/align-linguistic-alignment/examples/CHILDES/childes-surrogate/surrogate_run-1514586050.78/SurrogatePair-time34A-time169B-cond1.txt\n",
      "Processing: /Users/nduran/Desktop/GitProjects/align-linguistic-alignment/examples/CHILDES/childes-surrogate/surrogate_run-1514586050.78/SurrogatePair-time14A-time121B-cond1.txt\n",
      "Processing: /Users/nduran/Desktop/GitProjects/align-linguistic-alignment/examples/CHILDES/childes-surrogate/surrogate_run-1514586050.78/SurrogatePair-time46A-time165B-cond1.txt\n",
      "Processing: /Users/nduran/Desktop/GitProjects/align-linguistic-alignment/examples/CHILDES/childes-surrogate/surrogate_run-1514586050.78/SurrogatePair-time116A-time18B-cond1.txt\n",
      "Processing: /Users/nduran/Desktop/GitProjects/align-linguistic-alignment/examples/CHILDES/childes-surrogate/surrogate_run-1514586050.78/SurrogatePair-time62A-time205B-cond1.txt\n",
      "Processing: /Users/nduran/Desktop/GitProjects/align-linguistic-alignment/examples/CHILDES/childes-surrogate/surrogate_run-1514586050.78/SurrogatePair-time206A-time205B-cond1.txt\n",
      "Processing: /Users/nduran/Desktop/GitProjects/align-linguistic-alignment/examples/CHILDES/childes-surrogate/surrogate_run-1514586050.78/SurrogatePair-time50A-time35B-cond1.txt\n",
      "Processing: /Users/nduran/Desktop/GitProjects/align-linguistic-alignment/examples/CHILDES/childes-surrogate/surrogate_run-1514586050.78/SurrogatePair-time82A-time28B-cond1.txt\n",
      "Processing: /Users/nduran/Desktop/GitProjects/align-linguistic-alignment/examples/CHILDES/childes-surrogate/surrogate_run-1514586050.78/SurrogatePair-time75A-time90B-cond1.txt\n",
      "Processing: /Users/nduran/Desktop/GitProjects/align-linguistic-alignment/examples/CHILDES/childes-surrogate/surrogate_run-1514586050.78/SurrogatePair-time190A-time94B-cond1.txt\n",
      "Processing: /Users/nduran/Desktop/GitProjects/align-linguistic-alignment/examples/CHILDES/childes-surrogate/surrogate_run-1514586050.78/SurrogatePair-time88A-time79B-cond1.txt\n",
      "Processing: /Users/nduran/Desktop/GitProjects/align-linguistic-alignment/examples/CHILDES/childes-surrogate/surrogate_run-1514586050.78/SurrogatePair-time122A-time8B-cond1.txt\n",
      "Processing: /Users/nduran/Desktop/GitProjects/align-linguistic-alignment/examples/CHILDES/childes-surrogate/surrogate_run-1514586050.78/SurrogatePair-time35A-time50B-cond1.txt\n",
      "Processing: /Users/nduran/Desktop/GitProjects/align-linguistic-alignment/examples/CHILDES/childes-surrogate/surrogate_run-1514586050.78/SurrogatePair-time112A-time81B-cond1.txt\n",
      "Processing: /Users/nduran/Desktop/GitProjects/align-linguistic-alignment/examples/CHILDES/childes-surrogate/surrogate_run-1514586050.78/SurrogatePair-time121A-time14B-cond1.txt\n",
      "Processing: /Users/nduran/Desktop/GitProjects/align-linguistic-alignment/examples/CHILDES/childes-surrogate/surrogate_run-1514586050.78/SurrogatePair-time8A-time122B-cond1.txt\n",
      "Processing: /Users/nduran/Desktop/GitProjects/align-linguistic-alignment/examples/CHILDES/childes-surrogate/surrogate_run-1514586050.78/SurrogatePair-time86A-time207B-cond1.txt\n",
      "Processing: /Users/nduran/Desktop/GitProjects/align-linguistic-alignment/examples/CHILDES/childes-surrogate/surrogate_run-1514586050.78/SurrogatePair-time11A-time18B-cond1.txt\n",
      "Processing: /Users/nduran/Desktop/GitProjects/align-linguistic-alignment/examples/CHILDES/childes-surrogate/surrogate_run-1514586050.78/SurrogatePair-time107A-time13B-cond1.txt\n",
      "Processing: /Users/nduran/Desktop/GitProjects/align-linguistic-alignment/examples/CHILDES/childes-surrogate/surrogate_run-1514586050.78/SurrogatePair-time13A-time107B-cond1.txt\n",
      "Processing: /Users/nduran/Desktop/GitProjects/align-linguistic-alignment/examples/CHILDES/childes-surrogate/surrogate_run-1514586050.78/SurrogatePair-time78A-time175B-cond1.txt\n",
      "Processing: /Users/nduran/Desktop/GitProjects/align-linguistic-alignment/examples/CHILDES/childes-surrogate/surrogate_run-1514586050.78/SurrogatePair-time200A-time164B-cond1.txt\n",
      "Processing: /Users/nduran/Desktop/GitProjects/align-linguistic-alignment/examples/CHILDES/childes-surrogate/surrogate_run-1514586050.78/SurrogatePair-time75A-time172B-cond1.txt\n",
      "Processing: /Users/nduran/Desktop/GitProjects/align-linguistic-alignment/examples/CHILDES/childes-surrogate/surrogate_run-1514586050.78/SurrogatePair-time188A-time87B-cond1.txt\n",
      "Processing: /Users/nduran/Desktop/GitProjects/align-linguistic-alignment/examples/CHILDES/childes-surrogate/surrogate_run-1514586050.78/SurrogatePair-time203A-time55B-cond1.txt\n",
      "Processing: /Users/nduran/Desktop/GitProjects/align-linguistic-alignment/examples/CHILDES/childes-surrogate/surrogate_run-1514586050.78/SurrogatePair-time78A-time117B-cond1.txt\n",
      "Processing: /Users/nduran/Desktop/GitProjects/align-linguistic-alignment/examples/CHILDES/childes-surrogate/surrogate_run-1514586050.78/SurrogatePair-time136A-time163B-cond1.txt\n",
      "Processing: /Users/nduran/Desktop/GitProjects/align-linguistic-alignment/examples/CHILDES/childes-surrogate/surrogate_run-1514586050.78/SurrogatePair-time119A-time68B-cond1.txt\n",
      "Processing: /Users/nduran/Desktop/GitProjects/align-linguistic-alignment/examples/CHILDES/childes-surrogate/surrogate_run-1514586050.78/SurrogatePair-time32A-time72B-cond1.txt\n",
      "Processing: /Users/nduran/Desktop/GitProjects/align-linguistic-alignment/examples/CHILDES/childes-surrogate/surrogate_run-1514586050.78/SurrogatePair-time2A-time200B-cond1.txt\n",
      "Processing: /Users/nduran/Desktop/GitProjects/align-linguistic-alignment/examples/CHILDES/childes-surrogate/surrogate_run-1514586050.78/SurrogatePair-time208A-time86B-cond1.txt\n"
     ]
    },
    {
     "data": {
      "text/plain": [
       "(       time syntax_penn_tok2 syntax_penn_lex2 lexical_tok2 lexical_lem2  \\\n",
       " 0         0         0.117851         0.117851            0            0   \n",
       " 1         1         0.327327         0.381881            0            0   \n",
       " 2         2         0.188982         0.188982            0            0   \n",
       " 3         3                0                0            0            0   \n",
       " 4         4                0                0            0            0   \n",
       " 5         5                0                0            0            0   \n",
       " 6         6                0                0            0            0   \n",
       " 7         7                0         0.204124            0            0   \n",
       " 8         8                0                0            0            0   \n",
       " 9         9                0           0.1283            0            0   \n",
       " 10       10                0          0.19245            0            0   \n",
       " 11       11         0.174078         0.160128            0            0   \n",
       " 12       12        0.0628695        0.0578315            0            0   \n",
       " 13       13         0.240772         0.240772            0            0   \n",
       " 14       14         0.096225         0.096225            0            0   \n",
       " 15       15                0                0     0.166667     0.166667   \n",
       " 16       16         0.129099         0.125988       0.1066     0.196116   \n",
       " 17       17         0.078811                0            0            0   \n",
       " 18       18                0         0.102062            0            0   \n",
       " 19       19                0                0            0            0   \n",
       " 20       20                0                0            0            0   \n",
       " 21       21                0                0            0            0   \n",
       " 22       22        0.0851257         0.174078            0            0   \n",
       " 23       23        0.0851257        0.0870388            0            0   \n",
       " 24       24                0                0            0            0   \n",
       " 25       25                0                0            0            0   \n",
       " 26       26         0.096225         0.096225            0            0   \n",
       " 27       27                0                0            0            0   \n",
       " 28       28                0             0.25            0            0   \n",
       " 29       29         0.188982         0.188982            0            0   \n",
       " ...     ...              ...              ...          ...          ...   \n",
       " 22514    55                0                0            0            0   \n",
       " 22515    56                0                0            0            0   \n",
       " 22516    57                0                0            0            0   \n",
       " 22517    58         0.204124         0.204124            0            0   \n",
       " 22518    59        0.0890871         0.178174            0            0   \n",
       " 22519    60         0.145479         0.197386            0            0   \n",
       " 22520    61                0                0            0            0   \n",
       " 22521    62                0                0            0            0   \n",
       " 22522    63                0         0.188982            0            0   \n",
       " 22523    64                0                0            0            0   \n",
       " 22524    65                0        0.0780869            0            0   \n",
       " 22525    66                0                0            0            0   \n",
       " 22526    67                0                0            0            0   \n",
       " 22527    68         0.333333         0.333333            0            0   \n",
       " 22528    69                0                0            0            0   \n",
       " 22529    70         0.182574         0.201008            0     0.113228   \n",
       " 22530    71                0                0            0            0   \n",
       " 22531    72                0                0            0            0   \n",
       " 22532    73         0.316228         0.400892            0            0   \n",
       " 22533    74                0                0            0            0   \n",
       " 22534    75         0.100504         0.111111            0            0   \n",
       " 22535    76        0.0628695        0.0727393            0            0   \n",
       " 22536    77        0.0505722         0.264628            0            0   \n",
       " 22537    78         0.121268         0.121268            0            0   \n",
       " 22538    79         0.158114         0.288675            0            0   \n",
       " 22539    80                0         0.144338            0            0   \n",
       " 22540    81                0          0.57735            0            0   \n",
       " 22541    82         0.258199         0.132453            0            0   \n",
       " 22542    83          0.13484         0.138343            0            0   \n",
       " 22543    84          0.06742         0.192847            0            0   \n",
       " \n",
       "       cosine_semanticL partner_direction        condition_info  \n",
       " 0             0.992487           cgv>kid  time17-time101-cond1  \n",
       " 1             0.997645           kid>cgv  time17-time101-cond1  \n",
       " 2             0.986131           cgv>kid  time17-time101-cond1  \n",
       " 3             0.986277           kid>cgv  time17-time101-cond1  \n",
       " 4             0.999502           cgv>kid  time17-time101-cond1  \n",
       " 5             0.995029           kid>cgv  time17-time101-cond1  \n",
       " 6             0.998863           cgv>kid  time17-time101-cond1  \n",
       " 7             0.999486           kid>cgv  time17-time101-cond1  \n",
       " 8             0.999681           cgv>kid  time17-time101-cond1  \n",
       " 9              0.99924           kid>cgv  time17-time101-cond1  \n",
       " 10             0.99883           cgv>kid  time17-time101-cond1  \n",
       " 11            0.996296           kid>cgv  time17-time101-cond1  \n",
       " 12            0.997234           cgv>kid  time17-time101-cond1  \n",
       " 13            0.998479           kid>cgv  time17-time101-cond1  \n",
       " 14            0.996088           cgv>kid  time17-time101-cond1  \n",
       " 15            0.980043           kid>cgv  time17-time101-cond1  \n",
       " 16            0.985361           cgv>kid  time17-time101-cond1  \n",
       " 17            0.999882           kid>cgv  time17-time101-cond1  \n",
       " 18            0.999529           cgv>kid  time17-time101-cond1  \n",
       " 19            0.997742           kid>cgv  time17-time101-cond1  \n",
       " 20            0.990154           cgv>kid  time17-time101-cond1  \n",
       " 21              0.9577           kid>cgv  time17-time101-cond1  \n",
       " 22            0.995062           cgv>kid  time17-time101-cond1  \n",
       " 23            0.996562           kid>cgv  time17-time101-cond1  \n",
       " 24            0.992135           cgv>kid  time17-time101-cond1  \n",
       " 25             0.99985           kid>cgv  time17-time101-cond1  \n",
       " 26            0.996538           cgv>kid  time17-time101-cond1  \n",
       " 27            0.978287           kid>cgv  time17-time101-cond1  \n",
       " 28             0.96808           cgv>kid  time17-time101-cond1  \n",
       " 29             0.99872           kid>cgv  time17-time101-cond1  \n",
       " ...                ...               ...                   ...  \n",
       " 22514         0.998469           kid>cgv  time208-time86-cond1  \n",
       " 22515         0.991775           cgv>kid  time208-time86-cond1  \n",
       " 22516         0.999527           kid>cgv  time208-time86-cond1  \n",
       " 22517         0.999328           cgv>kid  time208-time86-cond1  \n",
       " 22518         0.991416           kid>cgv  time208-time86-cond1  \n",
       " 22519         0.993985           cgv>kid  time208-time86-cond1  \n",
       " 22520         0.988435           kid>cgv  time208-time86-cond1  \n",
       " 22521         0.968436           cgv>kid  time208-time86-cond1  \n",
       " 22522         0.960025           kid>cgv  time208-time86-cond1  \n",
       " 22523         0.983601           cgv>kid  time208-time86-cond1  \n",
       " 22524         0.997789           kid>cgv  time208-time86-cond1  \n",
       " 22525              NaN           cgv>kid  time208-time86-cond1  \n",
       " 22526              NaN           kid>cgv  time208-time86-cond1  \n",
       " 22527         0.994024           cgv>kid  time208-time86-cond1  \n",
       " 22528         0.999381           kid>cgv  time208-time86-cond1  \n",
       " 22529         0.997254           cgv>kid  time208-time86-cond1  \n",
       " 22530         0.996121           kid>cgv  time208-time86-cond1  \n",
       " 22531         0.995804           cgv>kid  time208-time86-cond1  \n",
       " 22532         0.993462           kid>cgv  time208-time86-cond1  \n",
       " 22533          0.99838           cgv>kid  time208-time86-cond1  \n",
       " 22534         0.983994           kid>cgv  time208-time86-cond1  \n",
       " 22535         0.996136           cgv>kid  time208-time86-cond1  \n",
       " 22536         0.998982           kid>cgv  time208-time86-cond1  \n",
       " 22537         0.997941           cgv>kid  time208-time86-cond1  \n",
       " 22538         0.998527           kid>cgv  time208-time86-cond1  \n",
       " 22539         0.997278           cgv>kid  time208-time86-cond1  \n",
       " 22540         0.980626           kid>cgv  time208-time86-cond1  \n",
       " 22541         0.978324           cgv>kid  time208-time86-cond1  \n",
       " 22542          0.99456           kid>cgv  time208-time86-cond1  \n",
       " 22543          0.98077           cgv>kid  time208-time86-cond1  \n",
       " \n",
       " [22544 rows x 8 columns],\n",
       "      syntax_penn_tok2  syntax_penn_lex2  lexical_tok2  lexical_lem2  \\\n",
       " 0            0.805856          0.805856      0.189115      0.238996   \n",
       " 1            0.723902          0.723902      0.167831      0.230900   \n",
       " 2            0.641430          0.641430      0.072999      0.130549   \n",
       " 3            0.749519          0.749519      0.082147      0.108539   \n",
       " 4            0.563573          0.563573      0.088320      0.171628   \n",
       " 5            0.553088          0.553088      0.043905      0.061942   \n",
       " 6            0.769009          0.769009      0.160002      0.245818   \n",
       " 7            0.603194          0.603194      0.205646      0.280716   \n",
       " 8            0.750049          0.750049      0.080638      0.136308   \n",
       " 9            0.723099          0.723099      0.179266      0.208926   \n",
       " 10           0.636121          0.636121      0.101565      0.135423   \n",
       " 11           0.774978          0.774978      0.135118      0.199685   \n",
       " 12           0.720852          0.720852      0.130405      0.196225   \n",
       " 13           0.721820          0.721820      0.070846      0.091736   \n",
       " 14           0.579904          0.579904      0.157892      0.209628   \n",
       " 15           0.824254          0.824254      0.125698      0.162355   \n",
       " 16           0.761277          0.761277      0.181101      0.219145   \n",
       " 17           0.740150          0.740150      0.231023      0.290990   \n",
       " 18           0.697180          0.697180      0.146182      0.188869   \n",
       " 19           0.778946          0.778946      0.205541      0.293632   \n",
       " 20           0.810491          0.810491      0.231086      0.275331   \n",
       " 21           0.610035          0.610035      0.143432      0.171612   \n",
       " 22           0.694321          0.694321      0.184390      0.241439   \n",
       " 23           0.701187          0.701187      0.136285      0.171218   \n",
       " 24           0.778600          0.778600      0.173293      0.230906   \n",
       " 25           0.740616          0.740616      0.183421      0.273126   \n",
       " 26           0.846022          0.846022      0.230385      0.298152   \n",
       " 27           0.634457          0.634457      0.116964      0.128199   \n",
       " 28           0.692482          0.692482      0.096629      0.121333   \n",
       " 29           0.683017          0.683017      0.112218      0.144548   \n",
       " ..                ...               ...           ...           ...   \n",
       " 180          0.806719          0.806719      0.156907      0.193256   \n",
       " 181          0.689790          0.689790      0.221865      0.263383   \n",
       " 182          0.624494          0.624494      0.061281      0.091845   \n",
       " 183          0.645748          0.645748      0.096719      0.142206   \n",
       " 184          0.758078          0.758078      0.132769      0.205384   \n",
       " 185          0.758817          0.758817      0.117772      0.180722   \n",
       " 186          0.627069          0.627069      0.067916      0.083991   \n",
       " 187          0.713969          0.713969      0.242737      0.358145   \n",
       " 188          0.799629          0.799629      0.191385      0.241786   \n",
       " 189          0.725633          0.725633      0.113880      0.154296   \n",
       " 190          0.544426          0.544426      0.085324      0.117117   \n",
       " 191          0.661482          0.661482      0.132418      0.175776   \n",
       " 192          0.799204          0.799204      0.284585      0.332956   \n",
       " 193          0.559758          0.559758      0.077328      0.099708   \n",
       " 194          0.803886          0.803886      0.125102      0.177162   \n",
       " 195          0.780575          0.780575      0.218678      0.272279   \n",
       " 196          0.715083          0.715083      0.041934      0.063240   \n",
       " 197          0.562885          0.562885      0.130340      0.152508   \n",
       " 198          0.781307          0.781307      0.129537      0.207910   \n",
       " 199          0.773892          0.773892      0.148157      0.188288   \n",
       " 200          0.809025          0.809025      0.175662      0.271347   \n",
       " 201          0.762168          0.762168      0.157729      0.214489   \n",
       " 202          0.651296          0.651296      0.066040      0.135935   \n",
       " 203          0.720472          0.720472      0.169953      0.206043   \n",
       " 204          0.766560          0.766560      0.126599      0.149454   \n",
       " 205          0.759883          0.759883      0.225089      0.290959   \n",
       " 206          0.657952          0.657952      0.135016      0.185554   \n",
       " 207          0.854530          0.854530      0.132712      0.161995   \n",
       " 208          0.797936          0.797936      0.083641      0.153561   \n",
       " 209          0.692738          0.692738      0.137226      0.185271   \n",
       " \n",
       "             condition_info  \n",
       " 0     time17-time101-cond1  \n",
       " 1    time126-time149-cond1  \n",
       " 2     time180-time21-cond1  \n",
       " 3     time158-time71-cond1  \n",
       " 4    time172-time123-cond1  \n",
       " 5     time188-time14-cond1  \n",
       " 6    time102-time122-cond1  \n",
       " 7     time119-time85-cond1  \n",
       " 8    time210-time107-cond1  \n",
       " 9      time15-time20-cond1  \n",
       " 10     time200-time2-cond1  \n",
       " 11   time187-time111-cond1  \n",
       " 12    time59-time166-cond1  \n",
       " 13     time43-time40-cond1  \n",
       " 14    time81-time174-cond1  \n",
       " 15   time205-time206-cond1  \n",
       " 16   time208-time201-cond1  \n",
       " 17     time56-time96-cond1  \n",
       " 18     time20-time15-cond1  \n",
       " 19    time94-time190-cond1  \n",
       " 20    time85-time102-cond1  \n",
       " 21    time101-time17-cond1  \n",
       " 22   time111-time187-cond1  \n",
       " 23    time44-time136-cond1  \n",
       " 24    time26-time129-cond1  \n",
       " 25   time202-time108-cond1  \n",
       " 26    time52-time120-cond1  \n",
       " 27    time129-time51-cond1  \n",
       " 28    time165-time46-cond1  \n",
       " 29    time199-time78-cond1  \n",
       " ..                     ...  \n",
       " 180   time14-time121-cond1  \n",
       " 181   time46-time165-cond1  \n",
       " 182   time116-time18-cond1  \n",
       " 183   time62-time205-cond1  \n",
       " 184  time206-time205-cond1  \n",
       " 185    time50-time35-cond1  \n",
       " 186    time82-time28-cond1  \n",
       " 187    time75-time90-cond1  \n",
       " 188   time190-time94-cond1  \n",
       " 189    time88-time79-cond1  \n",
       " 190    time122-time8-cond1  \n",
       " 191    time35-time50-cond1  \n",
       " 192   time112-time81-cond1  \n",
       " 193   time121-time14-cond1  \n",
       " 194    time8-time122-cond1  \n",
       " 195   time86-time207-cond1  \n",
       " 196    time11-time18-cond1  \n",
       " 197   time107-time13-cond1  \n",
       " 198   time13-time107-cond1  \n",
       " 199   time78-time175-cond1  \n",
       " 200  time200-time164-cond1  \n",
       " 201   time75-time172-cond1  \n",
       " 202   time188-time87-cond1  \n",
       " 203   time203-time55-cond1  \n",
       " 204   time78-time117-cond1  \n",
       " 205  time136-time163-cond1  \n",
       " 206   time119-time68-cond1  \n",
       " 207    time32-time72-cond1  \n",
       " 208    time2-time200-cond1  \n",
       " 209   time208-time86-cond1  \n",
       " \n",
       " [210 rows x 5 columns])"
      ]
     },
     "execution_count": 65,
     "metadata": {},
     "output_type": "execute_result"
    }
   ],
   "source": [
    "[turn_surrogate,convo_surrogate] = PHASE2RUN_SURROGATE(\n",
    "                                input_files = INPUT_PATH+'examples/CHILDES/childes-prepped/', \n",
    "                                add_stanford_tags=True,\n",
    "                                maxngram=3,\n",
    "                                use_pretrained_vectors=True,\n",
    "                                all_surrogates=True,\n",
    "                                keep_original_turn_order=True,\n",
    "                                id_separator = '\\-',\n",
    "                                dyad_label='time',\n",
    "                                condition_label='cond',\n",
    "                                surrogate_file_directory= INPUT_PATH+'examples/CHILDES/childes-surrogate/',                                \n",
    "                                output_file_directory=INPUT_PATH+'examples/CHILDES/childes-analysis/',\n",
    "                                pretrained_input_file=INPUT_PATH+'package_files/GoogleNews-vectors-negative300.bin',\n",
    "                                semantic_model_input_file=INPUT_PATH+'align_concatenated_dataframe.txt',\n",
    "                                ignore_duplicates=True,\n",
    "                                delay=1,\n",
    "                                high_sd_cutoff=3,\n",
    "                                low_n_cutoff=1,\n",
    "                                input_as_directory=True)\n",
    "turn_surrogate,convo_surrogate"
   ]
  },
  {
   "cell_type": "code",
   "execution_count": 49,
   "metadata": {
    "collapsed": true,
    "deletable": true,
    "editable": true
   },
   "outputs": [],
   "source": [
    "end=time.time()"
   ]
  },
  {
   "cell_type": "markdown",
   "metadata": {
    "deletable": true,
    "editable": true
   },
   "source": [
    "## Speed calculations"
   ]
  },
  {
   "cell_type": "markdown",
   "metadata": {
    "deletable": true,
    "editable": true
   },
   "source": [
    "Phase 1 time:"
   ]
  },
  {
   "cell_type": "code",
   "execution_count": 50,
   "metadata": {
    "collapsed": false,
    "deletable": true,
    "editable": true
   },
   "outputs": [
    {
     "data": {
      "text/plain": [
       "0.009510993957519531"
      ]
     },
     "execution_count": 50,
     "metadata": {},
     "output_type": "execute_result"
    }
   ],
   "source": [
    "start_phase2real - start_phase1"
   ]
  },
  {
   "cell_type": "markdown",
   "metadata": {
    "deletable": true,
    "editable": true
   },
   "source": [
    "Phase 2 real time:"
   ]
  },
  {
   "cell_type": "code",
   "execution_count": 51,
   "metadata": {
    "collapsed": false,
    "deletable": true,
    "editable": true
   },
   "outputs": [
    {
     "data": {
      "text/plain": [
       "41.19346594810486"
      ]
     },
     "execution_count": 51,
     "metadata": {},
     "output_type": "execute_result"
    }
   ],
   "source": [
    "start_phase2surrogate - start_phase2real"
   ]
  },
  {
   "cell_type": "markdown",
   "metadata": {
    "deletable": true,
    "editable": true
   },
   "source": [
    "Phase 2 surrogate time:"
   ]
  },
  {
   "cell_type": "code",
   "execution_count": 52,
   "metadata": {
    "collapsed": false,
    "deletable": true,
    "editable": true
   },
   "outputs": [
    {
     "data": {
      "text/plain": [
       "352.43742299079895"
      ]
     },
     "execution_count": 52,
     "metadata": {},
     "output_type": "execute_result"
    }
   ],
   "source": [
    "end - start_phase2surrogate"
   ]
  },
  {
   "cell_type": "markdown",
   "metadata": {
    "deletable": true,
    "editable": true
   },
   "source": [
    "All 3 phases:"
   ]
  },
  {
   "cell_type": "code",
   "execution_count": 53,
   "metadata": {
    "collapsed": false,
    "deletable": true,
    "editable": true
   },
   "outputs": [
    {
     "data": {
      "text/plain": [
       "393.6403999328613"
      ]
     },
     "execution_count": 53,
     "metadata": {},
     "output_type": "execute_result"
    }
   ],
   "source": [
    "end - start_phase1"
   ]
  },
  {
   "cell_type": "markdown",
   "metadata": {
    "deletable": true,
    "editable": true
   },
   "source": [
    "## Printouts!"
   ]
  },
  {
   "cell_type": "code",
   "execution_count": 68,
   "metadata": {
    "collapsed": false,
    "deletable": true,
    "editable": true,
    "scrolled": true
   },
   "outputs": [],
   "source": [
    "# turn_real.head(10)"
   ]
  },
  {
   "cell_type": "code",
   "execution_count": 69,
   "metadata": {
    "collapsed": false,
    "deletable": true,
    "editable": true,
    "scrolled": true
   },
   "outputs": [],
   "source": [
    "# convo_real.head(10)"
   ]
  },
  {
   "cell_type": "code",
   "execution_count": 70,
   "metadata": {
    "collapsed": false,
    "deletable": true,
    "editable": true,
    "scrolled": true
   },
   "outputs": [],
   "source": [
    "# turn_surrogate.head(10)"
   ]
  },
  {
   "cell_type": "code",
   "execution_count": 71,
   "metadata": {
    "collapsed": false,
    "deletable": true,
    "editable": true,
    "scrolled": false
   },
   "outputs": [],
   "source": [
    "# convo_surrogate.head(10)"
   ]
  }
 ],
 "metadata": {
  "kernelspec": {
   "display_name": "Python 2",
   "language": "python",
   "name": "python2"
  },
  "language_info": {
   "codemirror_mode": {
    "name": "ipython",
    "version": 2
   },
   "file_extension": ".py",
   "mimetype": "text/x-python",
   "name": "python",
   "nbconvert_exporter": "python",
   "pygments_lexer": "ipython2",
   "version": "2.7.13"
  }
 },
 "nbformat": 4,
 "nbformat_minor": 2
}
